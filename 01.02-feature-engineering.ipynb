{
  "nbformat": 4,
  "nbformat_minor": 0,
  "metadata": {
    "colab": {
      "provenance": [],
      "authorship_tag": "ABX9TyMZVw6CLCPZW6nlcCC+EMHV",
      "include_colab_link": true
    },
    "kernelspec": {
      "name": "python3",
      "display_name": "Python 3"
    },
    "language_info": {
      "name": "python"
    }
  },
  "cells": [
    {
      "cell_type": "markdown",
      "metadata": {
        "id": "view-in-github",
        "colab_type": "text"
      },
      "source": [
        "<a href=\"https://colab.research.google.com/github/rapsoj/crop-yield-estimate/blob/main/01.02-feature-engineering.ipynb\" target=\"_parent\"><img src=\"https://colab.research.google.com/assets/colab-badge.svg\" alt=\"Open In Colab\"/></a>"
      ]
    },
    {
      "cell_type": "markdown",
      "source": [
        "#01.02 Feature Engineering\n",
        "Creating new features to improve predictions for the Digital Green Crop Yield Estimate Challenge."
      ],
      "metadata": {
        "id": "p4rrXkUXhyaa"
      }
    },
    {
      "cell_type": "markdown",
      "source": [
        "### Prepare Workspace"
      ],
      "metadata": {
        "id": "caYh8zAph9VW"
      }
    },
    {
      "cell_type": "code",
      "execution_count": null,
      "metadata": {
        "colab": {
          "base_uri": "https://localhost:8080/"
        },
        "id": "0ZkR4S3jheu0",
        "outputId": "da4df375-3672-449f-fc36-77dded2c9bf3"
      },
      "outputs": [
        {
          "output_type": "stream",
          "name": "stdout",
          "text": [
            "Mounted at /content/drive\n"
          ]
        }
      ],
      "source": [
        "# Mount Google Drive\n",
        "from google.colab import drive\n",
        "drive.mount('/content/drive')"
      ]
    },
    {
      "cell_type": "code",
      "source": [
        "# Import data manipulation libraries\n",
        "import pandas as pd\n",
        "import numpy as np"
      ],
      "metadata": {
        "id": "wNHY8NHIhj5o"
      },
      "execution_count": null,
      "outputs": []
    },
    {
      "cell_type": "code",
      "source": [
        "# Load files\n",
        "data_path = '/content/drive/MyDrive/Colab Notebooks/crop-yield-estimate/'\n",
        "train = pd.read_csv(data_path + 'Train.csv')\n",
        "test = pd.read_csv(data_path + 'Test.csv')\n",
        "var_desc = pd.read_csv(data_path + 'VariableDescription.csv')"
      ],
      "metadata": {
        "id": "OH5-4qQShqZ7"
      },
      "execution_count": null,
      "outputs": []
    },
    {
      "cell_type": "markdown",
      "source": [
        "### Perform Feature Engineering"
      ],
      "metadata": {
        "id": "4JzmjVDAiBVJ"
      }
    },
    {
      "cell_type": "code",
      "source": [
        "# Create feature for yield per acre 'Yield_per_Acre'\n",
        "train['Yield_per_Acre'] = train['Yield'] / train['Acre']"
      ],
      "metadata": {
        "id": "C5OGwH7khwBB"
      },
      "execution_count": null,
      "outputs": []
    },
    {
      "cell_type": "code",
      "source": [
        "# Create feature for past month yield per acre 'Past_Yield_per_Acre'\n",
        "train['Harv_date'] = pd.to_datetime(train['Harv_date'])\n",
        "train.sort_values(['District', 'Harv_date'], inplace=True)\n",
        "\n",
        "# Group the DataFrame by 'District' and calculate the rolling average\n",
        "train['Past_YpA_Avg'] = train.groupby('District')['Yield_per_Acre'].rolling(\n",
        "    window = 30).mean().reset_index(0, drop=True)\n",
        "\n",
        "# Fill NaN values in the 'past_month_avg' column with 0 if needed\n",
        "train['Past_YpA_Avg'].fillna(0, inplace=True)"
      ],
      "metadata": {
        "id": "o5Ru1fI2ivLx"
      },
      "execution_count": null,
      "outputs": []
    },
    {
      "cell_type": "code",
      "source": [
        "# Create feature for days between harvesting and threshing 'Days_Harv_Thresh'\n",
        "train['Threshing_date'] = pd.to_datetime(train['Threshing_date'])\n",
        "train['Days_Harv_Thresh'] = (\n",
        "    train['Threshing_date'] - train['Harv_date']).dt.days"
      ],
      "metadata": {
        "id": "bd3KIglKtBoY"
      },
      "execution_count": null,
      "outputs": []
    },
    {
      "cell_type": "code",
      "source": [],
      "metadata": {
        "id": "o7H62eXi7kff"
      },
      "execution_count": null,
      "outputs": []
    }
  ]
}