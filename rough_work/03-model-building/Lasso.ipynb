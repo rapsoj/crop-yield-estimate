{
 "cells": [
  {
   "cell_type": "code",
   "execution_count": 30,
   "metadata": {},
   "outputs": [],
   "source": [
    "\n",
    "import os\n",
    "import sys\n",
    "\n",
    "\n",
    "\n",
    "# Import data cleaning libraries\n",
    "import pandas as pd\n",
    "import numpy as np\n",
    "from sklearn.metrics import mean_squared_error\n",
    "\n",
    "\n",
    "# Import machine learning libraries\n",
    "from sklearn.model_selection import train_test_split\n",
    "from sklearn import svm\n",
    "\n",
    "# Import data visualisation libraries\n",
    "import matplotlib.pyplot as plt\n",
    "\n",
    "# Import warning libraries\n",
    "import warnings\n",
    "warnings.filterwarnings(\"ignore\")\n",
    "\n",
    "# Set working directory\n",
    "# Set this to your own path\n",
    "os.chdir('/home/shaw/Documents/GitHub/crop-yield-estimate/')\n",
    "# Set this to your own path\n",
    "sys.path.insert(0, '/home/shaw/Documents/GitHub/crop-yield-estimate/pipeline')\n",
    "from preprocessing import cleaning\n",
    "from preprocessing import feature_engineering\n",
    "from preprocessing import scaling\n",
    "from preprocessing import feature_selection\n",
    "from preprocessing import dim_reduction\n",
    "\n",
    "\n",
    "\n",
    "# Import preprocessing libraries\n",
    "# Import system libraries\n",
    "# Preprocess data\n",
    "train_path = \"data/Train.csv\"\n",
    "test_path = \"data/Test.csv\"\n",
    "df = cleaning.clean_data(train_path, test_path)\n",
    "df = feature_engineering.get_features(df)\n",
    "df = scaling.scale_features(df)\n",
    "df = feature_selection.select_features(df)\n",
    "df = dim_reduction.reduce_dim(df)\n",
    "\n",
    "\n",
    "df.drop(['SeedlingsPerPit',\n",
    "         'Ganaura',\n",
    "         'CropOrgFYM',\n",
    "         'NoFertilizerAppln',\n",
    "         'BasalDAP',\n",
    "         'BasalUrea',\n",
    "         '2appDaysUrea',\n",
    "         'Harv_hand_rent',\n",
    "         'Residue_length',\n",
    "         'TransplantingIrrigationHours_per_Acre',\n",
    "         'TransIrriCost_per_Acre',\n",
    "         'CropOrgFYM_per_Acre',\n",
    "         'BasalDAP_per_Acre',\n",
    "         'BasalUrea_per_Acre',\n",
    "         '1tdUrea_per_Acre',\n",
    "         'Harv_hand_rent_per_Acre',\n",
    "         'TpIrrigationCost_Imputed_per_Acre',\n",
    "         'Days_bw_SowTransp_Harv',\n",
    "         'Days_bw_Harv_Thresh',\n",
    "         'NursingDate_ModeDiff',\n",
    "         'TillageDate_ModeDiff',\n",
    "         'HarvestDate_ModeDiff',\n",
    "         'ThreshingDate_ModeDiff',\n",
    "         'Num_LandPrepMethod',\n",
    "         'Num_CropbasalFerts',\n",
    "         'Num_TopDressFert',\n",
    "         'Latitude',\n",
    "         'Longitude',\n",
    "         'CropEstMethod_LineSowingAfterTillage',\n",
    "         'Threshing_method_machine',\n",
    "         'Stubble_use_plowed_in_soil',\n",
    "         'LandPrepMethod_FourWheelTracRotavator_True',\n",
    "         'LandPrepMethod_WetTillagePuddling_True',\n",
    "         'NursDetFactor_PreMonsoonShowers_True',\n",
    "         'NursDetFactor_LabourAvailability_True',\n",
    "         'FirstTopDressFert_DAP_True',\n",
    "         'HarvestMonth_November',\n",
    "         'ThreshingMonth_January',\n",
    "         'Block_Chehrakala',\n",
    "         'PCropSolidOrgFertAppMethod_Broadcasting',\n",
    "         'PCropSolidOrgFertAppMethod_SoilApplied',\n",
    "         'MineralFertAppMethod_1_Broadcasting',\n",
    "         'MineralFertAppMethod_1_SoilApplied',\n",
    "         'PC4',\n",
    "         'PC10',\n",
    "         'PC21',], axis=1, inplace=True)\n",
    "\n",
    "# Split data into training and test sets\n",
    "df_train = df[df['Yield'].isna() == False]\n",
    "df_test = df[df['Yield'].isna() == True]\n",
    "\n",
    "outcome_cols = [\"Yield\", \"Yield_per_Acre\", \"New_Yield\", \"New_Yield_per_Acre\"]\n",
    "\n",
    "df_train.dropna(axis=1, inplace=True)\n",
    "df_test.dropna(axis=1, inplace=True)\n",
    "\n",
    "\n",
    "df_train.drop(['PCropSolidOrgFertAppMethod_NaN_True',\n",
    "              'PCropSolidOrgFertAppMethod_RootApplication'], axis=1, inplace=True)\n",
    "df_train_PC = df_train.loc[:, df_train.columns.str.startswith('PC')]\n",
    "df_train_PC = df_train_PC.join(df_train['New_Yield'])\n",
    "df_train_PC = df_train_PC.join(df_train['New_Yield_per_Acre'])\n",
    "\n",
    "\n",
    "# Split data\n",
    "X, y = df_train_PC.iloc[:, :-2], df_train_PC.iloc[:, -2]\n",
    "\n",
    "\n",
    "# Split the data into training and testing sets\n",
    "X_train, X_test, y_train, y_test = train_test_split(\n",
    "    X, y, test_size=0.2, random_state=42)"
   ]
  },
  {
   "cell_type": "code",
   "execution_count": 31,
   "metadata": {},
   "outputs": [],
   "source": [
    "# Lasso Regression - Without CV\n",
    "\n",
    "from sklearn.linear_model import Lasso\n",
    "\n",
    "reg_No_CV = Lasso(alpha=0.1)\n",
    "reg_No_CV.fit(X_train, y_train)\n",
    "y_pred_No_CV = reg_No_CV.predict(X_test)\n",
    "\n"
   ]
  },
  {
   "cell_type": "code",
   "execution_count": 32,
   "metadata": {},
   "outputs": [],
   "source": [
    "indices = list(y_test.index)\n",
    "lasso_RMSE_No_CV = mean_squared_error(\n",
    "    df_train.loc[indices][\"New_Yield\"], y_pred_No_CV * df_train.loc[indices][\"Acre\"], squared=False)"
   ]
  },
  {
   "cell_type": "code",
   "execution_count": 33,
   "metadata": {},
   "outputs": [
    {
     "data": {
      "text/plain": [
       "387.84917053153447"
      ]
     },
     "execution_count": 33,
     "metadata": {},
     "output_type": "execute_result"
    }
   ],
   "source": [
    "lasso_RMSE_No_CV\n"
   ]
  },
  {
   "cell_type": "code",
   "execution_count": 34,
   "metadata": {},
   "outputs": [],
   "source": [
    "# Lasso Regression - With CV\n",
    "\n",
    "from sklearn.model_selection import GridSearchCV\n",
    "\n",
    "reg_CV = Lasso()\n",
    "parameters = {'alpha': [0.1, 0.5, 1, 2, 5, 10, 20, 50], 'max_iter': [1000, 5000, 10000], 'tol': [0.0001, 0.001, 0.01], 'selection': ['cyclic', 'random']}\n",
    "reg_CV = GridSearchCV(reg_CV, parameters, cv=5)\n",
    "reg_CV.fit(X_train, y_train)\n",
    "y_pred_CV = reg_CV.predict(X_test)\n"
   ]
  },
  {
   "cell_type": "code",
   "execution_count": 35,
   "metadata": {},
   "outputs": [],
   "source": [
    "indices = list(y_test.index)\n",
    "lasso_RMSE_CV = mean_squared_error(\n",
    "    df_train.loc[indices][\"New_Yield\"], y_pred_CV * df_train.loc[indices][\"Acre\"], squared=False)"
   ]
  },
  {
   "cell_type": "code",
   "execution_count": 36,
   "metadata": {},
   "outputs": [
    {
     "data": {
      "text/plain": [
       "388.6594556506128"
      ]
     },
     "execution_count": 36,
     "metadata": {},
     "output_type": "execute_result"
    }
   ],
   "source": [
    "lasso_RMSE_CV"
   ]
  },
  {
   "cell_type": "code",
   "execution_count": 37,
   "metadata": {},
   "outputs": [],
   "source": [
    "# Lasso Regression - With Randomized CV\n",
    "\n",
    "from sklearn.model_selection import RandomizedSearchCV\n",
    "\n",
    "reg_Random_CV = Lasso()\n",
    "parameters = {'alpha': [0.1, 0.5, 1, 2, 5, 10, 20, 50]}\n",
    "reg_Random_CV = RandomizedSearchCV(reg_Random_CV, parameters, cv=5)\n",
    "reg_Random_CV.fit(X_train, y_train)\n",
    "y_pred_Random_CV = reg_Random_CV.predict(X_test)"
   ]
  },
  {
   "cell_type": "code",
   "execution_count": 38,
   "metadata": {},
   "outputs": [],
   "source": [
    "indicies = list(y_test.index)\n",
    "lasso_RMSE_Random_CV = mean_squared_error(\n",
    "    df_train.loc[indices][\"New_Yield\"], y_pred_Random_CV * df_train.loc[indices][\"Acre\"], squared=False)\n"
   ]
  },
  {
   "cell_type": "code",
   "execution_count": 39,
   "metadata": {},
   "outputs": [
    {
     "data": {
      "text/plain": [
       "388.2436130456594"
      ]
     },
     "execution_count": 39,
     "metadata": {},
     "output_type": "execute_result"
    }
   ],
   "source": [
    "lasso_RMSE_Random_CV"
   ]
  }
 ],
 "metadata": {
  "kernelspec": {
   "display_name": "ML",
   "language": "python",
   "name": "python3"
  },
  "language_info": {
   "codemirror_mode": {
    "name": "ipython",
    "version": 3
   },
   "file_extension": ".py",
   "mimetype": "text/x-python",
   "name": "python",
   "nbconvert_exporter": "python",
   "pygments_lexer": "ipython3",
   "version": "3.9.17"
  }
 },
 "nbformat": 4,
 "nbformat_minor": 2
}
