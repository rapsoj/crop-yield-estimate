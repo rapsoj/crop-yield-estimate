{
 "cells": [
  {
   "cell_type": "code",
   "execution_count": null,
   "metadata": {},
   "outputs": [],
   "source": [
    "# Local Importing \n",
    "import os\n",
    "import sys\n",
    "\n",
    "# Set working directory\n",
    "os.chdir('T:\\crop-yield-estimate')  # Set this to your own path\n",
    "# Set this to your own path\n",
    "sys.path.insert(0, 'T:\\crop-yield-estimate\\pipeline')"
   ]
  },
  {
   "cell_type": "code",
   "execution_count": null,
   "metadata": {},
   "outputs": [],
   "source": [
    "# Cloud Importing\n",
    "\n"
   ]
  },
  {
   "cell_type": "code",
   "execution_count": null,
   "metadata": {},
   "outputs": [],
   "source": [
    "# Import system libraries\n",
    "from preprocessing import dim_reduction\n",
    "from preprocessing import feature_selection\n",
    "from preprocessing import scaling\n",
    "from preprocessing import feature_engineering\n",
    "from preprocessing import cleaning\n",
    "\n",
    "\n",
    "# Import data cleaning libraries\n",
    "import pandas as pd\n",
    "import numpy as np\n",
    "import calendar\n",
    "from datetime import datetime\n",
    "\n",
    "# Import machine learning libraries\n",
    "import xgboost as xgb\n",
    "from sklearn.model_selection import train_test_split\n",
    "from sklearn.metrics import mean_squared_error\n",
    "from sklearn.model_selection import KFold, GridSearchCV\n",
    "import shap\n",
    "\n",
    "# Import data visualisation libraries\n",
    "import matplotlib.pyplot as plt\n",
    "\n",
    "# Import warning libraries\n",
    "import warnings\n",
    "warnings.filterwarnings(\"ignore\")\n",
    "\n",
    "\n",
    "# Import preprocessing libraries\n",
    "\n",
    "# Preprocess data\n",
    "train_path = \"data/Train.csv\"\n",
    "test_path = \"data/Test.csv\"\n",
    "df = cleaning.clean_data(train_path, test_path)\n",
    "df = feature_engineering.get_features(df)\n",
    "df = scaling.scale_features(df)\n",
    "df = feature_selection.select_features(df)\n",
    "df = dim_reduction.reduce_dim(df)\n",
    "\n",
    "# Split data into training and test sets\n",
    "df_train = df[df['Yield'].isna() == False]\n",
    "df_test = df[df['Yield'].isna() == True]"
   ]
  }
 ],
 "metadata": {
  "language_info": {
   "name": "python"
  }
 },
 "nbformat": 4,
 "nbformat_minor": 2
}
