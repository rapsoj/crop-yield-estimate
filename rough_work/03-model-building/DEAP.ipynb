{
 "cells": [
  {
   "cell_type": "code",
   "execution_count": 2,
   "metadata": {},
   "outputs": [],
   "source": [
    "# Local Importing \n",
    "import os\n",
    "import sys\n",
    "\n",
    "# Set working directory\n",
    "# Set this to your own path\n",
    "os.chdir('/home/shaw/Documents/GitHub/crop-yield-estimate')\n",
    "# Set this to your own path\n",
    "sys.path.insert(0, '/home/shaw/Documents/GitHub/crop-yield-estimate/pipeline')"
   ]
  },
  {
   "cell_type": "code",
   "execution_count": null,
   "metadata": {},
   "outputs": [],
   "source": [
    "# Cloud Importing\n",
    "\n"
   ]
  },
  {
   "cell_type": "code",
   "execution_count": 4,
   "metadata": {},
   "outputs": [],
   "source": [
    "# Import system libraries\n",
    "from preprocessing import dim_reduction\n",
    "from preprocessing import feature_selection\n",
    "from preprocessing import scaling\n",
    "from preprocessing import feature_engineering\n",
    "from preprocessing import cleaning\n",
    "\n",
    "\n",
    "\n",
    "\n",
    "\n",
    "\n",
    "# Import preprocessing libraries\n",
    "\n",
    "# Preprocess data\n",
    "train_path = \"data/Train.csv\"\n",
    "test_path = \"data/Test.csv\"\n",
    "df = cleaning.clean_data(train_path, test_path)\n",
    "df = feature_engineering.get_features(df)\n",
    "df = scaling.scale_features(df)\n",
    "df = feature_selection.select_features(df)\n",
    "df = dim_reduction.reduce_dim(df)\n",
    "\n",
    "# Split data into training and test sets\n",
    "df_train = df[df['Yield'].isna() == False]\n",
    "df_test = df[df['Yield'].isna() == True]"
   ]
  },
  {
   "cell_type": "code",
   "execution_count": null,
   "metadata": {},
   "outputs": [],
   "source": [
    "df_train.to_csv('train_data.csv', index=False)\n",
    "df_test.to_csv('test_data.csv', index=False)\n"
   ]
  }
 ],
 "metadata": {
  "kernelspec": {
   "display_name": "ML",
   "language": "python",
   "name": "python3"
  },
  "language_info": {
   "codemirror_mode": {
    "name": "ipython",
    "version": 3
   },
   "file_extension": ".py",
   "mimetype": "text/x-python",
   "name": "python",
   "nbconvert_exporter": "python",
   "pygments_lexer": "ipython3",
   "version": "3.9.17"
  }
 },
 "nbformat": 4,
 "nbformat_minor": 2
}
