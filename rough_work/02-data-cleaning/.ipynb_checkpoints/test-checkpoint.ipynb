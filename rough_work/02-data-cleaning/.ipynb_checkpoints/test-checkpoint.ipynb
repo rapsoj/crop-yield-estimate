{
 "cells": [
  {
   "cell_type": "code",
   "execution_count": 57,
   "id": "20db0950",
   "metadata": {},
   "outputs": [],
   "source": [
    "import os\n",
    "\n",
    "import pandas as pd\n",
    "import numpy as np\n",
    "import calendar\n",
    "from datetime import datetime\n",
    "\n",
    "import warnings\n",
    "warnings.filterwarnings(\"ignore\")\n",
    "\n",
    "os.chdir('/Users/jessicarapson/Documents/GitHub/crop-yield-estimate')\n",
    "\n",
    "import cleaning\n",
    "import feature_engineering\n",
    "import scaling\n",
    "\n",
    "train_path = \"data/Train.csv\"\n",
    "df_train = cleaning.clean_data(train_path)\n",
    "df_train = feature_engineering.get_features(df_train)\n",
    "df_train = scaling.do_scaling(df_train)\n",
    "\n",
    "test_path = \"data/Test.csv\"\n",
    "df_test = cleaning.clean_data(test_path)\n",
    "df_test = feature_engineering.get_features(df_test)"
   ]
  },
  {
   "cell_type": "code",
   "execution_count": 3,
   "id": "21bc463b",
   "metadata": {},
   "outputs": [],
   "source": [
    "#df_train.to_csv(\"scaled.csv\")  "
   ]
  },
  {
   "cell_type": "code",
   "execution_count": 40,
   "id": "f321da8d",
   "metadata": {},
   "outputs": [],
   "source": [
    "#cols = list(df_train.columns)\n",
    "#i = 115"
   ]
  },
  {
   "cell_type": "code",
   "execution_count": 56,
   "id": "2399df60",
   "metadata": {},
   "outputs": [
    {
     "data": {
      "text/plain": [
       "'Days_bw_Harv_Thresh_ModeDiff'"
      ]
     },
     "execution_count": 56,
     "metadata": {},
     "output_type": "execute_result"
    }
   ],
   "source": [
    "i += 1\n",
    "cols[i]"
   ]
  },
  {
   "cell_type": "code",
   "execution_count": 57,
   "id": "475ea0c8",
   "metadata": {},
   "outputs": [
    {
     "name": "stdout",
     "output_type": "stream",
     "text": [
      " 0.0      247\n",
      " 5.0      232\n",
      "-10.0     156\n",
      "-5.0      123\n",
      "-3.0      111\n",
      "         ... \n",
      " 111.0      1\n",
      " 133.0      1\n",
      " 103.0      1\n",
      " 93.0       1\n",
      " 97.0       1\n",
      "Name: Days_bw_Harv_Thresh_ModeDiff, Length: 123, dtype: int64\n",
      "\n",
      "\n",
      "False    3870\n",
      "Name: Days_bw_Harv_Thresh_ModeDiff, dtype: int64\n",
      "\n",
      "\n",
      "count    3870.000000\n",
      "mean       19.860465\n",
      "std        25.395648\n",
      "min       -10.000000\n",
      "25%         0.000000\n",
      "50%        11.000000\n",
      "75%        34.000000\n",
      "max       133.000000\n",
      "Name: Days_bw_Harv_Thresh_ModeDiff, dtype: float64\n"
     ]
    }
   ],
   "source": [
    "print(df_train[cols[i]].value_counts())\n",
    "print('\\n')\n",
    "print(df_train[cols[i]].isna().value_counts())\n",
    "print('\\n')\n",
    "print(df_train[cols[i]].describe())"
   ]
  },
  {
   "cell_type": "code",
   "execution_count": 17,
   "id": "82881a54",
   "metadata": {},
   "outputs": [],
   "source": [
    "#print(df_test[cols[i]].value_counts())\n",
    "#print('\\n')\n",
    "#print(df_test[cols[i]].isna().value_counts())\n",
    "#print('\\n')\n",
    "#print(df_test[cols[i]].describe())"
   ]
  },
  {
   "cell_type": "code",
   "execution_count": 32,
   "id": "c104112f",
   "metadata": {},
   "outputs": [],
   "source": [
    "cols = ['CropTillageDepth',\n",
    "        'CropEstMethod_LineSowingAfterTillage',\n",
    "        'CropEstMethod_Manual_PuddledLine',\n",
    "        'CropEstMethod_Manual_PuddledRandom',\n",
    "        'SeedlingsPerPit',\n",
    "        'TransplantingIrrigationSource_Boring',\n",
    "        'TransplantingIrrigationSource_Canal',\n",
    "        'TransplantingIrrigationSource_Pond',\n",
    "        'TransplantingIrrigationSource_Rainfed',\n",
    "        'TransplantingIrrigationSource_TubeWell',\n",
    "        'TransplantingIrrigationSource_Well',\n",
    "        'PCropSolidOrgFertAppMethod_Broadcasting',\n",
    "        'PCropSolidOrgFertAppMethod_RootApplication',\n",
    "        'PCropSolidOrgFertAppMethod_SoilApplied',\n",
    "        'PCropSolidOrgFertAppMethod_Spray',\n",
    "        'NoFertilizerAppln',\n",
    "        'MineralFertAppMethod_1_RootApplication',\n",
    "        'MineralFertAppMethod_1_SoilApplied',\n",
    "        'MineralFertAppMethod_2_Broadcasting',\n",
    "        'MineralFertAppMethod_2_RootApplication',\n",
    "        'MineralFertAppMethod_2_SoilApplied',\n",
    "        'Harv_method_machine',\n",
    "        'Threshing_method_machine',\n",
    "        'LandPrepMethod_TractorPlough_True',\n",
    "        'LandPrepMethod_FourWheelTracRotavator_True',\n",
    "        'LandPrepMethod_WetTillagePuddling_True',\n",
    "        'LandPrepMethod_BullockPlough_True',\n",
    "        'OrgFertilizers_Ganaura_True',\n",
    "        'OrgFertilizers_FYM_True',\n",
    "        'OrgFertilizers_VermiCompost_True',\n",
    "        'OrgFertilizers_Ghanajeevamrit_True',\n",
    "        'OrgFertilizers_None_True',\n",
    "        'Ganaura_per_Acre',\n",
    "        'CropOrgFYM_per_Acre',\n",
    "        'BasalDAP_per_Acre',\n",
    "        'BasalUrea_per_Acre',\n",
    "        '1tdUrea_per_Acre',\n",
    "        '2tdUrea_per_Acre',\n",
    "        'Harv_hand_rent_per_Acre',\n",
    "        'RcNursEstDate_NaN_True',\n",
    "        'SeedlingsPerPit_NaN_True',\n",
    "        'Days_bw_Till_SowTransp',\n",
    "        'Days_bw_Till_Harv',\n",
    "        'Days_bw_SowTransp_Harv',\n",
    "        'Days_bw_Harv_Thresh',\n",
    "        'TillageDate_ModeDiff',\n",
    "        'SowTransplantDate_ModeDiff',\n",
    "        'HarvestDate_ModeDiff',\n",
    "        'ThreshingDate_ModeDiff',\n",
    "        'Days_bw_Till_SowTransp_ModeDiff',\n",
    "        'Days_bw_Till_Harv_ModeDiff',\n",
    "        'Days_bw_SowTransp_Harv_ModeDiff',\n",
    "        'Days_bw_Harv_Thresh_ModeDiff',\n",
    "        'CropTillageMonth_July',\n",
    "        'CropTillageMonth_June',\n",
    "        'CropTillageMonth_May',\n",
    "        'CropTillageMonth_July',\n",
    "        'CropTillageMonth_June',\n",
    "        'CropTillageMonth_May',\n",
    "        'SowTransplantMonth_July',\n",
    "        'HarvestMonth_February',\n",
    "        'HarvestMonth_January',\n",
    "        'HarvestMonth_March',\n",
    "        'HarvestMonth_November',\n",
    "        'HarvestMonth_October',\n",
    "        'HarvestMonth_September',\n",
    "        'ThreshingMonth_February',\n",
    "        'ThreshingMonth_January',\n",
    "        'ThreshingMonth_March',\n",
    "        'ThreshingMonth_November',\n",
    "        'ThreshingMonth_October',\n",
    "        'ThreshingSeason_Winter',\n",
    "        'Total_Crop_Cycle_Duration',\n",
    "        'Latitude']"
   ]
  },
  {
   "cell_type": "code",
   "execution_count": 111,
   "id": "34d0c0ef",
   "metadata": {},
   "outputs": [],
   "source": [
    "import pandas as pd\n",
    "import numpy as np\n",
    "import calendar\n",
    "from datetime import datetime\n",
    "\n",
    "from sklearn.cluster import SpectralClustering\n",
    "from sklearn.preprocessing import StandardScaler, normalize\n",
    "from sklearn.decomposition import PCA\n",
    "from sklearn.metrics import silhouette_score\n",
    "\n",
    "import warnings\n",
    "warnings.filterwarnings(\"ignore\")\n",
    "\n",
    "cdf = df_train[cols]\n",
    "\n",
    "# Naively replace missing values with column median\n",
    "median_values = cdf.median()\n",
    "for column in cdf.columns[cdf.isnull().any()]:\n",
    "    cdf[cdf[column].isna()] = cdf[column].median()\n",
    "\n",
    "    \n",
    "# Perform clustering\n",
    "spectral = SpectralClustering(n_clusters=2, assign_labels='discretize', random_state=0, n_init=200).fit(cdf)"
   ]
  },
  {
   "cell_type": "code",
   "execution_count": null,
   "id": "e4be4911",
   "metadata": {},
   "outputs": [],
   "source": []
  },
  {
   "cell_type": "code",
   "execution_count": null,
   "id": "a85e7f8d",
   "metadata": {},
   "outputs": [],
   "source": []
  },
  {
   "cell_type": "code",
   "execution_count": 21,
   "id": "7507caed",
   "metadata": {},
   "outputs": [
    {
     "ename": "ValueError",
     "evalue": "could not convert string to float: 'Manual_PuddledRandom'",
     "output_type": "error",
     "traceback": [
      "\u001b[0;31m---------------------------------------------------------------------------\u001b[0m",
      "\u001b[0;31mValueError\u001b[0m                                Traceback (most recent call last)",
      "\u001b[0;32m/var/folders/ws/9hc4t42j3ls9vb_fw81ddmhw0000gn/T/ipykernel_46737/3643063937.py\u001b[0m in \u001b[0;36m<module>\u001b[0;34m\u001b[0m\n\u001b[1;32m     23\u001b[0m \u001b[0mcdf_results\u001b[0m \u001b[0;34m=\u001b[0m \u001b[0mdf_train\u001b[0m\u001b[0;34m.\u001b[0m\u001b[0mcopy\u001b[0m\u001b[0;34m(\u001b[0m\u001b[0;34m)\u001b[0m\u001b[0;34m\u001b[0m\u001b[0;34m\u001b[0m\u001b[0m\n\u001b[1;32m     24\u001b[0m \u001b[0;34m\u001b[0m\u001b[0m\n\u001b[0;32m---> 25\u001b[0;31m \u001b[0mrun_spectral\u001b[0m\u001b[0;34m(\u001b[0m\u001b[0mk_range\u001b[0m\u001b[0;34m,\u001b[0m \u001b[0mcdf\u001b[0m\u001b[0;34m,\u001b[0m \u001b[0mcdf_results\u001b[0m\u001b[0;34m)\u001b[0m\u001b[0;34m\u001b[0m\u001b[0;34m\u001b[0m\u001b[0m\n\u001b[0m",
      "\u001b[0;32m/var/folders/ws/9hc4t42j3ls9vb_fw81ddmhw0000gn/T/ipykernel_46737/3643063937.py\u001b[0m in \u001b[0;36mrun_spectral\u001b[0;34m(k_range, input_df, output_df)\u001b[0m\n\u001b[1;32m     14\u001b[0m \u001b[0;32mdef\u001b[0m \u001b[0mrun_spectral\u001b[0m\u001b[0;34m(\u001b[0m\u001b[0mk_range\u001b[0m\u001b[0;34m,\u001b[0m \u001b[0minput_df\u001b[0m\u001b[0;34m,\u001b[0m \u001b[0moutput_df\u001b[0m\u001b[0;34m)\u001b[0m\u001b[0;34m:\u001b[0m\u001b[0;34m\u001b[0m\u001b[0;34m\u001b[0m\u001b[0m\n\u001b[1;32m     15\u001b[0m     \u001b[0;32mfor\u001b[0m \u001b[0mk\u001b[0m \u001b[0;32min\u001b[0m \u001b[0mk_range\u001b[0m\u001b[0;34m:\u001b[0m\u001b[0;34m\u001b[0m\u001b[0;34m\u001b[0m\u001b[0m\n\u001b[0;32m---> 16\u001b[0;31m         \u001b[0mspectral\u001b[0m \u001b[0;34m=\u001b[0m \u001b[0mSpectralClustering\u001b[0m\u001b[0;34m(\u001b[0m\u001b[0mn_clusters\u001b[0m\u001b[0;34m=\u001b[0m\u001b[0mk\u001b[0m\u001b[0;34m,\u001b[0m \u001b[0massign_labels\u001b[0m\u001b[0;34m=\u001b[0m\u001b[0;34m'discretize'\u001b[0m\u001b[0;34m,\u001b[0m \u001b[0mrandom_state\u001b[0m\u001b[0;34m=\u001b[0m\u001b[0;36m0\u001b[0m\u001b[0;34m,\u001b[0m \u001b[0mn_init\u001b[0m\u001b[0;34m=\u001b[0m\u001b[0;36m200\u001b[0m\u001b[0;34m)\u001b[0m\u001b[0;34m.\u001b[0m\u001b[0mfit\u001b[0m\u001b[0;34m(\u001b[0m\u001b[0minput_df\u001b[0m\u001b[0;34m)\u001b[0m\u001b[0;34m\u001b[0m\u001b[0;34m\u001b[0m\u001b[0m\n\u001b[0m\u001b[1;32m     17\u001b[0m         \u001b[0mcolname\u001b[0m \u001b[0;34m=\u001b[0m \u001b[0;34m'k'\u001b[0m \u001b[0;34m+\u001b[0m \u001b[0mstr\u001b[0m\u001b[0;34m(\u001b[0m\u001b[0mk\u001b[0m\u001b[0;34m)\u001b[0m \u001b[0;34m+\u001b[0m \u001b[0;34m\"label\"\u001b[0m\u001b[0;34m\u001b[0m\u001b[0;34m\u001b[0m\u001b[0m\n\u001b[1;32m     18\u001b[0m         \u001b[0mcol_list\u001b[0m\u001b[0;34m.\u001b[0m\u001b[0mappend\u001b[0m\u001b[0;34m(\u001b[0m\u001b[0mcolname\u001b[0m\u001b[0;34m)\u001b[0m\u001b[0;34m\u001b[0m\u001b[0;34m\u001b[0m\u001b[0m\n",
      "\u001b[0;32m~/opt/anaconda3/lib/python3.9/site-packages/sklearn/cluster/_spectral.py\u001b[0m in \u001b[0;36mfit\u001b[0;34m(self, X, y)\u001b[0m\n\u001b[1;32m    704\u001b[0m         \u001b[0mself\u001b[0m\u001b[0;34m.\u001b[0m\u001b[0m_validate_params\u001b[0m\u001b[0;34m(\u001b[0m\u001b[0;34m)\u001b[0m\u001b[0;34m\u001b[0m\u001b[0;34m\u001b[0m\u001b[0m\n\u001b[1;32m    705\u001b[0m \u001b[0;34m\u001b[0m\u001b[0m\n\u001b[0;32m--> 706\u001b[0;31m         X = self._validate_data(\n\u001b[0m\u001b[1;32m    707\u001b[0m             \u001b[0mX\u001b[0m\u001b[0;34m,\u001b[0m\u001b[0;34m\u001b[0m\u001b[0;34m\u001b[0m\u001b[0m\n\u001b[1;32m    708\u001b[0m             \u001b[0maccept_sparse\u001b[0m\u001b[0;34m=\u001b[0m\u001b[0;34m[\u001b[0m\u001b[0;34m\"csr\"\u001b[0m\u001b[0;34m,\u001b[0m \u001b[0;34m\"csc\"\u001b[0m\u001b[0;34m,\u001b[0m \u001b[0;34m\"coo\"\u001b[0m\u001b[0;34m]\u001b[0m\u001b[0;34m,\u001b[0m\u001b[0;34m\u001b[0m\u001b[0;34m\u001b[0m\u001b[0m\n",
      "\u001b[0;32m~/opt/anaconda3/lib/python3.9/site-packages/sklearn/base.py\u001b[0m in \u001b[0;36m_validate_data\u001b[0;34m(self, X, y, reset, validate_separately, **check_params)\u001b[0m\n\u001b[1;32m    563\u001b[0m             \u001b[0;32mraise\u001b[0m \u001b[0mValueError\u001b[0m\u001b[0;34m(\u001b[0m\u001b[0;34m\"Validation should be done on X, y or both.\"\u001b[0m\u001b[0;34m)\u001b[0m\u001b[0;34m\u001b[0m\u001b[0;34m\u001b[0m\u001b[0m\n\u001b[1;32m    564\u001b[0m         \u001b[0;32melif\u001b[0m \u001b[0;32mnot\u001b[0m \u001b[0mno_val_X\u001b[0m \u001b[0;32mand\u001b[0m \u001b[0mno_val_y\u001b[0m\u001b[0;34m:\u001b[0m\u001b[0;34m\u001b[0m\u001b[0;34m\u001b[0m\u001b[0m\n\u001b[0;32m--> 565\u001b[0;31m             \u001b[0mX\u001b[0m \u001b[0;34m=\u001b[0m \u001b[0mcheck_array\u001b[0m\u001b[0;34m(\u001b[0m\u001b[0mX\u001b[0m\u001b[0;34m,\u001b[0m \u001b[0minput_name\u001b[0m\u001b[0;34m=\u001b[0m\u001b[0;34m\"X\"\u001b[0m\u001b[0;34m,\u001b[0m \u001b[0;34m**\u001b[0m\u001b[0mcheck_params\u001b[0m\u001b[0;34m)\u001b[0m\u001b[0;34m\u001b[0m\u001b[0;34m\u001b[0m\u001b[0m\n\u001b[0m\u001b[1;32m    566\u001b[0m             \u001b[0mout\u001b[0m \u001b[0;34m=\u001b[0m \u001b[0mX\u001b[0m\u001b[0;34m\u001b[0m\u001b[0;34m\u001b[0m\u001b[0m\n\u001b[1;32m    567\u001b[0m         \u001b[0;32melif\u001b[0m \u001b[0mno_val_X\u001b[0m \u001b[0;32mand\u001b[0m \u001b[0;32mnot\u001b[0m \u001b[0mno_val_y\u001b[0m\u001b[0;34m:\u001b[0m\u001b[0;34m\u001b[0m\u001b[0;34m\u001b[0m\u001b[0m\n",
      "\u001b[0;32m~/opt/anaconda3/lib/python3.9/site-packages/sklearn/utils/validation.py\u001b[0m in \u001b[0;36mcheck_array\u001b[0;34m(array, accept_sparse, accept_large_sparse, dtype, order, copy, force_all_finite, ensure_2d, allow_nd, ensure_min_samples, ensure_min_features, estimator, input_name)\u001b[0m\n\u001b[1;32m    877\u001b[0m                     \u001b[0marray\u001b[0m \u001b[0;34m=\u001b[0m \u001b[0mxp\u001b[0m\u001b[0;34m.\u001b[0m\u001b[0mastype\u001b[0m\u001b[0;34m(\u001b[0m\u001b[0marray\u001b[0m\u001b[0;34m,\u001b[0m \u001b[0mdtype\u001b[0m\u001b[0;34m,\u001b[0m \u001b[0mcopy\u001b[0m\u001b[0;34m=\u001b[0m\u001b[0;32mFalse\u001b[0m\u001b[0;34m)\u001b[0m\u001b[0;34m\u001b[0m\u001b[0;34m\u001b[0m\u001b[0m\n\u001b[1;32m    878\u001b[0m                 \u001b[0;32melse\u001b[0m\u001b[0;34m:\u001b[0m\u001b[0;34m\u001b[0m\u001b[0;34m\u001b[0m\u001b[0m\n\u001b[0;32m--> 879\u001b[0;31m                     \u001b[0marray\u001b[0m \u001b[0;34m=\u001b[0m \u001b[0m_asarray_with_order\u001b[0m\u001b[0;34m(\u001b[0m\u001b[0marray\u001b[0m\u001b[0;34m,\u001b[0m \u001b[0morder\u001b[0m\u001b[0;34m=\u001b[0m\u001b[0morder\u001b[0m\u001b[0;34m,\u001b[0m \u001b[0mdtype\u001b[0m\u001b[0;34m=\u001b[0m\u001b[0mdtype\u001b[0m\u001b[0;34m,\u001b[0m \u001b[0mxp\u001b[0m\u001b[0;34m=\u001b[0m\u001b[0mxp\u001b[0m\u001b[0;34m)\u001b[0m\u001b[0;34m\u001b[0m\u001b[0;34m\u001b[0m\u001b[0m\n\u001b[0m\u001b[1;32m    880\u001b[0m             \u001b[0;32mexcept\u001b[0m \u001b[0mComplexWarning\u001b[0m \u001b[0;32mas\u001b[0m \u001b[0mcomplex_warning\u001b[0m\u001b[0;34m:\u001b[0m\u001b[0;34m\u001b[0m\u001b[0;34m\u001b[0m\u001b[0m\n\u001b[1;32m    881\u001b[0m                 raise ValueError(\n",
      "\u001b[0;32m~/opt/anaconda3/lib/python3.9/site-packages/sklearn/utils/_array_api.py\u001b[0m in \u001b[0;36m_asarray_with_order\u001b[0;34m(array, dtype, order, copy, xp)\u001b[0m\n\u001b[1;32m    183\u001b[0m     \u001b[0;32mif\u001b[0m \u001b[0mxp\u001b[0m\u001b[0;34m.\u001b[0m\u001b[0m__name__\u001b[0m \u001b[0;32min\u001b[0m \u001b[0;34m{\u001b[0m\u001b[0;34m\"numpy\"\u001b[0m\u001b[0;34m,\u001b[0m \u001b[0;34m\"numpy.array_api\"\u001b[0m\u001b[0;34m}\u001b[0m\u001b[0;34m:\u001b[0m\u001b[0;34m\u001b[0m\u001b[0;34m\u001b[0m\u001b[0m\n\u001b[1;32m    184\u001b[0m         \u001b[0;31m# Use NumPy API to support order\u001b[0m\u001b[0;34m\u001b[0m\u001b[0;34m\u001b[0m\u001b[0m\n\u001b[0;32m--> 185\u001b[0;31m         \u001b[0marray\u001b[0m \u001b[0;34m=\u001b[0m \u001b[0mnumpy\u001b[0m\u001b[0;34m.\u001b[0m\u001b[0masarray\u001b[0m\u001b[0;34m(\u001b[0m\u001b[0marray\u001b[0m\u001b[0;34m,\u001b[0m \u001b[0morder\u001b[0m\u001b[0;34m=\u001b[0m\u001b[0morder\u001b[0m\u001b[0;34m,\u001b[0m \u001b[0mdtype\u001b[0m\u001b[0;34m=\u001b[0m\u001b[0mdtype\u001b[0m\u001b[0;34m)\u001b[0m\u001b[0;34m\u001b[0m\u001b[0;34m\u001b[0m\u001b[0m\n\u001b[0m\u001b[1;32m    186\u001b[0m         \u001b[0;32mreturn\u001b[0m \u001b[0mxp\u001b[0m\u001b[0;34m.\u001b[0m\u001b[0masarray\u001b[0m\u001b[0;34m(\u001b[0m\u001b[0marray\u001b[0m\u001b[0;34m,\u001b[0m \u001b[0mcopy\u001b[0m\u001b[0;34m=\u001b[0m\u001b[0mcopy\u001b[0m\u001b[0;34m)\u001b[0m\u001b[0;34m\u001b[0m\u001b[0;34m\u001b[0m\u001b[0m\n\u001b[1;32m    187\u001b[0m     \u001b[0;32melse\u001b[0m\u001b[0;34m:\u001b[0m\u001b[0;34m\u001b[0m\u001b[0;34m\u001b[0m\u001b[0m\n",
      "\u001b[0;32m~/opt/anaconda3/lib/python3.9/site-packages/pandas/core/generic.py\u001b[0m in \u001b[0;36m__array__\u001b[0;34m(self, dtype)\u001b[0m\n\u001b[1;32m   1991\u001b[0m \u001b[0;34m\u001b[0m\u001b[0m\n\u001b[1;32m   1992\u001b[0m     \u001b[0;32mdef\u001b[0m \u001b[0m__array__\u001b[0m\u001b[0;34m(\u001b[0m\u001b[0mself\u001b[0m\u001b[0;34m,\u001b[0m \u001b[0mdtype\u001b[0m\u001b[0;34m:\u001b[0m \u001b[0mNpDtype\u001b[0m \u001b[0;34m|\u001b[0m \u001b[0;32mNone\u001b[0m \u001b[0;34m=\u001b[0m \u001b[0;32mNone\u001b[0m\u001b[0;34m)\u001b[0m \u001b[0;34m->\u001b[0m \u001b[0mnp\u001b[0m\u001b[0;34m.\u001b[0m\u001b[0mndarray\u001b[0m\u001b[0;34m:\u001b[0m\u001b[0;34m\u001b[0m\u001b[0;34m\u001b[0m\u001b[0m\n\u001b[0;32m-> 1993\u001b[0;31m         \u001b[0;32mreturn\u001b[0m \u001b[0mnp\u001b[0m\u001b[0;34m.\u001b[0m\u001b[0masarray\u001b[0m\u001b[0;34m(\u001b[0m\u001b[0mself\u001b[0m\u001b[0;34m.\u001b[0m\u001b[0m_values\u001b[0m\u001b[0;34m,\u001b[0m \u001b[0mdtype\u001b[0m\u001b[0;34m=\u001b[0m\u001b[0mdtype\u001b[0m\u001b[0;34m)\u001b[0m\u001b[0;34m\u001b[0m\u001b[0;34m\u001b[0m\u001b[0m\n\u001b[0m\u001b[1;32m   1994\u001b[0m \u001b[0;34m\u001b[0m\u001b[0m\n\u001b[1;32m   1995\u001b[0m     def __array_wrap__(\n",
      "\u001b[0;31mValueError\u001b[0m: could not convert string to float: 'Manual_PuddledRandom'"
     ]
    }
   ],
   "source": [
    "def run_spectral(k_range, input_df, output_df):\n",
    "    for k in k_range:\n",
    "        spectral = SpectralClustering(n_clusters=k, assign_labels='discretize', random_state=0, n_init=200).fit(input_df)\n",
    "        colname = 'k' + str(k) + \"label\"\n",
    "        col_list.append(colname)\n",
    "        output_df[colname] = spectral.labels_\n",
    "        \n",
    "col_list = []\n",
    "k_range = range(2,6)\n",
    "cdf_results = df_train.copy()\n",
    "\n",
    "run_spectral(k_range, cdf, cdf_results)"
   ]
  },
  {
   "cell_type": "code",
   "execution_count": null,
   "id": "7f381815",
   "metadata": {},
   "outputs": [],
   "source": [
    "col_list = []\n",
    "k_range = range(2,6)\n",
    "cdf_results = cdf.copy()\n",
    "\n",
    "run_spectral(k_range, cdf, cdf_results)\n",
    "\n",
    "def make_clusters(df):\n",
    "    # Create clusters for \n",
    "    cdf_results[\"k2label\"] = cdf_results[\"k2label\"].replace({0:\"A\", 1:\"B\"})\n",
    "    cdf_results[\"k3label\"] = cdf_results[\"k3label\"].replace({0:\"A\", 1:\"B\", 2:\"C\"})\n",
    "    cdf_results[\"k4label\"] = cdf_results[\"k4label\"].replace({0:\"A\", 1:\"B\", 2:\"C\", 3:\"D\"})\n",
    "    cdf_results[\"k5label\"] = cdf_results[\"k5label\"].replace({0:\"A\", 2:\"B\", 1:\"C\", 3:\"D\", 4:\"E\"})"
   ]
  }
 ],
 "metadata": {
  "kernelspec": {
   "display_name": "Python 3 (ipykernel)",
   "language": "python",
   "name": "python3"
  },
  "language_info": {
   "codemirror_mode": {
    "name": "ipython",
    "version": 3
   },
   "file_extension": ".py",
   "mimetype": "text/x-python",
   "name": "python",
   "nbconvert_exporter": "python",
   "pygments_lexer": "ipython3",
   "version": "3.9.7"
  }
 },
 "nbformat": 4,
 "nbformat_minor": 5
}
