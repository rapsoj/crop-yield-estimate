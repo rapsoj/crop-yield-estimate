{
 "cells": [
  {
   "cell_type": "markdown",
   "metadata": {
    "colab_type": "text",
    "id": "view-in-github"
   },
   "source": [
    "<a href=\"https://colab.research.google.com/github/rapsoj/crop-yield-estimate/blob/main/01.02-feature-engineering.ipynb\" target=\"_parent\"><img src=\"https://colab.research.google.com/assets/colab-badge.svg\" alt=\"Open In Colab\"/></a>"
   ]
  },
  {
   "cell_type": "markdown",
   "metadata": {
    "id": "p4rrXkUXhyaa"
   },
   "source": [
    "#01.02 Feature Engineering\n",
    "Creating new features to improve predictions for the Digital Green Crop Yield Estimate Challenge."
   ]
  },
  {
   "cell_type": "markdown",
   "metadata": {
    "id": "caYh8zAph9VW"
   },
   "source": [
    "### Prepare Workspace"
   ]
  },
  {
   "cell_type": "code",
   "execution_count": 2,
   "metadata": {
    "colab": {
     "base_uri": "https://localhost:8080/"
    },
    "id": "0ZkR4S3jheu0",
    "outputId": "da4df375-3672-449f-fc36-77dded2c9bf3"
   },
   "outputs": [
    {
     "ename": "ModuleNotFoundError",
     "evalue": "No module named 'google.colab'",
     "output_type": "error",
     "traceback": [
      "\u001b[1;31m---------------------------------------------------------------------------\u001b[0m",
      "\u001b[1;31mModuleNotFoundError\u001b[0m                       Traceback (most recent call last)",
      "\u001b[1;32mt:\\crop-yield-estimate\\02-data-cleaning\\01.02-feature-engineering.ipynb Cell 4\u001b[0m line \u001b[0;36m2\n\u001b[0;32m      <a href='vscode-notebook-cell:/t%3A/crop-yield-estimate/02-data-cleaning/01.02-feature-engineering.ipynb#W3sZmlsZQ%3D%3D?line=0'>1</a>\u001b[0m \u001b[39m# Mount Google Drive\u001b[39;00m\n\u001b[1;32m----> <a href='vscode-notebook-cell:/t%3A/crop-yield-estimate/02-data-cleaning/01.02-feature-engineering.ipynb#W3sZmlsZQ%3D%3D?line=1'>2</a>\u001b[0m \u001b[39mfrom\u001b[39;00m \u001b[39mgoogle\u001b[39;00m\u001b[39m.\u001b[39;00m\u001b[39mcolab\u001b[39;00m \u001b[39mimport\u001b[39;00m drive\n\u001b[0;32m      <a href='vscode-notebook-cell:/t%3A/crop-yield-estimate/02-data-cleaning/01.02-feature-engineering.ipynb#W3sZmlsZQ%3D%3D?line=2'>3</a>\u001b[0m drive\u001b[39m.\u001b[39mmount(\u001b[39m'\u001b[39m\u001b[39m/content/drive\u001b[39m\u001b[39m'\u001b[39m)\n",
      "\u001b[1;31mModuleNotFoundError\u001b[0m: No module named 'google.colab'"
     ]
    }
   ],
   "source": [
    "# Mount Google Drive\n",
    "from google.colab import drive\n",
    "drive.mount('/content/drive')"
   ]
  },
  {
   "cell_type": "code",
   "execution_count": null,
   "metadata": {
    "id": "wNHY8NHIhj5o"
   },
   "outputs": [],
   "source": [
    "# Import data manipulation libraries\n",
    "import pandas as pd\n",
    "import numpy as np"
   ]
  },
  {
   "cell_type": "code",
   "execution_count": null,
   "metadata": {
    "id": "OH5-4qQShqZ7"
   },
   "outputs": [],
   "source": [
    "# Load files\n",
    "data_path = '/content/drive/MyDrive/Colab Notebooks/crop-yield-estimate/'\n",
    "train = pd.read_csv(data_path + 'Train.csv')\n",
    "test = pd.read_csv(data_path + 'Test.csv')\n",
    "var_desc = pd.read_csv(data_path + 'VariableDescription.csv')"
   ]
  },
  {
   "cell_type": "markdown",
   "metadata": {},
   "source": [
    "### Prepare Workspace Locally"
   ]
  },
  {
   "cell_type": "code",
   "execution_count": 3,
   "metadata": {},
   "outputs": [],
   "source": [
    "import pandas as pd\n",
    "import numpy as np"
   ]
  },
  {
   "cell_type": "code",
   "execution_count": 4,
   "metadata": {},
   "outputs": [],
   "source": [
    "data_path = '/crop-yield-estimate/data/'\n",
    "train = pd.read_csv(data_path + 'Train.csv')\n",
    "test = pd.read_csv(data_path + 'Test.csv')\n",
    "var_desc = pd.read_csv(data_path + 'VariableDescription.csv')\n"
   ]
  },
  {
   "cell_type": "code",
   "execution_count": 5,
   "metadata": {},
   "outputs": [
    {
     "data": {
      "text/html": [
       "<div>\n",
       "<style scoped>\n",
       "    .dataframe tbody tr th:only-of-type {\n",
       "        vertical-align: middle;\n",
       "    }\n",
       "\n",
       "    .dataframe tbody tr th {\n",
       "        vertical-align: top;\n",
       "    }\n",
       "\n",
       "    .dataframe thead th {\n",
       "        text-align: right;\n",
       "    }\n",
       "</style>\n",
       "<table border=\"1\" class=\"dataframe\">\n",
       "  <thead>\n",
       "    <tr style=\"text-align: right;\">\n",
       "      <th></th>\n",
       "      <th>ID</th>\n",
       "      <th>District</th>\n",
       "      <th>Block</th>\n",
       "      <th>CultLand</th>\n",
       "      <th>CropCultLand</th>\n",
       "      <th>LandPreparationMethod</th>\n",
       "      <th>CropTillageDate</th>\n",
       "      <th>CropTillageDepth</th>\n",
       "      <th>CropEstMethod</th>\n",
       "      <th>RcNursEstDate</th>\n",
       "      <th>...</th>\n",
       "      <th>Harv_method</th>\n",
       "      <th>Harv_date</th>\n",
       "      <th>Harv_hand_rent</th>\n",
       "      <th>Threshing_date</th>\n",
       "      <th>Threshing_method</th>\n",
       "      <th>Residue_length</th>\n",
       "      <th>Residue_perc</th>\n",
       "      <th>Stubble_use</th>\n",
       "      <th>Acre</th>\n",
       "      <th>Yield</th>\n",
       "    </tr>\n",
       "  </thead>\n",
       "  <tbody>\n",
       "    <tr>\n",
       "      <th>0</th>\n",
       "      <td>ID_GTFAC7PEVWQ9</td>\n",
       "      <td>Nalanda</td>\n",
       "      <td>Noorsarai</td>\n",
       "      <td>45</td>\n",
       "      <td>40</td>\n",
       "      <td>TractorPlough FourWheelTracRotavator</td>\n",
       "      <td>2022-07-20</td>\n",
       "      <td>5</td>\n",
       "      <td>Manual_PuddledRandom</td>\n",
       "      <td>2022-06-27</td>\n",
       "      <td>...</td>\n",
       "      <td>machine</td>\n",
       "      <td>2022-11-16</td>\n",
       "      <td>NaN</td>\n",
       "      <td>2022-11-16</td>\n",
       "      <td>machine</td>\n",
       "      <td>30</td>\n",
       "      <td>40</td>\n",
       "      <td>plowed_in_soil</td>\n",
       "      <td>0.312500</td>\n",
       "      <td>600</td>\n",
       "    </tr>\n",
       "    <tr>\n",
       "      <th>1</th>\n",
       "      <td>ID_TK40ARLSPOKS</td>\n",
       "      <td>Nalanda</td>\n",
       "      <td>Rajgir</td>\n",
       "      <td>26</td>\n",
       "      <td>26</td>\n",
       "      <td>WetTillagePuddling TractorPlough FourWheelTrac...</td>\n",
       "      <td>2022-07-18</td>\n",
       "      <td>5</td>\n",
       "      <td>Manual_PuddledRandom</td>\n",
       "      <td>2022-06-20</td>\n",
       "      <td>...</td>\n",
       "      <td>hand</td>\n",
       "      <td>2022-11-25</td>\n",
       "      <td>3.0</td>\n",
       "      <td>2022-12-24</td>\n",
       "      <td>machine</td>\n",
       "      <td>24</td>\n",
       "      <td>10</td>\n",
       "      <td>plowed_in_soil</td>\n",
       "      <td>0.312500</td>\n",
       "      <td>600</td>\n",
       "    </tr>\n",
       "    <tr>\n",
       "      <th>2</th>\n",
       "      <td>ID_1FJY2CRIMLZZ</td>\n",
       "      <td>Gaya</td>\n",
       "      <td>Gurua</td>\n",
       "      <td>10</td>\n",
       "      <td>10</td>\n",
       "      <td>TractorPlough FourWheelTracRotavator</td>\n",
       "      <td>2022-06-30</td>\n",
       "      <td>6</td>\n",
       "      <td>Manual_PuddledRandom</td>\n",
       "      <td>2022-06-20</td>\n",
       "      <td>...</td>\n",
       "      <td>hand</td>\n",
       "      <td>2022-12-12</td>\n",
       "      <td>480.0</td>\n",
       "      <td>2023-01-11</td>\n",
       "      <td>machine</td>\n",
       "      <td>30</td>\n",
       "      <td>10</td>\n",
       "      <td>plowed_in_soil</td>\n",
       "      <td>0.148148</td>\n",
       "      <td>225</td>\n",
       "    </tr>\n",
       "    <tr>\n",
       "      <th>3</th>\n",
       "      <td>ID_I3IPXS4DB7NE</td>\n",
       "      <td>Gaya</td>\n",
       "      <td>Gurua</td>\n",
       "      <td>15</td>\n",
       "      <td>15</td>\n",
       "      <td>TractorPlough FourWheelTracRotavator</td>\n",
       "      <td>2022-06-16</td>\n",
       "      <td>6</td>\n",
       "      <td>Manual_PuddledRandom</td>\n",
       "      <td>2022-06-17</td>\n",
       "      <td>...</td>\n",
       "      <td>hand</td>\n",
       "      <td>2022-12-02</td>\n",
       "      <td>240.0</td>\n",
       "      <td>2022-12-29</td>\n",
       "      <td>hand</td>\n",
       "      <td>26</td>\n",
       "      <td>10</td>\n",
       "      <td>plowed_in_soil</td>\n",
       "      <td>0.222222</td>\n",
       "      <td>468</td>\n",
       "    </tr>\n",
       "    <tr>\n",
       "      <th>4</th>\n",
       "      <td>ID_4T8YQWXWHB4A</td>\n",
       "      <td>Nalanda</td>\n",
       "      <td>Noorsarai</td>\n",
       "      <td>60</td>\n",
       "      <td>60</td>\n",
       "      <td>TractorPlough WetTillagePuddling</td>\n",
       "      <td>2022-07-19</td>\n",
       "      <td>4</td>\n",
       "      <td>Manual_PuddledRandom</td>\n",
       "      <td>2022-06-21</td>\n",
       "      <td>...</td>\n",
       "      <td>machine</td>\n",
       "      <td>2022-11-30</td>\n",
       "      <td>NaN</td>\n",
       "      <td>2022-12-02</td>\n",
       "      <td>machine</td>\n",
       "      <td>24</td>\n",
       "      <td>40</td>\n",
       "      <td>plowed_in_soil</td>\n",
       "      <td>0.468750</td>\n",
       "      <td>550</td>\n",
       "    </tr>\n",
       "  </tbody>\n",
       "</table>\n",
       "<p>5 rows × 44 columns</p>\n",
       "</div>"
      ],
      "text/plain": [
       "                ID District      Block  CultLand  CropCultLand  \\\n",
       "0  ID_GTFAC7PEVWQ9  Nalanda  Noorsarai        45            40   \n",
       "1  ID_TK40ARLSPOKS  Nalanda     Rajgir        26            26   \n",
       "2  ID_1FJY2CRIMLZZ     Gaya      Gurua        10            10   \n",
       "3  ID_I3IPXS4DB7NE     Gaya      Gurua        15            15   \n",
       "4  ID_4T8YQWXWHB4A  Nalanda  Noorsarai        60            60   \n",
       "\n",
       "                               LandPreparationMethod CropTillageDate  \\\n",
       "0               TractorPlough FourWheelTracRotavator      2022-07-20   \n",
       "1  WetTillagePuddling TractorPlough FourWheelTrac...      2022-07-18   \n",
       "2               TractorPlough FourWheelTracRotavator      2022-06-30   \n",
       "3               TractorPlough FourWheelTracRotavator      2022-06-16   \n",
       "4                   TractorPlough WetTillagePuddling      2022-07-19   \n",
       "\n",
       "   CropTillageDepth         CropEstMethod RcNursEstDate  ... Harv_method  \\\n",
       "0                 5  Manual_PuddledRandom    2022-06-27  ...     machine   \n",
       "1                 5  Manual_PuddledRandom    2022-06-20  ...        hand   \n",
       "2                 6  Manual_PuddledRandom    2022-06-20  ...        hand   \n",
       "3                 6  Manual_PuddledRandom    2022-06-17  ...        hand   \n",
       "4                 4  Manual_PuddledRandom    2022-06-21  ...     machine   \n",
       "\n",
       "    Harv_date Harv_hand_rent Threshing_date  Threshing_method Residue_length  \\\n",
       "0  2022-11-16            NaN     2022-11-16           machine             30   \n",
       "1  2022-11-25            3.0     2022-12-24           machine             24   \n",
       "2  2022-12-12          480.0     2023-01-11           machine             30   \n",
       "3  2022-12-02          240.0     2022-12-29              hand             26   \n",
       "4  2022-11-30            NaN     2022-12-02           machine             24   \n",
       "\n",
       "  Residue_perc     Stubble_use      Acre Yield  \n",
       "0           40  plowed_in_soil  0.312500   600  \n",
       "1           10  plowed_in_soil  0.312500   600  \n",
       "2           10  plowed_in_soil  0.148148   225  \n",
       "3           10  plowed_in_soil  0.222222   468  \n",
       "4           40  plowed_in_soil  0.468750   550  \n",
       "\n",
       "[5 rows x 44 columns]"
      ]
     },
     "execution_count": 5,
     "metadata": {},
     "output_type": "execute_result"
    }
   ],
   "source": [
    "train.head()"
   ]
  },
  {
   "cell_type": "code",
   "execution_count": 6,
   "metadata": {},
   "outputs": [
    {
     "name": "stdout",
     "output_type": "stream",
     "text": [
      "0\n"
     ]
    }
   ],
   "source": [
    "count = len(train[train['CultLand'] < train['CropCultLand']])\n",
    "print(count)\n"
   ]
  },
  {
   "cell_type": "code",
   "execution_count": 7,
   "metadata": {},
   "outputs": [
    {
     "name": "stdout",
     "output_type": "stream",
     "text": [
      "1616\n"
     ]
    }
   ],
   "source": [
    "count = len(train[train['CultLand'] > train['CropCultLand']])\n",
    "print(count)\n"
   ]
  },
  {
   "cell_type": "code",
   "execution_count": 9,
   "metadata": {},
   "outputs": [
    {
     "name": "stdout",
     "output_type": "stream",
     "text": [
      "0.4096040689279083\n",
      "0.39407007108602965\n"
     ]
    }
   ],
   "source": [
    "\n",
    "# Calculate the correlation between CultLand and Acre columns\n",
    "corr_cultland = train['CultLand'].corr(train['Acre'])\n",
    "\n",
    "# Calculate the correlation between CropCultLand and Acre columns\n",
    "corr_cropcultland = train['CropCultLand'].corr(train['Acre'])\n",
    "\n",
    "print(corr_cultland)\n",
    "print(corr_cropcultland)\n",
    "\n"
   ]
  },
  {
   "cell_type": "code",
   "execution_count": null,
   "metadata": {},
   "outputs": [
    {
     "data": {
      "text/plain": [
       "ID                                       0\n",
       "District                                 0\n",
       "Block                                    0\n",
       "CultLand                                 0\n",
       "CropCultLand                             0\n",
       "LandPreparationMethod                    0\n",
       "CropTillageDate                          0\n",
       "CropTillageDepth                         0\n",
       "CropEstMethod                            0\n",
       "RcNursEstDate                           83\n",
       "SeedingSowingTransplanting               0\n",
       "SeedlingsPerPit                        289\n",
       "NursDetFactor                          289\n",
       "TransDetFactor                         289\n",
       "TransplantingIrrigationHours           193\n",
       "TransplantingIrrigationSource          115\n",
       "TransplantingIrrigationPowerSource     503\n",
       "TransIrriCost                          882\n",
       "StandingWater                          238\n",
       "OrgFertilizers                        1335\n",
       "Ganaura                               2417\n",
       "CropOrgFYM                            2674\n",
       "PCropSolidOrgFertAppMethod            1337\n",
       "NoFertilizerAppln                        0\n",
       "CropbasalFerts                         188\n",
       "BasalDAP                               543\n",
       "BasalUrea                             1704\n",
       "MineralFertAppMethod                     0\n",
       "FirstTopDressFert                      485\n",
       "1tdUrea                                556\n",
       "1appDaysUrea                           556\n",
       "2tdUrea                               2694\n",
       "2appDaysUrea                          2700\n",
       "MineralFertAppMethod.1                 481\n",
       "Harv_method                              0\n",
       "Harv_date                                0\n",
       "Harv_hand_rent                         252\n",
       "Threshing_date                           0\n",
       "Threshing_method                         0\n",
       "Residue_length                           0\n",
       "Residue_perc                             0\n",
       "Stubble_use                              0\n",
       "Acre                                     0\n",
       "Yield                                    0\n",
       "dtype: int64"
      ]
     },
     "execution_count": 10,
     "metadata": {},
     "output_type": "execute_result"
    }
   ],
   "source": [
    "# How many missing numbers are there?\n",
    "train.isnull().sum()\n",
    "\n",
    "\n"
   ]
  },
  {
   "cell_type": "code",
   "execution_count": null,
   "metadata": {},
   "outputs": [
    {
     "data": {
      "text/plain": [
       "ID                                     0.000000\n",
       "District                               0.000000\n",
       "Block                                  0.000000\n",
       "CultLand                               0.000000\n",
       "CropCultLand                           0.000000\n",
       "LandPreparationMethod                  0.000000\n",
       "CropTillageDate                        0.000000\n",
       "CropTillageDepth                       0.000000\n",
       "CropEstMethod                          0.000000\n",
       "RcNursEstDate                          2.144703\n",
       "SeedingSowingTransplanting             0.000000\n",
       "SeedlingsPerPit                        7.467700\n",
       "NursDetFactor                          7.467700\n",
       "TransDetFactor                         7.467700\n",
       "TransplantingIrrigationHours           4.987080\n",
       "TransplantingIrrigationSource          2.971576\n",
       "TransplantingIrrigationPowerSource    12.997416\n",
       "TransIrriCost                         22.790698\n",
       "StandingWater                          6.149871\n",
       "OrgFertilizers                        34.496124\n",
       "Ganaura                               62.454780\n",
       "CropOrgFYM                            69.095607\n",
       "PCropSolidOrgFertAppMethod            34.547804\n",
       "NoFertilizerAppln                      0.000000\n",
       "CropbasalFerts                         4.857881\n",
       "BasalDAP                              14.031008\n",
       "BasalUrea                             44.031008\n",
       "MineralFertAppMethod                   0.000000\n",
       "FirstTopDressFert                     12.532300\n",
       "1tdUrea                               14.366925\n",
       "1appDaysUrea                          14.366925\n",
       "2tdUrea                               69.612403\n",
       "2appDaysUrea                          69.767442\n",
       "MineralFertAppMethod.1                12.428941\n",
       "Harv_method                            0.000000\n",
       "Harv_date                              0.000000\n",
       "Harv_hand_rent                         6.511628\n",
       "Threshing_date                         0.000000\n",
       "Threshing_method                       0.000000\n",
       "Residue_length                         0.000000\n",
       "Residue_perc                           0.000000\n",
       "Stubble_use                            0.000000\n",
       "Acre                                   0.000000\n",
       "Yield                                  0.000000\n",
       "dtype: float64"
      ]
     },
     "execution_count": 11,
     "metadata": {},
     "output_type": "execute_result"
    }
   ],
   "source": [
    "# Calculate percentage of missing values in each column\n",
    "train.isnull().sum() / len(train) * 100"
   ]
  },
  {
   "cell_type": "markdown",
   "metadata": {
    "id": "4JzmjVDAiBVJ"
   },
   "source": [
    "### Perform Feature Engineering"
   ]
  },
  {
   "cell_type": "code",
   "execution_count": null,
   "metadata": {
    "id": "C5OGwH7khwBB"
   },
   "outputs": [],
   "source": [
    "# Create feature for yield per acre 'Yield_per_Acre'\n",
    "train['Yield_per_Acre'] = train['Yield'] / train['Acre']"
   ]
  },
  {
   "cell_type": "code",
   "execution_count": null,
   "metadata": {
    "id": "o5Ru1fI2ivLx"
   },
   "outputs": [],
   "source": [
    "# Create feature for past month yield per acre 'Past_Yield_per_Acre'\n",
    "train['Harv_date'] = pd.to_datetime(train['Harv_date'])\n",
    "train.sort_values(['District', 'Harv_date'], inplace=True)\n",
    "\n",
    "# Group the DataFrame by 'District' and calculate the rolling average\n",
    "train['Past_YpA_Avg'] = train.groupby('District')['Yield_per_Acre'].rolling(\n",
    "    window = 30).mean().reset_index(0, drop=True)\n",
    "\n",
    "# Fill NaN values in the 'past_month_avg' column with 0 if needed\n",
    "train['Past_YpA_Avg'].fillna(0, inplace=True)"
   ]
  },
  {
   "cell_type": "code",
   "execution_count": null,
   "metadata": {
    "id": "bd3KIglKtBoY"
   },
   "outputs": [],
   "source": [
    "# Create feature for days between harvesting and threshing 'Days_Harv_Thresh'\n",
    "train['Threshing_date'] = pd.to_datetime(train['Threshing_date'])\n",
    "train['Days_Harv_Thresh'] = (\n",
    "    train['Threshing_date'] - train['Harv_date']).dt.days"
   ]
  },
  {
   "cell_type": "code",
   "execution_count": null,
   "metadata": {
    "id": "o7H62eXi7kff"
   },
   "outputs": [],
   "source": []
  }
 ],
 "metadata": {
  "colab": {
   "authorship_tag": "ABX9TyMZVw6CLCPZW6nlcCC+EMHV",
   "include_colab_link": true,
   "provenance": []
  },
  "kernelspec": {
   "display_name": "Python 3 (ipykernel)",
   "language": "python",
   "name": "python3"
  },
  "language_info": {
   "codemirror_mode": {
    "name": "ipython",
    "version": 3
   },
   "file_extension": ".py",
   "mimetype": "text/x-python",
   "name": "python",
   "nbconvert_exporter": "python",
   "pygments_lexer": "ipython3",
   "version": "3.9.7"
  }
 },
 "nbformat": 4,
 "nbformat_minor": 1
}
