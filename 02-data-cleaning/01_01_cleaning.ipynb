{
  "nbformat": 4,
  "nbformat_minor": 0,
  "metadata": {
    "colab": {
      "provenance": []
    },
    "kernelspec": {
      "name": "python3",
      "display_name": "Python 3"
    },
    "language_info": {
      "name": "python"
    }
  },
  "cells": [
    {
      "cell_type": "code",
      "execution_count": 44,
      "metadata": {
        "id": "MLl-vzPhgVw_"
      },
      "outputs": [],
      "source": [
        "import pandas as pd\n",
        "import numpy as np\n",
        "import plotly.express as px\n",
        "import plotly.io as pio\n",
        "import plotly.graph_objects as go\n",
        "import calendar\n",
        "from datetime import datetime\n",
        "pd.set_option('display.max_columns', None)\n",
        "\n",
        "import warnings\n",
        "warnings.filterwarnings(\"ignore\")"
      ]
    },
    {
      "cell_type": "code",
      "source": [
        "from google.colab import drive\n",
        "drive.mount('/content/gdrive')\n",
        "\n",
        "# directory\n",
        "%cd '/content/gdrive/My Drive/Oxford/ML_for_Social_Good'\n",
        "\n",
        "# import\n",
        "train = pd.read_csv(\"Train.csv\")\n",
        "test = pd.read_csv(\"Test.csv\")\n",
        "\n",
        "train[\"Set\"] = \"train\"\n",
        "test[\"Set\"] = \"test\"\n",
        "\n",
        "df = pd.concat([train, test])\n",
        "print(df.shape)"
      ],
      "metadata": {
        "colab": {
          "base_uri": "https://localhost:8080/"
        },
        "id": "GraWxTYtgciK",
        "outputId": "d2260eb0-00ae-4544-90ec-79141a090699"
      },
      "execution_count": 45,
      "outputs": [
        {
          "output_type": "stream",
          "name": "stdout",
          "text": [
            "Drive already mounted at /content/gdrive; to attempt to forcibly remount, call drive.mount(\"/content/gdrive\", force_remount=True).\n",
            "/content/gdrive/My Drive/Oxford/ML_for_Social_Good\n",
            "(5160, 45)\n"
          ]
        }
      ]
    },
    {
      "cell_type": "code",
      "source": [
        "datetime_cols = [\"CropTillageDate\",\"RcNursEstDate\",\"SeedingSowingTransplanting\",\"Harv_date\",\"Threshing_date\"]\n",
        "\n",
        "for col in datetime_cols:\n",
        "  df[col] = pd.to_datetime(df[col])#.dt.date"
      ],
      "metadata": {
        "id": "vrKICzVjgclR"
      },
      "execution_count": 46,
      "outputs": []
    },
    {
      "cell_type": "code",
      "source": [
        "# One row has Jamui as district but Gurua as Block, which is a Gaya block -- correcting its District\n",
        "df.loc[(df[\"District\"]==\"Jamui\") & (df[\"Block\"]==\"Gurua\")].index\n",
        "df.loc[2177,\"District\"] = \"Gaya\""
      ],
      "metadata": {
        "id": "fXyE0JGRgcm3"
      },
      "execution_count": 47,
      "outputs": []
    },
    {
      "cell_type": "code",
      "source": [
        "# OUTLIERS -- first pass\n",
        "\n",
        "# SeedlingsPerPit has two extreme outliers (800 seedlings & 442 seedlings) --> replacing with the next max value for now (=22)\n",
        "df[\"SeedlingsPerPit\"] = df[\"SeedlingsPerPit\"].replace(800,22).replace(442,22)\n",
        "\n",
        "# TransplantingIrrigationHours\n",
        "df.loc[df[\"TransplantingIrrigationHours\"]>90][\"TransplantingIrrigationHours\"] = 90\n",
        "\n",
        "# TransIrriCost have several extreme outliers (e.g. 6000 rupees for an average sized land)\n",
        "#df[\"TransIrriCost\"] = df[\"TransIrriCost\"].replace(6000,3000)\n",
        "df.loc[df[\"TransIrriCost\"]>2500][\"TransIrriCost\"] = 2500\n",
        "\n",
        "# Ganaura\n",
        "df.loc[df[\"Ganaura\"]>140][\"Ganaura\"] = 140\n",
        "\n",
        "# 1appDaysUrea -- replacing extreme outlier with the next max value\n",
        "df[\"1appDaysUrea\"] = df[\"1appDaysUrea\"].replace(332,75)"
      ],
      "metadata": {
        "id": "DYQKwkMDgpRm"
      },
      "execution_count": 48,
      "outputs": []
    },
    {
      "cell_type": "code",
      "source": [
        "# PER-ACRE COLUMNS\n",
        "\n",
        "list_cols = [\"TransIrriCost\",\"Ganaura\",\"CropOrgFYM\",\"BasalDAP\",\"BasalUrea\",\"1tdUrea\",\"2tdUrea\",\"Harv_hand_rent\",\"Yield\"]\n",
        "\n",
        "for col in list_cols:\n",
        "  label = str(col) + \"_per_Acre\"\n",
        "  df[label] = df[col] / df[\"Acre\"]"
      ],
      "metadata": {
        "id": "uKKCpb_YgpT1"
      },
      "execution_count": 49,
      "outputs": []
    },
    {
      "cell_type": "code",
      "source": [
        "# Re-ordering columns and dropping the non-standardized ones\n",
        "df = df[['ID', 'Set', 'District', 'Block', 'LandPreparationMethod', 'CropTillageDate', 'CropTillageDepth','CropEstMethod', 'RcNursEstDate',\n",
        "         'SeedingSowingTransplanting','SeedlingsPerPit', 'NursDetFactor', 'TransDetFactor','TransplantingIrrigationHours', 'TransplantingIrrigationSource',\n",
        "         'TransplantingIrrigationPowerSource', 'TransIrriCost_per_Acre', 'StandingWater','OrgFertilizers', 'Ganaura_per_Acre', 'CropOrgFYM_per_Acre', 'PCropSolidOrgFertAppMethod',\n",
        "         'NoFertilizerAppln', 'CropbasalFerts', 'BasalDAP_per_Acre', 'BasalUrea_per_Acre','MineralFertAppMethod', 'FirstTopDressFert', '1tdUrea_per_Acre', '1appDaysUrea',\n",
        "         '2tdUrea_per_Acre', '2appDaysUrea', 'MineralFertAppMethod.1', 'Harv_method','Harv_date', 'Harv_hand_rent_per_Acre', 'Threshing_date', 'Threshing_method',\n",
        "         'Residue_length', 'Residue_perc', 'Stubble_use', 'Acre', 'Yield','Yield_per_Acre'\n",
        "         ]]"
      ],
      "metadata": {
        "id": "UmVvpz5lgcov"
      },
      "execution_count": 50,
      "outputs": []
    },
    {
      "cell_type": "code",
      "source": [
        "# PARSING MESSY CATEGORICAL VARIABLES\n",
        "\n",
        "# 1. LandPreparationMethod\n",
        "#methods = [\"TractorPlough\",\"FourWheelTracRotavator\",\"WetTillagePuddling\",\"BullockPlough\",\"Other\"]\n",
        "\n",
        "df[\"LandPrepMethod_TractorPlough\"] = df[\"LandPreparationMethod\"].str.contains(\"TractorPlough\")\n",
        "df[\"LandPrepMethod_FourWheelTracRotavator\"] = df[\"LandPreparationMethod\"].str.contains(\"FourWheelTracRotavator\")\n",
        "df[\"LandPrepMethod_WetTillagePuddling\"] = df[\"LandPreparationMethod\"].str.contains(\"WetTillagePuddling\")\n",
        "df[\"LandPrepMethod_BullockPlough\"] = df[\"LandPreparationMethod\"].str.contains(\"BullockPlough\")\n",
        "df[\"LandPrepMethod_Other\"] = df[\"LandPreparationMethod\"].str.contains(\"Other\")\n",
        "\n",
        "\n",
        "# 2. NursDetFactor\n",
        "#reasons = [\"CalendarDate\",\"PreMonsoonShowers\",\"IrrigWaterAvailability\",\"LabourAvailability\",\"SeedAvailability\"]\n",
        "\n",
        "df[\"NursDetFactor_CalendarDate\"] = df[\"NursDetFactor\"].str.contains(\"CalendarDate\")\n",
        "df[\"NursDetFactor_PreMonsoonShowers\"] = df[\"NursDetFactor\"].str.contains(\"PreMonsoonShowers\")\n",
        "df[\"NursDetFactor_IrrigWaterAvailability\"] = df[\"NursDetFactor\"].str.contains(\"IrrigWaterAvailability\")\n",
        "df[\"NursDetFactor_LabourAvailability\"] = df[\"NursDetFactor\"].str.contains(\"LabourAvailability\" or \"LaborAvailability\")\n",
        "df[\"NursDetFactor_SeedAvailability\"] = df[\"NursDetFactor\"].str.contains(\"SeedAvailability\")\n",
        "\n",
        "\n",
        "# 2. TransDetFactor\n",
        "#reasons = [\"LaborAvailability\",\"CalendarDate\",\"RainArrival\",\"IrrigWaterAvailability\",\"SeedlingAge\"] # I think that's all of them\n",
        "\n",
        "df[\"TransDetFactor_LabourAvailability\"] = df[\"TransDetFactor\"].str.contains(\"LabourAvailability\" or \"LaborAvailability\")\n",
        "df[\"TransDetFactor_CalendarDate\"] = df[\"TransDetFactor\"].str.contains(\"CalendarDate\")\n",
        "df[\"TransDetFactor_RainArrival\"] = df[\"TransDetFactor\"].str.contains(\"RainArrival\")\n",
        "df[\"TransDetFactor_IrrigWaterAvailability\"] = df[\"TransDetFactor\"].str.contains(\"IrrigWaterAvailability\")\n",
        "df[\"TransDetFactor_SeedlingAge\"] = df[\"TransDetFactor\"].str.contains(\"SeedlingAge\")\n",
        "\n",
        "\n",
        "# 3. CropbasalFerts\n",
        "df[\"CropbasalFerts\"] = df[\"CropbasalFerts\"].fillna(\"None\")\n",
        "fertilizer_types = [\"Urea\",\"DAP\",\"Other\",\"NPK\",\"MoP\",\"NPKS\",\"SSP\",\"None\"]\n",
        "\n",
        "for fertilizer in fertilizer_types:\n",
        "  label = \"CropbasalFerts_\" + fertilizer\n",
        "  df[label] = df[\"CropbasalFerts\"].str.contains(fertilizer)\n",
        "\n",
        "\n",
        "# 4. FirstTopDressFert\n",
        "fertilizer_types2 = [\"Urea\",\"DAP\",\"NPK\",\"NPKS\",\"SSP\",\"Other\"]\n",
        "\n",
        "for fertilizer in fertilizer_types2:\n",
        "  label = \"FirstTopDressFert_\" + fertilizer\n",
        "  df[label] = df[\"FirstTopDressFert\"].str.contains(fertilizer)\n",
        "\n",
        "\n",
        "# 5. OrgFertilizers\n",
        "orgfertilizers = [\"Ganaura\",\"FYM\",\"VermiCompost\",\"Pranamrit\",\"Ghanajeevamrit\",\"Jeevamrit\",\"PoultryManure\"]\n",
        "for fertilizer in orgfertilizers:\n",
        "  label = \"OrgFertilizers_\" + fertilizer\n",
        "  df[label] = df[\"OrgFertilizers\"].str.contains(fertilizer)"
      ],
      "metadata": {
        "id": "d_QgGXXCjWVZ"
      },
      "execution_count": 51,
      "outputs": []
    },
    {
      "cell_type": "code",
      "source": [
        "# EXPORTING\n",
        "\n",
        "df.to_csv('cleaned_fulldf.csv',index=False)"
      ],
      "metadata": {
        "id": "O5GwH-TThpQF"
      },
      "execution_count": 52,
      "outputs": []
    }
  ]
}