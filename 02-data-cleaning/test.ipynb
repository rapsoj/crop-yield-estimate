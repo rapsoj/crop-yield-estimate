{
 "cells": [
  {
   "cell_type": "code",
   "execution_count": 1,
   "id": "20db0950",
   "metadata": {},
   "outputs": [],
   "source": [
    "import os\n",
    "\n",
    "import pandas as pd\n",
    "import numpy as np\n",
    "import calendar\n",
    "from datetime import datetime\n",
    "\n",
    "import warnings\n",
    "warnings.filterwarnings(\"ignore\")\n",
    "\n",
    "os.chdir('/Users/jessicarapson/Documents/GitHub/crop-yield-estimate')\n",
    "\n",
    "import cleaning\n",
    "import feature_engineering\n",
    "import scaling\n",
    "\n",
    "train_path = \"data/Train.csv\"\n",
    "df_train = cleaning.clean_data(train_path)\n",
    "df_train = feature_engineering.get_features(df_train)\n",
    "df_train = scaling.do_scaling(df_train)\n",
    "\n",
    "test_path = \"data/Test.csv\"\n",
    "df_test = cleaning.clean_data(test_path)\n",
    "df_test = feature_engineering.get_features(df_test)"
   ]
  },
  {
   "cell_type": "code",
   "execution_count": 3,
   "id": "21bc463b",
   "metadata": {},
   "outputs": [],
   "source": [
    "df_train.to_csv(\"scaled.csv\")  "
   ]
  },
  {
   "cell_type": "code",
   "execution_count": 40,
   "id": "f321da8d",
   "metadata": {},
   "outputs": [],
   "source": [
    "#cols = list(df_train.columns)\n",
    "#i = 115"
   ]
  },
  {
   "cell_type": "code",
   "execution_count": 56,
   "id": "2399df60",
   "metadata": {},
   "outputs": [
    {
     "data": {
      "text/plain": [
       "'Days_bw_Harv_Thresh_ModeDiff'"
      ]
     },
     "execution_count": 56,
     "metadata": {},
     "output_type": "execute_result"
    }
   ],
   "source": [
    "i += 1\n",
    "cols[i]"
   ]
  },
  {
   "cell_type": "code",
   "execution_count": 57,
   "id": "475ea0c8",
   "metadata": {},
   "outputs": [
    {
     "name": "stdout",
     "output_type": "stream",
     "text": [
      " 0.0      247\n",
      " 5.0      232\n",
      "-10.0     156\n",
      "-5.0      123\n",
      "-3.0      111\n",
      "         ... \n",
      " 111.0      1\n",
      " 133.0      1\n",
      " 103.0      1\n",
      " 93.0       1\n",
      " 97.0       1\n",
      "Name: Days_bw_Harv_Thresh_ModeDiff, Length: 123, dtype: int64\n",
      "\n",
      "\n",
      "False    3870\n",
      "Name: Days_bw_Harv_Thresh_ModeDiff, dtype: int64\n",
      "\n",
      "\n",
      "count    3870.000000\n",
      "mean       19.860465\n",
      "std        25.395648\n",
      "min       -10.000000\n",
      "25%         0.000000\n",
      "50%        11.000000\n",
      "75%        34.000000\n",
      "max       133.000000\n",
      "Name: Days_bw_Harv_Thresh_ModeDiff, dtype: float64\n"
     ]
    }
   ],
   "source": [
    "print(df_train[cols[i]].value_counts())\n",
    "print('\\n')\n",
    "print(df_train[cols[i]].isna().value_counts())\n",
    "print('\\n')\n",
    "print(df_train[cols[i]].describe())"
   ]
  },
  {
   "cell_type": "code",
   "execution_count": 17,
   "id": "82881a54",
   "metadata": {},
   "outputs": [],
   "source": [
    "#print(df_test[cols[i]].value_counts())\n",
    "#print('\\n')\n",
    "#print(df_test[cols[i]].isna().value_counts())\n",
    "#print('\\n')\n",
    "#print(df_test[cols[i]].describe())"
   ]
  },
  {
   "cell_type": "code",
   "execution_count": null,
   "id": "7507caed",
   "metadata": {},
   "outputs": [],
   "source": []
  }
 ],
 "metadata": {
  "kernelspec": {
   "display_name": "Python 3 (ipykernel)",
   "language": "python",
   "name": "python3"
  },
  "language_info": {
   "codemirror_mode": {
    "name": "ipython",
    "version": 3
   },
   "file_extension": ".py",
   "mimetype": "text/x-python",
   "name": "python",
   "nbconvert_exporter": "python",
   "pygments_lexer": "ipython3",
   "version": "3.9.7"
  }
 },
 "nbformat": 4,
 "nbformat_minor": 5
}
