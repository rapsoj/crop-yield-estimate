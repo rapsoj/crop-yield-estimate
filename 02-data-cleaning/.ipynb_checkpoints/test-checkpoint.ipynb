{
 "cells": [
  {
   "cell_type": "code",
   "execution_count": 2,
   "id": "20db0950",
   "metadata": {},
   "outputs": [],
   "source": [
    "import os\n",
    "\n",
    "import pandas as pd\n",
    "import numpy as np\n",
    "import calendar\n",
    "from datetime import datetime\n",
    "\n",
    "import warnings\n",
    "warnings.filterwarnings(\"ignore\")\n",
    "\n",
    "os.chdir('/Users/jessicarapson/Documents/GitHub/crop-yield-estimate')\n",
    "\n",
    "import cleaning\n",
    "import feature_engineering\n",
    "\n",
    "train_path = \"data/Train.csv\"\n",
    "df_train = cleaning.clean_data(train_path)\n",
    "df_train = feature_engineering.get_features(df_train)\n",
    "\n",
    "test_path = \"data/Test.csv\"\n",
    "df_test = cleaning.clean_data(test_path)\n",
    "df_test = feature_engineering.get_features(df_test)"
   ]
  },
  {
   "cell_type": "code",
   "execution_count": 34,
   "id": "f321da8d",
   "metadata": {},
   "outputs": [],
   "source": [
    "#cols = list(df_train.columns)\n",
    "#i = 115"
   ]
  },
  {
   "cell_type": "code",
   "execution_count": 35,
   "id": "2399df60",
   "metadata": {},
   "outputs": [
    {
     "data": {
      "text/plain": [
       "'ThreshingDate_ModeDiff'"
      ]
     },
     "execution_count": 35,
     "metadata": {},
     "output_type": "execute_result"
    }
   ],
   "source": [
    "i -= 1\n",
    "cols[i]"
   ]
  },
  {
   "cell_type": "code",
   "execution_count": 33,
   "id": "475ea0c8",
   "metadata": {},
   "outputs": [
    {
     "name": "stdout",
     "output_type": "stream",
     "text": [
      "124.0    94\n",
      "106.0    92\n",
      "115.0    92\n",
      "121.0    91\n",
      "104.0    90\n",
      "         ..\n",
      "59.0      1\n",
      "156.0     1\n",
      "30.0      1\n",
      "181.0     1\n",
      "178.0     1\n",
      "Name: Days_bw_SowTransp_Harv, Length: 126, dtype: int64\n",
      "\n",
      "\n",
      "False    3870\n",
      "Name: Days_bw_SowTransp_Harv, dtype: int64\n",
      "\n",
      "\n",
      "count    3870.000000\n",
      "mean      109.738501\n",
      "std        19.430702\n",
      "min        28.000000\n",
      "25%        97.000000\n",
      "50%       111.000000\n",
      "75%       123.000000\n",
      "max       241.000000\n",
      "Name: Days_bw_SowTransp_Harv, dtype: float64\n"
     ]
    }
   ],
   "source": [
    "print(df_train[cols[i]].value_counts())\n",
    "print('\\n')\n",
    "print(df_train[cols[i]].isna().value_counts())\n",
    "print('\\n')\n",
    "print(df_train[cols[i]].describe())"
   ]
  },
  {
   "cell_type": "code",
   "execution_count": 17,
   "id": "82881a54",
   "metadata": {},
   "outputs": [],
   "source": [
    "#print(df_test[cols[i]].value_counts())\n",
    "#print('\\n')\n",
    "#print(df_test[cols[i]].isna().value_counts())\n",
    "#print('\\n')\n",
    "#print(df_test[cols[i]].describe())"
   ]
  },
  {
   "cell_type": "code",
   "execution_count": null,
   "id": "7507caed",
   "metadata": {},
   "outputs": [],
   "source": []
  }
 ],
 "metadata": {
  "kernelspec": {
   "display_name": "Python 3 (ipykernel)",
   "language": "python",
   "name": "python3"
  },
  "language_info": {
   "codemirror_mode": {
    "name": "ipython",
    "version": 3
   },
   "file_extension": ".py",
   "mimetype": "text/x-python",
   "name": "python",
   "nbconvert_exporter": "python",
   "pygments_lexer": "ipython3",
   "version": "3.9.7"
  }
 },
 "nbformat": 4,
 "nbformat_minor": 5
}
