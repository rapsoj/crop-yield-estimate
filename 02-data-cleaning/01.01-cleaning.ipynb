{
  "nbformat": 4,
  "nbformat_minor": 0,
  "metadata": {
    "colab": {
      "provenance": []
    },
    "kernelspec": {
      "name": "python3",
      "display_name": "Python 3"
    },
    "language_info": {
      "name": "python"
    }
  },
  "cells": [
    {
      "cell_type": "code",
      "execution_count": 78,
      "metadata": {
        "id": "MLl-vzPhgVw_"
      },
      "outputs": [],
      "source": [
        "import pandas as pd\n",
        "import numpy as np\n",
        "import plotly.express as px\n",
        "import plotly.io as pio\n",
        "import plotly.graph_objects as go\n",
        "import calendar\n",
        "from datetime import datetime\n",
        "pd.set_option('display.max_columns', None)\n",
        "\n",
        "import warnings\n",
        "warnings.filterwarnings(\"ignore\")"
      ]
    },
    {
      "cell_type": "code",
      "source": [
        "from google.colab import drive\n",
        "drive.mount('/content/gdrive')\n",
        "\n",
        "# directory\n",
        "%cd '/content/gdrive/My Drive/Oxford/ML_for_Social_Good'\n",
        "\n",
        "# import\n",
        "train = pd.read_csv(\"Train.csv\")\n",
        "test = pd.read_csv(\"Test.csv\")\n",
        "\n",
        "train[\"Set\"] = \"train\"\n",
        "test[\"Set\"] = \"test\"\n",
        "\n",
        "df = pd.concat([train, test])\n",
        "print(df.shape)"
      ],
      "metadata": {
        "colab": {
          "base_uri": "https://localhost:8080/"
        },
        "id": "GraWxTYtgciK",
        "outputId": "9392d855-223d-4fa6-dbec-fecc43002b98"
      },
      "execution_count": 79,
      "outputs": [
        {
          "output_type": "stream",
          "name": "stdout",
          "text": [
            "Drive already mounted at /content/gdrive; to attempt to forcibly remount, call drive.mount(\"/content/gdrive\", force_remount=True).\n",
            "/content/gdrive/My Drive/Oxford/ML_for_Social_Good\n",
            "(5160, 45)\n"
          ]
        }
      ]
    },
    {
      "cell_type": "code",
      "source": [
        "datetime_cols = [\"CropTillageDate\",\"RcNursEstDate\",\"SeedingSowingTransplanting\",\"Harv_date\",\"Threshing_date\"]\n",
        "\n",
        "for col in datetime_cols:\n",
        "  df[col] = pd.to_datetime(df[col])#.dt.date"
      ],
      "metadata": {
        "id": "vrKICzVjgclR"
      },
      "execution_count": 80,
      "outputs": []
    },
    {
      "cell_type": "code",
      "source": [
        "# One row has Jamui as district but Gurua as Block, which is a Gaya block -- correcting its District\n",
        "df.loc[(df[\"District\"]==\"Jamui\") & (df[\"Block\"]==\"Gurua\")].index\n",
        "df.loc[2177,\"District\"] = \"Gaya\""
      ],
      "metadata": {
        "id": "fXyE0JGRgcm3"
      },
      "execution_count": 81,
      "outputs": []
    },
    {
      "cell_type": "code",
      "source": [
        "# OUTLIERS -- first pass\n",
        "\n",
        "# SeedlingsPerPit has two extreme outliers (800 seedlings & 442 seedlings) --> replacing with the next max value for now (=22)\n",
        "df[\"SeedlingsPerPit\"] = df[\"SeedlingsPerPit\"].replace(800,22).replace(442,22)\n",
        "\n",
        "# TransplantingIrrigationHours\n",
        "df.loc[df[\"TransplantingIrrigationHours\"]>90][\"TransplantingIrrigationHours\"] = 90\n",
        "\n",
        "# TransIrriCost have several extreme outliers (e.g. 6000 rupees for an average sized land)\n",
        "#df[\"TransIrriCost\"] = df[\"TransIrriCost\"].replace(6000,3000)\n",
        "df.loc[df[\"TransIrriCost\"]>2500][\"TransIrriCost\"] = 2500\n",
        "\n",
        "# Ganaura\n",
        "df.loc[df[\"Ganaura\"]>140][\"Ganaura\"] = 140\n",
        "\n",
        "# 1appDaysUrea -- replacing extreme outlier with the next max value\n",
        "df[\"1appDaysUrea\"] = df[\"1appDaysUrea\"].replace(332,75)"
      ],
      "metadata": {
        "id": "DYQKwkMDgpRm"
      },
      "execution_count": 82,
      "outputs": []
    },
    {
      "cell_type": "code",
      "source": [
        "# PER-ACRE COLUMNS\n",
        "\n",
        "list_cols = [\"TransIrriCost\",\"Ganaura\",\"CropOrgFYM\",\"BasalDAP\",\"BasalUrea\",\"1tdUrea\",\"2tdUrea\",\"Harv_hand_rent\",\"Yield\"]\n",
        "\n",
        "for col in list_cols:\n",
        "  label = str(col) + \"_per_Acre\"\n",
        "  df[label] = df[col] / df[\"Acre\"]"
      ],
      "metadata": {
        "id": "uKKCpb_YgpT1"
      },
      "execution_count": 83,
      "outputs": []
    },
    {
      "cell_type": "code",
      "source": [
        "# Re-ordering columns and dropping the non-standardized ones\n",
        "df = df[['ID', 'Set', 'District', 'Block', 'LandPreparationMethod', 'CropTillageDate', 'CropTillageDepth','CropEstMethod', 'RcNursEstDate',\n",
        "         'SeedingSowingTransplanting','SeedlingsPerPit', 'NursDetFactor', 'TransDetFactor','TransplantingIrrigationHours', 'TransplantingIrrigationSource',\n",
        "         'TransplantingIrrigationPowerSource', 'TransIrriCost_per_Acre', 'StandingWater','OrgFertilizers', 'Ganaura_per_Acre', 'CropOrgFYM_per_Acre', 'PCropSolidOrgFertAppMethod',\n",
        "         'NoFertilizerAppln', 'CropbasalFerts', 'BasalDAP_per_Acre', 'BasalUrea_per_Acre','MineralFertAppMethod', 'FirstTopDressFert', '1tdUrea_per_Acre', '1appDaysUrea',\n",
        "         '2tdUrea_per_Acre', '2appDaysUrea', 'MineralFertAppMethod.1', 'Harv_method','Harv_date', 'Harv_hand_rent_per_Acre', 'Threshing_date', 'Threshing_method',\n",
        "         'Residue_length', 'Residue_perc', 'Stubble_use', 'Acre', 'Yield','Yield_per_Acre'\n",
        "         ]]"
      ],
      "metadata": {
        "id": "UmVvpz5lgcov"
      },
      "execution_count": 84,
      "outputs": []
    },
    {
      "cell_type": "code",
      "source": [
        "# PARSING MESSY CATEGORICAL VARIABLES\n",
        "\n",
        "# 1. LandPreparationMethod\n",
        "#methods = [\"TractorPlough\",\"FourWheelTracRotavator\",\"WetTillagePuddling\",\"BullockPlough\",\"Other\"]\n",
        "\n",
        "df[\"LandPrepMethod_TractorPlough\"] = df[\"LandPreparationMethod\"].str.contains(\"TractorPlough\")\n",
        "df[\"LandPrepMethod_FourWheelTracRotavator\"] = df[\"LandPreparationMethod\"].str.contains(\"FourWheelTracRotavator\")\n",
        "df[\"LandPrepMethod_WetTillagePuddling\"] = df[\"LandPreparationMethod\"].str.contains(\"WetTillagePuddling\")\n",
        "df[\"LandPrepMethod_BullockPlough\"] = df[\"LandPreparationMethod\"].str.contains(\"BullockPlough\")\n",
        "df[\"LandPrepMethod_Other\"] = df[\"LandPreparationMethod\"].str.contains(\"Other\")\n",
        "\n",
        "\n",
        "# 2. NursDetFactor\n",
        "#reasons = [\"CalendarDate\",\"PreMonsoonShowers\",\"IrrigWaterAvailability\",\"LabourAvailability\",\"SeedAvailability\"]\n",
        "\n",
        "df[\"NursDetFactor_CalendarDate\"] = df[\"NursDetFactor\"].str.contains(\"CalendarDate\")\n",
        "df[\"NursDetFactor_PreMonsoonShowers\"] = df[\"NursDetFactor\"].str.contains(\"PreMonsoonShowers\")\n",
        "df[\"NursDetFactor_IrrigWaterAvailability\"] = df[\"NursDetFactor\"].str.contains(\"IrrigWaterAvailability\")\n",
        "df[\"NursDetFactor_LabourAvailability\"] = df[\"NursDetFactor\"].str.contains(\"LabourAvailability\" or \"LaborAvailability\")\n",
        "df[\"NursDetFactor_SeedAvailability\"] = df[\"NursDetFactor\"].str.contains(\"SeedAvailability\")\n",
        "\n",
        "\n",
        "# 2. TransDetFactor\n",
        "#reasons = [\"LaborAvailability\",\"CalendarDate\",\"RainArrival\",\"IrrigWaterAvailability\",\"SeedlingAge\"] # I think that's all of them\n",
        "\n",
        "df[\"TransDetFactor_LabourAvailability\"] = df[\"TransDetFactor\"].str.contains(\"LabourAvailability\" or \"LaborAvailability\")\n",
        "df[\"TransDetFactor_CalendarDate\"] = df[\"TransDetFactor\"].str.contains(\"CalendarDate\")\n",
        "df[\"TransDetFactor_RainArrival\"] = df[\"TransDetFactor\"].str.contains(\"RainArrival\")\n",
        "df[\"TransDetFactor_IrrigWaterAvailability\"] = df[\"TransDetFactor\"].str.contains(\"IrrigWaterAvailability\")\n",
        "df[\"TransDetFactor_SeedlingAge\"] = df[\"TransDetFactor\"].str.contains(\"SeedlingAge\")\n",
        "\n",
        "\n",
        "# 3. CropbasalFerts\n",
        "df[\"CropbasalFerts\"] = df[\"CropbasalFerts\"].fillna(\"None\")\n",
        "fertilizer_types = [\"Urea\",\"DAP\",\"Other\",\"NPK\",\"MoP\",\"NPKS\",\"SSP\",\"None\"]\n",
        "\n",
        "for fertilizer in fertilizer_types:\n",
        "  label = \"CropbasalFerts_\" + fertilizer\n",
        "  df[label] = df[\"CropbasalFerts\"].str.contains(fertilizer)\n",
        "\n",
        "\n",
        "# 4. FirstTopDressFert\n",
        "fertilizer_types2 = [\"Urea\",\"DAP\",\"NPK\",\"NPKS\",\"SSP\",\"Other\"]\n",
        "\n",
        "for fertilizer in fertilizer_types2:\n",
        "  label = \"FirstTopDressFert_\" + fertilizer\n",
        "  df[label] = df[\"FirstTopDressFert\"].str.contains(fertilizer)\n",
        "\n",
        "\n",
        "# 5. OrgFertilizers\n",
        "orgfertilizers = [\"Ganaura\",\"FYM\",\"VermiCompost\",\"Pranamrit\",\"Ghanajeevamrit\",\"Jeevamrit\",\"PoultryManure\"]\n",
        "for fertilizer in orgfertilizers:\n",
        "  label = \"OrgFertilizers_\" + fertilizer\n",
        "  df[label] = df[\"OrgFertilizers\"].str.contains(fertilizer)\n",
        "\n",
        "\n",
        "# 6. Replacing all NaNs with False\n",
        "cols = ['LandPrepMethod_TractorPlough','LandPrepMethod_FourWheelTracRotavator','LandPrepMethod_WetTillagePuddling', 'LandPrepMethod_BullockPlough','LandPrepMethod_Other',\n",
        "        'NursDetFactor_CalendarDate','NursDetFactor_PreMonsoonShowers','NursDetFactor_IrrigWaterAvailability','NursDetFactor_LabourAvailability', 'NursDetFactor_SeedAvailability',\n",
        "        'TransDetFactor_LabourAvailability', 'TransDetFactor_CalendarDate','TransDetFactor_RainArrival', 'TransDetFactor_IrrigWaterAvailability','TransDetFactor_SeedlingAge',\n",
        "        'CropbasalFerts_Urea','CropbasalFerts_DAP', 'CropbasalFerts_Other', 'CropbasalFerts_NPK','CropbasalFerts_MoP', 'CropbasalFerts_NPKS', 'CropbasalFerts_SSP',\n",
        "        'CropbasalFerts_None', 'FirstTopDressFert_Urea','FirstTopDressFert_DAP', 'FirstTopDressFert_NPK','FirstTopDressFert_NPKS', 'FirstTopDressFert_SSP','FirstTopDressFert_Other',\n",
        "        'OrgFertilizers_Ganaura','OrgFertilizers_FYM', 'OrgFertilizers_VermiCompost','OrgFertilizers_Pranamrit', 'OrgFertilizers_Ghanajeevamrit','OrgFertilizers_Jeevamrit',\n",
        "        'OrgFertilizers_PoultryManure']\n",
        "\n",
        "for col in cols:\n",
        "  df[col] = df[col].fillna(False)"
      ],
      "metadata": {
        "id": "d_QgGXXCjWVZ"
      },
      "execution_count": 85,
      "outputs": []
    },
    {
      "cell_type": "code",
      "source": [
        "# checking\n",
        "test = df[['LandPrepMethod_TractorPlough','LandPrepMethod_FourWheelTracRotavator','LandPrepMethod_WetTillagePuddling', 'LandPrepMethod_BullockPlough','LandPrepMethod_Other',\n",
        "        'NursDetFactor_CalendarDate','NursDetFactor_PreMonsoonShowers','NursDetFactor_IrrigWaterAvailability','NursDetFactor_LabourAvailability', 'NursDetFactor_SeedAvailability',\n",
        "        'TransDetFactor_LabourAvailability', 'TransDetFactor_CalendarDate','TransDetFactor_RainArrival', 'TransDetFactor_IrrigWaterAvailability','TransDetFactor_SeedlingAge',\n",
        "        'CropbasalFerts_Urea','CropbasalFerts_DAP', 'CropbasalFerts_Other', 'CropbasalFerts_NPK','CropbasalFerts_MoP', 'CropbasalFerts_NPKS', 'CropbasalFerts_SSP',\n",
        "        'CropbasalFerts_None', 'FirstTopDressFert_Urea','FirstTopDressFert_DAP', 'FirstTopDressFert_NPK','FirstTopDressFert_NPKS', 'FirstTopDressFert_SSP','FirstTopDressFert_Other',\n",
        "        'OrgFertilizers_Ganaura','OrgFertilizers_FYM', 'OrgFertilizers_VermiCompost','OrgFertilizers_Pranamrit', 'OrgFertilizers_Ghanajeevamrit','OrgFertilizers_Jeevamrit',\n",
        "        'OrgFertilizers_PoultryManure']]\n",
        "\n",
        "test.isnull().sum()"
      ],
      "metadata": {
        "colab": {
          "base_uri": "https://localhost:8080/"
        },
        "id": "VqajDs_HzcKf",
        "outputId": "922e4099-abd3-46dc-a888-5e927db7676f"
      },
      "execution_count": 86,
      "outputs": [
        {
          "output_type": "execute_result",
          "data": {
            "text/plain": [
              "LandPrepMethod_TractorPlough             0\n",
              "LandPrepMethod_FourWheelTracRotavator    0\n",
              "LandPrepMethod_WetTillagePuddling        0\n",
              "LandPrepMethod_BullockPlough             0\n",
              "LandPrepMethod_Other                     0\n",
              "NursDetFactor_CalendarDate               0\n",
              "NursDetFactor_PreMonsoonShowers          0\n",
              "NursDetFactor_IrrigWaterAvailability     0\n",
              "NursDetFactor_LabourAvailability         0\n",
              "NursDetFactor_SeedAvailability           0\n",
              "TransDetFactor_LabourAvailability        0\n",
              "TransDetFactor_CalendarDate              0\n",
              "TransDetFactor_RainArrival               0\n",
              "TransDetFactor_IrrigWaterAvailability    0\n",
              "TransDetFactor_SeedlingAge               0\n",
              "CropbasalFerts_Urea                      0\n",
              "CropbasalFerts_DAP                       0\n",
              "CropbasalFerts_Other                     0\n",
              "CropbasalFerts_NPK                       0\n",
              "CropbasalFerts_MoP                       0\n",
              "CropbasalFerts_NPKS                      0\n",
              "CropbasalFerts_SSP                       0\n",
              "CropbasalFerts_None                      0\n",
              "FirstTopDressFert_Urea                   0\n",
              "FirstTopDressFert_DAP                    0\n",
              "FirstTopDressFert_NPK                    0\n",
              "FirstTopDressFert_NPKS                   0\n",
              "FirstTopDressFert_SSP                    0\n",
              "FirstTopDressFert_Other                  0\n",
              "OrgFertilizers_Ganaura                   0\n",
              "OrgFertilizers_FYM                       0\n",
              "OrgFertilizers_VermiCompost              0\n",
              "OrgFertilizers_Pranamrit                 0\n",
              "OrgFertilizers_Ghanajeevamrit            0\n",
              "OrgFertilizers_Jeevamrit                 0\n",
              "OrgFertilizers_PoultryManure             0\n",
              "dtype: int64"
            ]
          },
          "metadata": {},
          "execution_count": 86
        }
      ]
    },
    {
      "cell_type": "code",
      "source": [
        "print(df.OrgFertilizers.isnull().sum())\n",
        "print(df.FirstTopDressFert.isnull().sum())\n",
        "print(df.TransDetFactor.isnull().sum())"
      ],
      "metadata": {
        "colab": {
          "base_uri": "https://localhost:8080/"
        },
        "id": "J1Y0ccn1z3YJ",
        "outputId": "ab2a31e4-eff7-48be-e597-bf36eaf9de53"
      },
      "execution_count": 87,
      "outputs": [
        {
          "output_type": "stream",
          "name": "stdout",
          "text": [
            "1750\n",
            "634\n",
            "392\n"
          ]
        }
      ]
    },
    {
      "cell_type": "code",
      "source": [
        "# EXPORTING\n",
        "\n",
        "df.to_csv('cleaned_fulldf.csv',index=False)"
      ],
      "metadata": {
        "id": "O5GwH-TThpQF"
      },
      "execution_count": 88,
      "outputs": []
    }
  ]
}