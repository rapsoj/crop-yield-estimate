{
  "nbformat": 4,
  "nbformat_minor": 0,
  "metadata": {
    "colab": {
      "provenance": [],
      "collapsed_sections": [
        "D9E7HkkaLTgO",
        "eL2hmFHsLWhP",
        "ImyGIBI7LZfn",
        "MQny45fBLfQM",
        "hgXb37-8LkCP",
        "D_NnfC1NOGMu"
      ]
    },
    "kernelspec": {
      "name": "python3",
      "display_name": "Python 3"
    },
    "language_info": {
      "name": "python"
    }
  },
  "cells": [
    {
      "cell_type": "markdown",
      "source": [
        "#### Import"
      ],
      "metadata": {
        "id": "D9E7HkkaLTgO"
      }
    },
    {
      "cell_type": "code",
      "source": [
        "#!pip install pingouin"
      ],
      "metadata": {
        "id": "b-FsWeb4OyIN"
      },
      "execution_count": 157,
      "outputs": []
    },
    {
      "cell_type": "code",
      "execution_count": 158,
      "metadata": {
        "id": "MLl-vzPhgVw_"
      },
      "outputs": [],
      "source": [
        "import pandas as pd\n",
        "import numpy as np\n",
        "import plotly.express as px\n",
        "import plotly.io as pio\n",
        "import plotly.graph_objects as go\n",
        "import calendar\n",
        "#import pingouin as pg\n",
        "from datetime import datetime\n",
        "pd.set_option('display.max_columns', None)\n",
        "\n",
        "import warnings\n",
        "warnings.filterwarnings(\"ignore\")"
      ]
    },
    {
      "cell_type": "code",
      "source": [
        "from google.colab import drive\n",
        "drive.mount('/content/gdrive')\n",
        "\n",
        "# directory\n",
        "%cd '/content/gdrive/My Drive/Oxford/ML_for_Social_Good'\n",
        "\n",
        "# import\n",
        "train = pd.read_csv(\"Train.csv\")\n",
        "test = pd.read_csv(\"Test.csv\")\n",
        "\n",
        "train[\"Set\"] = \"train\"\n",
        "test[\"Set\"] = \"test\"\n",
        "\n",
        "df = pd.concat([train, test])\n",
        "print(df.shape)"
      ],
      "metadata": {
        "colab": {
          "base_uri": "https://localhost:8080/"
        },
        "id": "GraWxTYtgciK",
        "outputId": "30976730-2e3c-4ced-e21d-53a6d30b286f"
      },
      "execution_count": 159,
      "outputs": [
        {
          "output_type": "stream",
          "name": "stdout",
          "text": [
            "Drive already mounted at /content/gdrive; to attempt to forcibly remount, call drive.mount(\"/content/gdrive\", force_remount=True).\n",
            "/content/gdrive/My Drive/Oxford/ML_for_Social_Good\n",
            "(5160, 45)\n"
          ]
        }
      ]
    },
    {
      "cell_type": "markdown",
      "source": [
        "#### Basic adjustments"
      ],
      "metadata": {
        "id": "eL2hmFHsLWhP"
      }
    },
    {
      "cell_type": "code",
      "source": [
        "datetime_cols = [\"CropTillageDate\",\"RcNursEstDate\",\"SeedingSowingTransplanting\",\"Harv_date\",\"Threshing_date\"]\n",
        "\n",
        "for col in datetime_cols:\n",
        "  df[col] = pd.to_datetime(df[col])#.dt.date"
      ],
      "metadata": {
        "id": "vrKICzVjgclR"
      },
      "execution_count": 160,
      "outputs": []
    },
    {
      "cell_type": "code",
      "source": [
        "# One row has Jamui as district but Gurua as Block, which is a Gaya block -- correcting its District\n",
        "df.loc[(df[\"District\"]==\"Jamui\") & (df[\"Block\"]==\"Gurua\")].index\n",
        "df.loc[2177,\"District\"] = \"Gaya\""
      ],
      "metadata": {
        "id": "fXyE0JGRgcm3"
      },
      "execution_count": 161,
      "outputs": []
    },
    {
      "cell_type": "markdown",
      "source": [
        "#### Outliers"
      ],
      "metadata": {
        "id": "ImyGIBI7LZfn"
      }
    },
    {
      "cell_type": "code",
      "source": [
        "# OUTLIERS -- first pass\n",
        "\n",
        "# SeedlingsPerPit has two extreme outliers (800 seedlings & 442 seedlings) -- replacing with the next max value (22)\n",
        "#df[\"SeedlingsPerPit\"] = df[\"SeedlingsPerPit\"].replace(800,22).replace(442,22)\n",
        "df.loc[df[\"SeedlingsPerPit\"]>22, \"SeedlingsPerPit\"] = 22\n",
        "\n",
        "# TransplantingIrrigationHours -- capping at 450\n",
        "df.loc[df[\"TransplantingIrrigationHours\"]>450, \"TransplantingIrrigationHours\"] = 450\n",
        "\n",
        "# TransIrriCost have several extreme outliers (e.g. 6000 rupees for an average sized land) -- capping at 3000\n",
        "df.loc[df[\"TransIrriCost\"]>3000, \"TransIrriCost\"] = 3000\n",
        "\n",
        "# Ganaura -- making a capped version at 50 (already way above the upper fence), and leaving the raw variable to compare\n",
        "df.loc[df[\"Ganaura\"]>50, \"Ganaura_capped\"] = 50\n",
        "\n",
        "# 1appDaysUrea -- replacing extreme outlier with the next max value\n",
        "df[\"1appDaysUrea\"] = df[\"1appDaysUrea\"].replace(332,75)\n",
        "\n",
        "# Harv_hand_rent -- capping at 20000 (there are 2 values above that) (upper fence is at 1500, so 20000 is conservative)\n",
        "df.loc[df[\"Harv_hand_rent\"]>20000, \"Harv_hand_rent\"] = 20000"
      ],
      "metadata": {
        "id": "DYQKwkMDgpRm"
      },
      "execution_count": 162,
      "outputs": []
    },
    {
      "cell_type": "markdown",
      "source": [
        "#### Per_Acre columns"
      ],
      "metadata": {
        "id": "MQny45fBLfQM"
      }
    },
    {
      "cell_type": "code",
      "source": [
        "# PER-ACRE COLUMNS\n",
        "\n",
        "list_cols = [\"TransIrriCost\",\"Ganaura\",\"CropOrgFYM\",\"BasalDAP\",\"BasalUrea\",\"1tdUrea\",\"2tdUrea\",\"Harv_hand_rent\",\"Yield\"]\n",
        "\n",
        "for col in list_cols:\n",
        "  label = str(col) + \"_per_Acre\"\n",
        "  df[label] = df[col] / df[\"Acre\"]"
      ],
      "metadata": {
        "id": "uKKCpb_YgpT1"
      },
      "execution_count": 163,
      "outputs": []
    },
    {
      "cell_type": "code",
      "source": [
        "# Re-ordering columns and dropping the non-standardized ones\n",
        "df = df[['ID', 'Set', 'District', 'Block', 'LandPreparationMethod', 'CropTillageDate', 'CropTillageDepth','CropEstMethod', 'RcNursEstDate',\n",
        "         'SeedingSowingTransplanting','SeedlingsPerPit', 'NursDetFactor', 'TransDetFactor','TransplantingIrrigationHours', 'TransplantingIrrigationSource',\n",
        "         'TransplantingIrrigationPowerSource', \"TransIrriCost\", 'TransIrriCost_per_Acre', 'StandingWater','OrgFertilizers', 'Ganaura', 'Ganaura_per_Acre', 'CropOrgFYM',\n",
        "         'CropOrgFYM_per_Acre', 'PCropSolidOrgFertAppMethod', 'NoFertilizerAppln', 'CropbasalFerts', \"BasalDAP\", 'BasalDAP_per_Acre', \"BasalUrea\", 'BasalUrea_per_Acre',\n",
        "         'MineralFertAppMethod', 'FirstTopDressFert', \"1tdUrea\",'1tdUrea_per_Acre', '1appDaysUrea', \"2tdUrea\", '2tdUrea_per_Acre', '2appDaysUrea', 'MineralFertAppMethod.1',\n",
        "         'Harv_method', 'Harv_date', \"Harv_hand_rent\", 'Harv_hand_rent_per_Acre', 'Threshing_date', 'Threshing_method','Residue_length', 'Residue_perc', 'Stubble_use',\n",
        "         'Acre', 'Yield','Yield_per_Acre'\n",
        "         ]]"
      ],
      "metadata": {
        "id": "UmVvpz5lgcov"
      },
      "execution_count": 164,
      "outputs": []
    },
    {
      "cell_type": "markdown",
      "source": [
        "#### Parsing messy categorical variables"
      ],
      "metadata": {
        "id": "hgXb37-8LkCP"
      }
    },
    {
      "cell_type": "code",
      "source": [
        "# PARSING MESSY CATEGORICAL VARIABLES\n",
        "\n",
        "# 1. LandPreparationMethod\n",
        "#methods = [\"TractorPlough\",\"FourWheelTracRotavator\",\"WetTillagePuddling\",\"BullockPlough\",\"Other\"]\n",
        "\n",
        "df[\"LandPrepMethod_TractorPlough\"] = df[\"LandPreparationMethod\"].str.contains(\"TractorPlough\")\n",
        "df[\"LandPrepMethod_FourWheelTracRotavator\"] = df[\"LandPreparationMethod\"].str.contains(\"FourWheelTracRotavator\")\n",
        "df[\"LandPrepMethod_WetTillagePuddling\"] = df[\"LandPreparationMethod\"].str.contains(\"WetTillagePuddling\")\n",
        "df[\"LandPrepMethod_BullockPlough\"] = df[\"LandPreparationMethod\"].str.contains(\"BullockPlough\")\n",
        "df[\"LandPrepMethod_Other\"] = df[\"LandPreparationMethod\"].str.contains(\"Other\")\n",
        "\n",
        "\n",
        "# 2. NursDetFactor\n",
        "#reasons = [\"CalendarDate\",\"PreMonsoonShowers\",\"IrrigWaterAvailability\",\"LabourAvailability\",\"SeedAvailability\"]\n",
        "\n",
        "df[\"NursDetFactor_CalendarDate\"] = df[\"NursDetFactor\"].str.contains(\"CalendarDate\")\n",
        "df[\"NursDetFactor_PreMonsoonShowers\"] = df[\"NursDetFactor\"].str.contains(\"PreMonsoonShowers\")\n",
        "df[\"NursDetFactor_IrrigWaterAvailability\"] = df[\"NursDetFactor\"].str.contains(\"IrrigWaterAvailability\")\n",
        "df[\"NursDetFactor_LabourAvailability\"] = df[\"NursDetFactor\"].str.contains(\"LabourAvailability\" or \"LaborAvailability\")\n",
        "df[\"NursDetFactor_SeedAvailability\"] = df[\"NursDetFactor\"].str.contains(\"SeedAvailability\")\n",
        "\n",
        "\n",
        "# 2. TransDetFactor\n",
        "#reasons = [\"LaborAvailability\",\"CalendarDate\",\"RainArrival\",\"IrrigWaterAvailability\",\"SeedlingAge\"] # I think that's all of them\n",
        "\n",
        "df[\"TransDetFactor_LabourAvailability\"] = df[\"TransDetFactor\"].str.contains(\"LabourAvailability\" or \"LaborAvailability\")\n",
        "df[\"TransDetFactor_CalendarDate\"] = df[\"TransDetFactor\"].str.contains(\"CalendarDate\")\n",
        "df[\"TransDetFactor_RainArrival\"] = df[\"TransDetFactor\"].str.contains(\"RainArrival\")\n",
        "df[\"TransDetFactor_IrrigWaterAvailability\"] = df[\"TransDetFactor\"].str.contains(\"IrrigWaterAvailability\")\n",
        "df[\"TransDetFactor_SeedlingAge\"] = df[\"TransDetFactor\"].str.contains(\"SeedlingAge\")\n",
        "\n",
        "\n",
        "# 3. CropbasalFerts\n",
        "df[\"CropbasalFerts\"] = df[\"CropbasalFerts\"].fillna(\"None\")\n",
        "fertilizer_types = [\"Urea\",\"DAP\",\"Other\",\"NPK\",\"MoP\",\"NPKS\",\"SSP\",\"None\"]\n",
        "\n",
        "for fertilizer in fertilizer_types:\n",
        "  label = \"CropbasalFerts_\" + fertilizer\n",
        "  df[label] = df[\"CropbasalFerts\"].str.contains(fertilizer)\n",
        "\n",
        "\n",
        "# 4. FirstTopDressFert\n",
        "df[\"FirstTopDressFert\"] = df[\"FirstTopDressFert\"].fillna(\"None\")\n",
        "fertilizer_types2 = [\"Urea\",\"DAP\",\"NPK\",\"NPKS\",\"SSP\",\"Other\"]\n",
        "\n",
        "for fertilizer in fertilizer_types2:\n",
        "  label = \"FirstTopDressFert_\" + fertilizer\n",
        "  df[label] = df[\"FirstTopDressFert\"].str.contains(fertilizer)\n",
        "\n",
        "\n",
        "# 5. OrgFertilizers\n",
        "df[\"OrgFertilizers\"] = df[\"OrgFertilizers\"].fillna(\"None\")\n",
        "orgfertilizers = [\"Ganaura\",\"FYM\",\"VermiCompost\",\"Pranamrit\",\"Ghanajeevamrit\",\"Jeevamrit\",\"PoultryManure\"]\n",
        "for fertilizer in orgfertilizers:\n",
        "  label = \"OrgFertilizers_\" + fertilizer\n",
        "  df[label] = df[\"OrgFertilizers\"].str.contains(fertilizer)\n",
        "\n",
        "\n",
        "# 6. Replacing all NaNs with False\n",
        "cols = ['LandPrepMethod_TractorPlough','LandPrepMethod_FourWheelTracRotavator','LandPrepMethod_WetTillagePuddling', 'LandPrepMethod_BullockPlough','LandPrepMethod_Other',\n",
        "        'NursDetFactor_CalendarDate','NursDetFactor_PreMonsoonShowers','NursDetFactor_IrrigWaterAvailability','NursDetFactor_LabourAvailability', 'NursDetFactor_SeedAvailability',\n",
        "        'TransDetFactor_LabourAvailability', 'TransDetFactor_CalendarDate','TransDetFactor_RainArrival', 'TransDetFactor_IrrigWaterAvailability','TransDetFactor_SeedlingAge',\n",
        "        'CropbasalFerts_Urea','CropbasalFerts_DAP', 'CropbasalFerts_Other', 'CropbasalFerts_NPK','CropbasalFerts_MoP', 'CropbasalFerts_NPKS', 'CropbasalFerts_SSP',\n",
        "        'CropbasalFerts_None', 'FirstTopDressFert_Urea','FirstTopDressFert_DAP', 'FirstTopDressFert_NPK','FirstTopDressFert_NPKS', 'FirstTopDressFert_SSP','FirstTopDressFert_Other',\n",
        "        'OrgFertilizers_Ganaura','OrgFertilizers_FYM', 'OrgFertilizers_VermiCompost','OrgFertilizers_Pranamrit', 'OrgFertilizers_Ghanajeevamrit','OrgFertilizers_Jeevamrit',\n",
        "        'OrgFertilizers_PoultryManure']\n",
        "\n",
        "for col in cols:\n",
        "  df[col] = df[col].fillna(False)"
      ],
      "metadata": {
        "id": "d_QgGXXCjWVZ"
      },
      "execution_count": 165,
      "outputs": []
    },
    {
      "cell_type": "markdown",
      "source": [
        "#### Missing values"
      ],
      "metadata": {
        "id": "yUcLtXE-Lmoi"
      }
    },
    {
      "cell_type": "code",
      "source": [
        "# For 1appDaysUrea, 2appDaysUrea, in most cases NaN means there was so 2nd or 3rd dose, so NaN is appropriate.\n",
        "# For a couple rows, however, there was a 2nd or 3rd dose (as indicated by 1tdUrea and 2tdUrea) but the number of days value is missing, in which case they probably need imputation\n",
        "\n",
        "# For rows where XappDaysUrea is NaN but XtdUrea is not NaN, impute with block median\n",
        "subset = df.loc[(df[\"Block\"]==\"Rajgir\")]\n",
        "df.loc[(df[\"1appDaysUrea\"].isnull()==True) & (df[\"1tdUrea\"].isnull()==False), \"1appDaysUrea\"] = subset[\"1tdUrea\"].median()\n",
        "\n",
        "subset = df.loc[(df[\"Block\"]==\"Gurua\")]\n",
        "df.loc[(df[\"2appDaysUrea\"].isnull()==True) & (df[\"2tdUrea\"].isnull()==False), \"2appDaysUrea\"] = subset[\"2tdUrea\"].median()\n",
        "\n",
        "# Imputing with full sample medians\n",
        "#df.loc[(df[\"1appDaysUrea\"].isnull()==True) & (df[\"1tdUrea\"]!=0), \"1appDaysUrea\"] = df[\"1appDaysUrea\"].median()\n",
        "#df.loc[(df[\"2appDaysUrea\"].isnull()==True) & (df[\"2tdUrea\"]!=0), \"2appDaysUrea\"] = df[\"2appDaysUrea\"].median()\n"
      ],
      "metadata": {
        "id": "QEF0ECXLLpyN"
      },
      "execution_count": 166,
      "outputs": []
    },
    {
      "cell_type": "code",
      "source": [
        "# Replacing NaN with 0 for columns where it makes sense\n",
        "fillna0 = [\"2tdUrea\",\"1tdUrea\",\"Harv_hand_rent\",\"Ganaura\",\"CropOrgFYM\",\"BasalDAP\",\"BasalUrea\"]\n",
        "for col in fillna0:\n",
        "  df[col] = df[col].fillna(0)\n",
        "\n",
        "# Creating a new variable counting the number of missing values for each row (excluding outcome variables)\n",
        "df[\"Nb_of_NaN\"] = df.drop(columns=[\"Yield\",\"Yield_per_Acre\"]).isnull().sum(axis=1)\n",
        "# in case that's useful to define a threshold and drop rows that are too incomplete\n",
        "print(df.loc[df[\"Nb_of_NaN\"]>10].shape[0], \"rows have over 10 missing values\")\n",
        "# updated thought: a bunch of NaNs are actually meaningful, so I don't think defining a threshold is useful"
      ],
      "metadata": {
        "colab": {
          "base_uri": "https://localhost:8080/"
        },
        "id": "_cLoPrYjNcYP",
        "outputId": "1a4df318-f228-49c8-fd49-660d4da08264"
      },
      "execution_count": 167,
      "outputs": [
        {
          "output_type": "stream",
          "name": "stdout",
          "text": [
            "225 rows have over 10 missing values\n"
          ]
        }
      ]
    },
    {
      "cell_type": "code",
      "source": [
        "# For TransplantingIrrigationHours, TransplantingIrrigationSource, and TransplantingIrrigationPowerSource; no significant statistical difference between NaNs and non-NaNs on yields.\n",
        "\n",
        "print(\"TransplantingIrrigationSource - Number of NaNs before imputation: \", df[\"TransplantingIrrigationSource\"].isnull().sum())\n",
        "print(\"TransplantingIrrigationPowerSource - Number of NaNs before imputation: \", df[\"TransplantingIrrigationPowerSource\"].isnull().sum())\n",
        "print(\"TransplantingIrrigationHours - Number of NaNs before imputation: \", df[\"TransplantingIrrigationHours\"].isnull().sum())\n",
        "\n",
        "# For TransplantingIrrigationSource and TransplantingIrrigationPowerSource, imputing missing values with most common category (mode)\n",
        "df.loc[df[\"TransplantingIrrigationSource\"].isnull()==True, \"TransplantingIrrigationSource\"] = df[\"TransplantingIrrigationSource\"].mode()\n",
        "df.loc[df[\"TransplantingIrrigationPowerSource\"].isnull()==True, \"TransplantingIrrigationPowerSource\"] = df[\"TransplantingIrrigationPowerSource\"].mode()\n",
        "\n",
        "# For TransplantingIrrigationHours, imputing missing values with the median\n",
        "df.loc[df[\"TransplantingIrrigationHours\"].isnull()==True, \"TransplantingIrrigationHours\"] = df[\"TransplantingIrrigationHours\"].median()"
      ],
      "metadata": {
        "colab": {
          "base_uri": "https://localhost:8080/"
        },
        "id": "eZ3yYUlWhOmK",
        "outputId": "be3936cb-1923-4687-97e6-559b1b5e4f49"
      },
      "execution_count": 168,
      "outputs": [
        {
          "output_type": "stream",
          "name": "stdout",
          "text": [
            "TransplantingIrrigationSource - Number of NaNs before imputation:  161\n",
            "TransplantingIrrigationPowerSource - Number of NaNs before imputation:  674\n",
            "TransplantingIrrigationHours - Number of NaNs before imputation:  270\n"
          ]
        }
      ]
    },
    {
      "cell_type": "markdown",
      "source": [
        "Remaining variables with NaNs:\n",
        "- RcNursEstDate: statistically significant difference between rows with missing values vs. not in this variable, so leaving NaNs alone for now\n",
        "- SeedlingsPerPit: same thing\n",
        "- NursDetFactor: same thing\n",
        "- TransIrriCost: same thing\n",
        "- StandingWater: same thing"
      ],
      "metadata": {
        "id": "SaE0UgIiLrlu"
      }
    },
    {
      "cell_type": "markdown",
      "source": [
        "#### Exporting cleaned df"
      ],
      "metadata": {
        "id": "D_NnfC1NOGMu"
      }
    },
    {
      "cell_type": "code",
      "source": [
        "# Dropping messy cols\n",
        "df = df.drop(columns=[\"LandPreparationMethod\",\"NursDetFactor\",\"TransDetFactor\",\"OrgFertilizers\",\"CropbasalFerts\",\"FirstTopDressFert\"])"
      ],
      "metadata": {
        "id": "PQ32enJ1m_EP"
      },
      "execution_count": 169,
      "outputs": []
    },
    {
      "cell_type": "code",
      "source": [
        "# EXPORTING\n",
        "\n",
        "# V1: full cleaned df\n",
        "df.to_csv('cleaned_fulldf.csv',index=False)\n",
        "\n",
        "# V2: per Acre df (dropping the raw variables)\n",
        "#df.copy().drop(columns=[\"TransIrriCost\",\"Ganaura\",\"CropOrgFYM\",\"BasalDAP\",\"BasalUrea\",\"1tdUrea\",\"2tdUrea\",\"Harv_hand_rent\",\"Yield\"]).to_csv('peracre_df.csv',index=False)\n",
        "\n",
        "# V2: per Acre df (dropping the raw variables)\n",
        "#df.copy().drop(columns=[\"TransIrriCost_per_Acre\",\"Ganaura_per_Acre\",\"CropOrgFYM_per_Acre\",\"BasalDAP_per_Acre\",\"BasalUrea_per_Acre\",\"1tdUrea_per_Acre\",\"2tdUrea_per_Acre\",\n",
        "#                        \"Harv_hand_rent_per_Acre\",\"Yield_per_Acre\"]).to_csv('rawyield_df.csv',index=False)"
      ],
      "metadata": {
        "id": "O5GwH-TThpQF"
      },
      "execution_count": 170,
      "outputs": []
    },
    {
      "cell_type": "code",
      "source": [
        "df.shape"
      ],
      "metadata": {
        "colab": {
          "base_uri": "https://localhost:8080/"
        },
        "id": "XwbT7oermE3h",
        "outputId": "0b2abb23-5db9-4d51-c879-800301e1f109"
      },
      "execution_count": 171,
      "outputs": [
        {
          "output_type": "execute_result",
          "data": {
            "text/plain": [
              "(5160, 83)"
            ]
          },
          "metadata": {},
          "execution_count": 171
        }
      ]
    }
  ]
}