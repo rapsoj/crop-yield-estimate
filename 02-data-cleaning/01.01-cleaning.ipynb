{
  "nbformat": 4,
  "nbformat_minor": 0,
  "metadata": {
    "colab": {
      "provenance": [],
      "collapsed_sections": [
        "6l1SJp3WGKFJ"
      ]
    },
    "kernelspec": {
      "name": "python3",
      "display_name": "Python 3"
    },
    "language_info": {
      "name": "python"
    }
  },
  "cells": [
    {
      "cell_type": "code",
      "source": [
        "#!pip install pingouin"
      ],
      "metadata": {
        "colab": {
          "base_uri": "https://localhost:8080/"
        },
        "id": "b-FsWeb4OyIN",
        "outputId": "b835e7e7-c3b8-46b7-d1c8-a56899a68b91"
      },
      "execution_count": 102,
      "outputs": [
        {
          "output_type": "stream",
          "name": "stdout",
          "text": [
            "Requirement already satisfied: pingouin in /usr/local/lib/python3.10/dist-packages (0.5.3)\n",
            "Requirement already satisfied: numpy>=1.19 in /usr/local/lib/python3.10/dist-packages (from pingouin) (1.23.5)\n",
            "Requirement already satisfied: scipy>=1.7 in /usr/local/lib/python3.10/dist-packages (from pingouin) (1.11.3)\n",
            "Requirement already satisfied: pandas>=1.0 in /usr/local/lib/python3.10/dist-packages (from pingouin) (1.5.3)\n",
            "Requirement already satisfied: matplotlib>=3.0.2 in /usr/local/lib/python3.10/dist-packages (from pingouin) (3.7.1)\n",
            "Requirement already satisfied: seaborn>=0.11 in /usr/local/lib/python3.10/dist-packages (from pingouin) (0.12.2)\n",
            "Requirement already satisfied: statsmodels>=0.13 in /usr/local/lib/python3.10/dist-packages (from pingouin) (0.14.0)\n",
            "Requirement already satisfied: scikit-learn in /usr/local/lib/python3.10/dist-packages (from pingouin) (1.2.2)\n",
            "Requirement already satisfied: pandas-flavor>=0.2.0 in /usr/local/lib/python3.10/dist-packages (from pingouin) (0.6.0)\n",
            "Requirement already satisfied: outdated in /usr/local/lib/python3.10/dist-packages (from pingouin) (0.2.2)\n",
            "Requirement already satisfied: tabulate in /usr/local/lib/python3.10/dist-packages (from pingouin) (0.9.0)\n",
            "Requirement already satisfied: contourpy>=1.0.1 in /usr/local/lib/python3.10/dist-packages (from matplotlib>=3.0.2->pingouin) (1.1.1)\n",
            "Requirement already satisfied: cycler>=0.10 in /usr/local/lib/python3.10/dist-packages (from matplotlib>=3.0.2->pingouin) (0.12.1)\n",
            "Requirement already satisfied: fonttools>=4.22.0 in /usr/local/lib/python3.10/dist-packages (from matplotlib>=3.0.2->pingouin) (4.43.1)\n",
            "Requirement already satisfied: kiwisolver>=1.0.1 in /usr/local/lib/python3.10/dist-packages (from matplotlib>=3.0.2->pingouin) (1.4.5)\n",
            "Requirement already satisfied: packaging>=20.0 in /usr/local/lib/python3.10/dist-packages (from matplotlib>=3.0.2->pingouin) (23.2)\n",
            "Requirement already satisfied: pillow>=6.2.0 in /usr/local/lib/python3.10/dist-packages (from matplotlib>=3.0.2->pingouin) (9.4.0)\n",
            "Requirement already satisfied: pyparsing>=2.3.1 in /usr/local/lib/python3.10/dist-packages (from matplotlib>=3.0.2->pingouin) (3.1.1)\n",
            "Requirement already satisfied: python-dateutil>=2.7 in /usr/local/lib/python3.10/dist-packages (from matplotlib>=3.0.2->pingouin) (2.8.2)\n",
            "Requirement already satisfied: pytz>=2020.1 in /usr/local/lib/python3.10/dist-packages (from pandas>=1.0->pingouin) (2023.3.post1)\n",
            "Requirement already satisfied: xarray in /usr/local/lib/python3.10/dist-packages (from pandas-flavor>=0.2.0->pingouin) (2023.7.0)\n",
            "Requirement already satisfied: patsy>=0.5.2 in /usr/local/lib/python3.10/dist-packages (from statsmodels>=0.13->pingouin) (0.5.3)\n",
            "Requirement already satisfied: setuptools>=44 in /usr/local/lib/python3.10/dist-packages (from outdated->pingouin) (67.7.2)\n",
            "Requirement already satisfied: littleutils in /usr/local/lib/python3.10/dist-packages (from outdated->pingouin) (0.2.2)\n",
            "Requirement already satisfied: requests in /usr/local/lib/python3.10/dist-packages (from outdated->pingouin) (2.31.0)\n",
            "Requirement already satisfied: joblib>=1.1.1 in /usr/local/lib/python3.10/dist-packages (from scikit-learn->pingouin) (1.3.2)\n",
            "Requirement already satisfied: threadpoolctl>=2.0.0 in /usr/local/lib/python3.10/dist-packages (from scikit-learn->pingouin) (3.2.0)\n",
            "Requirement already satisfied: six in /usr/local/lib/python3.10/dist-packages (from patsy>=0.5.2->statsmodels>=0.13->pingouin) (1.16.0)\n",
            "Requirement already satisfied: charset-normalizer<4,>=2 in /usr/local/lib/python3.10/dist-packages (from requests->outdated->pingouin) (3.3.1)\n",
            "Requirement already satisfied: idna<4,>=2.5 in /usr/local/lib/python3.10/dist-packages (from requests->outdated->pingouin) (3.4)\n",
            "Requirement already satisfied: urllib3<3,>=1.21.1 in /usr/local/lib/python3.10/dist-packages (from requests->outdated->pingouin) (2.0.7)\n",
            "Requirement already satisfied: certifi>=2017.4.17 in /usr/local/lib/python3.10/dist-packages (from requests->outdated->pingouin) (2023.7.22)\n"
          ]
        }
      ]
    },
    {
      "cell_type": "code",
      "execution_count": 103,
      "metadata": {
        "id": "MLl-vzPhgVw_"
      },
      "outputs": [],
      "source": [
        "import pandas as pd\n",
        "import numpy as np\n",
        "import plotly.express as px\n",
        "import plotly.io as pio\n",
        "import plotly.graph_objects as go\n",
        "import calendar\n",
        "#import pingouin as pg\n",
        "from datetime import datetime\n",
        "pd.set_option('display.max_columns', None)\n",
        "\n",
        "import warnings\n",
        "warnings.filterwarnings(\"ignore\")"
      ]
    },
    {
      "cell_type": "code",
      "source": [
        "from google.colab import drive\n",
        "drive.mount('/content/gdrive')\n",
        "\n",
        "# directory\n",
        "%cd '/content/gdrive/My Drive/Oxford/ML_for_Social_Good'\n",
        "\n",
        "# import\n",
        "train = pd.read_csv(\"Train.csv\")\n",
        "test = pd.read_csv(\"Test.csv\")\n",
        "\n",
        "train[\"Set\"] = \"train\"\n",
        "test[\"Set\"] = \"test\"\n",
        "\n",
        "df = pd.concat([train, test])\n",
        "print(df.shape)"
      ],
      "metadata": {
        "colab": {
          "base_uri": "https://localhost:8080/"
        },
        "id": "GraWxTYtgciK",
        "outputId": "088782c3-079d-4f89-bfdd-c8e636d5a1ad"
      },
      "execution_count": 111,
      "outputs": [
        {
          "output_type": "stream",
          "name": "stdout",
          "text": [
            "Drive already mounted at /content/gdrive; to attempt to forcibly remount, call drive.mount(\"/content/gdrive\", force_remount=True).\n",
            "/content/gdrive/My Drive/Oxford/ML_for_Social_Good\n",
            "(5160, 45)\n"
          ]
        }
      ]
    },
    {
      "cell_type": "code",
      "source": [
        "datetime_cols = [\"CropTillageDate\",\"RcNursEstDate\",\"SeedingSowingTransplanting\",\"Harv_date\",\"Threshing_date\"]\n",
        "\n",
        "for col in datetime_cols:\n",
        "  df[col] = pd.to_datetime(df[col])#.dt.date"
      ],
      "metadata": {
        "id": "vrKICzVjgclR"
      },
      "execution_count": 112,
      "outputs": []
    },
    {
      "cell_type": "code",
      "source": [
        "# One row has Jamui as district but Gurua as Block, which is a Gaya block -- correcting its District\n",
        "df.loc[(df[\"District\"]==\"Jamui\") & (df[\"Block\"]==\"Gurua\")].index\n",
        "df.loc[2177,\"District\"] = \"Gaya\""
      ],
      "metadata": {
        "id": "fXyE0JGRgcm3"
      },
      "execution_count": 113,
      "outputs": []
    },
    {
      "cell_type": "code",
      "source": [
        "# OUTLIERS -- first pass\n",
        "\n",
        "# SeedlingsPerPit has two extreme outliers (800 seedlings & 442 seedlings) --> replacing with the next max value for now (=22)\n",
        "df[\"SeedlingsPerPit\"] = df[\"SeedlingsPerPit\"].replace(800,22).replace(442,22)\n",
        "\n",
        "# TransplantingIrrigationHours\n",
        "df.loc[df[\"TransplantingIrrigationHours\"]>90][\"TransplantingIrrigationHours\"] = 90\n",
        "\n",
        "# TransIrriCost have several extreme outliers (e.g. 6000 rupees for an average sized land)\n",
        "#df[\"TransIrriCost\"] = df[\"TransIrriCost\"].replace(6000,3000)\n",
        "df.loc[df[\"TransIrriCost\"]>2500][\"TransIrriCost\"] = 2500\n",
        "\n",
        "# Ganaura\n",
        "df.loc[df[\"Ganaura\"]>140][\"Ganaura\"] = 140\n",
        "\n",
        "# 1appDaysUrea -- replacing extreme outlier with the next max value\n",
        "df[\"1appDaysUrea\"] = df[\"1appDaysUrea\"].replace(332,75)"
      ],
      "metadata": {
        "id": "DYQKwkMDgpRm"
      },
      "execution_count": 114,
      "outputs": []
    },
    {
      "cell_type": "code",
      "source": [
        "# PER-ACRE COLUMNS\n",
        "\n",
        "list_cols = [\"TransIrriCost\",\"Ganaura\",\"CropOrgFYM\",\"BasalDAP\",\"BasalUrea\",\"1tdUrea\",\"2tdUrea\",\"Harv_hand_rent\",\"Yield\"]\n",
        "\n",
        "for col in list_cols:\n",
        "  label = str(col) + \"_per_Acre\"\n",
        "  df[label] = df[col] / df[\"Acre\"]"
      ],
      "metadata": {
        "id": "uKKCpb_YgpT1"
      },
      "execution_count": 115,
      "outputs": []
    },
    {
      "cell_type": "code",
      "source": [
        "# Re-ordering columns and dropping the non-standardized ones\n",
        "df = df[['ID', 'Set', 'District', 'Block', 'LandPreparationMethod', 'CropTillageDate', 'CropTillageDepth','CropEstMethod', 'RcNursEstDate',\n",
        "         'SeedingSowingTransplanting','SeedlingsPerPit', 'NursDetFactor', 'TransDetFactor','TransplantingIrrigationHours', 'TransplantingIrrigationSource',\n",
        "         'TransplantingIrrigationPowerSource', \"TransIrriCost\", 'TransIrriCost_per_Acre', 'StandingWater','OrgFertilizers', 'Ganaura', 'Ganaura_per_Acre', 'CropOrgFYM',\n",
        "         'CropOrgFYM_per_Acre', 'PCropSolidOrgFertAppMethod', 'NoFertilizerAppln', 'CropbasalFerts', \"BasalDAP\", 'BasalDAP_per_Acre', \"BasalUrea\", 'BasalUrea_per_Acre',\n",
        "         'MineralFertAppMethod', 'FirstTopDressFert', \"1tdUrea\",'1tdUrea_per_Acre', '1appDaysUrea', \"2tdUrea\", '2tdUrea_per_Acre', '2appDaysUrea', 'MineralFertAppMethod.1',\n",
        "         'Harv_method', 'Harv_date', \"Harv_hand_rent\", 'Harv_hand_rent_per_Acre', 'Threshing_date', 'Threshing_method','Residue_length', 'Residue_perc', 'Stubble_use',\n",
        "         'Acre', 'Yield','Yield_per_Acre'\n",
        "         ]]"
      ],
      "metadata": {
        "id": "UmVvpz5lgcov"
      },
      "execution_count": 116,
      "outputs": []
    },
    {
      "cell_type": "code",
      "source": [
        "# PARSING MESSY CATEGORICAL VARIABLES\n",
        "\n",
        "# 1. LandPreparationMethod\n",
        "#methods = [\"TractorPlough\",\"FourWheelTracRotavator\",\"WetTillagePuddling\",\"BullockPlough\",\"Other\"]\n",
        "\n",
        "df[\"LandPrepMethod_TractorPlough\"] = df[\"LandPreparationMethod\"].str.contains(\"TractorPlough\")\n",
        "df[\"LandPrepMethod_FourWheelTracRotavator\"] = df[\"LandPreparationMethod\"].str.contains(\"FourWheelTracRotavator\")\n",
        "df[\"LandPrepMethod_WetTillagePuddling\"] = df[\"LandPreparationMethod\"].str.contains(\"WetTillagePuddling\")\n",
        "df[\"LandPrepMethod_BullockPlough\"] = df[\"LandPreparationMethod\"].str.contains(\"BullockPlough\")\n",
        "df[\"LandPrepMethod_Other\"] = df[\"LandPreparationMethod\"].str.contains(\"Other\")\n",
        "\n",
        "\n",
        "# 2. NursDetFactor\n",
        "#reasons = [\"CalendarDate\",\"PreMonsoonShowers\",\"IrrigWaterAvailability\",\"LabourAvailability\",\"SeedAvailability\"]\n",
        "\n",
        "df[\"NursDetFactor_CalendarDate\"] = df[\"NursDetFactor\"].str.contains(\"CalendarDate\")\n",
        "df[\"NursDetFactor_PreMonsoonShowers\"] = df[\"NursDetFactor\"].str.contains(\"PreMonsoonShowers\")\n",
        "df[\"NursDetFactor_IrrigWaterAvailability\"] = df[\"NursDetFactor\"].str.contains(\"IrrigWaterAvailability\")\n",
        "df[\"NursDetFactor_LabourAvailability\"] = df[\"NursDetFactor\"].str.contains(\"LabourAvailability\" or \"LaborAvailability\")\n",
        "df[\"NursDetFactor_SeedAvailability\"] = df[\"NursDetFactor\"].str.contains(\"SeedAvailability\")\n",
        "\n",
        "\n",
        "# 2. TransDetFactor\n",
        "#reasons = [\"LaborAvailability\",\"CalendarDate\",\"RainArrival\",\"IrrigWaterAvailability\",\"SeedlingAge\"] # I think that's all of them\n",
        "\n",
        "df[\"TransDetFactor_LabourAvailability\"] = df[\"TransDetFactor\"].str.contains(\"LabourAvailability\" or \"LaborAvailability\")\n",
        "df[\"TransDetFactor_CalendarDate\"] = df[\"TransDetFactor\"].str.contains(\"CalendarDate\")\n",
        "df[\"TransDetFactor_RainArrival\"] = df[\"TransDetFactor\"].str.contains(\"RainArrival\")\n",
        "df[\"TransDetFactor_IrrigWaterAvailability\"] = df[\"TransDetFactor\"].str.contains(\"IrrigWaterAvailability\")\n",
        "df[\"TransDetFactor_SeedlingAge\"] = df[\"TransDetFactor\"].str.contains(\"SeedlingAge\")\n",
        "\n",
        "\n",
        "# 3. CropbasalFerts\n",
        "df[\"CropbasalFerts\"] = df[\"CropbasalFerts\"].fillna(\"None\")\n",
        "fertilizer_types = [\"Urea\",\"DAP\",\"Other\",\"NPK\",\"MoP\",\"NPKS\",\"SSP\",\"None\"]\n",
        "\n",
        "for fertilizer in fertilizer_types:\n",
        "  label = \"CropbasalFerts_\" + fertilizer\n",
        "  df[label] = df[\"CropbasalFerts\"].str.contains(fertilizer)\n",
        "\n",
        "\n",
        "# 4. FirstTopDressFert\n",
        "df[\"FirstTopDressFert\"] = df[\"FirstTopDressFert\"].fillna(\"None\")\n",
        "fertilizer_types2 = [\"Urea\",\"DAP\",\"NPK\",\"NPKS\",\"SSP\",\"Other\"]\n",
        "\n",
        "for fertilizer in fertilizer_types2:\n",
        "  label = \"FirstTopDressFert_\" + fertilizer\n",
        "  df[label] = df[\"FirstTopDressFert\"].str.contains(fertilizer)\n",
        "\n",
        "\n",
        "# 5. OrgFertilizers\n",
        "df[\"OrgFertilizers\"] = df[\"OrgFertilizers\"].fillna(\"None\")\n",
        "orgfertilizers = [\"Ganaura\",\"FYM\",\"VermiCompost\",\"Pranamrit\",\"Ghanajeevamrit\",\"Jeevamrit\",\"PoultryManure\"]\n",
        "for fertilizer in orgfertilizers:\n",
        "  label = \"OrgFertilizers_\" + fertilizer\n",
        "  df[label] = df[\"OrgFertilizers\"].str.contains(fertilizer)\n",
        "\n",
        "\n",
        "# 6. Replacing all NaNs with False\n",
        "cols = ['LandPrepMethod_TractorPlough','LandPrepMethod_FourWheelTracRotavator','LandPrepMethod_WetTillagePuddling', 'LandPrepMethod_BullockPlough','LandPrepMethod_Other',\n",
        "        'NursDetFactor_CalendarDate','NursDetFactor_PreMonsoonShowers','NursDetFactor_IrrigWaterAvailability','NursDetFactor_LabourAvailability', 'NursDetFactor_SeedAvailability',\n",
        "        'TransDetFactor_LabourAvailability', 'TransDetFactor_CalendarDate','TransDetFactor_RainArrival', 'TransDetFactor_IrrigWaterAvailability','TransDetFactor_SeedlingAge',\n",
        "        'CropbasalFerts_Urea','CropbasalFerts_DAP', 'CropbasalFerts_Other', 'CropbasalFerts_NPK','CropbasalFerts_MoP', 'CropbasalFerts_NPKS', 'CropbasalFerts_SSP',\n",
        "        'CropbasalFerts_None', 'FirstTopDressFert_Urea','FirstTopDressFert_DAP', 'FirstTopDressFert_NPK','FirstTopDressFert_NPKS', 'FirstTopDressFert_SSP','FirstTopDressFert_Other',\n",
        "        'OrgFertilizers_Ganaura','OrgFertilizers_FYM', 'OrgFertilizers_VermiCompost','OrgFertilizers_Pranamrit', 'OrgFertilizers_Ghanajeevamrit','OrgFertilizers_Jeevamrit',\n",
        "        'OrgFertilizers_PoultryManure']\n",
        "\n",
        "for col in cols:\n",
        "  df[col] = df[col].fillna(False)"
      ],
      "metadata": {
        "id": "d_QgGXXCjWVZ"
      },
      "execution_count": 117,
      "outputs": []
    },
    {
      "cell_type": "code",
      "source": [
        "# checking there are no missing values left among parsed categoricals\n",
        "test = df[['LandPrepMethod_TractorPlough','LandPrepMethod_FourWheelTracRotavator','LandPrepMethod_WetTillagePuddling', 'LandPrepMethod_BullockPlough','LandPrepMethod_Other',\n",
        "        'NursDetFactor_CalendarDate','NursDetFactor_PreMonsoonShowers','NursDetFactor_IrrigWaterAvailability','NursDetFactor_LabourAvailability', 'NursDetFactor_SeedAvailability',\n",
        "        'TransDetFactor_LabourAvailability', 'TransDetFactor_CalendarDate','TransDetFactor_RainArrival', 'TransDetFactor_IrrigWaterAvailability','TransDetFactor_SeedlingAge',\n",
        "        'CropbasalFerts_Urea','CropbasalFerts_DAP', 'CropbasalFerts_Other', 'CropbasalFerts_NPK','CropbasalFerts_MoP', 'CropbasalFerts_NPKS', 'CropbasalFerts_SSP',\n",
        "        'CropbasalFerts_None', 'FirstTopDressFert_Urea','FirstTopDressFert_DAP', 'FirstTopDressFert_NPK','FirstTopDressFert_NPKS', 'FirstTopDressFert_SSP','FirstTopDressFert_Other',\n",
        "        'OrgFertilizers_Ganaura','OrgFertilizers_FYM', 'OrgFertilizers_VermiCompost','OrgFertilizers_Pranamrit', 'OrgFertilizers_Ghanajeevamrit','OrgFertilizers_Jeevamrit',\n",
        "        'OrgFertilizers_PoultryManure']]\n",
        "\n",
        "test.isnull().sum()"
      ],
      "metadata": {
        "colab": {
          "base_uri": "https://localhost:8080/"
        },
        "id": "VqajDs_HzcKf",
        "outputId": "43c3a3ba-a573-41c3-a566-5c033eb4525e"
      },
      "execution_count": 118,
      "outputs": [
        {
          "output_type": "execute_result",
          "data": {
            "text/plain": [
              "LandPrepMethod_TractorPlough             0\n",
              "LandPrepMethod_FourWheelTracRotavator    0\n",
              "LandPrepMethod_WetTillagePuddling        0\n",
              "LandPrepMethod_BullockPlough             0\n",
              "LandPrepMethod_Other                     0\n",
              "NursDetFactor_CalendarDate               0\n",
              "NursDetFactor_PreMonsoonShowers          0\n",
              "NursDetFactor_IrrigWaterAvailability     0\n",
              "NursDetFactor_LabourAvailability         0\n",
              "NursDetFactor_SeedAvailability           0\n",
              "TransDetFactor_LabourAvailability        0\n",
              "TransDetFactor_CalendarDate              0\n",
              "TransDetFactor_RainArrival               0\n",
              "TransDetFactor_IrrigWaterAvailability    0\n",
              "TransDetFactor_SeedlingAge               0\n",
              "CropbasalFerts_Urea                      0\n",
              "CropbasalFerts_DAP                       0\n",
              "CropbasalFerts_Other                     0\n",
              "CropbasalFerts_NPK                       0\n",
              "CropbasalFerts_MoP                       0\n",
              "CropbasalFerts_NPKS                      0\n",
              "CropbasalFerts_SSP                       0\n",
              "CropbasalFerts_None                      0\n",
              "FirstTopDressFert_Urea                   0\n",
              "FirstTopDressFert_DAP                    0\n",
              "FirstTopDressFert_NPK                    0\n",
              "FirstTopDressFert_NPKS                   0\n",
              "FirstTopDressFert_SSP                    0\n",
              "FirstTopDressFert_Other                  0\n",
              "OrgFertilizers_Ganaura                   0\n",
              "OrgFertilizers_FYM                       0\n",
              "OrgFertilizers_VermiCompost              0\n",
              "OrgFertilizers_Pranamrit                 0\n",
              "OrgFertilizers_Ghanajeevamrit            0\n",
              "OrgFertilizers_Jeevamrit                 0\n",
              "OrgFertilizers_PoultryManure             0\n",
              "dtype: int64"
            ]
          },
          "metadata": {},
          "execution_count": 118
        }
      ]
    },
    {
      "cell_type": "code",
      "source": [
        "print(df.OrgFertilizers.isnull().sum())\n",
        "print(df.FirstTopDressFert.isnull().sum())\n",
        "print(df.TransDetFactor.isnull().sum())"
      ],
      "metadata": {
        "colab": {
          "base_uri": "https://localhost:8080/"
        },
        "id": "J1Y0ccn1z3YJ",
        "outputId": "e0506a9b-7f1d-4e72-f49a-3605609089b1"
      },
      "execution_count": 121,
      "outputs": [
        {
          "output_type": "stream",
          "name": "stdout",
          "text": [
            "0\n",
            "0\n",
            "392\n"
          ]
        }
      ]
    },
    {
      "cell_type": "code",
      "source": [
        "# MISSING VALUES\n",
        "\n",
        "df[\"2tdUrea\"] = df[\"2tdUrea\"].fillna(0)\n",
        "df[\"1tdUrea\"] = df[\"1tdUrea\"].fillna(0)\n",
        "df[\"Harv_hand_rent\"] = df[\"Harv_hand_rent\"].fillna(0)\n",
        "df[\"Ganaura\"] = df[\"Ganaura\"].fillna(0)\n",
        "df[\"CropOrgFYM\"] = df[\"CropOrgFYM\"].fillna(0)\n",
        "df[\"BasalDAP\"] = df[\"BasalDAP\"].fillna(0)\n",
        "df[\"BasalUrea\"] = df[\"BasalUrea\"].fillna(0)\n",
        "\n",
        "# Creating a new variable counting the number of missing values for each row\n",
        "df[\"Nb_of_NaN\"] = df.drop(columns=[\"Yield\",\"Yield_per_Acre\"]).isnull().sum(axis=1)\n",
        "# in case that's useful to define a threshold and drop rows that are too incomplete"
      ],
      "metadata": {
        "id": "NqrJpB3LYBJZ"
      },
      "execution_count": 120,
      "outputs": []
    },
    {
      "cell_type": "code",
      "source": [
        "# Dropping messy cols\n",
        "df = df.drop(columns=[\"LandPreparationMethod\",\"NursDetFactor\",\"TransDetFactor\",\"OrgFertilizers\",\"CropbasalFerts\",\"FirstTopDressFert\"])"
      ],
      "metadata": {
        "id": "PQ32enJ1m_EP"
      },
      "execution_count": null,
      "outputs": []
    },
    {
      "cell_type": "code",
      "source": [
        "# EXPORTING\n",
        "\n",
        "# V1: full cleaned df\n",
        "df.to_csv('cleaned_fulldf.csv',index=False)\n",
        "\n",
        "# V2: per Acre df (dropping the raw variables)\n",
        "#df.copy().drop(columns=[\"TransIrriCost\",\"Ganaura\",\"CropOrgFYM\",\"BasalDAP\",\"BasalUrea\",\"1tdUrea\",\"2tdUrea\",\"Harv_hand_rent\",\"Yield\"]).to_csv('peracre_df.csv',index=False)\n",
        "\n",
        "# V2: per Acre df (dropping the raw variables)\n",
        "#df.copy().drop(columns=[\"TransIrriCost_per_Acre\",\"Ganaura_per_Acre\",\"CropOrgFYM_per_Acre\",\"BasalDAP_per_Acre\",\"BasalUrea_per_Acre\",\"1tdUrea_per_Acre\",\"2tdUrea_per_Acre\",\n",
        "#                        \"Harv_hand_rent_per_Acre\",\"Yield_per_Acre\"]).to_csv('rawyield_df.csv',index=False)"
      ],
      "metadata": {
        "id": "O5GwH-TThpQF"
      },
      "execution_count": 125,
      "outputs": []
    },
    {
      "cell_type": "code",
      "source": [
        "df.shape"
      ],
      "metadata": {
        "colab": {
          "base_uri": "https://localhost:8080/"
        },
        "id": "XwbT7oermE3h",
        "outputId": "a87a884b-fd8a-4e18-f910-34a4c504f1a6"
      },
      "execution_count": 127,
      "outputs": [
        {
          "output_type": "execute_result",
          "data": {
            "text/plain": [
              "(5160, 83)"
            ]
          },
          "metadata": {},
          "execution_count": 127
        }
      ]
    },
    {
      "cell_type": "markdown",
      "source": [
        "#### Missing values - Mann-Whitney U tests\n",
        "\n",
        "-- won't run anymore, bc removed missing values in above cells"
      ],
      "metadata": {
        "id": "6l1SJp3WGKFJ"
      }
    },
    {
      "cell_type": "code",
      "source": [
        "# Mann-Whitney Utests: NaNs vs non-NaNs on Yield_per_Acre, for all variables with missing values\n",
        "\n",
        "# Selecting only train set\n",
        "train = df.loc[df[\"Set\"]==\"train\"]\n",
        "\n",
        "# List of columns with missing values\n",
        "var_list = [\"RcNursEstDate\",\"SeedlingsPerPit\",\"NursDetFactor\",\"TransDetFactor\",\"TransplantingIrrigationHours\",\"TransplantingIrrigationSource\",\"TransplantingIrrigationPowerSource\",\n",
        "            \"TransIrriCost\",\"StandingWater\",\"OrgFertilizers\",\"Ganaura\",\"CropOrgFYM\",\"PCropSolidOrgFertAppMethod\",\"BasalDAP\",\"BasalUrea\",\"FirstTopDressFert\",\"1tdUrea\",\n",
        "            \"2tdUrea\",\"MineralFertAppMethod.1\",\"Harv_hand_rent\"\n",
        "            ]\n",
        "\n",
        "# Run Mann-Whitney U tests for all variables with missing values\n",
        "for variable in var_list:\n",
        "  na = train[train[variable].isnull()==True]\n",
        "  notna = train[train[variable].isnull()==False]\n",
        "  print(\"\\n\",variable)\n",
        "  print(\"NA Group n=\",na.shape[0], \"\\nNot NA Group n=\",notna.shape[0])\n",
        "  print(\"NA Group median=\",na.Yield_per_Acre.median().round(2), \"\\nNot NA Group median=\",notna.Yield_per_Acre.median().round(2))\n",
        "  print(pg.mwu(na[\"Yield_per_Acre\"], notna[\"Yield_per_Acre\"], alternative='two-sided'))"
      ],
      "metadata": {
        "colab": {
          "base_uri": "https://localhost:8080/"
        },
        "id": "f2KMlgoeGMSK",
        "outputId": "006462fd-d25f-4621-eab1-945115ca6a76"
      },
      "execution_count": 62,
      "outputs": [
        {
          "output_type": "stream",
          "name": "stdout",
          "text": [
            "\n",
            " RcNursEstDate\n",
            "NA Group n= 83 \n",
            "Not NA Group n= 3787\n",
            "NA Group median= 2560.0 \n",
            "Not NA Group median= 1870.0\n",
            "        U-val alternative         p-val       RBC      CLES\n",
            "MWU  257721.0   two-sided  1.660096e-23 -0.639859  0.819929\n",
            "\n",
            " SeedlingsPerPit\n",
            "NA Group n= 289 \n",
            "Not NA Group n= 3581\n",
            "NA Group median= 1805.71 \n",
            "Not NA Group median= 1898.67\n",
            "        U-val alternative     p-val       RBC      CLES\n",
            "MWU  471243.0   two-sided  0.011394  0.089305  0.455347\n",
            "\n",
            " NursDetFactor\n",
            "NA Group n= 289 \n",
            "Not NA Group n= 3581\n",
            "NA Group median= 1805.71 \n",
            "Not NA Group median= 1898.67\n",
            "        U-val alternative     p-val       RBC      CLES\n",
            "MWU  471243.0   two-sided  0.011394  0.089305  0.455347\n",
            "\n",
            " TransDetFactor\n",
            "NA Group n= 289 \n",
            "Not NA Group n= 3581\n",
            "NA Group median= 1805.71 \n",
            "Not NA Group median= 1898.67\n",
            "        U-val alternative     p-val       RBC      CLES\n",
            "MWU  471243.0   two-sided  0.011394  0.089305  0.455347\n",
            "\n",
            " TransplantingIrrigationHours\n",
            "NA Group n= 193 \n",
            "Not NA Group n= 3677\n",
            "NA Group median= 1920.0 \n",
            "Not NA Group median= 1880.0\n",
            "        U-val alternative     p-val      RBC     CLES\n",
            "MWU  377199.0   two-sided  0.139116 -0.06304  0.53152\n",
            "\n",
            " TransplantingIrrigationSource\n",
            "NA Group n= 115 \n",
            "Not NA Group n= 3755\n",
            "NA Group median= 1870.0 \n",
            "Not NA Group median= 1890.0\n",
            "        U-val alternative     p-val       RBC      CLES\n",
            "MWU  210192.0   two-sided  0.627761  0.026495  0.486753\n",
            "\n",
            " TransplantingIrrigationPowerSource\n",
            "NA Group n= 503 \n",
            "Not NA Group n= 3367\n",
            "NA Group median= 1870.0 \n",
            "Not NA Group median= 1892.0\n",
            "        U-val alternative     p-val       RBC      CLES\n",
            "MWU  822188.5   two-sided  0.292122  0.029065  0.485468\n",
            "\n",
            " TransIrriCost\n",
            "NA Group n= 882 \n",
            "Not NA Group n= 2988\n",
            "NA Group median= 1920.0 \n",
            "Not NA Group median= 1870.0\n",
            "         U-val alternative     p-val       RBC      CLES\n",
            "MWU  1412218.5   two-sided  0.001183 -0.071723  0.535862\n",
            "\n",
            " StandingWater\n",
            "NA Group n= 238 \n",
            "Not NA Group n= 3632\n",
            "NA Group median= 1957.33 \n",
            "Not NA Group median= 1870.0\n",
            "        U-val alternative    p-val     RBC    CLES\n",
            "MWU  487271.5   two-sided  0.00097 -0.1274  0.5637\n",
            "\n",
            " OrgFertilizers\n",
            "NA Group n= 1335 \n",
            "Not NA Group n= 2535\n",
            "NA Group median= 1800.0 \n",
            "Not NA Group median= 1920.0\n",
            "         U-val alternative         p-val       RBC      CLES\n",
            "MWU  1452360.5   two-sided  3.876521e-13  0.141688  0.429156\n",
            "\n",
            " Ganaura\n",
            "NA Group n= 2417 \n",
            "Not NA Group n= 1453\n",
            "NA Group median= 1885.71 \n",
            "Not NA Group median= 1890.0\n",
            "         U-val alternative     p-val       RBC      CLES\n",
            "MWU  1685910.5   two-sided  0.037349  0.039887  0.480056\n",
            "\n",
            " CropOrgFYM\n",
            "NA Group n= 2674 \n",
            "Not NA Group n= 1196\n",
            "NA Group median= 1856.0 \n",
            "Not NA Group median= 1980.0\n",
            "         U-val alternative     p-val      RBC      CLES\n",
            "MWU  1477827.5   two-sided  0.000159  0.07581  0.462095\n",
            "\n",
            " PCropSolidOrgFertAppMethod\n",
            "NA Group n= 1337 \n",
            "Not NA Group n= 2533\n",
            "NA Group median= 1804.0 \n",
            "Not NA Group median= 1920.0\n",
            "         U-val alternative         p-val       RBC      CLES\n",
            "MWU  1454886.0   two-sided  5.312664e-13  0.140804  0.429598\n",
            "\n",
            " BasalDAP\n",
            "NA Group n= 543 \n",
            "Not NA Group n= 3327\n",
            "NA Group median= 1880.0 \n",
            "Not NA Group median= 1890.0\n",
            "        U-val alternative     p-val       RBC      CLES\n",
            "MWU  857850.0   two-sided  0.059724  0.050295  0.474852\n",
            "\n",
            " BasalUrea\n",
            "NA Group n= 1704 \n",
            "Not NA Group n= 2166\n",
            "NA Group median= 1980.0 \n",
            "Not NA Group median= 1833.33\n",
            "         U-val alternative         p-val       RBC      CLES\n",
            "MWU  2055660.0   two-sided  1.090066e-09 -0.113918  0.556959\n",
            "\n",
            " FirstTopDressFert\n",
            "NA Group n= 485 \n",
            "Not NA Group n= 3385\n",
            "NA Group median= 1833.33 \n",
            "Not NA Group median= 1920.0\n",
            "        U-val alternative     p-val       RBC      CLES\n",
            "MWU  788891.0   two-sided  0.164544  0.038949  0.480526\n",
            "\n",
            " 1tdUrea\n",
            "NA Group n= 556 \n",
            "Not NA Group n= 3314\n",
            "NA Group median= 1830.95 \n",
            "Not NA Group median= 1920.0\n",
            "        U-val alternative     p-val       RBC      CLES\n",
            "MWU  872381.5   two-sided  0.044735  0.053089  0.473455\n",
            "\n",
            " 2tdUrea\n",
            "NA Group n= 2694 \n",
            "Not NA Group n= 1176\n",
            "NA Group median= 1920.0 \n",
            "Not NA Group median= 1760.0\n",
            "         U-val alternative     p-val      RBC      CLES\n",
            "MWU  1673461.5   two-sided  0.005149 -0.05643  0.528215\n",
            "\n",
            " MineralFertAppMethod.1\n",
            "NA Group n= 481 \n",
            "Not NA Group n= 3389\n",
            "NA Group median= 1833.33 \n",
            "Not NA Group median= 1920.0\n",
            "        U-val alternative     p-val       RBC      CLES\n",
            "MWU  778005.5   two-sided  0.106003  0.045456  0.477272\n",
            "\n",
            " Harv_hand_rent\n",
            "NA Group n= 252 \n",
            "Not NA Group n= 3618\n",
            "NA Group median= 1920.0 \n",
            "Not NA Group median= 1890.0\n",
            "        U-val alternative     p-val     RBC     CLES\n",
            "MWU  450716.5   two-sided  0.763793  0.0113  0.49435\n"
          ]
        }
      ]
    }
  ]
}