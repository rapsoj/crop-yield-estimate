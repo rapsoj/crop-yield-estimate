{
  "nbformat": 4,
  "nbformat_minor": 0,
  "metadata": {
    "colab": {
      "provenance": [],
      "collapsed_sections": [
        "D9E7HkkaLTgO",
        "eL2hmFHsLWhP",
        "ImyGIBI7LZfn",
        "MQny45fBLfQM",
        "hgXb37-8LkCP",
        "yUcLtXE-Lmoi"
      ]
    },
    "kernelspec": {
      "name": "python3",
      "display_name": "Python 3"
    },
    "language_info": {
      "name": "python"
    }
  },
  "cells": [
    {
      "cell_type": "markdown",
      "source": [
        "#### Import"
      ],
      "metadata": {
        "id": "D9E7HkkaLTgO"
      }
    },
    {
      "cell_type": "code",
      "source": [
        "#!pip install pingouin"
      ],
      "metadata": {
        "id": "b-FsWeb4OyIN"
      },
      "execution_count": 134,
      "outputs": []
    },
    {
      "cell_type": "code",
      "execution_count": 135,
      "metadata": {
        "id": "MLl-vzPhgVw_"
      },
      "outputs": [],
      "source": [
        "import pandas as pd\n",
        "import numpy as np\n",
        "import plotly.express as px\n",
        "import plotly.io as pio\n",
        "import plotly.graph_objects as go\n",
        "import calendar\n",
        "#import pingouin as pg\n",
        "from datetime import datetime\n",
        "pd.set_option('display.max_columns', None)\n",
        "\n",
        "import warnings\n",
        "warnings.filterwarnings(\"ignore\")"
      ]
    },
    {
      "cell_type": "code",
      "source": [
        "from google.colab import drive\n",
        "drive.mount('/content/gdrive')\n",
        "\n",
        "# directory\n",
        "%cd '/content/gdrive/My Drive/Oxford/ML_for_Social_Good'\n",
        "\n",
        "# import\n",
        "train = pd.read_csv(\"Train.csv\")\n",
        "test = pd.read_csv(\"Test.csv\")\n",
        "\n",
        "train[\"Set\"] = \"train\"\n",
        "test[\"Set\"] = \"test\"\n",
        "\n",
        "df = pd.concat([train, test])\n",
        "print(df.shape)"
      ],
      "metadata": {
        "colab": {
          "base_uri": "https://localhost:8080/"
        },
        "id": "GraWxTYtgciK",
        "outputId": "ad36f814-0728-4631-fb73-2a8fb2981d0c"
      },
      "execution_count": 136,
      "outputs": [
        {
          "output_type": "stream",
          "name": "stdout",
          "text": [
            "Drive already mounted at /content/gdrive; to attempt to forcibly remount, call drive.mount(\"/content/gdrive\", force_remount=True).\n",
            "/content/gdrive/My Drive/Oxford/ML_for_Social_Good\n",
            "(5160, 45)\n"
          ]
        }
      ]
    },
    {
      "cell_type": "markdown",
      "source": [
        "#### Basic adjustments"
      ],
      "metadata": {
        "id": "eL2hmFHsLWhP"
      }
    },
    {
      "cell_type": "code",
      "source": [
        "datetime_cols = [\"CropTillageDate\",\"RcNursEstDate\",\"SeedingSowingTransplanting\",\"Harv_date\",\"Threshing_date\"]\n",
        "\n",
        "for col in datetime_cols:\n",
        "  df[col] = pd.to_datetime(df[col])#.dt.date"
      ],
      "metadata": {
        "id": "vrKICzVjgclR"
      },
      "execution_count": 137,
      "outputs": []
    },
    {
      "cell_type": "code",
      "source": [
        "# One row has Jamui as district but Gurua as Block, which is a Gaya block -- correcting its District\n",
        "df.loc[(df[\"District\"]==\"Jamui\") & (df[\"Block\"]==\"Gurua\")].index\n",
        "df.loc[2177,\"District\"] = \"Gaya\""
      ],
      "metadata": {
        "id": "fXyE0JGRgcm3"
      },
      "execution_count": 138,
      "outputs": []
    },
    {
      "cell_type": "markdown",
      "source": [
        "#### Outliers"
      ],
      "metadata": {
        "id": "ImyGIBI7LZfn"
      }
    },
    {
      "cell_type": "code",
      "source": [
        "# OUTLIERS -- first pass\n",
        "\n",
        "# SeedlingsPerPit has two extreme outliers (800 seedlings & 442 seedlings) -- replacing with the next max value (22)\n",
        "#df[\"SeedlingsPerPit\"] = df[\"SeedlingsPerPit\"].replace(800,22).replace(442,22)\n",
        "df.loc[df[\"SeedlingsPerPit\"]>22, \"SeedlingsPerPit\"] = 22\n",
        "\n",
        "# TransplantingIrrigationHours -- capping at 450\n",
        "df.loc[df[\"TransplantingIrrigationHours\"]>450, \"TransplantingIrrigationHours\"] = 450\n",
        "\n",
        "# TransIrriCost have several extreme outliers (e.g. 6000 rupees for an average sized land) -- capping at 3000\n",
        "df.loc[df[\"TransIrriCost\"]>3000, \"TransIrriCost\"] = 3000\n",
        "\n",
        "# Ganaura -- making a capped version at 50 (already way above the upper fence), and leaving the raw variable to compare\n",
        "df.loc[df[\"Ganaura\"]>50, \"Ganaura_capped\"] = 50\n",
        "\n",
        "# 1appDaysUrea -- replacing extreme outlier with the next max value\n",
        "df[\"1appDaysUrea\"] = df[\"1appDaysUrea\"].replace(332,75)\n",
        "\n",
        "# Harv_hand_rent -- capping at 20000 (there are 2 values above that) (upper fence is at 1500, so 20000 is conservative)\n",
        "df.loc[df[\"Harv_hand_rent\"]>20000, \"Harv_hand_rent\"] = 20000"
      ],
      "metadata": {
        "id": "DYQKwkMDgpRm"
      },
      "execution_count": 139,
      "outputs": []
    },
    {
      "cell_type": "markdown",
      "source": [
        "#### Per_Acre columns"
      ],
      "metadata": {
        "id": "MQny45fBLfQM"
      }
    },
    {
      "cell_type": "code",
      "source": [
        "# PER-ACRE COLUMNS\n",
        "\n",
        "list_cols = [\"TransIrriCost\",\"Ganaura\",\"CropOrgFYM\",\"BasalDAP\",\"BasalUrea\",\"1tdUrea\",\"2tdUrea\",\"Harv_hand_rent\",\"Yield\"]\n",
        "\n",
        "for col in list_cols:\n",
        "  label = str(col) + \"_per_Acre\"\n",
        "  df[label] = df[col] / df[\"Acre\"]"
      ],
      "metadata": {
        "id": "uKKCpb_YgpT1"
      },
      "execution_count": 140,
      "outputs": []
    },
    {
      "cell_type": "code",
      "source": [
        "# Re-ordering columns and dropping the non-standardized ones\n",
        "df = df[['ID', 'Set', 'District', 'Block', 'LandPreparationMethod', 'CropTillageDate', 'CropTillageDepth','CropEstMethod', 'RcNursEstDate',\n",
        "         'SeedingSowingTransplanting','SeedlingsPerPit', 'NursDetFactor', 'TransDetFactor','TransplantingIrrigationHours', 'TransplantingIrrigationSource',\n",
        "         'TransplantingIrrigationPowerSource', \"TransIrriCost\", 'TransIrriCost_per_Acre', 'StandingWater','OrgFertilizers', 'Ganaura', 'Ganaura_per_Acre', 'CropOrgFYM',\n",
        "         'CropOrgFYM_per_Acre', 'PCropSolidOrgFertAppMethod', 'NoFertilizerAppln', 'CropbasalFerts', \"BasalDAP\", 'BasalDAP_per_Acre', \"BasalUrea\", 'BasalUrea_per_Acre',\n",
        "         'MineralFertAppMethod', 'FirstTopDressFert', \"1tdUrea\",'1tdUrea_per_Acre', '1appDaysUrea', \"2tdUrea\", '2tdUrea_per_Acre', '2appDaysUrea', 'MineralFertAppMethod.1',\n",
        "         'Harv_method', 'Harv_date', \"Harv_hand_rent\", 'Harv_hand_rent_per_Acre', 'Threshing_date', 'Threshing_method','Residue_length', 'Residue_perc', 'Stubble_use',\n",
        "         'Acre', 'Yield','Yield_per_Acre'\n",
        "         ]]"
      ],
      "metadata": {
        "id": "UmVvpz5lgcov"
      },
      "execution_count": 141,
      "outputs": []
    },
    {
      "cell_type": "markdown",
      "source": [
        "#### Parsing messy categorical variables"
      ],
      "metadata": {
        "id": "hgXb37-8LkCP"
      }
    },
    {
      "cell_type": "code",
      "source": [
        "# PARSING MESSY CATEGORICAL VARIABLES\n",
        "\n",
        "# 1. LandPreparationMethod\n",
        "#methods = [\"TractorPlough\",\"FourWheelTracRotavator\",\"WetTillagePuddling\",\"BullockPlough\",\"Other\"]\n",
        "\n",
        "df[\"LandPrepMethod_TractorPlough\"] = df[\"LandPreparationMethod\"].str.contains(\"TractorPlough\")\n",
        "df[\"LandPrepMethod_FourWheelTracRotavator\"] = df[\"LandPreparationMethod\"].str.contains(\"FourWheelTracRotavator\")\n",
        "df[\"LandPrepMethod_WetTillagePuddling\"] = df[\"LandPreparationMethod\"].str.contains(\"WetTillagePuddling\")\n",
        "df[\"LandPrepMethod_BullockPlough\"] = df[\"LandPreparationMethod\"].str.contains(\"BullockPlough\")\n",
        "df[\"LandPrepMethod_Other\"] = df[\"LandPreparationMethod\"].str.contains(\"Other\")\n",
        "\n",
        "\n",
        "# 2. NursDetFactor\n",
        "#reasons = [\"CalendarDate\",\"PreMonsoonShowers\",\"IrrigWaterAvailability\",\"LabourAvailability\",\"SeedAvailability\"]\n",
        "\n",
        "df[\"NursDetFactor_CalendarDate\"] = df[\"NursDetFactor\"].str.contains(\"CalendarDate\")\n",
        "df[\"NursDetFactor_PreMonsoonShowers\"] = df[\"NursDetFactor\"].str.contains(\"PreMonsoonShowers\")\n",
        "df[\"NursDetFactor_IrrigWaterAvailability\"] = df[\"NursDetFactor\"].str.contains(\"IrrigWaterAvailability\")\n",
        "df[\"NursDetFactor_LabourAvailability\"] = df[\"NursDetFactor\"].str.contains(\"LabourAvailability\" or \"LaborAvailability\")\n",
        "df[\"NursDetFactor_SeedAvailability\"] = df[\"NursDetFactor\"].str.contains(\"SeedAvailability\")\n",
        "\n",
        "\n",
        "# 2. TransDetFactor\n",
        "#reasons = [\"LaborAvailability\",\"CalendarDate\",\"RainArrival\",\"IrrigWaterAvailability\",\"SeedlingAge\"] # I think that's all of them\n",
        "\n",
        "df[\"TransDetFactor_LabourAvailability\"] = df[\"TransDetFactor\"].str.contains(\"LabourAvailability\" or \"LaborAvailability\")\n",
        "df[\"TransDetFactor_CalendarDate\"] = df[\"TransDetFactor\"].str.contains(\"CalendarDate\")\n",
        "df[\"TransDetFactor_RainArrival\"] = df[\"TransDetFactor\"].str.contains(\"RainArrival\")\n",
        "df[\"TransDetFactor_IrrigWaterAvailability\"] = df[\"TransDetFactor\"].str.contains(\"IrrigWaterAvailability\")\n",
        "df[\"TransDetFactor_SeedlingAge\"] = df[\"TransDetFactor\"].str.contains(\"SeedlingAge\")\n",
        "\n",
        "\n",
        "# 3. CropbasalFerts\n",
        "df[\"CropbasalFerts\"] = df[\"CropbasalFerts\"].fillna(\"None\")\n",
        "fertilizer_types = [\"Urea\",\"DAP\",\"Other\",\"NPK\",\"MoP\",\"NPKS\",\"SSP\",\"None\"]\n",
        "\n",
        "for fertilizer in fertilizer_types:\n",
        "  label = \"CropbasalFerts_\" + fertilizer\n",
        "  df[label] = df[\"CropbasalFerts\"].str.contains(fertilizer)\n",
        "\n",
        "\n",
        "# 4. FirstTopDressFert\n",
        "df[\"FirstTopDressFert\"] = df[\"FirstTopDressFert\"].fillna(\"None\")\n",
        "fertilizer_types2 = [\"Urea\",\"DAP\",\"NPK\",\"NPKS\",\"SSP\",\"Other\"]\n",
        "\n",
        "for fertilizer in fertilizer_types2:\n",
        "  label = \"FirstTopDressFert_\" + fertilizer\n",
        "  df[label] = df[\"FirstTopDressFert\"].str.contains(fertilizer)\n",
        "\n",
        "\n",
        "# 5. OrgFertilizers\n",
        "df[\"OrgFertilizers\"] = df[\"OrgFertilizers\"].fillna(\"None\")\n",
        "orgfertilizers = [\"Ganaura\",\"FYM\",\"VermiCompost\",\"Pranamrit\",\"Ghanajeevamrit\",\"Jeevamrit\",\"PoultryManure\"]\n",
        "for fertilizer in orgfertilizers:\n",
        "  label = \"OrgFertilizers_\" + fertilizer\n",
        "  df[label] = df[\"OrgFertilizers\"].str.contains(fertilizer)\n",
        "\n",
        "\n",
        "# 6. Replacing all NaNs with False\n",
        "cols = ['LandPrepMethod_TractorPlough','LandPrepMethod_FourWheelTracRotavator','LandPrepMethod_WetTillagePuddling', 'LandPrepMethod_BullockPlough','LandPrepMethod_Other',\n",
        "        'NursDetFactor_CalendarDate','NursDetFactor_PreMonsoonShowers','NursDetFactor_IrrigWaterAvailability','NursDetFactor_LabourAvailability', 'NursDetFactor_SeedAvailability',\n",
        "        'TransDetFactor_LabourAvailability', 'TransDetFactor_CalendarDate','TransDetFactor_RainArrival', 'TransDetFactor_IrrigWaterAvailability','TransDetFactor_SeedlingAge',\n",
        "        'CropbasalFerts_Urea','CropbasalFerts_DAP', 'CropbasalFerts_Other', 'CropbasalFerts_NPK','CropbasalFerts_MoP', 'CropbasalFerts_NPKS', 'CropbasalFerts_SSP',\n",
        "        'CropbasalFerts_None', 'FirstTopDressFert_Urea','FirstTopDressFert_DAP', 'FirstTopDressFert_NPK','FirstTopDressFert_NPKS', 'FirstTopDressFert_SSP','FirstTopDressFert_Other',\n",
        "        'OrgFertilizers_Ganaura','OrgFertilizers_FYM', 'OrgFertilizers_VermiCompost','OrgFertilizers_Pranamrit', 'OrgFertilizers_Ghanajeevamrit','OrgFertilizers_Jeevamrit',\n",
        "        'OrgFertilizers_PoultryManure']\n",
        "\n",
        "for col in cols:\n",
        "  df[col] = df[col].fillna(False)"
      ],
      "metadata": {
        "id": "d_QgGXXCjWVZ"
      },
      "execution_count": 142,
      "outputs": []
    },
    {
      "cell_type": "markdown",
      "source": [
        "#### Missing values"
      ],
      "metadata": {
        "id": "yUcLtXE-Lmoi"
      }
    },
    {
      "cell_type": "code",
      "source": [
        "# For 1appDaysUrea, 2appDaysUrea, in most cases NaN means there was so 2nd or 3rd dose, so NaN is appropriate.\n",
        "# For a couple rows, however, there was a 2nd or 3rd dose (as indicated by 1tdUrea and 2tdUrea) but the number of days value is missing, in which case they probably need imputation\n",
        "\n",
        "# For rows where XappDaysUrea is NaN but XtdUrea is not NaN, impute with block median\n",
        "subset = df.loc[(df[\"Block\"]==\"Rajgir\")]\n",
        "df.loc[(df[\"1appDaysUrea\"].isnull()==True) & (df[\"1tdUrea\"].isnull()==False), \"1appDaysUrea\"] = subset[\"1tdUrea\"].median()\n",
        "\n",
        "subset = df.loc[(df[\"Block\"]==\"Gurua\")]\n",
        "df.loc[(df[\"2appDaysUrea\"].isnull()==True) & (df[\"2tdUrea\"].isnull()==False), \"2appDaysUrea\"] = subset[\"2tdUrea\"].median()\n",
        "\n",
        "# Imputing with full sample medians\n",
        "#df.loc[(df[\"1appDaysUrea\"].isnull()==True) & (df[\"1tdUrea\"]!=0), \"1appDaysUrea\"] = df[\"1appDaysUrea\"].median()\n",
        "#df.loc[(df[\"2appDaysUrea\"].isnull()==True) & (df[\"2tdUrea\"]!=0), \"2appDaysUrea\"] = df[\"2appDaysUrea\"].median()\n"
      ],
      "metadata": {
        "id": "QEF0ECXLLpyN"
      },
      "execution_count": 143,
      "outputs": []
    },
    {
      "cell_type": "code",
      "source": [
        "# Replacing NaN with 0 for columns where it makes sense\n",
        "fillna0 = [\"2tdUrea\",\"1tdUrea\",\"Harv_hand_rent\",\"Ganaura\",\"CropOrgFYM\",\"BasalDAP\",\"BasalUrea\"]\n",
        "for col in fillna0:\n",
        "  df[col] = df[col].fillna(0)\n",
        "\n",
        "# Creating a new variable counting the number of missing values for each row (excluding outcome variables)\n",
        "df[\"Nb_of_NaN\"] = df.drop(columns=[\"Yield\",\"Yield_per_Acre\"]).isnull().sum(axis=1)\n",
        "# in case that's useful to define a threshold and drop rows that are too incomplete\n",
        "print(df.loc[df[\"Nb_of_NaN\"]>10].shape[0], \"rows have over 10 missing values\")\n",
        "# updated thought: a bunch of NaNs are actually meaningful, so I don't think defining a threshold is useful"
      ],
      "metadata": {
        "colab": {
          "base_uri": "https://localhost:8080/"
        },
        "id": "_cLoPrYjNcYP",
        "outputId": "a92eb995-1b51-4fa0-9415-978761691ea7"
      },
      "execution_count": 144,
      "outputs": [
        {
          "output_type": "stream",
          "name": "stdout",
          "text": [
            "225 rows have over 10 missing values\n"
          ]
        }
      ]
    },
    {
      "cell_type": "code",
      "source": [
        "# For TransplantingIrrigationHours, TransplantingIrrigationSource, and TransplantingIrrigationPowerSource; no significant statistical difference between NaNs and non-NaNs on yields.\n",
        "\n",
        "print(\"TransplantingIrrigationSource - Number of NaNs before imputation: \", df[\"TransplantingIrrigationSource\"].isnull().sum())\n",
        "print(\"TransplantingIrrigationPowerSource - Number of NaNs before imputation: \", df[\"TransplantingIrrigationPowerSource\"].isnull().sum())\n",
        "print(\"TransplantingIrrigationHours - Number of NaNs before imputation: \", df[\"TransplantingIrrigationHours\"].isnull().sum())\n",
        "\n",
        "# For TransplantingIrrigationSource and TransplantingIrrigationPowerSource, imputing missing values with most common category (mode)\n",
        "df.loc[df[\"TransplantingIrrigationSource\"].isnull()==True, \"TransplantingIrrigationSource\"] = df[\"TransplantingIrrigationSource\"].mode()\n",
        "df.loc[df[\"TransplantingIrrigationPowerSource\"].isnull()==True, \"TransplantingIrrigationPowerSource\"] = df[\"TransplantingIrrigationPowerSource\"].mode()\n",
        "\n",
        "# For TransplantingIrrigationHours, imputing missing values with the median\n",
        "df.loc[df[\"TransplantingIrrigationHours\"].isnull()==True, \"TransplantingIrrigationHours\"] = df[\"TransplantingIrrigationHours\"].median()"
      ],
      "metadata": {
        "colab": {
          "base_uri": "https://localhost:8080/"
        },
        "id": "eZ3yYUlWhOmK",
        "outputId": "dedfff38-689b-46b7-b5b0-3e1ad89c55cd"
      },
      "execution_count": 145,
      "outputs": [
        {
          "output_type": "stream",
          "name": "stdout",
          "text": [
            "TransplantingIrrigationSource - Number of NaNs before imputation:  161\n",
            "TransplantingIrrigationPowerSource - Number of NaNs before imputation:  674\n",
            "TransplantingIrrigationHours - Number of NaNs before imputation:  270\n"
          ]
        }
      ]
    },
    {
      "cell_type": "markdown",
      "source": [
        "Remaining variables with NaNs:\n",
        "- RcNursEstDate: statistically significant difference between rows with missing values vs. not in this variable, so leaving NaNs alone for now\n",
        "- SeedlingsPerPit: same thing\n",
        "- NursDetFactor: same thing\n",
        "- TransIrriCost: same thing\n",
        "- StandingWater: same thing"
      ],
      "metadata": {
        "id": "SaE0UgIiLrlu"
      }
    },
    {
      "cell_type": "markdown",
      "source": [
        "#### Basic feature engineering"
      ],
      "metadata": {
        "id": "DNL7zpvxrFeo"
      }
    },
    {
      "cell_type": "markdown",
      "source": [
        "1. Creating variables for the number of days between different steps"
      ],
      "metadata": {
        "id": "KkoYGGWn4tIl"
      }
    },
    {
      "cell_type": "code",
      "source": [
        "df.select_dtypes(include=\"datetime\")"
      ],
      "metadata": {
        "colab": {
          "base_uri": "https://localhost:8080/",
          "height": 424
        },
        "id": "fEX9H4jj0lhL",
        "outputId": "bd75014a-26eb-49f5-e0e2-1b21db1ea957"
      },
      "execution_count": 146,
      "outputs": [
        {
          "output_type": "execute_result",
          "data": {
            "text/plain": [
              "     CropTillageDate RcNursEstDate SeedingSowingTransplanting  Harv_date  \\\n",
              "0         2022-07-20    2022-06-27                 2022-07-21 2022-11-16   \n",
              "1         2022-07-18    2022-06-20                 2022-07-20 2022-11-25   \n",
              "2         2022-06-30    2022-06-20                 2022-08-13 2022-12-12   \n",
              "3         2022-06-16    2022-06-17                 2022-07-17 2022-12-02   \n",
              "4         2022-07-19    2022-06-21                 2022-07-20 2022-11-30   \n",
              "...              ...           ...                        ...        ...   \n",
              "1285      2022-07-23    2022-07-05                 2022-07-30 2022-12-01   \n",
              "1286      2022-07-07    2022-07-09                 2022-07-25 2022-10-15   \n",
              "1287      2022-07-06    2022-06-18                 2022-07-09 2022-10-28   \n",
              "1288      2022-07-22    2022-06-18                 2022-07-26 2022-11-25   \n",
              "1289      2022-07-08    2022-06-22                 2022-07-13 2022-11-04   \n",
              "\n",
              "     Threshing_date  \n",
              "0        2022-11-16  \n",
              "1        2022-12-24  \n",
              "2        2023-01-11  \n",
              "3        2022-12-29  \n",
              "4        2022-12-02  \n",
              "...             ...  \n",
              "1285     2022-12-23  \n",
              "1286     2022-10-20  \n",
              "1287     2022-11-12  \n",
              "1288     2023-01-28  \n",
              "1289     2023-01-09  \n",
              "\n",
              "[5160 rows x 5 columns]"
            ],
            "text/html": [
              "\n",
              "  <div id=\"df-8bdfe347-0d5f-4d50-b94d-81467e44a929\" class=\"colab-df-container\">\n",
              "    <div>\n",
              "<style scoped>\n",
              "    .dataframe tbody tr th:only-of-type {\n",
              "        vertical-align: middle;\n",
              "    }\n",
              "\n",
              "    .dataframe tbody tr th {\n",
              "        vertical-align: top;\n",
              "    }\n",
              "\n",
              "    .dataframe thead th {\n",
              "        text-align: right;\n",
              "    }\n",
              "</style>\n",
              "<table border=\"1\" class=\"dataframe\">\n",
              "  <thead>\n",
              "    <tr style=\"text-align: right;\">\n",
              "      <th></th>\n",
              "      <th>CropTillageDate</th>\n",
              "      <th>RcNursEstDate</th>\n",
              "      <th>SeedingSowingTransplanting</th>\n",
              "      <th>Harv_date</th>\n",
              "      <th>Threshing_date</th>\n",
              "    </tr>\n",
              "  </thead>\n",
              "  <tbody>\n",
              "    <tr>\n",
              "      <th>0</th>\n",
              "      <td>2022-07-20</td>\n",
              "      <td>2022-06-27</td>\n",
              "      <td>2022-07-21</td>\n",
              "      <td>2022-11-16</td>\n",
              "      <td>2022-11-16</td>\n",
              "    </tr>\n",
              "    <tr>\n",
              "      <th>1</th>\n",
              "      <td>2022-07-18</td>\n",
              "      <td>2022-06-20</td>\n",
              "      <td>2022-07-20</td>\n",
              "      <td>2022-11-25</td>\n",
              "      <td>2022-12-24</td>\n",
              "    </tr>\n",
              "    <tr>\n",
              "      <th>2</th>\n",
              "      <td>2022-06-30</td>\n",
              "      <td>2022-06-20</td>\n",
              "      <td>2022-08-13</td>\n",
              "      <td>2022-12-12</td>\n",
              "      <td>2023-01-11</td>\n",
              "    </tr>\n",
              "    <tr>\n",
              "      <th>3</th>\n",
              "      <td>2022-06-16</td>\n",
              "      <td>2022-06-17</td>\n",
              "      <td>2022-07-17</td>\n",
              "      <td>2022-12-02</td>\n",
              "      <td>2022-12-29</td>\n",
              "    </tr>\n",
              "    <tr>\n",
              "      <th>4</th>\n",
              "      <td>2022-07-19</td>\n",
              "      <td>2022-06-21</td>\n",
              "      <td>2022-07-20</td>\n",
              "      <td>2022-11-30</td>\n",
              "      <td>2022-12-02</td>\n",
              "    </tr>\n",
              "    <tr>\n",
              "      <th>...</th>\n",
              "      <td>...</td>\n",
              "      <td>...</td>\n",
              "      <td>...</td>\n",
              "      <td>...</td>\n",
              "      <td>...</td>\n",
              "    </tr>\n",
              "    <tr>\n",
              "      <th>1285</th>\n",
              "      <td>2022-07-23</td>\n",
              "      <td>2022-07-05</td>\n",
              "      <td>2022-07-30</td>\n",
              "      <td>2022-12-01</td>\n",
              "      <td>2022-12-23</td>\n",
              "    </tr>\n",
              "    <tr>\n",
              "      <th>1286</th>\n",
              "      <td>2022-07-07</td>\n",
              "      <td>2022-07-09</td>\n",
              "      <td>2022-07-25</td>\n",
              "      <td>2022-10-15</td>\n",
              "      <td>2022-10-20</td>\n",
              "    </tr>\n",
              "    <tr>\n",
              "      <th>1287</th>\n",
              "      <td>2022-07-06</td>\n",
              "      <td>2022-06-18</td>\n",
              "      <td>2022-07-09</td>\n",
              "      <td>2022-10-28</td>\n",
              "      <td>2022-11-12</td>\n",
              "    </tr>\n",
              "    <tr>\n",
              "      <th>1288</th>\n",
              "      <td>2022-07-22</td>\n",
              "      <td>2022-06-18</td>\n",
              "      <td>2022-07-26</td>\n",
              "      <td>2022-11-25</td>\n",
              "      <td>2023-01-28</td>\n",
              "    </tr>\n",
              "    <tr>\n",
              "      <th>1289</th>\n",
              "      <td>2022-07-08</td>\n",
              "      <td>2022-06-22</td>\n",
              "      <td>2022-07-13</td>\n",
              "      <td>2022-11-04</td>\n",
              "      <td>2023-01-09</td>\n",
              "    </tr>\n",
              "  </tbody>\n",
              "</table>\n",
              "<p>5160 rows × 5 columns</p>\n",
              "</div>\n",
              "    <div class=\"colab-df-buttons\">\n",
              "\n",
              "  <div class=\"colab-df-container\">\n",
              "    <button class=\"colab-df-convert\" onclick=\"convertToInteractive('df-8bdfe347-0d5f-4d50-b94d-81467e44a929')\"\n",
              "            title=\"Convert this dataframe to an interactive table.\"\n",
              "            style=\"display:none;\">\n",
              "\n",
              "  <svg xmlns=\"http://www.w3.org/2000/svg\" height=\"24px\" viewBox=\"0 -960 960 960\">\n",
              "    <path d=\"M120-120v-720h720v720H120Zm60-500h600v-160H180v160Zm220 220h160v-160H400v160Zm0 220h160v-160H400v160ZM180-400h160v-160H180v160Zm440 0h160v-160H620v160ZM180-180h160v-160H180v160Zm440 0h160v-160H620v160Z\"/>\n",
              "  </svg>\n",
              "    </button>\n",
              "\n",
              "  <style>\n",
              "    .colab-df-container {\n",
              "      display:flex;\n",
              "      gap: 12px;\n",
              "    }\n",
              "\n",
              "    .colab-df-convert {\n",
              "      background-color: #E8F0FE;\n",
              "      border: none;\n",
              "      border-radius: 50%;\n",
              "      cursor: pointer;\n",
              "      display: none;\n",
              "      fill: #1967D2;\n",
              "      height: 32px;\n",
              "      padding: 0 0 0 0;\n",
              "      width: 32px;\n",
              "    }\n",
              "\n",
              "    .colab-df-convert:hover {\n",
              "      background-color: #E2EBFA;\n",
              "      box-shadow: 0px 1px 2px rgba(60, 64, 67, 0.3), 0px 1px 3px 1px rgba(60, 64, 67, 0.15);\n",
              "      fill: #174EA6;\n",
              "    }\n",
              "\n",
              "    .colab-df-buttons div {\n",
              "      margin-bottom: 4px;\n",
              "    }\n",
              "\n",
              "    [theme=dark] .colab-df-convert {\n",
              "      background-color: #3B4455;\n",
              "      fill: #D2E3FC;\n",
              "    }\n",
              "\n",
              "    [theme=dark] .colab-df-convert:hover {\n",
              "      background-color: #434B5C;\n",
              "      box-shadow: 0px 1px 3px 1px rgba(0, 0, 0, 0.15);\n",
              "      filter: drop-shadow(0px 1px 2px rgba(0, 0, 0, 0.3));\n",
              "      fill: #FFFFFF;\n",
              "    }\n",
              "  </style>\n",
              "\n",
              "    <script>\n",
              "      const buttonEl =\n",
              "        document.querySelector('#df-8bdfe347-0d5f-4d50-b94d-81467e44a929 button.colab-df-convert');\n",
              "      buttonEl.style.display =\n",
              "        google.colab.kernel.accessAllowed ? 'block' : 'none';\n",
              "\n",
              "      async function convertToInteractive(key) {\n",
              "        const element = document.querySelector('#df-8bdfe347-0d5f-4d50-b94d-81467e44a929');\n",
              "        const dataTable =\n",
              "          await google.colab.kernel.invokeFunction('convertToInteractive',\n",
              "                                                    [key], {});\n",
              "        if (!dataTable) return;\n",
              "\n",
              "        const docLinkHtml = 'Like what you see? Visit the ' +\n",
              "          '<a target=\"_blank\" href=https://colab.research.google.com/notebooks/data_table.ipynb>data table notebook</a>'\n",
              "          + ' to learn more about interactive tables.';\n",
              "        element.innerHTML = '';\n",
              "        dataTable['output_type'] = 'display_data';\n",
              "        await google.colab.output.renderOutput(dataTable, element);\n",
              "        const docLink = document.createElement('div');\n",
              "        docLink.innerHTML = docLinkHtml;\n",
              "        element.appendChild(docLink);\n",
              "      }\n",
              "    </script>\n",
              "  </div>\n",
              "\n",
              "\n",
              "<div id=\"df-ce4ff47e-4c68-4b49-96fd-d80a8e5bea27\">\n",
              "  <button class=\"colab-df-quickchart\" onclick=\"quickchart('df-ce4ff47e-4c68-4b49-96fd-d80a8e5bea27')\"\n",
              "            title=\"Suggest charts\"\n",
              "            style=\"display:none;\">\n",
              "\n",
              "<svg xmlns=\"http://www.w3.org/2000/svg\" height=\"24px\"viewBox=\"0 0 24 24\"\n",
              "     width=\"24px\">\n",
              "    <g>\n",
              "        <path d=\"M19 3H5c-1.1 0-2 .9-2 2v14c0 1.1.9 2 2 2h14c1.1 0 2-.9 2-2V5c0-1.1-.9-2-2-2zM9 17H7v-7h2v7zm4 0h-2V7h2v10zm4 0h-2v-4h2v4z\"/>\n",
              "    </g>\n",
              "</svg>\n",
              "  </button>\n",
              "\n",
              "<style>\n",
              "  .colab-df-quickchart {\n",
              "      --bg-color: #E8F0FE;\n",
              "      --fill-color: #1967D2;\n",
              "      --hover-bg-color: #E2EBFA;\n",
              "      --hover-fill-color: #174EA6;\n",
              "      --disabled-fill-color: #AAA;\n",
              "      --disabled-bg-color: #DDD;\n",
              "  }\n",
              "\n",
              "  [theme=dark] .colab-df-quickchart {\n",
              "      --bg-color: #3B4455;\n",
              "      --fill-color: #D2E3FC;\n",
              "      --hover-bg-color: #434B5C;\n",
              "      --hover-fill-color: #FFFFFF;\n",
              "      --disabled-bg-color: #3B4455;\n",
              "      --disabled-fill-color: #666;\n",
              "  }\n",
              "\n",
              "  .colab-df-quickchart {\n",
              "    background-color: var(--bg-color);\n",
              "    border: none;\n",
              "    border-radius: 50%;\n",
              "    cursor: pointer;\n",
              "    display: none;\n",
              "    fill: var(--fill-color);\n",
              "    height: 32px;\n",
              "    padding: 0;\n",
              "    width: 32px;\n",
              "  }\n",
              "\n",
              "  .colab-df-quickchart:hover {\n",
              "    background-color: var(--hover-bg-color);\n",
              "    box-shadow: 0 1px 2px rgba(60, 64, 67, 0.3), 0 1px 3px 1px rgba(60, 64, 67, 0.15);\n",
              "    fill: var(--button-hover-fill-color);\n",
              "  }\n",
              "\n",
              "  .colab-df-quickchart-complete:disabled,\n",
              "  .colab-df-quickchart-complete:disabled:hover {\n",
              "    background-color: var(--disabled-bg-color);\n",
              "    fill: var(--disabled-fill-color);\n",
              "    box-shadow: none;\n",
              "  }\n",
              "\n",
              "  .colab-df-spinner {\n",
              "    border: 2px solid var(--fill-color);\n",
              "    border-color: transparent;\n",
              "    border-bottom-color: var(--fill-color);\n",
              "    animation:\n",
              "      spin 1s steps(1) infinite;\n",
              "  }\n",
              "\n",
              "  @keyframes spin {\n",
              "    0% {\n",
              "      border-color: transparent;\n",
              "      border-bottom-color: var(--fill-color);\n",
              "      border-left-color: var(--fill-color);\n",
              "    }\n",
              "    20% {\n",
              "      border-color: transparent;\n",
              "      border-left-color: var(--fill-color);\n",
              "      border-top-color: var(--fill-color);\n",
              "    }\n",
              "    30% {\n",
              "      border-color: transparent;\n",
              "      border-left-color: var(--fill-color);\n",
              "      border-top-color: var(--fill-color);\n",
              "      border-right-color: var(--fill-color);\n",
              "    }\n",
              "    40% {\n",
              "      border-color: transparent;\n",
              "      border-right-color: var(--fill-color);\n",
              "      border-top-color: var(--fill-color);\n",
              "    }\n",
              "    60% {\n",
              "      border-color: transparent;\n",
              "      border-right-color: var(--fill-color);\n",
              "    }\n",
              "    80% {\n",
              "      border-color: transparent;\n",
              "      border-right-color: var(--fill-color);\n",
              "      border-bottom-color: var(--fill-color);\n",
              "    }\n",
              "    90% {\n",
              "      border-color: transparent;\n",
              "      border-bottom-color: var(--fill-color);\n",
              "    }\n",
              "  }\n",
              "</style>\n",
              "\n",
              "  <script>\n",
              "    async function quickchart(key) {\n",
              "      const quickchartButtonEl =\n",
              "        document.querySelector('#' + key + ' button');\n",
              "      quickchartButtonEl.disabled = true;  // To prevent multiple clicks.\n",
              "      quickchartButtonEl.classList.add('colab-df-spinner');\n",
              "      try {\n",
              "        const charts = await google.colab.kernel.invokeFunction(\n",
              "            'suggestCharts', [key], {});\n",
              "      } catch (error) {\n",
              "        console.error('Error during call to suggestCharts:', error);\n",
              "      }\n",
              "      quickchartButtonEl.classList.remove('colab-df-spinner');\n",
              "      quickchartButtonEl.classList.add('colab-df-quickchart-complete');\n",
              "    }\n",
              "    (() => {\n",
              "      let quickchartButtonEl =\n",
              "        document.querySelector('#df-ce4ff47e-4c68-4b49-96fd-d80a8e5bea27 button');\n",
              "      quickchartButtonEl.style.display =\n",
              "        google.colab.kernel.accessAllowed ? 'block' : 'none';\n",
              "    })();\n",
              "  </script>\n",
              "</div>\n",
              "    </div>\n",
              "  </div>\n"
            ]
          },
          "metadata": {},
          "execution_count": 146
        }
      ]
    },
    {
      "cell_type": "code",
      "source": [
        "# Manually correcting 3 rows that have input errors in Harv_date\n",
        "df.loc[df[\"Harv_date\"]==\"2021-12-01\", \"Harv_date\"] = \"2022-12-01\" # Wrong year\n",
        "df.loc[df[\"Harv_date\"]==\"2021-12-03\", \"Harv_date\"] = \"2022-12-03\" # Wrong year\n",
        "df.loc[df[\"Harv_date\"]==\"2022-03-04\", \"Harv_date\"] = \"2022-11-04\" # I'm guessing the month is messed up, should probably be November"
      ],
      "metadata": {
        "id": "1DIn6Q_Y-TN-"
      },
      "execution_count": 147,
      "outputs": []
    },
    {
      "cell_type": "code",
      "source": [
        "# Number of days between Nursing and Sowing/Transplanting\n",
        "df[\"Days_bw_Nurs_SowTransp\"] = df[\"SeedingSowingTransplanting\"] - df[\"RcNursEstDate\"]\n",
        "\n",
        "# Number of days between Sowing/Transplanting and Harvesting\n",
        "df[\"Days_bw_SowTransp_Harv\"] = df[\"Harv_date\"] - df[\"SeedingSowingTransplanting\"]\n",
        "\n",
        "# Number of days between Harvesting and Threshing\n",
        "df[\"Days_bw_Harv_Thresh\"] = df[\"Threshing_date\"] - df[\"Harv_date\"]"
      ],
      "metadata": {
        "id": "dF-Bk00euvU8"
      },
      "execution_count": 148,
      "outputs": []
    },
    {
      "cell_type": "code",
      "source": [
        "# Re-formatting the new variables\n",
        "days_cols = [\"Days_bw_Nurs_SowTransp\",\"Days_bw_SowTransp_Harv\",\"Days_bw_Harv_Thresh\"]\n",
        "\n",
        "for col in days_cols:\n",
        "  df[col] = df[col].astype(str).str[:-5]\n",
        "\n",
        "# for rows where RcNursEstDate = NaN:\n",
        "df.loc[df[\"Days_bw_Nurs_SowTransp\"]=='', \"Days_bw_Nurs_SowTransp\"] = np.nan\n",
        "\n",
        "for col in days_cols:\n",
        "  df[col] = df[col].astype(float)"
      ],
      "metadata": {
        "id": "aXylhHuixw3e"
      },
      "execution_count": 149,
      "outputs": []
    },
    {
      "cell_type": "code",
      "source": [
        "# Visualizing these new variables\n",
        "fig=px.box(df, x=\"Days_bw_Nurs_SowTransp\", width=600, height=350, labels={'Days_bw_Nurs_SowTransp':'Number of days between Nursing and Sowing/Transplanting'})\n",
        "fig.show()\n",
        "\n",
        "fig=px.box(df, x=\"Days_bw_SowTransp_Harv\", width=600, height=350, labels={'Days_bw_SowTransp_Harv':'Number of days between Sowing/Transplanting and Harvesting'})\n",
        "fig.show()\n",
        "\n",
        "fig=px.box(df, x=\"Days_bw_Harv_Thresh\", width=600, height=350, labels={'Days_bw_Harv_Thresh':'Number of days between Harvesting and Threshing'})\n",
        "fig.show()"
      ],
      "metadata": {
        "colab": {
          "base_uri": "https://localhost:8080/",
          "height": 1000
        },
        "id": "ofBmI_qO5oa-",
        "outputId": "6bb9711a-a06f-4ac3-8656-08df3e567918"
      },
      "execution_count": 150,
      "outputs": [
        {
          "output_type": "display_data",
          "data": {
            "text/html": [
              "<html>\n",
              "<head><meta charset=\"utf-8\" /></head>\n",
              "<body>\n",
              "    <div>            <script src=\"https://cdnjs.cloudflare.com/ajax/libs/mathjax/2.7.5/MathJax.js?config=TeX-AMS-MML_SVG\"></script><script type=\"text/javascript\">if (window.MathJax && window.MathJax.Hub && window.MathJax.Hub.Config) {window.MathJax.Hub.Config({SVG: {font: \"STIX-Web\"}});}</script>                <script type=\"text/javascript\">window.PlotlyConfig = {MathJaxConfig: 'local'};</script>\n",
              "        <script charset=\"utf-8\" src=\"https://cdn.plot.ly/plotly-2.24.1.min.js\"></script>                <div id=\"987c553b-ebef-4a85-a724-769cb5419b0f\" class=\"plotly-graph-div\" style=\"height:350px; width:600px;\"></div>            <script type=\"text/javascript\">                                    window.PLOTLYENV=window.PLOTLYENV || {};                                    if (document.getElementById(\"987c553b-ebef-4a85-a724-769cb5419b0f\")) {                    Plotly.newPlot(                        \"987c553b-ebef-4a85-a724-769cb5419b0f\",                        [{\"alignmentgroup\":\"True\",\"hovertemplate\":\"Number of days between Nursing and Sowing\\u002fTransplanting=%{x}\\u003cextra\\u003e\\u003c\\u002fextra\\u003e\",\"legendgroup\":\"\",\"marker\":{\"color\":\"#636efa\"},\"name\":\"\",\"notched\":false,\"offsetgroup\":\"\",\"orientation\":\"h\",\"showlegend\":false,\"x\":[24.0,30.0,54.0,30.0,29.0,21.0,25.0,null,24.0,19.0,26.0,31.0,34.0,40.0,36.0,null,33.0,23.0,27.0,24.0,19.0,29.0,31.0,14.0,39.0,21.0,32.0,46.0,20.0,35.0,30.0,27.0,17.0,28.0,26.0,20.0,29.0,24.0,23.0,48.0,26.0,27.0,25.0,29.0,28.0,27.0,29.0,24.0,26.0,24.0,28.0,15.0,43.0,22.0,51.0,27.0,28.0,29.0,40.0,26.0,24.0,26.0,26.0,40.0,25.0,9.0,28.0,39.0,22.0,17.0,29.0,21.0,26.0,38.0,34.0,27.0,37.0,29.0,36.0,39.0,39.0,51.0,21.0,34.0,29.0,32.0,26.0,25.0,19.0,22.0,22.0,36.0,21.0,34.0,32.0,24.0,22.0,35.0,33.0,21.0,50.0,20.0,24.0,27.0,41.0,22.0,26.0,18.0,24.0,23.0,35.0,18.0,27.0,37.0,34.0,19.0,30.0,20.0,24.0,57.0,20.0,null,25.0,35.0,25.0,24.0,36.0,30.0,31.0,24.0,2.0,33.0,57.0,33.0,33.0,30.0,24.0,29.0,37.0,26.0,37.0,23.0,35.0,33.0,33.0,38.0,36.0,5.0,30.0,27.0,62.0,25.0,35.0,37.0,41.0,22.0,25.0,16.0,40.0,26.0,5.0,29.0,32.0,26.0,26.0,22.0,28.0,40.0,34.0,null,34.0,24.0,21.0,44.0,20.0,43.0,43.0,15.0,32.0,41.0,35.0,34.0,41.0,33.0,29.0,54.0,20.0,4.0,25.0,5.0,24.0,29.0,27.0,26.0,38.0,25.0,31.0,29.0,31.0,20.0,39.0,26.0,19.0,46.0,30.0,24.0,30.0,20.0,29.0,32.0,24.0,16.0,49.0,32.0,29.0,30.0,29.0,30.0,31.0,20.0,27.0,24.0,4.0,22.0,22.0,37.0,28.0,17.0,30.0,24.0,31.0,21.0,24.0,null,15.0,38.0,21.0,18.0,37.0,28.0,33.0,35.0,33.0,32.0,28.0,23.0,22.0,42.0,31.0,24.0,26.0,60.0,19.0,25.0,27.0,29.0,23.0,24.0,26.0,39.0,22.0,22.0,40.0,15.0,30.0,27.0,27.0,21.0,38.0,33.0,30.0,36.0,23.0,5.0,26.0,32.0,28.0,35.0,33.0,42.0,19.0,41.0,32.0,17.0,23.0,30.0,37.0,26.0,26.0,30.0,15.0,36.0,22.0,31.0,15.0,24.0,22.0,23.0,19.0,5.0,21.0,30.0,22.0,29.0,24.0,29.0,17.0,39.0,14.0,4.0,28.0,23.0,29.0,30.0,37.0,23.0,21.0,28.0,41.0,29.0,37.0,39.0,19.0,41.0,25.0,24.0,37.0,24.0,24.0,39.0,33.0,22.0,33.0,23.0,29.0,27.0,26.0,22.0,47.0,29.0,26.0,24.0,36.0,29.0,20.0,25.0,25.0,19.0,22.0,46.0,38.0,25.0,27.0,27.0,36.0,25.0,31.0,19.0,24.0,37.0,19.0,29.0,53.0,19.0,25.0,20.0,23.0,21.0,31.0,49.0,30.0,39.0,16.0,null,29.0,27.0,26.0,31.0,20.0,20.0,20.0,14.0,33.0,28.0,42.0,null,41.0,47.0,17.0,38.0,21.0,36.0,22.0,29.0,22.0,35.0,24.0,28.0,33.0,24.0,27.0,22.0,27.0,35.0,null,27.0,29.0,30.0,26.0,21.0,30.0,36.0,25.0,38.0,27.0,31.0,27.0,44.0,34.0,25.0,22.0,25.0,20.0,32.0,26.0,45.0,19.0,39.0,40.0,37.0,23.0,32.0,30.0,33.0,25.0,38.0,24.0,21.0,19.0,27.0,34.0,34.0,31.0,37.0,23.0,44.0,19.0,24.0,23.0,null,46.0,34.0,21.0,21.0,23.0,26.0,30.0,32.0,26.0,19.0,23.0,37.0,25.0,33.0,24.0,30.0,23.0,53.0,35.0,25.0,25.0,25.0,38.0,39.0,16.0,33.0,30.0,45.0,25.0,26.0,21.0,22.0,43.0,56.0,42.0,31.0,25.0,19.0,23.0,29.0,37.0,56.0,16.0,19.0,21.0,25.0,44.0,18.0,32.0,24.0,27.0,45.0,46.0,34.0,36.0,22.0,32.0,33.0,36.0,39.0,23.0,22.0,20.0,41.0,24.0,32.0,10.0,27.0,5.0,30.0,40.0,28.0,34.0,25.0,33.0,38.0,15.0,26.0,34.0,30.0,36.0,25.0,19.0,34.0,29.0,29.0,30.0,34.0,21.0,27.0,21.0,27.0,29.0,42.0,33.0,17.0,50.0,15.0,19.0,22.0,32.0,25.0,20.0,47.0,23.0,28.0,18.0,21.0,24.0,21.0,36.0,26.0,29.0,32.0,32.0,23.0,26.0,25.0,30.0,28.0,33.0,20.0,19.0,20.0,15.0,25.0,28.0,31.0,23.0,25.0,32.0,23.0,44.0,37.0,33.0,30.0,44.0,29.0,31.0,23.0,31.0,16.0,32.0,27.0,25.0,25.0,26.0,47.0,38.0,27.0,24.0,26.0,24.0,31.0,34.0,50.0,39.0,20.0,25.0,24.0,22.0,27.0,23.0,21.0,33.0,36.0,21.0,45.0,27.0,33.0,20.0,14.0,19.0,24.0,40.0,32.0,25.0,47.0,27.0,25.0,50.0,22.0,26.0,20.0,20.0,27.0,31.0,39.0,51.0,26.0,25.0,19.0,46.0,27.0,35.0,37.0,28.0,27.0,25.0,24.0,37.0,25.0,16.0,16.0,24.0,33.0,24.0,37.0,23.0,41.0,23.0,52.0,32.0,35.0,19.0,31.0,22.0,25.0,29.0,27.0,28.0,35.0,28.0,30.0,29.0,26.0,32.0,22.0,27.0,25.0,32.0,22.0,30.0,21.0,25.0,23.0,24.0,35.0,26.0,30.0,18.0,26.0,29.0,26.0,27.0,25.0,23.0,20.0,35.0,20.0,30.0,25.0,22.0,31.0,20.0,36.0,25.0,44.0,43.0,24.0,35.0,24.0,20.0,39.0,20.0,16.0,26.0,32.0,23.0,36.0,30.0,30.0,34.0,33.0,22.0,27.0,38.0,37.0,22.0,20.0,27.0,34.0,41.0,23.0,22.0,40.0,32.0,23.0,46.0,29.0,24.0,30.0,24.0,26.0,41.0,23.0,33.0,33.0,32.0,20.0,30.0,26.0,37.0,20.0,30.0,28.0,21.0,32.0,40.0,27.0,34.0,27.0,34.0,57.0,22.0,null,22.0,22.0,24.0,28.0,23.0,31.0,20.0,28.0,25.0,27.0,33.0,32.0,24.0,35.0,29.0,null,26.0,53.0,26.0,24.0,23.0,37.0,19.0,15.0,26.0,41.0,21.0,32.0,27.0,49.0,31.0,30.0,37.0,27.0,27.0,27.0,54.0,20.0,23.0,17.0,20.0,29.0,20.0,null,36.0,39.0,23.0,41.0,30.0,36.0,34.0,36.0,16.0,15.0,36.0,37.0,26.0,34.0,22.0,35.0,30.0,29.0,20.0,27.0,28.0,37.0,23.0,27.0,15.0,21.0,31.0,38.0,32.0,33.0,27.0,23.0,24.0,32.0,37.0,29.0,10.0,33.0,29.0,19.0,34.0,38.0,28.0,21.0,23.0,28.0,17.0,30.0,10.0,32.0,19.0,36.0,20.0,23.0,20.0,27.0,null,30.0,24.0,20.0,22.0,34.0,10.0,37.0,29.0,31.0,20.0,18.0,36.0,36.0,35.0,32.0,27.0,20.0,32.0,47.0,26.0,28.0,20.0,18.0,38.0,29.0,39.0,41.0,27.0,30.0,23.0,18.0,29.0,49.0,39.0,14.0,27.0,40.0,null,20.0,18.0,39.0,33.0,9.0,29.0,24.0,null,17.0,22.0,30.0,7.0,22.0,22.0,20.0,31.0,26.0,25.0,null,35.0,29.0,23.0,26.0,10.0,30.0,23.0,19.0,33.0,49.0,49.0,36.0,25.0,29.0,33.0,28.0,31.0,24.0,33.0,29.0,23.0,14.0,27.0,34.0,null,22.0,45.0,44.0,13.0,19.0,28.0,22.0,21.0,6.0,30.0,26.0,23.0,25.0,31.0,32.0,22.0,25.0,31.0,29.0,23.0,32.0,null,26.0,16.0,54.0,26.0,39.0,39.0,50.0,35.0,34.0,27.0,null,21.0,36.0,29.0,68.0,8.0,30.0,20.0,29.0,38.0,5.0,35.0,23.0,24.0,45.0,30.0,57.0,24.0,20.0,30.0,53.0,29.0,38.0,28.0,27.0,25.0,52.0,27.0,43.0,29.0,17.0,48.0,34.0,46.0,48.0,35.0,42.0,34.0,21.0,26.0,30.0,47.0,28.0,23.0,26.0,25.0,25.0,17.0,32.0,30.0,46.0,32.0,27.0,25.0,30.0,15.0,null,18.0,null,26.0,21.0,37.0,26.0,42.0,4.0,23.0,25.0,29.0,23.0,30.0,25.0,46.0,21.0,35.0,25.0,40.0,30.0,27.0,25.0,37.0,42.0,33.0,52.0,27.0,39.0,20.0,31.0,32.0,32.0,5.0,29.0,25.0,30.0,null,26.0,26.0,29.0,20.0,28.0,22.0,38.0,26.0,50.0,26.0,25.0,29.0,24.0,35.0,24.0,20.0,22.0,30.0,30.0,24.0,37.0,26.0,36.0,35.0,50.0,21.0,27.0,24.0,29.0,34.0,34.0,27.0,null,44.0,19.0,33.0,15.0,30.0,30.0,38.0,41.0,17.0,15.0,45.0,56.0,28.0,25.0,24.0,30.0,44.0,44.0,21.0,33.0,25.0,45.0,20.0,18.0,39.0,26.0,22.0,36.0,26.0,27.0,24.0,23.0,19.0,25.0,23.0,28.0,32.0,19.0,36.0,57.0,22.0,20.0,24.0,19.0,25.0,33.0,29.0,33.0,32.0,null,26.0,22.0,26.0,23.0,38.0,17.0,31.0,27.0,19.0,38.0,44.0,28.0,27.0,19.0,null,24.0,26.0,37.0,30.0,24.0,24.0,23.0,25.0,33.0,42.0,24.0,22.0,31.0,27.0,34.0,null,22.0,25.0,24.0,25.0,24.0,24.0,28.0,29.0,25.0,43.0,22.0,16.0,33.0,37.0,23.0,30.0,19.0,45.0,38.0,27.0,28.0,26.0,40.0,21.0,26.0,19.0,24.0,22.0,22.0,24.0,54.0,43.0,15.0,20.0,26.0,23.0,24.0,44.0,36.0,22.0,26.0,27.0,35.0,27.0,34.0,32.0,20.0,21.0,14.0,31.0,22.0,32.0,23.0,40.0,23.0,29.0,27.0,39.0,27.0,35.0,27.0,16.0,26.0,39.0,32.0,29.0,31.0,34.0,39.0,28.0,27.0,23.0,27.0,30.0,27.0,24.0,29.0,22.0,23.0,21.0,23.0,30.0,45.0,25.0,23.0,10.0,29.0,29.0,23.0,36.0,31.0,4.0,30.0,30.0,23.0,20.0,48.0,30.0,30.0,18.0,37.0,33.0,25.0,36.0,23.0,36.0,33.0,null,20.0,23.0,36.0,38.0,21.0,23.0,38.0,43.0,34.0,26.0,22.0,27.0,34.0,28.0,26.0,21.0,27.0,30.0,20.0,30.0,31.0,19.0,23.0,25.0,20.0,55.0,35.0,38.0,24.0,23.0,30.0,24.0,19.0,22.0,22.0,25.0,35.0,25.0,24.0,null,20.0,30.0,25.0,26.0,20.0,27.0,35.0,40.0,33.0,27.0,39.0,33.0,28.0,28.0,33.0,21.0,19.0,29.0,24.0,28.0,24.0,null,35.0,22.0,27.0,27.0,21.0,36.0,21.0,35.0,18.0,30.0,24.0,30.0,35.0,36.0,24.0,31.0,48.0,28.0,28.0,1.0,28.0,33.0,24.0,25.0,32.0,34.0,33.0,37.0,33.0,32.0,31.0,19.0,30.0,18.0,12.0,28.0,26.0,16.0,20.0,32.0,34.0,25.0,20.0,32.0,24.0,51.0,40.0,33.0,37.0,27.0,50.0,20.0,38.0,28.0,40.0,26.0,23.0,21.0,19.0,26.0,28.0,33.0,null,28.0,30.0,21.0,31.0,34.0,25.0,20.0,35.0,23.0,25.0,29.0,31.0,27.0,24.0,null,28.0,34.0,28.0,30.0,22.0,38.0,34.0,39.0,31.0,26.0,21.0,32.0,42.0,25.0,37.0,31.0,44.0,24.0,27.0,22.0,24.0,29.0,57.0,21.0,30.0,30.0,23.0,24.0,26.0,20.0,34.0,20.0,39.0,25.0,15.0,24.0,26.0,25.0,34.0,39.0,19.0,36.0,33.0,23.0,19.0,26.0,24.0,33.0,33.0,25.0,33.0,38.0,36.0,26.0,32.0,28.0,25.0,44.0,19.0,40.0,26.0,28.0,33.0,19.0,29.0,25.0,29.0,29.0,20.0,28.0,28.0,28.0,38.0,20.0,37.0,38.0,16.0,25.0,27.0,29.0,35.0,19.0,23.0,26.0,33.0,26.0,38.0,52.0,28.0,28.0,60.0,24.0,30.0,20.0,21.0,48.0,25.0,22.0,43.0,23.0,29.0,26.0,28.0,30.0,31.0,null,23.0,19.0,20.0,37.0,47.0,28.0,53.0,25.0,33.0,38.0,32.0,22.0,19.0,41.0,37.0,24.0,null,25.0,38.0,17.0,19.0,26.0,null,41.0,14.0,34.0,47.0,20.0,31.0,31.0,19.0,36.0,26.0,20.0,45.0,29.0,25.0,23.0,32.0,25.0,27.0,9.0,24.0,26.0,32.0,28.0,31.0,null,35.0,39.0,26.0,20.0,27.0,29.0,27.0,34.0,36.0,24.0,37.0,21.0,48.0,23.0,28.0,30.0,28.0,29.0,39.0,32.0,39.0,null,36.0,19.0,22.0,31.0,30.0,29.0,24.0,28.0,17.0,33.0,25.0,35.0,34.0,35.0,20.0,39.0,26.0,28.0,24.0,20.0,14.0,30.0,25.0,34.0,25.0,30.0,20.0,28.0,27.0,35.0,39.0,15.0,38.0,23.0,33.0,33.0,44.0,20.0,31.0,39.0,40.0,20.0,41.0,26.0,31.0,36.0,50.0,20.0,32.0,11.0,32.0,26.0,27.0,29.0,29.0,32.0,29.0,23.0,27.0,26.0,27.0,29.0,34.0,13.0,24.0,23.0,20.0,27.0,23.0,41.0,27.0,40.0,24.0,22.0,21.0,22.0,45.0,28.0,53.0,21.0,19.0,2.0,24.0,29.0,25.0,24.0,20.0,25.0,33.0,24.0,26.0,28.0,38.0,30.0,37.0,15.0,30.0,25.0,24.0,17.0,30.0,15.0,51.0,null,22.0,null,26.0,15.0,14.0,27.0,20.0,26.0,23.0,24.0,26.0,26.0,17.0,26.0,19.0,57.0,25.0,null,23.0,24.0,39.0,8.0,14.0,38.0,20.0,30.0,33.0,31.0,22.0,17.0,22.0,62.0,33.0,25.0,28.0,28.0,23.0,36.0,null,25.0,23.0,34.0,21.0,28.0,22.0,21.0,33.0,29.0,34.0,25.0,28.0,27.0,50.0,28.0,18.0,null,49.0,38.0,24.0,20.0,23.0,null,23.0,24.0,30.0,27.0,21.0,28.0,38.0,23.0,38.0,28.0,19.0,31.0,31.0,26.0,10.0,22.0,27.0,26.0,34.0,38.0,22.0,30.0,38.0,26.0,34.0,26.0,22.0,15.0,30.0,null,40.0,26.0,46.0,54.0,20.0,37.0,15.0,17.0,32.0,35.0,25.0,20.0,40.0,28.0,14.0,24.0,33.0,20.0,23.0,29.0,28.0,20.0,16.0,23.0,27.0,34.0,29.0,27.0,34.0,28.0,null,24.0,22.0,29.0,21.0,53.0,21.0,null,30.0,15.0,29.0,28.0,39.0,22.0,29.0,24.0,50.0,38.0,26.0,20.0,20.0,36.0,32.0,31.0,34.0,30.0,22.0,18.0,28.0,22.0,35.0,34.0,15.0,32.0,29.0,35.0,23.0,3.0,9.0,48.0,22.0,53.0,25.0,49.0,29.0,25.0,29.0,39.0,23.0,40.0,27.0,21.0,24.0,null,25.0,26.0,25.0,24.0,19.0,36.0,20.0,32.0,18.0,30.0,23.0,21.0,25.0,19.0,43.0,36.0,21.0,12.0,35.0,26.0,35.0,36.0,27.0,27.0,26.0,29.0,40.0,23.0,15.0,28.0,28.0,26.0,27.0,29.0,25.0,35.0,43.0,25.0,20.0,22.0,29.0,26.0,41.0,39.0,15.0,16.0,28.0,27.0,39.0,37.0,15.0,26.0,47.0,45.0,19.0,39.0,31.0,21.0,40.0,22.0,30.0,31.0,36.0,25.0,27.0,25.0,32.0,25.0,31.0,24.0,21.0,24.0,18.0,29.0,29.0,51.0,29.0,29.0,24.0,38.0,47.0,15.0,33.0,29.0,15.0,23.0,36.0,18.0,23.0,25.0,28.0,19.0,26.0,18.0,25.0,28.0,40.0,45.0,23.0,27.0,null,27.0,23.0,25.0,44.0,null,30.0,32.0,30.0,25.0,37.0,32.0,34.0,22.0,23.0,39.0,32.0,20.0,24.0,23.0,25.0,33.0,28.0,23.0,28.0,33.0,36.0,31.0,20.0,21.0,20.0,30.0,40.0,32.0,24.0,21.0,24.0,13.0,29.0,24.0,31.0,22.0,39.0,28.0,24.0,26.0,25.0,25.0,35.0,25.0,50.0,24.0,24.0,28.0,35.0,25.0,20.0,25.0,43.0,21.0,29.0,27.0,24.0,21.0,24.0,17.0,26.0,34.0,30.0,32.0,22.0,16.0,30.0,28.0,18.0,35.0,29.0,36.0,23.0,30.0,32.0,22.0,40.0,33.0,37.0,24.0,29.0,29.0,28.0,54.0,28.0,22.0,33.0,18.0,27.0,47.0,29.0,25.0,22.0,35.0,30.0,48.0,30.0,20.0,17.0,23.0,46.0,23.0,36.0,27.0,38.0,32.0,18.0,21.0,33.0,38.0,29.0,39.0,27.0,41.0,18.0,29.0,33.0,15.0,30.0,24.0,26.0,23.0,33.0,25.0,30.0,31.0,29.0,36.0,42.0,44.0,40.0,38.0,46.0,null,20.0,38.0,36.0,19.0,28.0,27.0,34.0,21.0,31.0,38.0,25.0,39.0,32.0,58.0,49.0,32.0,24.0,28.0,18.0,26.0,30.0,27.0,22.0,21.0,32.0,35.0,45.0,22.0,30.0,23.0,16.0,42.0,32.0,26.0,29.0,28.0,27.0,26.0,20.0,33.0,38.0,37.0,24.0,25.0,22.0,40.0,23.0,39.0,35.0,46.0,17.0,37.0,56.0,26.0,12.0,38.0,28.0,22.0,20.0,25.0,24.0,28.0,45.0,26.0,27.0,46.0,52.0,31.0,31.0,27.0,26.0,32.0,19.0,26.0,20.0,33.0,21.0,30.0,34.0,25.0,29.0,29.0,37.0,21.0,20.0,57.0,31.0,35.0,32.0,12.0,25.0,29.0,19.0,23.0,19.0,35.0,54.0,45.0,29.0,26.0,26.0,20.0,54.0,18.0,27.0,40.0,25.0,40.0,14.0,26.0,25.0,22.0,29.0,25.0,29.0,40.0,25.0,31.0,19.0,23.0,32.0,30.0,29.0,20.0,26.0,29.0,33.0,25.0,24.0,28.0,47.0,22.0,35.0,23.0,27.0,25.0,19.0,22.0,23.0,38.0,38.0,37.0,21.0,26.0,13.0,27.0,30.0,46.0,22.0,33.0,34.0,51.0,36.0,25.0,29.0,28.0,26.0,19.0,19.0,32.0,24.0,20.0,32.0,28.0,34.0,29.0,39.0,38.0,24.0,26.0,23.0,24.0,33.0,30.0,20.0,35.0,32.0,24.0,25.0,31.0,20.0,19.0,25.0,22.0,17.0,29.0,19.0,21.0,50.0,39.0,26.0,28.0,34.0,30.0,45.0,31.0,25.0,30.0,39.0,30.0,32.0,31.0,31.0,15.0,22.0,23.0,19.0,17.0,29.0,33.0,36.0,28.0,25.0,28.0,37.0,26.0,27.0,29.0,32.0,18.0,20.0,24.0,24.0,21.0,36.0,26.0,23.0,35.0,26.0,34.0,38.0,53.0,31.0,1.0,28.0,19.0,26.0,37.0,20.0,30.0,24.0,19.0,27.0,15.0,28.0,41.0,37.0,26.0,30.0,22.0,38.0,21.0,20.0,26.0,31.0,27.0,21.0,28.0,37.0,34.0,30.0,53.0,31.0,44.0,41.0,24.0,23.0,55.0,26.0,38.0,28.0,56.0,29.0,22.0,32.0,31.0,15.0,28.0,23.0,22.0,32.0,31.0,17.0,36.0,26.0,24.0,34.0,23.0,20.0,26.0,30.0,26.0,26.0,20.0,22.0,34.0,29.0,48.0,33.0,27.0,27.0,26.0,26.0,62.0,32.0,26.0,27.0,25.0,40.0,28.0,26.0,20.0,25.0,31.0,30.0,26.0,31.0,24.0,24.0,30.0,27.0,42.0,20.0,26.0,29.0,22.0,33.0,39.0,17.0,26.0,27.0,2.0,24.0,1.0,25.0,41.0,32.0,37.0,49.0,24.0,37.0,14.0,25.0,23.0,23.0,null,6.0,3.0,25.0,6.0,15.0,27.0,30.0,22.0,23.0,34.0,28.0,17.0,24.0,26.0,28.0,62.0,10.0,22.0,21.0,23.0,27.0,22.0,28.0,null,25.0,33.0,58.0,27.0,28.0,18.0,29.0,null,37.0,68.0,40.0,null,29.0,22.0,32.0,36.0,41.0,36.0,44.0,28.0,18.0,34.0,26.0,27.0,27.0,53.0,42.0,44.0,31.0,33.0,47.0,20.0,35.0,25.0,39.0,19.0,22.0,15.0,24.0,40.0,33.0,26.0,34.0,26.0,24.0,15.0,27.0,23.0,22.0,25.0,32.0,null,24.0,35.0,20.0,27.0,26.0,36.0,26.0,null,23.0,36.0,23.0,35.0,37.0,23.0,23.0,26.0,39.0,38.0,37.0,17.0,23.0,25.0,40.0,37.0,34.0,24.0,23.0,19.0,31.0,39.0,40.0,39.0,29.0,31.0,25.0,32.0,27.0,40.0,36.0,33.0,15.0,35.0,30.0,29.0,28.0,5.0,20.0,35.0,31.0,31.0,27.0,46.0,null,34.0,54.0,24.0,26.0,28.0,27.0,21.0,36.0,35.0,26.0,24.0,53.0,22.0,45.0,55.0,36.0,26.0,26.0,34.0,33.0,25.0,18.0,21.0,30.0,34.0,20.0,33.0,21.0,29.0,32.0,42.0,31.0,26.0,39.0,26.0,35.0,41.0,20.0,32.0,35.0,35.0,22.0,32.0,26.0,28.0,45.0,36.0,37.0,34.0,18.0,19.0,33.0,38.0,25.0,34.0,36.0,21.0,19.0,21.0,37.0,27.0,31.0,38.0,21.0,56.0,23.0,35.0,23.0,29.0,37.0,24.0,29.0,23.0,35.0,31.0,40.0,21.0,23.0,39.0,22.0,34.0,14.0,36.0,23.0,27.0,31.0,34.0,30.0,25.0,24.0,45.0,23.0,39.0,38.0,21.0,34.0,27.0,38.0,25.0,21.0,32.0,28.0,28.0,26.0,29.0,25.0,20.0,24.0,38.0,26.0,25.0,42.0,44.0,26.0,20.0,20.0,27.0,46.0,25.0,25.0,19.0,25.0,26.0,null,39.0,26.0,19.0,18.0,null,24.0,31.0,30.0,23.0,24.0,null,36.0,23.0,23.0,28.0,35.0,23.0,40.0,29.0,19.0,23.0,26.0,53.0,36.0,26.0,39.0,39.0,26.0,23.0,35.0,13.0,43.0,34.0,20.0,38.0,16.0,29.0,null,23.0,29.0,24.0,18.0,24.0,31.0,31.0,null,27.0,31.0,20.0,25.0,26.0,32.0,51.0,31.0,4.0,30.0,25.0,45.0,25.0,21.0,30.0,22.0,40.0,34.0,19.0,32.0,33.0,20.0,30.0,24.0,45.0,36.0,26.0,24.0,24.0,22.0,36.0,22.0,41.0,31.0,19.0,10.0,68.0,36.0,37.0,34.0,28.0,30.0,27.0,43.0,29.0,27.0,12.0,23.0,40.0,39.0,36.0,24.0,25.0,19.0,28.0,19.0,26.0,13.0,30.0,24.0,20.0,32.0,24.0,32.0,35.0,20.0,22.0,26.0,27.0,21.0,16.0,27.0,20.0,23.0,19.0,25.0,35.0,27.0,28.0,28.0,31.0,35.0,25.0,29.0,30.0,24.0,16.0,40.0,27.0,35.0,19.0,null,22.0,20.0,21.0,26.0,35.0,null,30.0,25.0,37.0,31.0,27.0,44.0,38.0,40.0,20.0,29.0,29.0,17.0,25.0,26.0,27.0,24.0,36.0,45.0,38.0,34.0,24.0,24.0,39.0,20.0,34.0,37.0,25.0,25.0,16.0,19.0,31.0,39.0,36.0,24.0,48.0,28.0,27.0,36.0,24.0,24.0,26.0,25.0,31.0,24.0,30.0,30.0,24.0,38.0,21.0,28.0,31.0,30.0,19.0,33.0,41.0,27.0,19.0,30.0,24.0,23.0,34.0,25.0,3.0,14.0,30.0,25.0,18.0,31.0,30.0,22.0,23.0,32.0,19.0,31.0,29.0,25.0,35.0,27.0,41.0,25.0,29.0,23.0,34.0,31.0,36.0,25.0,null,34.0,22.0,28.0,35.0,44.0,30.0,26.0,19.0,16.0,25.0,29.0,29.0,46.0,38.0,23.0,19.0,26.0,31.0,30.0,21.0,19.0,19.0,21.0,32.0,57.0,33.0,48.0,23.0,29.0,37.0,24.0,14.0,35.0,30.0,28.0,27.0,29.0,34.0,28.0,44.0,26.0,29.0,50.0,21.0,32.0,32.0,31.0,21.0,37.0,29.0,34.0,29.0,15.0,30.0,30.0,37.0,28.0,19.0,30.0,24.0,24.0,20.0,24.0,21.0,33.0,21.0,19.0,32.0,10.0,16.0,23.0,23.0,46.0,58.0,35.0,16.0,31.0,19.0,27.0,37.0,36.0,20.0,36.0,29.0,28.0,27.0,15.0,27.0,35.0,36.0,24.0,14.0,null,23.0,49.0,21.0,null,29.0,31.0,29.0,23.0,41.0,24.0,23.0,37.0,25.0,44.0,28.0,29.0,37.0,20.0,44.0,17.0,36.0,36.0,21.0,15.0,23.0,19.0,23.0,26.0,29.0,38.0,29.0,31.0,30.0,22.0,30.0,31.0,33.0,31.0,null,33.0,13.0,23.0,23.0,35.0,41.0,27.0,27.0,37.0,39.0,38.0,48.0,28.0,17.0,32.0,20.0,34.0,29.0,34.0,15.0,20.0,28.0,23.0,26.0,34.0,26.0,25.0,53.0,34.0,34.0,22.0,24.0,38.0,35.0,23.0,44.0,28.0,37.0,30.0,27.0,26.0,28.0,24.0,25.0,25.0,24.0,24.0,20.0,41.0,32.0,35.0,30.0,22.0,38.0,37.0,32.0,20.0,34.0,37.0,35.0,29.0,30.0,22.0,53.0,26.0,22.0,37.0,23.0,15.0,27.0,53.0,21.0,44.0,22.0,40.0,27.0,31.0,24.0,22.0,29.0,15.0,29.0,23.0,34.0,32.0,25.0,36.0,51.0,31.0,17.0,36.0,30.0,26.0,31.0,29.0,39.0,27.0,25.0,28.0,36.0,23.0,33.0,41.0,39.0,26.0,23.0,32.0,27.0,21.0,15.0,21.0,24.0,24.0,26.0,null,34.0,40.0,28.0,24.0,39.0,37.0,18.0,35.0,33.0,27.0,35.0,24.0,14.0,60.0,28.0,31.0,47.0,28.0,null,20.0,26.0,45.0,28.0,15.0,24.0,26.0,40.0,15.0,26.0,31.0,46.0,22.0,24.0,31.0,51.0,25.0,27.0,29.0,19.0,25.0,27.0,43.0,20.0,19.0,19.0,23.0,52.0,null,20.0,25.0,27.0,24.0,30.0,25.0,28.0,30.0,38.0,25.0,25.0,20.0,34.0,null,33.0,29.0,38.0,27.0,34.0,32.0,38.0,25.0,20.0,26.0,42.0,30.0,25.0,27.0,25.0,43.0,23.0,20.0,33.0,32.0,30.0,27.0,33.0,28.0,45.0,34.0,33.0,34.0,23.0,28.0,48.0,43.0,32.0,24.0,30.0,28.0,34.0,24.0,24.0,42.0,42.0,36.0,23.0,29.0,18.0,34.0,21.0,20.0,19.0,16.0,28.0,30.0,54.0,18.0,28.0,39.0,57.0,32.0,27.0,24.0,23.0,38.0,27.0,30.0,22.0,47.0,49.0,34.0,25.0,34.0,30.0,26.0,24.0,28.0,45.0,26.0,21.0,39.0,37.0,34.0,12.0,35.0,30.0,35.0,27.0,41.0,26.0,23.0,32.0,29.0,27.0,28.0,26.0,26.0,8.0,29.0,44.0,29.0,5.0,27.0,24.0,30.0,28.0,57.0,53.0,23.0,14.0,33.0,27.0,20.0,25.0,24.0,28.0,38.0,14.0,20.0,29.0,20.0,26.0,54.0,20.0,25.0,27.0,25.0,27.0,29.0,31.0,24.0,null,21.0,29.0,34.0,29.0,20.0,15.0,27.0,42.0,19.0,16.0,43.0,25.0,28.0,19.0,30.0,27.0,23.0,31.0,20.0,27.0,27.0,29.0,24.0,38.0,29.0,24.0,24.0,34.0,30.0,20.0,23.0,26.0,16.0,27.0,52.0,34.0,25.0,24.0,20.0,31.0,25.0,25.0,30.0,48.0,35.0,27.0,22.0,null,26.0,31.0,25.0,28.0,37.0,34.0,38.0,24.0,33.0,20.0,40.0,26.0,30.0,24.0,22.0,37.0,44.0,39.0,46.0,42.0,27.0,39.0,null,35.0,31.0,42.0,28.0,28.0,41.0,27.0,20.0,18.0,21.0,39.0,35.0,31.0,24.0,29.0,23.0,26.0,41.0,46.0,31.0,28.0,28.0,19.0,21.0,35.0,39.0,null,30.0,34.0,44.0,28.0,37.0,26.0,32.0,22.0,24.0,28.0,20.0,20.0,26.0,55.0,19.0,34.0,19.0,19.0,45.0,39.0,23.0,26.0,27.0,31.0,26.0,34.0,26.0,24.0,39.0,21.0,null,26.0,21.0,23.0,30.0,21.0,31.0,20.0,25.0,22.0,31.0,32.0,20.0,33.0,23.0,20.0,26.0,23.0,26.0,25.0,33.0,32.0,33.0,30.0,26.0,22.0,24.0,31.0,39.0,29.0,27.0,50.0,25.0,27.0,31.0,23.0,19.0,35.0,27.0,34.0,39.0,23.0,null,36.0,19.0,31.0,28.0,27.0,34.0,24.0,32.0,19.0,54.0,26.0,31.0,28.0,48.0,23.0,19.0,22.0,36.0,21.0,23.0,31.0,30.0,34.0,29.0,27.0,42.0,28.0,34.0,25.0,20.0,16.0,28.0,24.0,38.0,35.0,27.0,34.0,32.0,32.0,26.0,44.0,18.0,19.0,40.0,43.0,27.0,23.0,44.0,42.0,28.0,19.0,33.0,24.0,35.0,50.0,20.0,37.0,27.0,37.0,30.0,19.0,40.0,30.0,38.0,34.0,24.0,19.0,27.0,27.0,32.0,35.0,19.0,22.0,37.0,26.0,46.0,29.0,28.0,26.0,16.0,37.0,27.0,47.0,52.0,30.0,45.0,40.0,24.0,39.0,35.0,21.0,34.0,24.0,27.0,39.0,40.0,35.0,41.0,41.0,31.0,29.0,39.0,24.0,null,39.0,35.0,29.0,32.0,19.0,29.0,37.0,9.0,32.0,31.0,43.0,40.0,23.0,29.0,26.0,24.0,9.0,29.0,35.0,35.0,27.0,26.0,22.0,21.0,null,26.0,28.0,40.0,29.0,21.0,33.0,29.0,23.0,30.0,30.0,37.0,24.0,37.0,23.0,37.0,29.0,23.0,29.0,29.0,28.0,30.0,29.0,19.0,56.0,29.0,22.0,33.0,33.0,40.0,17.0,35.0,27.0,45.0,29.0,22.0,18.0,15.0,30.0,29.0,35.0,28.0,25.0,24.0,28.0,16.0,45.0,24.0,25.0,34.0,30.0,33.0,26.0,34.0,34.0,24.0,27.0,25.0,28.0,33.0,34.0,null,47.0,28.0,27.0,27.0,28.0,20.0,20.0,20.0,47.0,25.0,21.0,18.0,null,21.0,31.0,21.0,27.0,26.0,14.0,47.0,25.0,34.0,36.0,24.0,43.0,18.0,null,24.0,27.0,31.0,37.0,28.0,23.0,26.0,19.0,25.0,32.0,21.0,37.0,40.0,17.0,26.0,26.0,38.0,20.0,22.0,23.0,36.0,27.0,24.0,50.0,21.0,51.0,24.0,28.0,25.0,30.0,26.0,37.0,26.0,30.0,19.0,32.0,37.0,21.0,30.0,35.0,27.0,31.0,34.0,16.0,23.0,28.0,32.0,18.0,32.0,23.0,19.0,30.0,49.0,null,33.0,23.0,31.0,37.0,25.0,28.0,17.0,29.0,40.0,23.0,24.0,24.0,23.0,23.0,60.0,45.0,26.0,35.0,38.0,24.0,45.0,24.0,17.0,22.0,23.0,26.0,33.0,26.0,25.0,14.0,20.0,28.0,34.0,19.0,31.0,30.0,34.0,20.0,29.0,22.0,34.0,23.0,21.0,21.0,58.0,26.0,24.0,20.0,43.0,19.0,34.0,32.0,25.0,22.0,null,28.0,33.0,19.0,18.0,34.0,26.0,26.0,21.0,26.0,47.0,32.0,38.0,35.0,46.0,21.0,23.0,26.0,35.0,26.0,23.0,37.0,17.0,23.0,22.0,30.0,36.0,27.0,27.0,23.0,21.0,33.0,19.0,25.0,15.0,28.0,35.0,34.0,23.0,37.0,26.0,26.0,35.0,25.0,26.0,30.0,30.0,32.0,26.0,20.0,37.0,23.0,35.0,33.0,35.0,29.0,36.0,21.0,38.0,41.0,23.0,16.0,39.0,23.0,25.0,30.0,25.0,24.0,21.0,27.0,23.0,39.0,45.0,30.0,47.0,36.0,15.0,35.0,21.0,28.0,59.0,33.0,44.0,14.0,38.0,22.0,31.0,29.0,38.0,39.0,25.0,19.0,28.0,19.0,22.0,30.0,35.0,31.0,37.0,28.0,38.0,26.0,25.0,36.0,39.0,34.0,36.0,36.0,23.0,25.0,20.0,19.0,54.0,30.0,42.0,26.0,27.0,21.0,28.0,27.0,35.0,29.0,28.0,29.0,14.0,null,28.0,24.0,28.0,23.0,22.0,20.0,48.0,30.0,17.0,30.0,23.0,23.0,null,5.0,19.0,38.0,46.0,20.0,28.0,47.0,26.0,20.0,32.0,27.0,40.0,33.0,22.0,26.0,33.0,31.0,26.0,21.0,25.0,23.0,28.0,34.0,30.0,36.0,24.0,29.0,25.0,26.0,40.0,31.0,23.0,46.0,22.0,36.0,19.0,17.0,20.0,28.0,22.0,22.0,27.0,22.0,46.0,6.0,36.0,33.0,15.0,25.0,25.0,20.0,17.0,23.0,28.0,24.0,25.0,19.0,30.0,26.0,26.0,28.0,21.0,29.0,19.0,24.0,47.0,29.0,33.0,31.0,30.0,31.0,25.0,34.0,22.0,38.0,26.0,20.0,35.0,30.0,21.0,34.0,34.0,22.0,28.0,25.0,30.0,27.0,20.0,37.0,29.0,47.0,49.0,32.0,27.0,30.0,29.0,null,23.0,23.0,28.0,20.0,null,54.0,26.0,31.0,22.0,28.0,26.0,25.0,26.0,51.0,15.0,22.0,24.0,23.0,30.0,26.0,21.0,29.0,28.0,21.0,38.0,16.0,23.0,30.0,null,39.0,25.0,31.0,15.0,23.0,29.0,28.0,5.0,23.0,26.0,36.0,22.0,27.0,16.0,20.0,35.0,28.0,22.0,16.0,39.0,35.0,33.0,21.0,29.0,56.0,22.0,29.0,32.0,36.0,45.0,35.0,24.0,36.0,22.0,23.0,24.0,27.0,43.0,28.0,48.0,41.0,36.0,7.0,22.0,60.0,23.0,27.0,37.0,33.0,29.0,40.0,35.0,37.0,40.0,30.0,23.0,29.0,21.0,30.0,37.0,29.0,28.0,42.0,21.0,19.0,27.0,27.0,18.0,14.0,44.0,19.0,29.0,27.0,21.0,15.0,23.0,47.0,37.0,16.0,34.0,33.0,25.0,28.0,35.0,31.0,29.0,41.0,26.0,32.0,25.0,36.0,38.0,22.0,38.0,29.0,32.0,29.0,42.0,30.0,28.0,26.0,46.0,19.0,27.0,7.0,39.0,52.0,22.0,31.0,43.0,54.0,24.0,19.0,39.0,24.0,24.0,31.0,25.0,32.0,24.0,17.0,33.0,30.0,27.0,19.0,19.0,27.0,41.0,24.0,14.0,30.0,25.0,27.0,40.0,21.0,25.0,26.0,25.0,21.0,18.0,4.0,30.0,33.0,30.0,38.0,32.0,40.0,28.0,40.0,40.0,24.0,27.0,22.0,16.0,null,23.0,null,35.0,38.0,29.0,23.0,42.0,29.0,18.0,24.0,22.0,38.0,20.0,37.0,23.0,27.0,40.0,21.0,34.0,21.0,20.0,29.0,20.0,52.0,28.0,29.0,17.0,39.0,20.0,22.0,24.0,null,36.0,27.0,35.0,27.0,22.0,25.0,17.0,31.0,46.0,38.0,23.0,17.0,26.0,20.0,29.0,23.0,27.0,33.0,25.0,26.0,25.0,47.0,30.0,20.0,32.0,25.0,22.0,24.0,26.0,29.0,null,null,21.0,29.0,23.0,24.0,26.0,19.0,34.0,19.0,42.0,28.0,23.0,30.0,46.0,26.0,45.0,36.0,25.0,26.0,28.0,25.0,33.0,22.0,35.0,35.0,29.0,null,20.0,21.0,29.0,1.0,36.0,null,27.0,21.0,37.0,null,34.0,38.0,31.0,56.0,28.0,31.0,39.0,20.0,37.0,24.0,36.0,20.0,27.0,30.0,24.0,null,25.0,20.0,28.0,33.0,33.0,15.0,20.0,23.0,27.0,20.0,26.0,33.0,25.0,20.0,26.0,23.0,44.0,31.0,20.0,24.0,21.0,33.0,22.0,44.0,22.0,24.0,23.0,38.0,42.0,19.0,15.0,26.0,29.0,29.0,36.0,30.0,22.0,29.0,18.0,30.0,27.0,44.0,36.0,null,21.0,31.0,27.0,39.0,33.0,null,25.0,28.0,24.0,31.0,33.0,37.0,19.0,37.0,42.0,23.0,2.0,32.0,30.0,36.0,26.0,23.0,13.0,26.0,20.0,26.0,31.0,33.0,31.0,49.0,29.0,42.0,25.0,31.0,38.0,35.0,22.0,25.0,null,44.0,31.0,28.0,20.0,21.0,null,21.0,40.0,null,31.0,42.0,28.0,33.0,18.0,27.0,37.0,30.0,25.0,47.0,22.0,35.0,47.0,25.0,37.0,34.0,23.0,45.0,31.0,38.0,41.0,22.0,23.0,21.0,null,39.0,52.0,40.0,28.0,32.0,null,30.0,31.0,38.0,25.0,28.0,null,26.0,34.0,30.0,19.0,46.0,20.0,34.0,27.0,29.0,28.0,27.0,53.0,19.0,34.0,25.0,20.0,28.0,18.0,19.0,21.0,43.0,29.0,31.0,34.0,19.0,29.0,24.0,30.0,null,24.0,55.0,24.0,43.0,27.0,27.0,20.0,23.0,14.0,20.0,26.0,12.0,35.0,15.0,40.0,24.0,39.0,37.0,27.0,null,34.0,26.0,21.0,25.0,29.0,32.0,34.0,21.0,18.0,27.0,29.0,34.0,33.0,25.0,20.0,25.0,31.0,27.0,30.0,28.0,33.0,24.0,null,44.0,22.0,22.0,27.0,3.0,29.0,31.0,38.0,33.0,24.0,23.0,27.0,27.0,20.0,22.0,null,18.0,35.0,20.0,31.0,25.0,19.0,22.0,24.0,20.0,21.0,20.0,26.0,32.0,18.0,30.0,25.0,36.0,31.0,30.0,24.0,15.0,36.0,44.0,34.0,29.0,19.0,42.0,33.0,28.0,32.0,19.0,32.0,33.0,28.0,21.0,21.0,26.0,28.0,22.0,null,30.0,24.0,41.0,37.0,23.0,30.0,28.0,21.0,28.0,33.0,25.0,40.0,29.0,32.0,22.0,21.0,27.0,22.0,31.0,27.0,29.0,38.0,30.0,25.0,48.0,36.0,null,24.0,27.0,22.0,22.0,18.0,26.0,22.0,28.0,24.0,23.0,22.0,21.0,18.0,41.0,40.0,38.0,null,32.0,null,15.0,34.0,21.0,null,31.0,25.0,25.0,20.0,29.0,null,19.0,25.0,29.0,40.0,29.0,20.0,20.0,null,23.0,30.0,25.0,16.0,25.0,44.0,25.0,34.0,22.0,22.0,30.0,32.0,22.0,58.0,26.0,26.0,38.0,22.0,26.0,49.0,24.0,27.0,26.0,39.0,31.0,24.0,23.0,25.0,29.0,29.0,24.0,30.0,32.0,25.0,26.0,null,35.0,15.0,24.0,15.0,27.0,27.0,30.0,25.0,32.0,19.0,45.0,19.0,31.0,25.0,22.0,23.0,42.0,46.0,43.0,28.0,19.0,29.0,24.0,25.0,22.0,34.0,24.0,19.0,19.0,18.0,31.0,37.0,38.0,36.0,30.0,32.0,40.0,28.0,24.0,21.0,27.0,29.0,26.0,25.0,31.0,31.0,21.0,34.0,30.0,36.0,28.0,23.0,53.0,33.0,25.0,61.0,34.0,31.0,44.0,30.0,48.0,37.0,26.0,26.0,20.0,21.0,20.0,36.0,30.0,28.0,31.0,31.0,39.0,26.0,30.0,21.0,53.0,26.0,25.0,30.0,25.0,25.0,19.0,30.0,29.0,2.0,45.0,22.0,42.0,21.0,36.0,51.0,22.0,31.0,30.0,35.0,24.0,34.0,20.0,29.0,27.0,44.0,24.0,32.0,33.0,30.0,24.0,41.0,14.0,15.0,25.0,34.0,22.0,null,30.0,38.0,30.0,27.0,29.0,35.0,14.0,26.0,33.0,5.0,29.0,31.0,14.0,19.0,null,32.0,34.0,41.0,31.0,44.0,22.0,22.0,28.0,34.0,19.0,31.0,34.0,25.0,30.0,30.0,23.0,34.0,48.0,38.0,null,36.0,20.0,7.0,40.0,48.0,55.0,40.0,15.0,25.0,40.0,30.0,25.0,36.0,26.0,54.0,31.0,34.0,22.0,37.0,39.0,29.0,57.0,41.0,35.0,21.0,27.0,23.0,38.0,37.0,26.0,23.0,30.0,40.0,35.0,28.0,26.0,5.0,51.0,41.0,23.0,54.0,20.0,32.0,27.0,35.0,null,30.0,33.0,48.0,18.0,23.0,28.0,32.0,28.0,26.0,null,50.0,33.0,35.0,37.0,22.0,26.0,15.0,38.0,35.0,24.0,28.0,21.0,22.0,25.0,null,33.0,26.0,27.0,25.0,30.0,24.0,23.0,24.0,25.0,34.0,17.0,null,40.0,28.0,15.0,20.0,24.0,33.0,21.0,31.0,27.0,23.0,48.0,45.0,23.0,32.0,25.0,29.0,30.0,21.0,21.0,25.0,23.0,19.0,27.0,40.0,45.0,47.0,30.0,28.0,23.0,20.0,25.0,30.0,30.0,27.0,23.0,null,26.0,21.0,27.0,21.0,31.0,25.0,32.0,25.0,39.0,32.0,30.0,29.0,26.0,28.0,21.0,22.0,19.0,30.0,29.0,44.0,30.0,27.0,25.0,18.0,23.0,23.0,33.0,29.0,30.0,48.0,30.0,35.0,46.0,28.0,30.0,34.0,17.0,45.0,25.0,28.0,45.0,4.0,34.0,38.0,20.0,22.0,29.0,19.0,23.0,43.0,6.0,29.0,25.0,26.0,22.0,32.0,26.0,27.0,28.0,32.0,37.0,37.0,53.0,43.0,22.0,22.0,28.0,38.0,23.0,39.0,19.0,32.0,34.0,23.0,28.0,46.0,29.0,28.0,23.0,38.0,19.0,38.0,32.0,22.0,26.0,20.0,22.0,35.0,30.0,16.0,22.0,50.0,22.0,25.0,24.0,30.0,23.0,25.0,16.0,21.0,38.0,21.0],\"x0\":\" \",\"xaxis\":\"x\",\"y0\":\" \",\"yaxis\":\"y\",\"type\":\"box\"}],                        {\"template\":{\"data\":{\"histogram2dcontour\":[{\"type\":\"histogram2dcontour\",\"colorbar\":{\"outlinewidth\":0,\"ticks\":\"\"},\"colorscale\":[[0.0,\"#0d0887\"],[0.1111111111111111,\"#46039f\"],[0.2222222222222222,\"#7201a8\"],[0.3333333333333333,\"#9c179e\"],[0.4444444444444444,\"#bd3786\"],[0.5555555555555556,\"#d8576b\"],[0.6666666666666666,\"#ed7953\"],[0.7777777777777778,\"#fb9f3a\"],[0.8888888888888888,\"#fdca26\"],[1.0,\"#f0f921\"]]}],\"choropleth\":[{\"type\":\"choropleth\",\"colorbar\":{\"outlinewidth\":0,\"ticks\":\"\"}}],\"histogram2d\":[{\"type\":\"histogram2d\",\"colorbar\":{\"outlinewidth\":0,\"ticks\":\"\"},\"colorscale\":[[0.0,\"#0d0887\"],[0.1111111111111111,\"#46039f\"],[0.2222222222222222,\"#7201a8\"],[0.3333333333333333,\"#9c179e\"],[0.4444444444444444,\"#bd3786\"],[0.5555555555555556,\"#d8576b\"],[0.6666666666666666,\"#ed7953\"],[0.7777777777777778,\"#fb9f3a\"],[0.8888888888888888,\"#fdca26\"],[1.0,\"#f0f921\"]]}],\"heatmap\":[{\"type\":\"heatmap\",\"colorbar\":{\"outlinewidth\":0,\"ticks\":\"\"},\"colorscale\":[[0.0,\"#0d0887\"],[0.1111111111111111,\"#46039f\"],[0.2222222222222222,\"#7201a8\"],[0.3333333333333333,\"#9c179e\"],[0.4444444444444444,\"#bd3786\"],[0.5555555555555556,\"#d8576b\"],[0.6666666666666666,\"#ed7953\"],[0.7777777777777778,\"#fb9f3a\"],[0.8888888888888888,\"#fdca26\"],[1.0,\"#f0f921\"]]}],\"heatmapgl\":[{\"type\":\"heatmapgl\",\"colorbar\":{\"outlinewidth\":0,\"ticks\":\"\"},\"colorscale\":[[0.0,\"#0d0887\"],[0.1111111111111111,\"#46039f\"],[0.2222222222222222,\"#7201a8\"],[0.3333333333333333,\"#9c179e\"],[0.4444444444444444,\"#bd3786\"],[0.5555555555555556,\"#d8576b\"],[0.6666666666666666,\"#ed7953\"],[0.7777777777777778,\"#fb9f3a\"],[0.8888888888888888,\"#fdca26\"],[1.0,\"#f0f921\"]]}],\"contourcarpet\":[{\"type\":\"contourcarpet\",\"colorbar\":{\"outlinewidth\":0,\"ticks\":\"\"}}],\"contour\":[{\"type\":\"contour\",\"colorbar\":{\"outlinewidth\":0,\"ticks\":\"\"},\"colorscale\":[[0.0,\"#0d0887\"],[0.1111111111111111,\"#46039f\"],[0.2222222222222222,\"#7201a8\"],[0.3333333333333333,\"#9c179e\"],[0.4444444444444444,\"#bd3786\"],[0.5555555555555556,\"#d8576b\"],[0.6666666666666666,\"#ed7953\"],[0.7777777777777778,\"#fb9f3a\"],[0.8888888888888888,\"#fdca26\"],[1.0,\"#f0f921\"]]}],\"surface\":[{\"type\":\"surface\",\"colorbar\":{\"outlinewidth\":0,\"ticks\":\"\"},\"colorscale\":[[0.0,\"#0d0887\"],[0.1111111111111111,\"#46039f\"],[0.2222222222222222,\"#7201a8\"],[0.3333333333333333,\"#9c179e\"],[0.4444444444444444,\"#bd3786\"],[0.5555555555555556,\"#d8576b\"],[0.6666666666666666,\"#ed7953\"],[0.7777777777777778,\"#fb9f3a\"],[0.8888888888888888,\"#fdca26\"],[1.0,\"#f0f921\"]]}],\"mesh3d\":[{\"type\":\"mesh3d\",\"colorbar\":{\"outlinewidth\":0,\"ticks\":\"\"}}],\"scatter\":[{\"fillpattern\":{\"fillmode\":\"overlay\",\"size\":10,\"solidity\":0.2},\"type\":\"scatter\"}],\"parcoords\":[{\"type\":\"parcoords\",\"line\":{\"colorbar\":{\"outlinewidth\":0,\"ticks\":\"\"}}}],\"scatterpolargl\":[{\"type\":\"scatterpolargl\",\"marker\":{\"colorbar\":{\"outlinewidth\":0,\"ticks\":\"\"}}}],\"bar\":[{\"error_x\":{\"color\":\"#2a3f5f\"},\"error_y\":{\"color\":\"#2a3f5f\"},\"marker\":{\"line\":{\"color\":\"#E5ECF6\",\"width\":0.5},\"pattern\":{\"fillmode\":\"overlay\",\"size\":10,\"solidity\":0.2}},\"type\":\"bar\"}],\"scattergeo\":[{\"type\":\"scattergeo\",\"marker\":{\"colorbar\":{\"outlinewidth\":0,\"ticks\":\"\"}}}],\"scatterpolar\":[{\"type\":\"scatterpolar\",\"marker\":{\"colorbar\":{\"outlinewidth\":0,\"ticks\":\"\"}}}],\"histogram\":[{\"marker\":{\"pattern\":{\"fillmode\":\"overlay\",\"size\":10,\"solidity\":0.2}},\"type\":\"histogram\"}],\"scattergl\":[{\"type\":\"scattergl\",\"marker\":{\"colorbar\":{\"outlinewidth\":0,\"ticks\":\"\"}}}],\"scatter3d\":[{\"type\":\"scatter3d\",\"line\":{\"colorbar\":{\"outlinewidth\":0,\"ticks\":\"\"}},\"marker\":{\"colorbar\":{\"outlinewidth\":0,\"ticks\":\"\"}}}],\"scattermapbox\":[{\"type\":\"scattermapbox\",\"marker\":{\"colorbar\":{\"outlinewidth\":0,\"ticks\":\"\"}}}],\"scatterternary\":[{\"type\":\"scatterternary\",\"marker\":{\"colorbar\":{\"outlinewidth\":0,\"ticks\":\"\"}}}],\"scattercarpet\":[{\"type\":\"scattercarpet\",\"marker\":{\"colorbar\":{\"outlinewidth\":0,\"ticks\":\"\"}}}],\"carpet\":[{\"aaxis\":{\"endlinecolor\":\"#2a3f5f\",\"gridcolor\":\"white\",\"linecolor\":\"white\",\"minorgridcolor\":\"white\",\"startlinecolor\":\"#2a3f5f\"},\"baxis\":{\"endlinecolor\":\"#2a3f5f\",\"gridcolor\":\"white\",\"linecolor\":\"white\",\"minorgridcolor\":\"white\",\"startlinecolor\":\"#2a3f5f\"},\"type\":\"carpet\"}],\"table\":[{\"cells\":{\"fill\":{\"color\":\"#EBF0F8\"},\"line\":{\"color\":\"white\"}},\"header\":{\"fill\":{\"color\":\"#C8D4E3\"},\"line\":{\"color\":\"white\"}},\"type\":\"table\"}],\"barpolar\":[{\"marker\":{\"line\":{\"color\":\"#E5ECF6\",\"width\":0.5},\"pattern\":{\"fillmode\":\"overlay\",\"size\":10,\"solidity\":0.2}},\"type\":\"barpolar\"}],\"pie\":[{\"automargin\":true,\"type\":\"pie\"}]},\"layout\":{\"autotypenumbers\":\"strict\",\"colorway\":[\"#636efa\",\"#EF553B\",\"#00cc96\",\"#ab63fa\",\"#FFA15A\",\"#19d3f3\",\"#FF6692\",\"#B6E880\",\"#FF97FF\",\"#FECB52\"],\"font\":{\"color\":\"#2a3f5f\"},\"hovermode\":\"closest\",\"hoverlabel\":{\"align\":\"left\"},\"paper_bgcolor\":\"white\",\"plot_bgcolor\":\"#E5ECF6\",\"polar\":{\"bgcolor\":\"#E5ECF6\",\"angularaxis\":{\"gridcolor\":\"white\",\"linecolor\":\"white\",\"ticks\":\"\"},\"radialaxis\":{\"gridcolor\":\"white\",\"linecolor\":\"white\",\"ticks\":\"\"}},\"ternary\":{\"bgcolor\":\"#E5ECF6\",\"aaxis\":{\"gridcolor\":\"white\",\"linecolor\":\"white\",\"ticks\":\"\"},\"baxis\":{\"gridcolor\":\"white\",\"linecolor\":\"white\",\"ticks\":\"\"},\"caxis\":{\"gridcolor\":\"white\",\"linecolor\":\"white\",\"ticks\":\"\"}},\"coloraxis\":{\"colorbar\":{\"outlinewidth\":0,\"ticks\":\"\"}},\"colorscale\":{\"sequential\":[[0.0,\"#0d0887\"],[0.1111111111111111,\"#46039f\"],[0.2222222222222222,\"#7201a8\"],[0.3333333333333333,\"#9c179e\"],[0.4444444444444444,\"#bd3786\"],[0.5555555555555556,\"#d8576b\"],[0.6666666666666666,\"#ed7953\"],[0.7777777777777778,\"#fb9f3a\"],[0.8888888888888888,\"#fdca26\"],[1.0,\"#f0f921\"]],\"sequentialminus\":[[0.0,\"#0d0887\"],[0.1111111111111111,\"#46039f\"],[0.2222222222222222,\"#7201a8\"],[0.3333333333333333,\"#9c179e\"],[0.4444444444444444,\"#bd3786\"],[0.5555555555555556,\"#d8576b\"],[0.6666666666666666,\"#ed7953\"],[0.7777777777777778,\"#fb9f3a\"],[0.8888888888888888,\"#fdca26\"],[1.0,\"#f0f921\"]],\"diverging\":[[0,\"#8e0152\"],[0.1,\"#c51b7d\"],[0.2,\"#de77ae\"],[0.3,\"#f1b6da\"],[0.4,\"#fde0ef\"],[0.5,\"#f7f7f7\"],[0.6,\"#e6f5d0\"],[0.7,\"#b8e186\"],[0.8,\"#7fbc41\"],[0.9,\"#4d9221\"],[1,\"#276419\"]]},\"xaxis\":{\"gridcolor\":\"white\",\"linecolor\":\"white\",\"ticks\":\"\",\"title\":{\"standoff\":15},\"zerolinecolor\":\"white\",\"automargin\":true,\"zerolinewidth\":2},\"yaxis\":{\"gridcolor\":\"white\",\"linecolor\":\"white\",\"ticks\":\"\",\"title\":{\"standoff\":15},\"zerolinecolor\":\"white\",\"automargin\":true,\"zerolinewidth\":2},\"scene\":{\"xaxis\":{\"backgroundcolor\":\"#E5ECF6\",\"gridcolor\":\"white\",\"linecolor\":\"white\",\"showbackground\":true,\"ticks\":\"\",\"zerolinecolor\":\"white\",\"gridwidth\":2},\"yaxis\":{\"backgroundcolor\":\"#E5ECF6\",\"gridcolor\":\"white\",\"linecolor\":\"white\",\"showbackground\":true,\"ticks\":\"\",\"zerolinecolor\":\"white\",\"gridwidth\":2},\"zaxis\":{\"backgroundcolor\":\"#E5ECF6\",\"gridcolor\":\"white\",\"linecolor\":\"white\",\"showbackground\":true,\"ticks\":\"\",\"zerolinecolor\":\"white\",\"gridwidth\":2}},\"shapedefaults\":{\"line\":{\"color\":\"#2a3f5f\"}},\"annotationdefaults\":{\"arrowcolor\":\"#2a3f5f\",\"arrowhead\":0,\"arrowwidth\":1},\"geo\":{\"bgcolor\":\"white\",\"landcolor\":\"#E5ECF6\",\"subunitcolor\":\"white\",\"showland\":true,\"showlakes\":true,\"lakecolor\":\"white\"},\"title\":{\"x\":0.05},\"mapbox\":{\"style\":\"light\"}}},\"xaxis\":{\"anchor\":\"y\",\"domain\":[0.0,1.0],\"title\":{\"text\":\"Number of days between Nursing and Sowing\\u002fTransplanting\"}},\"yaxis\":{\"anchor\":\"x\",\"domain\":[0.0,1.0]},\"legend\":{\"tracegroupgap\":0},\"margin\":{\"t\":60},\"boxmode\":\"group\",\"height\":350,\"width\":600},                        {\"responsive\": true}                    ).then(function(){\n",
              "                            \n",
              "var gd = document.getElementById('987c553b-ebef-4a85-a724-769cb5419b0f');\n",
              "var x = new MutationObserver(function (mutations, observer) {{\n",
              "        var display = window.getComputedStyle(gd).display;\n",
              "        if (!display || display === 'none') {{\n",
              "            console.log([gd, 'removed!']);\n",
              "            Plotly.purge(gd);\n",
              "            observer.disconnect();\n",
              "        }}\n",
              "}});\n",
              "\n",
              "// Listen for the removal of the full notebook cells\n",
              "var notebookContainer = gd.closest('#notebook-container');\n",
              "if (notebookContainer) {{\n",
              "    x.observe(notebookContainer, {childList: true});\n",
              "}}\n",
              "\n",
              "// Listen for the clearing of the current output cell\n",
              "var outputEl = gd.closest('.output');\n",
              "if (outputEl) {{\n",
              "    x.observe(outputEl, {childList: true});\n",
              "}}\n",
              "\n",
              "                        })                };                            </script>        </div>\n",
              "</body>\n",
              "</html>"
            ]
          },
          "metadata": {}
        },
        {
          "output_type": "display_data",
          "data": {
            "text/html": [
              "<html>\n",
              "<head><meta charset=\"utf-8\" /></head>\n",
              "<body>\n",
              "    <div>            <script src=\"https://cdnjs.cloudflare.com/ajax/libs/mathjax/2.7.5/MathJax.js?config=TeX-AMS-MML_SVG\"></script><script type=\"text/javascript\">if (window.MathJax && window.MathJax.Hub && window.MathJax.Hub.Config) {window.MathJax.Hub.Config({SVG: {font: \"STIX-Web\"}});}</script>                <script type=\"text/javascript\">window.PlotlyConfig = {MathJaxConfig: 'local'};</script>\n",
              "        <script charset=\"utf-8\" src=\"https://cdn.plot.ly/plotly-2.24.1.min.js\"></script>                <div id=\"a73126db-a1e5-4a40-96fd-777ba7f3b8b6\" class=\"plotly-graph-div\" style=\"height:350px; width:600px;\"></div>            <script type=\"text/javascript\">                                    window.PLOTLYENV=window.PLOTLYENV || {};                                    if (document.getElementById(\"a73126db-a1e5-4a40-96fd-777ba7f3b8b6\")) {                    Plotly.newPlot(                        \"a73126db-a1e5-4a40-96fd-777ba7f3b8b6\",                        [{\"alignmentgroup\":\"True\",\"hovertemplate\":\"Number of days between Sowing\\u002fTransplanting and Harvesting=%{x}\\u003cextra\\u003e\\u003c\\u002fextra\\u003e\",\"legendgroup\":\"\",\"marker\":{\"color\":\"#636efa\"},\"name\":\"\",\"notched\":false,\"offsetgroup\":\"\",\"orientation\":\"h\",\"showlegend\":false,\"x\":[118.0,128.0,121.0,138.0,133.0,110.0,97.0,136.0,97.0,105.0,128.0,113.0,128.0,124.0,122.0,158.0,117.0,96.0,96.0,134.0,151.0,95.0,119.0,97.0,85.0,82.0,124.0,89.0,106.0,113.0,107.0,88.0,124.0,68.0,66.0,97.0,123.0,110.0,67.0,84.0,105.0,117.0,130.0,112.0,134.0,114.0,133.0,119.0,95.0,99.0,117.0,118.0,111.0,102.0,87.0,120.0,94.0,119.0,87.0,64.0,125.0,107.0,110.0,115.0,121.0,92.0,113.0,115.0,144.0,141.0,95.0,125.0,101.0,116.0,119.0,111.0,91.0,72.0,118.0,117.0,116.0,63.0,111.0,141.0,98.0,87.0,83.0,96.0,113.0,113.0,100.0,86.0,114.0,120.0,103.0,128.0,101.0,110.0,91.0,113.0,122.0,154.0,98.0,125.0,116.0,108.0,106.0,136.0,103.0,107.0,77.0,126.0,121.0,95.0,87.0,129.0,124.0,130.0,106.0,116.0,123.0,130.0,82.0,119.0,80.0,107.0,106.0,109.0,120.0,126.0,118.0,122.0,106.0,119.0,95.0,105.0,115.0,124.0,104.0,111.0,109.0,124.0,112.0,120.0,97.0,120.0,122.0,100.0,84.0,85.0,89.0,109.0,115.0,95.0,124.0,113.0,119.0,77.0,110.0,128.0,132.0,73.0,113.0,116.0,99.0,106.0,74.0,113.0,94.0,145.0,91.0,153.0,108.0,120.0,125.0,99.0,90.0,74.0,88.0,28.0,111.0,96.0,91.0,123.0,76.0,63.0,120.0,142.0,110.0,75.0,99.0,90.0,130.0,102.0,122.0,87.0,128.0,122.0,154.0,127.0,97.0,102.0,127.0,92.0,87.0,91.0,92.0,126.0,143.0,117.0,93.0,141.0,133.0,74.0,124.0,126.0,115.0,124.0,123.0,92.0,75.0,89.0,89.0,104.0,107.0,110.0,84.0,120.0,120.0,108.0,99.0,70.0,82.0,131.0,134.0,121.0,92.0,80.0,118.0,83.0,106.0,65.0,102.0,131.0,72.0,119.0,113.0,120.0,119.0,102.0,125.0,51.0,127.0,124.0,79.0,91.0,81.0,69.0,124.0,124.0,117.0,57.0,103.0,130.0,120.0,86.0,98.0,136.0,116.0,89.0,52.0,107.0,101.0,136.0,100.0,128.0,110.0,87.0,125.0,100.0,126.0,117.0,120.0,127.0,104.0,88.0,96.0,126.0,98.0,123.0,144.0,101.0,111.0,112.0,135.0,55.0,108.0,105.0,107.0,126.0,110.0,99.0,122.0,106.0,129.0,93.0,138.0,100.0,104.0,147.0,115.0,106.0,113.0,73.0,108.0,108.0,131.0,87.0,116.0,123.0,126.0,79.0,151.0,107.0,96.0,129.0,126.0,93.0,108.0,117.0,123.0,69.0,81.0,88.0,125.0,117.0,100.0,106.0,133.0,115.0,94.0,124.0,109.0,99.0,136.0,129.0,90.0,107.0,143.0,113.0,125.0,77.0,130.0,108.0,96.0,122.0,90.0,126.0,112.0,113.0,132.0,127.0,80.0,128.0,103.0,87.0,112.0,144.0,93.0,113.0,115.0,114.0,81.0,150.0,125.0,122.0,122.0,98.0,92.0,87.0,104.0,131.0,99.0,125.0,130.0,128.0,93.0,112.0,129.0,107.0,113.0,88.0,77.0,127.0,104.0,113.0,141.0,85.0,117.0,126.0,90.0,106.0,103.0,110.0,143.0,103.0,105.0,114.0,93.0,124.0,126.0,89.0,82.0,127.0,98.0,121.0,116.0,78.0,115.0,131.0,123.0,97.0,117.0,99.0,89.0,111.0,130.0,126.0,89.0,90.0,106.0,101.0,109.0,85.0,137.0,95.0,134.0,104.0,125.0,80.0,94.0,120.0,103.0,104.0,103.0,113.0,128.0,100.0,98.0,164.0,116.0,90.0,104.0,133.0,100.0,76.0,113.0,105.0,107.0,140.0,115.0,106.0,130.0,90.0,69.0,78.0,100.0,92.0,113.0,99.0,122.0,67.0,127.0,113.0,125.0,117.0,110.0,64.0,92.0,128.0,132.0,125.0,119.0,84.0,73.0,119.0,122.0,126.0,99.0,114.0,118.0,103.0,100.0,119.0,103.0,105.0,116.0,121.0,123.0,115.0,109.0,116.0,79.0,107.0,116.0,110.0,124.0,78.0,106.0,115.0,105.0,105.0,131.0,111.0,100.0,130.0,110.0,80.0,87.0,115.0,116.0,99.0,120.0,109.0,128.0,103.0,103.0,74.0,115.0,107.0,89.0,125.0,99.0,106.0,92.0,114.0,108.0,99.0,100.0,91.0,106.0,132.0,106.0,101.0,91.0,77.0,107.0,130.0,106.0,146.0,85.0,82.0,92.0,143.0,101.0,127.0,122.0,136.0,95.0,108.0,123.0,96.0,128.0,101.0,91.0,77.0,97.0,149.0,126.0,87.0,104.0,94.0,129.0,130.0,87.0,86.0,104.0,101.0,73.0,79.0,110.0,96.0,124.0,130.0,106.0,104.0,115.0,101.0,111.0,145.0,113.0,128.0,84.0,110.0,135.0,87.0,74.0,115.0,110.0,71.0,107.0,76.0,134.0,92.0,83.0,128.0,97.0,140.0,105.0,141.0,125.0,129.0,75.0,103.0,138.0,105.0,119.0,115.0,95.0,108.0,90.0,93.0,128.0,135.0,99.0,113.0,87.0,135.0,104.0,104.0,90.0,104.0,113.0,124.0,102.0,121.0,109.0,92.0,89.0,126.0,108.0,126.0,117.0,114.0,95.0,124.0,121.0,103.0,91.0,106.0,94.0,111.0,126.0,137.0,121.0,84.0,94.0,95.0,116.0,128.0,105.0,73.0,121.0,82.0,130.0,116.0,75.0,102.0,128.0,125.0,131.0,95.0,106.0,124.0,133.0,98.0,100.0,119.0,91.0,82.0,119.0,123.0,90.0,123.0,132.0,130.0,103.0,92.0,93.0,117.0,125.0,100.0,111.0,92.0,109.0,100.0,125.0,118.0,97.0,135.0,90.0,127.0,140.0,96.0,124.0,111.0,106.0,90.0,100.0,118.0,63.0,150.0,110.0,108.0,127.0,142.0,68.0,86.0,98.0,131.0,132.0,72.0,114.0,104.0,117.0,63.0,83.0,130.0,99.0,125.0,72.0,79.0,119.0,101.0,100.0,120.0,110.0,66.0,116.0,128.0,149.0,106.0,117.0,127.0,89.0,145.0,112.0,99.0,124.0,125.0,97.0,91.0,100.0,106.0,110.0,114.0,107.0,119.0,114.0,99.0,146.0,98.0,105.0,84.0,104.0,158.0,115.0,132.0,154.0,106.0,118.0,95.0,131.0,114.0,98.0,124.0,101.0,124.0,97.0,115.0,112.0,135.0,106.0,81.0,112.0,107.0,96.0,102.0,128.0,102.0,72.0,116.0,106.0,114.0,75.0,81.0,107.0,138.0,95.0,123.0,119.0,123.0,77.0,128.0,140.0,135.0,126.0,103.0,111.0,127.0,118.0,144.0,107.0,119.0,117.0,108.0,120.0,151.0,138.0,135.0,125.0,117.0,108.0,136.0,100.0,120.0,87.0,122.0,121.0,85.0,155.0,100.0,107.0,121.0,131.0,109.0,120.0,127.0,99.0,120.0,105.0,66.0,105.0,121.0,142.0,120.0,128.0,86.0,124.0,135.0,95.0,143.0,124.0,107.0,102.0,122.0,132.0,91.0,137.0,102.0,128.0,115.0,122.0,125.0,97.0,114.0,158.0,117.0,91.0,135.0,102.0,127.0,95.0,89.0,117.0,68.0,92.0,114.0,78.0,117.0,103.0,98.0,64.0,77.0,128.0,140.0,76.0,102.0,86.0,132.0,94.0,62.0,122.0,68.0,110.0,120.0,113.0,133.0,95.0,90.0,93.0,130.0,84.0,69.0,149.0,126.0,82.0,109.0,95.0,133.0,96.0,95.0,138.0,139.0,94.0,120.0,115.0,106.0,123.0,118.0,86.0,113.0,91.0,133.0,87.0,98.0,105.0,101.0,82.0,99.0,102.0,132.0,123.0,82.0,90.0,93.0,100.0,77.0,103.0,78.0,122.0,106.0,120.0,104.0,93.0,130.0,92.0,100.0,146.0,94.0,132.0,85.0,129.0,122.0,111.0,102.0,137.0,147.0,116.0,123.0,90.0,106.0,124.0,124.0,122.0,126.0,66.0,103.0,103.0,86.0,145.0,122.0,128.0,85.0,181.0,108.0,116.0,122.0,96.0,100.0,112.0,133.0,96.0,91.0,132.0,82.0,92.0,86.0,147.0,117.0,118.0,139.0,116.0,115.0,151.0,65.0,88.0,79.0,111.0,127.0,129.0,95.0,113.0,114.0,135.0,89.0,119.0,85.0,124.0,138.0,84.0,115.0,129.0,114.0,119.0,115.0,125.0,130.0,113.0,101.0,103.0,122.0,99.0,136.0,120.0,120.0,97.0,98.0,150.0,106.0,102.0,108.0,121.0,111.0,98.0,102.0,136.0,140.0,144.0,147.0,96.0,126.0,124.0,83.0,142.0,97.0,104.0,105.0,106.0,99.0,123.0,116.0,115.0,96.0,117.0,97.0,69.0,77.0,93.0,104.0,104.0,121.0,99.0,84.0,96.0,115.0,122.0,118.0,101.0,110.0,89.0,30.0,111.0,121.0,139.0,117.0,99.0,88.0,137.0,123.0,107.0,110.0,114.0,127.0,106.0,124.0,136.0,137.0,109.0,107.0,87.0,102.0,120.0,114.0,124.0,124.0,122.0,110.0,121.0,154.0,109.0,104.0,76.0,101.0,123.0,95.0,105.0,150.0,111.0,125.0,116.0,122.0,80.0,122.0,124.0,107.0,134.0,128.0,114.0,110.0,75.0,115.0,77.0,103.0,116.0,79.0,106.0,103.0,112.0,121.0,128.0,120.0,114.0,106.0,130.0,112.0,99.0,94.0,98.0,104.0,95.0,100.0,64.0,94.0,129.0,124.0,92.0,128.0,121.0,97.0,108.0,130.0,77.0,116.0,111.0,65.0,104.0,116.0,107.0,104.0,121.0,85.0,123.0,120.0,84.0,133.0,87.0,105.0,128.0,86.0,102.0,104.0,133.0,142.0,135.0,110.0,126.0,126.0,96.0,104.0,105.0,102.0,118.0,87.0,101.0,121.0,70.0,121.0,134.0,85.0,88.0,77.0,77.0,141.0,116.0,112.0,83.0,148.0,105.0,105.0,137.0,77.0,91.0,104.0,125.0,127.0,120.0,116.0,120.0,124.0,105.0,113.0,113.0,140.0,141.0,69.0,96.0,97.0,126.0,120.0,120.0,134.0,130.0,126.0,105.0,157.0,117.0,98.0,122.0,68.0,101.0,101.0,108.0,121.0,116.0,104.0,115.0,121.0,101.0,95.0,76.0,109.0,148.0,128.0,89.0,101.0,134.0,124.0,90.0,126.0,107.0,133.0,117.0,113.0,118.0,130.0,89.0,126.0,81.0,92.0,95.0,108.0,126.0,124.0,99.0,98.0,98.0,105.0,103.0,102.0,121.0,114.0,132.0,102.0,122.0,90.0,85.0,79.0,106.0,105.0,93.0,87.0,87.0,111.0,114.0,115.0,100.0,115.0,137.0,98.0,121.0,117.0,99.0,135.0,87.0,103.0,129.0,121.0,108.0,99.0,95.0,105.0,120.0,124.0,123.0,78.0,114.0,120.0,97.0,120.0,106.0,114.0,129.0,139.0,122.0,144.0,97.0,75.0,127.0,104.0,101.0,144.0,120.0,108.0,95.0,103.0,104.0,110.0,135.0,134.0,102.0,113.0,114.0,119.0,110.0,149.0,137.0,149.0,102.0,94.0,121.0,127.0,79.0,135.0,115.0,123.0,126.0,115.0,107.0,89.0,90.0,109.0,106.0,145.0,96.0,127.0,124.0,149.0,145.0,129.0,100.0,98.0,99.0,111.0,93.0,100.0,120.0,146.0,108.0,95.0,87.0,115.0,98.0,112.0,114.0,79.0,105.0,125.0,107.0,104.0,98.0,136.0,99.0,120.0,122.0,98.0,89.0,152.0,105.0,121.0,143.0,119.0,104.0,108.0,78.0,111.0,115.0,118.0,109.0,116.0,107.0,123.0,113.0,85.0,105.0,123.0,124.0,122.0,132.0,102.0,136.0,125.0,93.0,133.0,126.0,104.0,132.0,130.0,118.0,85.0,129.0,156.0,122.0,104.0,119.0,98.0,92.0,87.0,92.0,107.0,142.0,92.0,91.0,103.0,121.0,80.0,135.0,104.0,103.0,108.0,103.0,109.0,121.0,111.0,66.0,120.0,95.0,104.0,88.0,116.0,122.0,87.0,119.0,79.0,104.0,123.0,147.0,100.0,94.0,81.0,109.0,114.0,91.0,90.0,100.0,131.0,135.0,101.0,100.0,110.0,126.0,130.0,142.0,116.0,105.0,101.0,88.0,127.0,81.0,84.0,144.0,116.0,95.0,122.0,103.0,123.0,92.0,146.0,88.0,84.0,126.0,117.0,132.0,100.0,115.0,126.0,87.0,124.0,62.0,105.0,151.0,126.0,104.0,78.0,116.0,154.0,71.0,119.0,90.0,119.0,101.0,86.0,118.0,133.0,82.0,130.0,86.0,118.0,130.0,100.0,107.0,128.0,116.0,115.0,116.0,114.0,122.0,65.0,109.0,102.0,104.0,131.0,115.0,115.0,113.0,106.0,108.0,130.0,93.0,96.0,87.0,121.0,135.0,104.0,128.0,80.0,113.0,129.0,121.0,113.0,111.0,89.0,116.0,104.0,114.0,128.0,121.0,113.0,125.0,158.0,100.0,116.0,133.0,85.0,119.0,133.0,110.0,136.0,125.0,114.0,125.0,126.0,105.0,132.0,137.0,129.0,132.0,76.0,114.0,84.0,95.0,120.0,115.0,89.0,98.0,94.0,107.0,116.0,114.0,102.0,131.0,94.0,112.0,119.0,108.0,86.0,123.0,126.0,88.0,87.0,105.0,95.0,93.0,79.0,100.0,91.0,82.0,108.0,120.0,85.0,124.0,123.0,137.0,122.0,128.0,74.0,113.0,104.0,114.0,92.0,88.0,122.0,89.0,98.0,107.0,119.0,90.0,138.0,109.0,124.0,126.0,126.0,129.0,107.0,86.0,131.0,89.0,113.0,97.0,99.0,126.0,86.0,89.0,128.0,101.0,89.0,95.0,135.0,137.0,86.0,144.0,120.0,119.0,119.0,123.0,141.0,106.0,123.0,91.0,78.0,146.0,110.0,121.0,120.0,118.0,93.0,112.0,69.0,113.0,124.0,82.0,120.0,125.0,85.0,84.0,93.0,117.0,59.0,103.0,113.0,73.0,98.0,100.0,133.0,124.0,78.0,107.0,105.0,108.0,115.0,118.0,125.0,117.0,143.0,79.0,111.0,117.0,146.0,113.0,106.0,82.0,105.0,100.0,97.0,109.0,128.0,130.0,107.0,128.0,92.0,109.0,164.0,82.0,124.0,87.0,84.0,133.0,110.0,133.0,118.0,91.0,121.0,120.0,100.0,117.0,99.0,118.0,132.0,124.0,92.0,104.0,117.0,118.0,102.0,152.0,112.0,132.0,121.0,127.0,93.0,74.0,124.0,123.0,81.0,95.0,110.0,128.0,92.0,70.0,84.0,103.0,118.0,118.0,106.0,106.0,174.0,108.0,102.0,112.0,125.0,121.0,99.0,101.0,109.0,63.0,121.0,110.0,102.0,110.0,113.0,86.0,131.0,142.0,119.0,98.0,101.0,139.0,94.0,153.0,95.0,122.0,107.0,125.0,123.0,96.0,114.0,100.0,119.0,142.0,137.0,118.0,117.0,65.0,97.0,89.0,127.0,117.0,115.0,108.0,135.0,87.0,89.0,105.0,110.0,104.0,100.0,97.0,116.0,241.0,117.0,108.0,95.0,80.0,118.0,90.0,124.0,134.0,115.0,96.0,87.0,105.0,93.0,128.0,124.0,124.0,112.0,123.0,90.0,84.0,159.0,139.0,143.0,115.0,112.0,105.0,120.0,122.0,132.0,100.0,162.0,149.0,91.0,123.0,101.0,104.0,106.0,138.0,122.0,140.0,99.0,113.0,60.0,118.0,127.0,97.0,86.0,108.0,108.0,80.0,98.0,72.0,91.0,98.0,121.0,79.0,110.0,115.0,32.0,106.0,77.0,84.0,138.0,112.0,47.0,92.0,138.0,113.0,138.0,129.0,103.0,106.0,123.0,129.0,114.0,74.0,124.0,114.0,113.0,82.0,108.0,106.0,106.0,136.0,67.0,102.0,151.0,115.0,127.0,110.0,133.0,147.0,143.0,107.0,103.0,140.0,126.0,122.0,102.0,112.0,124.0,109.0,96.0,119.0,70.0,137.0,100.0,121.0,77.0,125.0,80.0,131.0,121.0,104.0,72.0,124.0,136.0,94.0,113.0,96.0,120.0,123.0,92.0,75.0,106.0,126.0,98.0,98.0,132.0,126.0,74.0,136.0,122.0,108.0,114.0,108.0,113.0,116.0,135.0,94.0,95.0,128.0,104.0,95.0,84.0,96.0,121.0,140.0,109.0,92.0,79.0,92.0,122.0,82.0,97.0,102.0,107.0,96.0,127.0,115.0,91.0,76.0,151.0,101.0,88.0,145.0,100.0,105.0,122.0,112.0,94.0,110.0,118.0,93.0,117.0,125.0,95.0,122.0,135.0,123.0,118.0,90.0,126.0,120.0,142.0,108.0,122.0,90.0,111.0,131.0,101.0,118.0,105.0,124.0,95.0,89.0,89.0,122.0,65.0,114.0,122.0,112.0,126.0,66.0,80.0,89.0,81.0,96.0,140.0,128.0,102.0,119.0,131.0,107.0,126.0,119.0,117.0,138.0,91.0,124.0,143.0,123.0,117.0,91.0,112.0,106.0,87.0,79.0,109.0,126.0,96.0,76.0,103.0,112.0,114.0,104.0,72.0,142.0,114.0,127.0,140.0,99.0,134.0,85.0,98.0,97.0,134.0,107.0,97.0,126.0,125.0,120.0,97.0,103.0,100.0,139.0,123.0,104.0,116.0,103.0,113.0,149.0,94.0,61.0,115.0,107.0,96.0,113.0,88.0,111.0,154.0,121.0,122.0,74.0,123.0,103.0,135.0,125.0,120.0,55.0,108.0,124.0,108.0,95.0,111.0,82.0,89.0,141.0,117.0,100.0,138.0,127.0,112.0,110.0,138.0,88.0,116.0,107.0,121.0,106.0,106.0,118.0,112.0,123.0,159.0,91.0,98.0,138.0,108.0,80.0,104.0,103.0,120.0,87.0,116.0,118.0,86.0,104.0,109.0,118.0,112.0,118.0,111.0,128.0,120.0,116.0,96.0,128.0,100.0,84.0,97.0,119.0,98.0,117.0,101.0,114.0,82.0,124.0,84.0,112.0,123.0,114.0,133.0,69.0,124.0,91.0,106.0,72.0,120.0,114.0,88.0,72.0,110.0,126.0,123.0,123.0,125.0,127.0,86.0,125.0,119.0,121.0,82.0,124.0,112.0,121.0,149.0,87.0,129.0,96.0,101.0,117.0,89.0,95.0,119.0,102.0,77.0,110.0,103.0,117.0,101.0,121.0,125.0,110.0,103.0,135.0,117.0,89.0,121.0,102.0,52.0,116.0,118.0,127.0,101.0,86.0,125.0,132.0,117.0,119.0,85.0,127.0,125.0,122.0,76.0,104.0,124.0,127.0,92.0,116.0,121.0,120.0,99.0,106.0,116.0,101.0,137.0,144.0,143.0,124.0,102.0,131.0,90.0,87.0,133.0,134.0,129.0,125.0,115.0,123.0,110.0,119.0,121.0,108.0,101.0,126.0,113.0,125.0,104.0,90.0,151.0,122.0,145.0,150.0,118.0,127.0,92.0,113.0,132.0,129.0,112.0,92.0,105.0,84.0,135.0,95.0,119.0,112.0,92.0,86.0,127.0,98.0,103.0,123.0,111.0,112.0,109.0,127.0,102.0,101.0,112.0,111.0,138.0,115.0,107.0,76.0,76.0,136.0,130.0,84.0,127.0,131.0,128.0,93.0,119.0,92.0,96.0,133.0,127.0,154.0,115.0,109.0,137.0,93.0,100.0,99.0,111.0,117.0,126.0,106.0,102.0,100.0,110.0,109.0,119.0,126.0,130.0,108.0,131.0,131.0,115.0,106.0,62.0,115.0,86.0,90.0,102.0,94.0,129.0,138.0,106.0,107.0,101.0,114.0,120.0,89.0,121.0,134.0,122.0,105.0,139.0,84.0,124.0,92.0,119.0,102.0,133.0,92.0,129.0,56.0,138.0,126.0,95.0,145.0,115.0,150.0,95.0,100.0,97.0,100.0,142.0,97.0,124.0,116.0,124.0,114.0,103.0,130.0,87.0,113.0,93.0,91.0,130.0,91.0,105.0,128.0,74.0,137.0,119.0,87.0,109.0,127.0,82.0,85.0,102.0,127.0,137.0,76.0,106.0,122.0,107.0,120.0,115.0,103.0,75.0,109.0,141.0,121.0,106.0,124.0,104.0,84.0,104.0,111.0,108.0,80.0,96.0,112.0,132.0,103.0,134.0,79.0,97.0,126.0,120.0,106.0,140.0,120.0,81.0,103.0,124.0,119.0,122.0,151.0,106.0,104.0,92.0,109.0,113.0,90.0,116.0,78.0,101.0,81.0,76.0,63.0,97.0,127.0,122.0,131.0,103.0,97.0,106.0,104.0,123.0,152.0,87.0,118.0,93.0,110.0,78.0,100.0,96.0,119.0,95.0,125.0,141.0,122.0,137.0,100.0,121.0,104.0,125.0,97.0,91.0,125.0,102.0,147.0,86.0,133.0,113.0,123.0,116.0,101.0,90.0,126.0,103.0,100.0,96.0,182.0,115.0,101.0,100.0,123.0,143.0,114.0,105.0,104.0,121.0,109.0,129.0,86.0,107.0,84.0,121.0,149.0,145.0,79.0,107.0,108.0,75.0,121.0,110.0,142.0,126.0,120.0,70.0,100.0,79.0,125.0,143.0,161.0,116.0,61.0,76.0,134.0,86.0,101.0,103.0,114.0,122.0,90.0,118.0,88.0,106.0,93.0,129.0,135.0,99.0,78.0,75.0,116.0,125.0,117.0,115.0,120.0,121.0,89.0,116.0,132.0,94.0,110.0,106.0,131.0,104.0,90.0,114.0,94.0,127.0,132.0,96.0,108.0,105.0,126.0,102.0,141.0,115.0,123.0,124.0,114.0,99.0,120.0,74.0,135.0,104.0,78.0,110.0,142.0,78.0,104.0,72.0,70.0,118.0,118.0,130.0,119.0,105.0,102.0,150.0,108.0,119.0,101.0,104.0,127.0,113.0,108.0,136.0,100.0,111.0,109.0,103.0,106.0,99.0,114.0,111.0,105.0,103.0,149.0,127.0,123.0,92.0,92.0,87.0,99.0,125.0,121.0,99.0,123.0,137.0,111.0,127.0,110.0,93.0,100.0,70.0,103.0,126.0,95.0,116.0,110.0,112.0,85.0,122.0,51.0,107.0,101.0,103.0,88.0,116.0,97.0,110.0,100.0,107.0,90.0,128.0,104.0,105.0,123.0,98.0,121.0,122.0,103.0,105.0,98.0,144.0,110.0,125.0,106.0,102.0,131.0,114.0,123.0,123.0,116.0,68.0,113.0,113.0,90.0,116.0,124.0,119.0,145.0,89.0,89.0,96.0,132.0,128.0,104.0,123.0,107.0,110.0,122.0,115.0,127.0,117.0,102.0,104.0,117.0,123.0,103.0,80.0,100.0,109.0,126.0,115.0,117.0,72.0,112.0,141.0,105.0,159.0,128.0,88.0,97.0,136.0,96.0,118.0,130.0,122.0,116.0,75.0,108.0,122.0,107.0,123.0,126.0,121.0,120.0,124.0,108.0,124.0,77.0,70.0,124.0,105.0,116.0,68.0,111.0,107.0,100.0,121.0,88.0,132.0,125.0,120.0,100.0,137.0,92.0,99.0,146.0,146.0,117.0,146.0,112.0,76.0,130.0,145.0,154.0,96.0,112.0,116.0,104.0,105.0,139.0,132.0,102.0,101.0,92.0,119.0,109.0,107.0,108.0,127.0,100.0,121.0,78.0,86.0,88.0,113.0,117.0,104.0,123.0,89.0,104.0,107.0,91.0,113.0,115.0,92.0,105.0,148.0,99.0,72.0,94.0,160.0,107.0,113.0,113.0,134.0,128.0,113.0,131.0,83.0,134.0,95.0,130.0,103.0,133.0,74.0,93.0,83.0,183.0,101.0,92.0,115.0,114.0,106.0,147.0,89.0,71.0,72.0,119.0,101.0,111.0,100.0,114.0,149.0,87.0,114.0,71.0,118.0,116.0,93.0,110.0,82.0,66.0,125.0,133.0,93.0,115.0,119.0,92.0,102.0,115.0,98.0,94.0,105.0,108.0,122.0,86.0,90.0,90.0,140.0,115.0,121.0,93.0,105.0,117.0,62.0,130.0,103.0,117.0,98.0,88.0,123.0,99.0,136.0,125.0,103.0,126.0,99.0,118.0,100.0,126.0,105.0,92.0,95.0,119.0,132.0,114.0,89.0,91.0,83.0,101.0,122.0,125.0,123.0,97.0,102.0,75.0,139.0,82.0,111.0,109.0,120.0,118.0,123.0,107.0,115.0,89.0,115.0,92.0,119.0,110.0,117.0,128.0,120.0,127.0,136.0,99.0,113.0,126.0,99.0,108.0,137.0,114.0,120.0,68.0,101.0,108.0,98.0,118.0,121.0,112.0,106.0,89.0,125.0,107.0,69.0,84.0,92.0,128.0,97.0,117.0,109.0,68.0,106.0,76.0,100.0,107.0,94.0,72.0,121.0,105.0,112.0,134.0,126.0,101.0,111.0,149.0,104.0,118.0,93.0,125.0,121.0,84.0,101.0,118.0,87.0,125.0,142.0,87.0,87.0,112.0,124.0,82.0,108.0,63.0,121.0,134.0,96.0,122.0,130.0,118.0,102.0,118.0,75.0,77.0,117.0,92.0,106.0,61.0,118.0,130.0,102.0,127.0,115.0,104.0,116.0,90.0,123.0,146.0,128.0,63.0,68.0,124.0,138.0,58.0,108.0,130.0,126.0,83.0,112.0,95.0,128.0,152.0,135.0,89.0,72.0,126.0,63.0,89.0,99.0,116.0,102.0,127.0,105.0,119.0,116.0,123.0,60.0,99.0,98.0,90.0,124.0,121.0,123.0,138.0,96.0,122.0,83.0,96.0,88.0,106.0,80.0,115.0,123.0,126.0,100.0,123.0,133.0,82.0,142.0,126.0,98.0,91.0,113.0,101.0,101.0,111.0,130.0,78.0,93.0,133.0,103.0,96.0,146.0,72.0,77.0,115.0,79.0,159.0,122.0,130.0,129.0,118.0,109.0,103.0,96.0,96.0,129.0,103.0,146.0,112.0,98.0,113.0,148.0,75.0,78.0,104.0,145.0,76.0,121.0,123.0,74.0,87.0,82.0,63.0,92.0,79.0,118.0,108.0,107.0,121.0,108.0,126.0,130.0,109.0,118.0,85.0,122.0,105.0,152.0,132.0,106.0,99.0,111.0,115.0,119.0,107.0,122.0,98.0,87.0,113.0,100.0,133.0,149.0,114.0,101.0,103.0,89.0,118.0,80.0,110.0,97.0,89.0,119.0,128.0,128.0,137.0,116.0,126.0,106.0,125.0,121.0,93.0,111.0,107.0,104.0,66.0,132.0,126.0,77.0,81.0,112.0,88.0,103.0,124.0,114.0,107.0,127.0,81.0,124.0,94.0,118.0,103.0,116.0,103.0,112.0,90.0,107.0,126.0,69.0,124.0,121.0,123.0,141.0,116.0,98.0,96.0,116.0,129.0,113.0,66.0,111.0,89.0,90.0,112.0,106.0,89.0,125.0,140.0,124.0,66.0,127.0,113.0,106.0,148.0,117.0,124.0,112.0,105.0,94.0,111.0,111.0,120.0,85.0,76.0,104.0,113.0,118.0,107.0,116.0,85.0,102.0,124.0,107.0,96.0,121.0,123.0,120.0,121.0,117.0,104.0,126.0,119.0,121.0,120.0,124.0,115.0,80.0,102.0,105.0,110.0,103.0,97.0,105.0,112.0,89.0,124.0,137.0,115.0,111.0,126.0,107.0,86.0,80.0,127.0,147.0,114.0,91.0,112.0,103.0,132.0,126.0,120.0,121.0,110.0,115.0,146.0,114.0,93.0,108.0,112.0,134.0,126.0,115.0,94.0,143.0,83.0,124.0,124.0,103.0,134.0,126.0,90.0,121.0,86.0,57.0,127.0,87.0,99.0,119.0,92.0,138.0,127.0,109.0,88.0,123.0,163.0,134.0,141.0,103.0,72.0,144.0,99.0,75.0,136.0,93.0,126.0,109.0,100.0,144.0,102.0,104.0,96.0,105.0,98.0,113.0,89.0,151.0,104.0,100.0,113.0,105.0,100.0,115.0,77.0,89.0,113.0,119.0,124.0,109.0,124.0,100.0,77.0,89.0,106.0,129.0,74.0,124.0,79.0,126.0,97.0,118.0,111.0,94.0,124.0,80.0,100.0,87.0,86.0,126.0,87.0,98.0,92.0,87.0,117.0,91.0,142.0,121.0,128.0,108.0,88.0,92.0,115.0,108.0,136.0,89.0,122.0,154.0,83.0,154.0,74.0,130.0,129.0,115.0,120.0,90.0,127.0,136.0,87.0,106.0,101.0,103.0,138.0,125.0,110.0,109.0,135.0,115.0,123.0,117.0,78.0,113.0,121.0,106.0,106.0,105.0,124.0,129.0,87.0,92.0,92.0,86.0,104.0,65.0,135.0,99.0,116.0,124.0,128.0,128.0,140.0,88.0,113.0,117.0,77.0,105.0,118.0,113.0,79.0,148.0,126.0,90.0,118.0,93.0,125.0,92.0,92.0,125.0,100.0,60.0,118.0,70.0,110.0,137.0,128.0,123.0,100.0,36.0,139.0,101.0,150.0,87.0,121.0,165.0,132.0,92.0,123.0,136.0,100.0,115.0,82.0,129.0,128.0,102.0,95.0,93.0,113.0,133.0,110.0,126.0,81.0,82.0,121.0,94.0,136.0,99.0,94.0,123.0,107.0,112.0,125.0,116.0,110.0,132.0,115.0,106.0,104.0,87.0,110.0,102.0,131.0,91.0,105.0,91.0,106.0,75.0,145.0,97.0,125.0,92.0,89.0,115.0,107.0,142.0,129.0,105.0,131.0,89.0,99.0,110.0,107.0,113.0,113.0,118.0,83.0,107.0,136.0,121.0,89.0,159.0,125.0,67.0,105.0,115.0,102.0,89.0,114.0,124.0,96.0,103.0,125.0,120.0,129.0,93.0,118.0,111.0,100.0,122.0,121.0,151.0,94.0,91.0,129.0,112.0,131.0,128.0,150.0,108.0,149.0,85.0,77.0,118.0,126.0,113.0,99.0,102.0,142.0,139.0,140.0,105.0,68.0,125.0,79.0,128.0,81.0,115.0,118.0,104.0,118.0,111.0,118.0,122.0,85.0,101.0,116.0,128.0,94.0,123.0,102.0,76.0,106.0,102.0,107.0,114.0,125.0,101.0,104.0,88.0,121.0,107.0,95.0,83.0,77.0,88.0,129.0,134.0,98.0,123.0,109.0,98.0,126.0,96.0,102.0,95.0,65.0,88.0,73.0,91.0,108.0,71.0,93.0,111.0,99.0,131.0,119.0,121.0,138.0,123.0,87.0,169.0,118.0,120.0,88.0,128.0,144.0,86.0,100.0,79.0,128.0,93.0,106.0,119.0,112.0,102.0,113.0,108.0,102.0,90.0,97.0,96.0,95.0,82.0,116.0,102.0,108.0,128.0,106.0,136.0,87.0,133.0,135.0,122.0,107.0,116.0,87.0,126.0,106.0,113.0,112.0,94.0,177.0,157.0,103.0,102.0,98.0,92.0,125.0,117.0,115.0,110.0,127.0,115.0,102.0,89.0,131.0,115.0,115.0,94.0,123.0,97.0,123.0,114.0,100.0,122.0,115.0,134.0,69.0,95.0,120.0,108.0,87.0,135.0,108.0,89.0,88.0,109.0,120.0,76.0,94.0,141.0,93.0,104.0,111.0,79.0,134.0,115.0,109.0,102.0,120.0,108.0,106.0,109.0,85.0,118.0,115.0,119.0,114.0,120.0,142.0,101.0,103.0,120.0,153.0,146.0,98.0,90.0,128.0,106.0,126.0,117.0,121.0,131.0,104.0,96.0,123.0,94.0,99.0,87.0,109.0,106.0,127.0,118.0,99.0,111.0,82.0,104.0,118.0,122.0,145.0,122.0,83.0,88.0,121.0,92.0,139.0,127.0,106.0,88.0,111.0,103.0,92.0,112.0,138.0,106.0,99.0,111.0,109.0,82.0,129.0,88.0,70.0,132.0,134.0,121.0,103.0,92.0,120.0,114.0,127.0,105.0,115.0,116.0,96.0,67.0,135.0,94.0,88.0,122.0,91.0,122.0,123.0,127.0,100.0,124.0,112.0,94.0,114.0,117.0,106.0,125.0,134.0,84.0,88.0,112.0,114.0,87.0,125.0,108.0,83.0,129.0,125.0,115.0,93.0,123.0,117.0,127.0,178.0,127.0,117.0,87.0,114.0,77.0,148.0,107.0,113.0,139.0,68.0,118.0,134.0,114.0,108.0,94.0,90.0,83.0,120.0,84.0,155.0,126.0,124.0,86.0,96.0,112.0,103.0,118.0,74.0,107.0,114.0,101.0,89.0,114.0,122.0,79.0,98.0,102.0,130.0,110.0,73.0,86.0,118.0,106.0,87.0,123.0,121.0,103.0,93.0,95.0,97.0,104.0,119.0,92.0,113.0,130.0,116.0,98.0,98.0,101.0,96.0,104.0,129.0,111.0,116.0,117.0,95.0,130.0,88.0,121.0,105.0,123.0,113.0,79.0,148.0,103.0,103.0,123.0,109.0,127.0,127.0,146.0,86.0,118.0,90.0,101.0,83.0,107.0,104.0,88.0,110.0,114.0,94.0,79.0,107.0,104.0,93.0,136.0,72.0,104.0,108.0,112.0,126.0,102.0,139.0,97.0,121.0,132.0,130.0,147.0,88.0,92.0,111.0,113.0,147.0,99.0,113.0,127.0,111.0,122.0,126.0,93.0,115.0,114.0,95.0,104.0,123.0,82.0,133.0,135.0,99.0,107.0,157.0,123.0,130.0,85.0,96.0,103.0,94.0,107.0,132.0,90.0,110.0,122.0,101.0,127.0,128.0,128.0,88.0,80.0,88.0,135.0,104.0,109.0,124.0,161.0,90.0,125.0,87.0,128.0,113.0,124.0,67.0,92.0,121.0,101.0,121.0,93.0,104.0,109.0,125.0,119.0,96.0,125.0,125.0,93.0,87.0,74.0,133.0,40.0,118.0,89.0,110.0,99.0,121.0,115.0,107.0,124.0,149.0,117.0,155.0,101.0,103.0,95.0,77.0,109.0,95.0,98.0,83.0,103.0,120.0,114.0,125.0,81.0,95.0,116.0,119.0,102.0,115.0,71.0,120.0,85.0,141.0,115.0,100.0,112.0,142.0,119.0,116.0,113.0,142.0,89.0,133.0,118.0,129.0,88.0,82.0,96.0,125.0,114.0,99.0,62.0,106.0,80.0,154.0,93.0,93.0,100.0,76.0,136.0,116.0,94.0,114.0,114.0,114.0,104.0,98.0,137.0,99.0,93.0,124.0,97.0,105.0,146.0,152.0,116.0,134.0,107.0,99.0,83.0,107.0,135.0,79.0,122.0,93.0,101.0,110.0,130.0,94.0,127.0,116.0,88.0,126.0,115.0,119.0,103.0,95.0,100.0,125.0,91.0,84.0,102.0,107.0,122.0,107.0,128.0,139.0,129.0,113.0,114.0,83.0,80.0,95.0,110.0,105.0,89.0,91.0,116.0,121.0,101.0,78.0,90.0,117.0,100.0,101.0,137.0,110.0,133.0,90.0,127.0,115.0,118.0,124.0,87.0,105.0,117.0,136.0,103.0,108.0,121.0,103.0,125.0,121.0,126.0,128.0,81.0,117.0,70.0,123.0,109.0,104.0,79.0,80.0,75.0,114.0,89.0,111.0,78.0,124.0,79.0,116.0,97.0,114.0,119.0,122.0,90.0,126.0,114.0,108.0,131.0,107.0,86.0,78.0,106.0,99.0,129.0,110.0,89.0,117.0,119.0,122.0,134.0,96.0,82.0,136.0,106.0,107.0,121.0,82.0,128.0,85.0,84.0,108.0,117.0,105.0,100.0,105.0,125.0,139.0,146.0,91.0,109.0,132.0,92.0,108.0,109.0,122.0,129.0,103.0,115.0,125.0,127.0,117.0,140.0,122.0,97.0,125.0,118.0,111.0,108.0,101.0,134.0,102.0,113.0,113.0,119.0,107.0,110.0,128.0,116.0,87.0,101.0,128.0,123.0,112.0,114.0,100.0,113.0,93.0,106.0,86.0,104.0,89.0,132.0,138.0,105.0,96.0,107.0,101.0,129.0,117.0,83.0,133.0,138.0,124.0,115.0,110.0,98.0,121.0,79.0,70.0,76.0,86.0,80.0,113.0,89.0,114.0,85.0,105.0,136.0,124.0,143.0,83.0,124.0,88.0,117.0,118.0,121.0,114.0,85.0,81.0,128.0,138.0,123.0,142.0,123.0,103.0,111.0,131.0,105.0,106.0,115.0,145.0,102.0,134.0,96.0,126.0,85.0,107.0,126.0,120.0,92.0,101.0,120.0,94.0,108.0,90.0,117.0,75.0,113.0,95.0,118.0,81.0,79.0,95.0,120.0,129.0,126.0,115.0,107.0,86.0,116.0,96.0,120.0,80.0,73.0,88.0,126.0,103.0,104.0,122.0,92.0,130.0,145.0,117.0,98.0,107.0,86.0,146.0,116.0,93.0,88.0,108.0,134.0,103.0,105.0,92.0,126.0,129.0,92.0,78.0,124.0,127.0,105.0,88.0,110.0,89.0,78.0,88.0,85.0,136.0,124.0,89.0,120.0,117.0,89.0,100.0,137.0,142.0,106.0,137.0,114.0,124.0,77.0,117.0,106.0,120.0,103.0,126.0,141.0,122.0,113.0,110.0,101.0,86.0,96.0,142.0,110.0,143.0,92.0,92.0,109.0,64.0,115.0,114.0,123.0,110.0,126.0,105.0,124.0,145.0,102.0,123.0,117.0,91.0,128.0,90.0,87.0,94.0,130.0,113.0,80.0,127.0,138.0,128.0,101.0,102.0,90.0,129.0,103.0,104.0,88.0,117.0,94.0,127.0,101.0,94.0,90.0,90.0,148.0,121.0,131.0,146.0,132.0,117.0,111.0,122.0,129.0,126.0,99.0,128.0,119.0,83.0,121.0,95.0,94.0,96.0,118.0,123.0,71.0,94.0,117.0,94.0,88.0,129.0,105.0,95.0,125.0,135.0,120.0,97.0,129.0,115.0,96.0,133.0,91.0,106.0,94.0,145.0,97.0,114.0,121.0,99.0,124.0,92.0,102.0,132.0,97.0,72.0,110.0,106.0,80.0,122.0,93.0,139.0,110.0,129.0,125.0,79.0,119.0,118.0,96.0,110.0,91.0,141.0,96.0,100.0,117.0,113.0,103.0,130.0,122.0,93.0,103.0,110.0,125.0,120.0,109.0,112.0,100.0,128.0,93.0,117.0,115.0,128.0,145.0,109.0,82.0,120.0,108.0,91.0,109.0,166.0,122.0,110.0,110.0,80.0,121.0,145.0,106.0,100.0,126.0,111.0,104.0,139.0,122.0,95.0,102.0,119.0,116.0,110.0,157.0,111.0,113.0,95.0,111.0,95.0,92.0,124.0,134.0,101.0,101.0,119.0,109.0,122.0,107.0,111.0,121.0,129.0,104.0,121.0,143.0,86.0,118.0,128.0,85.0,136.0,141.0,120.0,99.0,106.0,109.0,129.0,156.0,102.0,82.0,133.0,81.0,122.0,118.0,108.0,144.0,117.0,121.0,117.0,110.0,54.0,131.0,91.0,114.0,87.0,118.0,137.0,102.0,82.0,128.0,79.0,118.0,101.0,113.0,125.0,145.0,109.0,86.0,108.0,150.0,123.0,142.0,125.0,93.0,115.0,128.0,109.0,149.0,124.0,117.0,91.0,131.0,92.0,114.0,121.0,101.0,118.0,92.0,108.0,138.0,116.0,122.0,105.0,114.0,120.0,103.0,117.0,113.0,109.0,116.0,122.0,110.0,115.0,122.0,99.0,96.0,136.0,116.0,108.0,126.0,100.0,114.0,125.0,106.0,125.0,142.0,137.0,91.0,139.0,89.0,135.0,95.0,96.0,87.0,115.0,98.0,147.0,122.0,103.0,120.0,137.0,113.0,91.0,74.0,120.0,127.0,82.0,88.0,95.0,81.0,104.0,87.0,85.0,90.0,148.0,131.0,130.0,104.0,69.0,158.0,117.0,104.0,107.0,74.0,120.0,63.0,80.0,129.0,113.0,100.0,74.0,100.0,93.0,124.0,85.0,143.0,133.0,107.0,69.0,105.0,96.0,126.0,92.0,82.0,119.0,121.0,179.0,91.0,114.0,126.0,84.0,92.0,126.0,98.0,93.0,100.0,134.0,124.0,111.0,107.0,101.0,108.0,120.0,115.0,100.0,141.0,108.0,100.0,107.0,110.0,106.0,143.0,95.0,123.0,107.0,131.0,82.0,112.0,120.0,119.0,104.0,87.0,124.0,99.0,97.0,121.0,110.0,108.0,123.0,121.0,128.0,95.0,125.0,107.0,115.0,126.0,83.0,108.0,82.0,77.0,77.0,104.0,137.0,128.0,104.0,100.0,113.0,145.0,74.0,106.0,119.0,154.0,131.0,111.0,100.0,114.0,112.0,121.0,85.0,131.0,107.0,135.0,120.0,112.0,107.0,143.0,123.0,100.0,113.0,117.0,140.0,155.0,108.0,114.0,69.0,103.0,111.0,117.0,125.0,135.0,111.0,118.0,134.0,87.0,103.0,117.0,111.0,115.0,103.0,102.0,115.0,95.0,81.0,60.0,100.0,74.0,113.0,92.0,113.0,100.0,101.0,112.0,100.0,126.0,78.0,75.0,87.0,99.0,79.0,100.0,77.0,95.0,117.0,102.0,91.0,130.0,104.0,145.0,122.0,124.0,98.0,113.0,83.0,85.0,117.0,117.0,112.0,115.0,91.0,137.0,138.0,114.0,138.0,126.0,107.0,140.0,124.0,113.0,105.0,75.0,135.0,96.0,130.0,134.0,134.0,125.0,94.0,126.0,127.0,119.0,109.0,87.0,113.0,122.0,104.0,132.0,88.0,119.0,141.0,111.0,123.0,108.0,124.0,95.0,102.0,117.0,115.0,106.0,98.0,149.0,71.0,97.0,122.0,122.0,118.0,75.0,110.0,134.0,107.0,102.0,93.0,100.0,144.0,117.0,131.0,140.0,115.0,120.0,124.0,119.0,82.0,111.0,94.0,113.0,121.0,137.0,102.0,97.0,113.0,82.0,112.0,121.0,119.0,113.0,105.0,75.0,116.0,141.0,125.0,91.0,85.0,110.0,150.0,120.0,102.0,121.0,80.0,118.0,92.0,120.0,109.0,81.0,117.0,125.0,116.0,139.0,92.0,96.0,100.0,147.0,87.0,117.0,113.0,119.0,114.0,114.0,91.0,104.0,98.0,103.0,124.0,122.0,126.0,128.0,144.0,107.0,92.0,109.0,121.0,104.0,127.0,114.0,81.0,113.0,125.0,107.0,126.0,92.0,96.0,77.0,103.0,116.0,115.0,87.0,145.0,79.0,153.0,136.0,118.0,94.0,101.0,62.0,101.0,105.0,124.0,121.0,106.0,92.0,116.0,126.0,80.0,85.0,103.0,70.0,92.0,104.0,96.0,118.0,101.0,107.0,90.0,88.0,101.0,144.0,99.0,138.0,122.0,122.0,90.0,120.0,72.0,92.0,140.0,118.0,101.0,60.0,93.0,109.0,98.0,118.0,133.0,122.0,111.0,130.0,105.0,125.0,101.0,118.0,96.0,108.0,146.0,113.0,87.0,100.0,79.0,98.0,127.0,130.0,113.0,122.0,119.0,125.0,109.0,163.0,140.0,137.0,122.0,95.0,133.0,96.0,111.0,137.0,99.0,136.0,98.0,117.0,127.0,135.0,115.0,121.0,102.0,140.0,107.0,118.0,104.0,120.0,98.0,116.0,89.0,126.0,129.0,110.0,126.0,107.0,105.0,103.0,129.0,98.0,121.0,144.0,130.0,117.0,34.0,115.0,105.0,107.0,72.0,115.0,108.0,115.0,114.0,106.0,107.0,149.0,126.0,117.0,106.0,108.0,114.0,97.0,113.0,126.0,105.0,101.0,118.0,101.0,127.0,109.0,131.0,90.0,124.0,121.0,122.0,115.0,93.0,97.0,155.0,126.0,118.0,110.0,91.0,113.0,22.0,118.0,119.0,107.0,108.0,105.0,141.0,123.0,132.0,114.0,86.0,119.0,111.0,116.0,101.0,119.0,123.0,113.0,122.0,114.0,106.0,119.0,134.0,104.0,75.0,118.0,106.0,111.0,106.0,141.0,131.0,120.0,91.0,117.0,130.0,120.0,136.0,110.0,100.0,96.0,104.0,127.0,82.0,124.0,116.0,99.0,104.0,85.0,104.0,114.0,102.0,124.0,122.0,121.0,116.0,139.0,92.0,109.0,98.0,107.0,102.0,151.0,99.0,99.0,114.0,105.0,98.0,77.0,64.0,124.0,82.0,111.0,122.0,114.0],\"x0\":\" \",\"xaxis\":\"x\",\"y0\":\" \",\"yaxis\":\"y\",\"type\":\"box\"}],                        {\"template\":{\"data\":{\"histogram2dcontour\":[{\"type\":\"histogram2dcontour\",\"colorbar\":{\"outlinewidth\":0,\"ticks\":\"\"},\"colorscale\":[[0.0,\"#0d0887\"],[0.1111111111111111,\"#46039f\"],[0.2222222222222222,\"#7201a8\"],[0.3333333333333333,\"#9c179e\"],[0.4444444444444444,\"#bd3786\"],[0.5555555555555556,\"#d8576b\"],[0.6666666666666666,\"#ed7953\"],[0.7777777777777778,\"#fb9f3a\"],[0.8888888888888888,\"#fdca26\"],[1.0,\"#f0f921\"]]}],\"choropleth\":[{\"type\":\"choropleth\",\"colorbar\":{\"outlinewidth\":0,\"ticks\":\"\"}}],\"histogram2d\":[{\"type\":\"histogram2d\",\"colorbar\":{\"outlinewidth\":0,\"ticks\":\"\"},\"colorscale\":[[0.0,\"#0d0887\"],[0.1111111111111111,\"#46039f\"],[0.2222222222222222,\"#7201a8\"],[0.3333333333333333,\"#9c179e\"],[0.4444444444444444,\"#bd3786\"],[0.5555555555555556,\"#d8576b\"],[0.6666666666666666,\"#ed7953\"],[0.7777777777777778,\"#fb9f3a\"],[0.8888888888888888,\"#fdca26\"],[1.0,\"#f0f921\"]]}],\"heatmap\":[{\"type\":\"heatmap\",\"colorbar\":{\"outlinewidth\":0,\"ticks\":\"\"},\"colorscale\":[[0.0,\"#0d0887\"],[0.1111111111111111,\"#46039f\"],[0.2222222222222222,\"#7201a8\"],[0.3333333333333333,\"#9c179e\"],[0.4444444444444444,\"#bd3786\"],[0.5555555555555556,\"#d8576b\"],[0.6666666666666666,\"#ed7953\"],[0.7777777777777778,\"#fb9f3a\"],[0.8888888888888888,\"#fdca26\"],[1.0,\"#f0f921\"]]}],\"heatmapgl\":[{\"type\":\"heatmapgl\",\"colorbar\":{\"outlinewidth\":0,\"ticks\":\"\"},\"colorscale\":[[0.0,\"#0d0887\"],[0.1111111111111111,\"#46039f\"],[0.2222222222222222,\"#7201a8\"],[0.3333333333333333,\"#9c179e\"],[0.4444444444444444,\"#bd3786\"],[0.5555555555555556,\"#d8576b\"],[0.6666666666666666,\"#ed7953\"],[0.7777777777777778,\"#fb9f3a\"],[0.8888888888888888,\"#fdca26\"],[1.0,\"#f0f921\"]]}],\"contourcarpet\":[{\"type\":\"contourcarpet\",\"colorbar\":{\"outlinewidth\":0,\"ticks\":\"\"}}],\"contour\":[{\"type\":\"contour\",\"colorbar\":{\"outlinewidth\":0,\"ticks\":\"\"},\"colorscale\":[[0.0,\"#0d0887\"],[0.1111111111111111,\"#46039f\"],[0.2222222222222222,\"#7201a8\"],[0.3333333333333333,\"#9c179e\"],[0.4444444444444444,\"#bd3786\"],[0.5555555555555556,\"#d8576b\"],[0.6666666666666666,\"#ed7953\"],[0.7777777777777778,\"#fb9f3a\"],[0.8888888888888888,\"#fdca26\"],[1.0,\"#f0f921\"]]}],\"surface\":[{\"type\":\"surface\",\"colorbar\":{\"outlinewidth\":0,\"ticks\":\"\"},\"colorscale\":[[0.0,\"#0d0887\"],[0.1111111111111111,\"#46039f\"],[0.2222222222222222,\"#7201a8\"],[0.3333333333333333,\"#9c179e\"],[0.4444444444444444,\"#bd3786\"],[0.5555555555555556,\"#d8576b\"],[0.6666666666666666,\"#ed7953\"],[0.7777777777777778,\"#fb9f3a\"],[0.8888888888888888,\"#fdca26\"],[1.0,\"#f0f921\"]]}],\"mesh3d\":[{\"type\":\"mesh3d\",\"colorbar\":{\"outlinewidth\":0,\"ticks\":\"\"}}],\"scatter\":[{\"fillpattern\":{\"fillmode\":\"overlay\",\"size\":10,\"solidity\":0.2},\"type\":\"scatter\"}],\"parcoords\":[{\"type\":\"parcoords\",\"line\":{\"colorbar\":{\"outlinewidth\":0,\"ticks\":\"\"}}}],\"scatterpolargl\":[{\"type\":\"scatterpolargl\",\"marker\":{\"colorbar\":{\"outlinewidth\":0,\"ticks\":\"\"}}}],\"bar\":[{\"error_x\":{\"color\":\"#2a3f5f\"},\"error_y\":{\"color\":\"#2a3f5f\"},\"marker\":{\"line\":{\"color\":\"#E5ECF6\",\"width\":0.5},\"pattern\":{\"fillmode\":\"overlay\",\"size\":10,\"solidity\":0.2}},\"type\":\"bar\"}],\"scattergeo\":[{\"type\":\"scattergeo\",\"marker\":{\"colorbar\":{\"outlinewidth\":0,\"ticks\":\"\"}}}],\"scatterpolar\":[{\"type\":\"scatterpolar\",\"marker\":{\"colorbar\":{\"outlinewidth\":0,\"ticks\":\"\"}}}],\"histogram\":[{\"marker\":{\"pattern\":{\"fillmode\":\"overlay\",\"size\":10,\"solidity\":0.2}},\"type\":\"histogram\"}],\"scattergl\":[{\"type\":\"scattergl\",\"marker\":{\"colorbar\":{\"outlinewidth\":0,\"ticks\":\"\"}}}],\"scatter3d\":[{\"type\":\"scatter3d\",\"line\":{\"colorbar\":{\"outlinewidth\":0,\"ticks\":\"\"}},\"marker\":{\"colorbar\":{\"outlinewidth\":0,\"ticks\":\"\"}}}],\"scattermapbox\":[{\"type\":\"scattermapbox\",\"marker\":{\"colorbar\":{\"outlinewidth\":0,\"ticks\":\"\"}}}],\"scatterternary\":[{\"type\":\"scatterternary\",\"marker\":{\"colorbar\":{\"outlinewidth\":0,\"ticks\":\"\"}}}],\"scattercarpet\":[{\"type\":\"scattercarpet\",\"marker\":{\"colorbar\":{\"outlinewidth\":0,\"ticks\":\"\"}}}],\"carpet\":[{\"aaxis\":{\"endlinecolor\":\"#2a3f5f\",\"gridcolor\":\"white\",\"linecolor\":\"white\",\"minorgridcolor\":\"white\",\"startlinecolor\":\"#2a3f5f\"},\"baxis\":{\"endlinecolor\":\"#2a3f5f\",\"gridcolor\":\"white\",\"linecolor\":\"white\",\"minorgridcolor\":\"white\",\"startlinecolor\":\"#2a3f5f\"},\"type\":\"carpet\"}],\"table\":[{\"cells\":{\"fill\":{\"color\":\"#EBF0F8\"},\"line\":{\"color\":\"white\"}},\"header\":{\"fill\":{\"color\":\"#C8D4E3\"},\"line\":{\"color\":\"white\"}},\"type\":\"table\"}],\"barpolar\":[{\"marker\":{\"line\":{\"color\":\"#E5ECF6\",\"width\":0.5},\"pattern\":{\"fillmode\":\"overlay\",\"size\":10,\"solidity\":0.2}},\"type\":\"barpolar\"}],\"pie\":[{\"automargin\":true,\"type\":\"pie\"}]},\"layout\":{\"autotypenumbers\":\"strict\",\"colorway\":[\"#636efa\",\"#EF553B\",\"#00cc96\",\"#ab63fa\",\"#FFA15A\",\"#19d3f3\",\"#FF6692\",\"#B6E880\",\"#FF97FF\",\"#FECB52\"],\"font\":{\"color\":\"#2a3f5f\"},\"hovermode\":\"closest\",\"hoverlabel\":{\"align\":\"left\"},\"paper_bgcolor\":\"white\",\"plot_bgcolor\":\"#E5ECF6\",\"polar\":{\"bgcolor\":\"#E5ECF6\",\"angularaxis\":{\"gridcolor\":\"white\",\"linecolor\":\"white\",\"ticks\":\"\"},\"radialaxis\":{\"gridcolor\":\"white\",\"linecolor\":\"white\",\"ticks\":\"\"}},\"ternary\":{\"bgcolor\":\"#E5ECF6\",\"aaxis\":{\"gridcolor\":\"white\",\"linecolor\":\"white\",\"ticks\":\"\"},\"baxis\":{\"gridcolor\":\"white\",\"linecolor\":\"white\",\"ticks\":\"\"},\"caxis\":{\"gridcolor\":\"white\",\"linecolor\":\"white\",\"ticks\":\"\"}},\"coloraxis\":{\"colorbar\":{\"outlinewidth\":0,\"ticks\":\"\"}},\"colorscale\":{\"sequential\":[[0.0,\"#0d0887\"],[0.1111111111111111,\"#46039f\"],[0.2222222222222222,\"#7201a8\"],[0.3333333333333333,\"#9c179e\"],[0.4444444444444444,\"#bd3786\"],[0.5555555555555556,\"#d8576b\"],[0.6666666666666666,\"#ed7953\"],[0.7777777777777778,\"#fb9f3a\"],[0.8888888888888888,\"#fdca26\"],[1.0,\"#f0f921\"]],\"sequentialminus\":[[0.0,\"#0d0887\"],[0.1111111111111111,\"#46039f\"],[0.2222222222222222,\"#7201a8\"],[0.3333333333333333,\"#9c179e\"],[0.4444444444444444,\"#bd3786\"],[0.5555555555555556,\"#d8576b\"],[0.6666666666666666,\"#ed7953\"],[0.7777777777777778,\"#fb9f3a\"],[0.8888888888888888,\"#fdca26\"],[1.0,\"#f0f921\"]],\"diverging\":[[0,\"#8e0152\"],[0.1,\"#c51b7d\"],[0.2,\"#de77ae\"],[0.3,\"#f1b6da\"],[0.4,\"#fde0ef\"],[0.5,\"#f7f7f7\"],[0.6,\"#e6f5d0\"],[0.7,\"#b8e186\"],[0.8,\"#7fbc41\"],[0.9,\"#4d9221\"],[1,\"#276419\"]]},\"xaxis\":{\"gridcolor\":\"white\",\"linecolor\":\"white\",\"ticks\":\"\",\"title\":{\"standoff\":15},\"zerolinecolor\":\"white\",\"automargin\":true,\"zerolinewidth\":2},\"yaxis\":{\"gridcolor\":\"white\",\"linecolor\":\"white\",\"ticks\":\"\",\"title\":{\"standoff\":15},\"zerolinecolor\":\"white\",\"automargin\":true,\"zerolinewidth\":2},\"scene\":{\"xaxis\":{\"backgroundcolor\":\"#E5ECF6\",\"gridcolor\":\"white\",\"linecolor\":\"white\",\"showbackground\":true,\"ticks\":\"\",\"zerolinecolor\":\"white\",\"gridwidth\":2},\"yaxis\":{\"backgroundcolor\":\"#E5ECF6\",\"gridcolor\":\"white\",\"linecolor\":\"white\",\"showbackground\":true,\"ticks\":\"\",\"zerolinecolor\":\"white\",\"gridwidth\":2},\"zaxis\":{\"backgroundcolor\":\"#E5ECF6\",\"gridcolor\":\"white\",\"linecolor\":\"white\",\"showbackground\":true,\"ticks\":\"\",\"zerolinecolor\":\"white\",\"gridwidth\":2}},\"shapedefaults\":{\"line\":{\"color\":\"#2a3f5f\"}},\"annotationdefaults\":{\"arrowcolor\":\"#2a3f5f\",\"arrowhead\":0,\"arrowwidth\":1},\"geo\":{\"bgcolor\":\"white\",\"landcolor\":\"#E5ECF6\",\"subunitcolor\":\"white\",\"showland\":true,\"showlakes\":true,\"lakecolor\":\"white\"},\"title\":{\"x\":0.05},\"mapbox\":{\"style\":\"light\"}}},\"xaxis\":{\"anchor\":\"y\",\"domain\":[0.0,1.0],\"title\":{\"text\":\"Number of days between Sowing\\u002fTransplanting and Harvesting\"}},\"yaxis\":{\"anchor\":\"x\",\"domain\":[0.0,1.0]},\"legend\":{\"tracegroupgap\":0},\"margin\":{\"t\":60},\"boxmode\":\"group\",\"height\":350,\"width\":600},                        {\"responsive\": true}                    ).then(function(){\n",
              "                            \n",
              "var gd = document.getElementById('a73126db-a1e5-4a40-96fd-777ba7f3b8b6');\n",
              "var x = new MutationObserver(function (mutations, observer) {{\n",
              "        var display = window.getComputedStyle(gd).display;\n",
              "        if (!display || display === 'none') {{\n",
              "            console.log([gd, 'removed!']);\n",
              "            Plotly.purge(gd);\n",
              "            observer.disconnect();\n",
              "        }}\n",
              "}});\n",
              "\n",
              "// Listen for the removal of the full notebook cells\n",
              "var notebookContainer = gd.closest('#notebook-container');\n",
              "if (notebookContainer) {{\n",
              "    x.observe(notebookContainer, {childList: true});\n",
              "}}\n",
              "\n",
              "// Listen for the clearing of the current output cell\n",
              "var outputEl = gd.closest('.output');\n",
              "if (outputEl) {{\n",
              "    x.observe(outputEl, {childList: true});\n",
              "}}\n",
              "\n",
              "                        })                };                            </script>        </div>\n",
              "</body>\n",
              "</html>"
            ]
          },
          "metadata": {}
        },
        {
          "output_type": "display_data",
          "data": {
            "text/html": [
              "<html>\n",
              "<head><meta charset=\"utf-8\" /></head>\n",
              "<body>\n",
              "    <div>            <script src=\"https://cdnjs.cloudflare.com/ajax/libs/mathjax/2.7.5/MathJax.js?config=TeX-AMS-MML_SVG\"></script><script type=\"text/javascript\">if (window.MathJax && window.MathJax.Hub && window.MathJax.Hub.Config) {window.MathJax.Hub.Config({SVG: {font: \"STIX-Web\"}});}</script>                <script type=\"text/javascript\">window.PlotlyConfig = {MathJaxConfig: 'local'};</script>\n",
              "        <script charset=\"utf-8\" src=\"https://cdn.plot.ly/plotly-2.24.1.min.js\"></script>                <div id=\"dc14faff-dd68-4276-8585-ed428b10655e\" class=\"plotly-graph-div\" style=\"height:350px; width:600px;\"></div>            <script type=\"text/javascript\">                                    window.PLOTLYENV=window.PLOTLYENV || {};                                    if (document.getElementById(\"dc14faff-dd68-4276-8585-ed428b10655e\")) {                    Plotly.newPlot(                        \"dc14faff-dd68-4276-8585-ed428b10655e\",                        [{\"alignmentgroup\":\"True\",\"hovertemplate\":\"Number of days between Harvesting and Threshing=%{x}\\u003cextra\\u003e\\u003c\\u002fextra\\u003e\",\"legendgroup\":\"\",\"marker\":{\"color\":\"#636efa\"},\"name\":\"\",\"notched\":false,\"offsetgroup\":\"\",\"orientation\":\"h\",\"showlegend\":false,\"x\":[0.0,29.0,30.0,27.0,2.0,11.0,34.0,1.0,38.0,16.0,22.0,68.0,1.0,64.0,62.0,0.0,26.0,13.0,15.0,105.0,25.0,13.0,15.0,10.0,11.0,8.0,10.0,73.0,75.0,26.0,53.0,13.0,16.0,10.0,10.0,40.0,109.0,38.0,6.0,63.0,44.0,36.0,38.0,11.0,16.0,45.0,1.0,41.0,20.0,28.0,36.0,15.0,74.0,12.0,57.0,13.0,25.0,14.0,9.0,5.0,21.0,78.0,48.0,15.0,34.0,11.0,14.0,15.0,51.0,10.0,66.0,0.0,25.0,15.0,14.0,45.0,70.0,10.0,15.0,15.0,15.0,6.0,11.0,16.0,55.0,15.0,8.0,34.0,59.0,63.0,20.0,28.0,52.0,50.0,44.0,14.0,11.0,69.0,37.0,15.0,39.0,13.0,14.0,13.0,79.0,26.0,90.0,12.0,69.0,59.0,10.0,61.0,21.0,57.0,15.0,15.0,15.0,27.0,10.0,29.0,22.0,0.0,10.0,12.0,93.0,32.0,8.0,52.0,4.0,56.0,19.0,15.0,25.0,10.0,5.0,10.0,73.0,15.0,39.0,30.0,0.0,37.0,40.0,14.0,49.0,2.0,62.0,13.0,9.0,4.0,63.0,32.0,29.0,16.0,37.0,63.0,32.0,10.0,11.0,50.0,16.0,8.0,6.0,61.0,61.0,21.0,5.0,15.0,28.0,27.0,9.0,75.0,20.0,53.0,18.0,63.0,85.0,67.0,15.0,50.0,43.0,0.0,10.0,28.0,55.0,5.0,27.0,52.0,34.0,16.0,4.0,6.0,27.0,25.0,15.0,5.0,20.0,21.0,0.0,49.0,4.0,35.0,23.0,95.0,5.0,12.0,10.0,15.0,17.0,29.0,6.0,18.0,16.0,10.0,15.0,2.0,0.0,3.0,22.0,0.0,10.0,5.0,13.0,15.0,14.0,59.0,5.0,15.0,21.0,79.0,42.0,6.0,10.0,25.0,18.0,76.0,74.0,11.0,26.0,12.0,66.0,13.0,8.0,36.0,10.0,14.0,0.0,63.0,15.0,0.0,16.0,10.0,15.0,22.0,5.0,6.0,8.0,8.0,22.0,77.0,44.0,66.0,80.0,20.0,42.0,4.0,35.0,9.0,15.0,10.0,10.0,30.0,13.0,17.0,9.0,31.0,21.0,0.0,0.0,70.0,15.0,56.0,15.0,12.0,35.0,10.0,7.0,20.0,15.0,19.0,10.0,55.0,17.0,35.0,22.0,10.0,19.0,18.0,77.0,19.0,86.0,11.0,0.0,58.0,1.0,24.0,10.0,11.0,10.0,49.0,77.0,14.0,21.0,7.0,40.0,50.0,85.0,9.0,3.0,0.0,48.0,9.0,15.0,57.0,9.0,3.0,57.0,6.0,11.0,64.0,13.0,10.0,12.0,51.0,6.0,64.0,46.0,40.0,17.0,68.0,3.0,13.0,45.0,61.0,9.0,5.0,6.0,48.0,35.0,80.0,62.0,10.0,14.0,32.0,5.0,22.0,90.0,30.0,22.0,6.0,18.0,1.0,97.0,15.0,16.0,10.0,15.0,51.0,5.0,63.0,14.0,15.0,10.0,30.0,15.0,37.0,21.0,11.0,10.0,10.0,37.0,37.0,53.0,91.0,14.0,80.0,10.0,23.0,44.0,47.0,70.0,11.0,8.0,26.0,18.0,31.0,8.0,118.0,8.0,21.0,9.0,21.0,67.0,43.0,20.0,5.0,32.0,42.0,39.0,15.0,21.0,12.0,10.0,59.0,35.0,4.0,29.0,70.0,29.0,111.0,0.0,10.0,35.0,63.0,62.0,44.0,23.0,77.0,12.0,16.0,15.0,30.0,51.0,5.0,2.0,92.0,109.0,67.0,49.0,10.0,8.0,15.0,60.0,40.0,37.0,56.0,15.0,12.0,10.0,1.0,76.0,46.0,18.0,16.0,20.0,12.0,46.0,40.0,49.0,23.0,7.0,59.0,21.0,10.0,7.0,30.0,10.0,8.0,64.0,32.0,22.0,6.0,64.0,32.0,40.0,42.0,63.0,8.0,7.0,0.0,28.0,63.0,64.0,86.0,9.0,14.0,36.0,15.0,17.0,66.0,15.0,23.0,63.0,22.0,18.0,6.0,65.0,67.0,16.0,30.0,31.0,70.0,14.0,9.0,61.0,14.0,14.0,14.0,87.0,15.0,15.0,15.0,16.0,27.0,28.0,3.0,50.0,8.0,15.0,39.0,63.0,66.0,15.0,0.0,87.0,18.0,60.0,10.0,61.0,48.0,13.0,22.0,14.0,42.0,10.0,38.0,16.0,22.0,56.0,10.0,57.0,6.0,35.0,81.0,9.0,7.0,25.0,21.0,10.0,90.0,5.0,0.0,10.0,4.0,28.0,15.0,23.0,60.0,9.0,70.0,32.0,19.0,2.0,30.0,10.0,7.0,64.0,70.0,14.0,15.0,33.0,16.0,16.0,26.0,10.0,6.0,25.0,52.0,7.0,8.0,4.0,9.0,57.0,28.0,41.0,64.0,86.0,13.0,11.0,90.0,6.0,19.0,10.0,33.0,19.0,8.0,10.0,74.0,33.0,9.0,73.0,7.0,84.0,95.0,10.0,36.0,52.0,19.0,43.0,95.0,36.0,3.0,5.0,18.0,7.0,13.0,63.0,70.0,10.0,70.0,96.0,13.0,15.0,0.0,56.0,62.0,5.0,14.0,11.0,37.0,82.0,38.0,35.0,14.0,73.0,7.0,67.0,64.0,82.0,21.0,27.0,16.0,31.0,22.0,0.0,78.0,2.0,28.0,55.0,41.0,9.0,57.0,24.0,42.0,1.0,10.0,96.0,0.0,29.0,23.0,41.0,63.0,15.0,16.0,27.0,32.0,20.0,5.0,27.0,5.0,13.0,6.0,63.0,2.0,2.0,5.0,9.0,60.0,5.0,10.0,0.0,38.0,7.0,28.0,91.0,72.0,60.0,10.0,8.0,33.0,15.0,10.0,41.0,3.0,22.0,10.0,36.0,29.0,9.0,16.0,99.0,22.0,24.0,43.0,28.0,22.0,33.0,45.0,45.0,99.0,8.0,95.0,66.0,63.0,15.0,18.0,8.0,91.0,6.0,19.0,5.0,0.0,16.0,10.0,14.0,12.0,68.0,31.0,15.0,15.0,13.0,13.0,65.0,96.0,6.0,63.0,61.0,7.0,64.0,0.0,77.0,7.0,121.0,22.0,13.0,90.0,38.0,69.0,10.0,28.0,0.0,7.0,12.0,77.0,49.0,37.0,21.0,14.0,15.0,10.0,23.0,13.0,32.0,20.0,33.0,5.0,22.0,25.0,93.0,51.0,33.0,7.0,49.0,14.0,13.0,5.0,40.0,14.0,15.0,32.0,67.0,2.0,31.0,24.0,65.0,11.0,62.0,34.0,15.0,10.0,10.0,64.0,92.0,5.0,15.0,89.0,21.0,5.0,5.0,123.0,32.0,6.0,56.0,16.0,75.0,18.0,16.0,28.0,10.0,3.0,69.0,11.0,11.0,67.0,28.0,37.0,15.0,14.0,41.0,40.0,80.0,26.0,35.0,37.0,10.0,15.0,10.0,15.0,37.0,33.0,0.0,51.0,88.0,30.0,33.0,36.0,18.0,58.0,24.0,20.0,85.0,7.0,54.0,15.0,14.0,11.0,56.0,12.0,0.0,32.0,22.0,12.0,92.0,7.0,17.0,23.0,0.0,8.0,64.0,35.0,15.0,79.0,15.0,21.0,1.0,17.0,0.0,6.0,35.0,24.0,30.0,21.0,10.0,1.0,12.0,4.0,5.0,63.0,7.0,28.0,45.0,53.0,8.0,10.0,3.0,8.0,10.0,58.0,70.0,41.0,11.0,6.0,22.0,8.0,33.0,0.0,11.0,40.0,84.0,82.0,5.0,27.0,10.0,16.0,0.0,15.0,12.0,28.0,6.0,30.0,27.0,67.0,30.0,16.0,18.0,6.0,64.0,10.0,30.0,57.0,11.0,0.0,76.0,0.0,66.0,45.0,71.0,27.0,10.0,10.0,55.0,15.0,3.0,89.0,63.0,10.0,10.0,5.0,34.0,13.0,16.0,34.0,3.0,31.0,14.0,26.0,4.0,49.0,32.0,7.0,39.0,8.0,2.0,118.0,42.0,33.0,64.0,27.0,10.0,41.0,7.0,50.0,15.0,15.0,21.0,36.0,7.0,28.0,37.0,11.0,3.0,9.0,13.0,45.0,24.0,34.0,16.0,28.0,7.0,10.0,39.0,0.0,3.0,38.0,2.0,92.0,92.0,7.0,31.0,0.0,0.0,56.0,75.0,70.0,70.0,12.0,35.0,64.0,11.0,17.0,15.0,38.0,14.0,25.0,24.0,6.0,35.0,62.0,23.0,28.0,78.0,38.0,38.0,37.0,52.0,63.0,63.0,10.0,52.0,20.0,20.0,19.0,11.0,19.0,0.0,0.0,20.0,5.0,15.0,55.0,36.0,33.0,15.0,73.0,42.0,22.0,33.0,0.0,53.0,29.0,95.0,22.0,60.0,11.0,19.0,39.0,18.0,24.0,58.0,8.0,15.0,37.0,50.0,12.0,16.0,10.0,8.0,10.0,9.0,69.0,12.0,60.0,30.0,90.0,6.0,15.0,35.0,5.0,30.0,2.0,13.0,56.0,57.0,22.0,14.0,58.0,10.0,9.0,21.0,22.0,43.0,46.0,31.0,15.0,65.0,29.0,0.0,91.0,11.0,85.0,10.0,18.0,0.0,60.0,36.0,62.0,35.0,0.0,15.0,8.0,40.0,93.0,108.0,8.0,15.0,6.0,43.0,31.0,41.0,24.0,0.0,34.0,0.0,19.0,81.0,10.0,16.0,17.0,24.0,40.0,6.0,0.0,66.0,10.0,21.0,10.0,56.0,43.0,41.0,59.0,15.0,59.0,15.0,5.0,0.0,64.0,29.0,14.0,11.0,7.0,79.0,5.0,9.0,36.0,0.0,15.0,12.0,24.0,10.0,49.0,70.0,33.0,8.0,33.0,39.0,5.0,78.0,48.0,12.0,42.0,34.0,5.0,68.0,31.0,8.0,27.0,5.0,26.0,11.0,94.0,27.0,59.0,1.0,24.0,14.0,63.0,10.0,26.0,9.0,12.0,8.0,10.0,49.0,10.0,56.0,14.0,10.0,26.0,0.0,5.0,7.0,66.0,5.0,90.0,44.0,10.0,97.0,88.0,62.0,29.0,104.0,14.0,9.0,23.0,21.0,15.0,68.0,15.0,34.0,0.0,82.0,28.0,19.0,1.0,82.0,5.0,35.0,11.0,23.0,20.0,46.0,23.0,31.0,21.0,14.0,72.0,55.0,43.0,43.0,10.0,21.0,35.0,23.0,15.0,4.0,36.0,0.0,20.0,58.0,84.0,18.0,11.0,8.0,22.0,20.0,70.0,91.0,22.0,10.0,12.0,50.0,1.0,17.0,5.0,12.0,21.0,35.0,66.0,12.0,12.0,10.0,49.0,15.0,35.0,21.0,4.0,49.0,71.0,0.0,84.0,22.0,47.0,22.0,12.0,88.0,70.0,46.0,10.0,56.0,45.0,8.0,10.0,9.0,21.0,19.0,69.0,10.0,5.0,10.0,98.0,28.0,7.0,61.0,87.0,14.0,46.0,40.0,0.0,30.0,10.0,36.0,77.0,63.0,59.0,65.0,5.0,39.0,23.0,10.0,15.0,63.0,33.0,66.0,7.0,37.0,26.0,5.0,10.0,62.0,24.0,67.0,32.0,36.0,10.0,6.0,29.0,37.0,15.0,110.0,33.0,12.0,62.0,55.0,15.0,12.0,79.0,0.0,30.0,63.0,6.0,33.0,63.0,6.0,15.0,15.0,15.0,15.0,40.0,56.0,10.0,12.0,63.0,22.0,50.0,7.0,20.0,17.0,77.0,35.0,29.0,15.0,62.0,42.0,4.0,15.0,41.0,15.0,51.0,36.0,75.0,5.0,46.0,71.0,19.0,45.0,103.0,53.0,0.0,46.0,77.0,90.0,111.0,7.0,4.0,15.0,48.0,13.0,4.0,56.0,13.0,14.0,5.0,92.0,27.0,6.0,13.0,51.0,34.0,41.0,36.0,32.0,35.0,59.0,7.0,65.0,52.0,68.0,79.0,20.0,15.0,16.0,74.0,72.0,37.0,15.0,51.0,21.0,21.0,85.0,4.0,2.0,3.0,6.0,10.0,113.0,82.0,11.0,57.0,10.0,64.0,24.0,6.0,6.0,37.0,19.0,12.0,47.0,51.0,45.0,32.0,40.0,20.0,61.0,0.0,8.0,27.0,31.0,64.0,13.0,65.0,32.0,143.0,42.0,1.0,24.0,29.0,22.0,14.0,46.0,21.0,21.0,59.0,56.0,14.0,10.0,26.0,29.0,63.0,13.0,37.0,21.0,18.0,96.0,6.0,41.0,37.0,7.0,15.0,3.0,10.0,24.0,42.0,11.0,98.0,10.0,68.0,5.0,76.0,42.0,10.0,22.0,13.0,21.0,17.0,49.0,15.0,13.0,21.0,13.0,54.0,43.0,15.0,47.0,18.0,26.0,24.0,10.0,29.0,57.0,60.0,35.0,0.0,15.0,26.0,10.0,21.0,10.0,10.0,17.0,39.0,21.0,75.0,20.0,26.0,15.0,10.0,14.0,7.0,18.0,91.0,15.0,17.0,83.0,58.0,78.0,25.0,26.0,3.0,10.0,15.0,10.0,15.0,35.0,22.0,16.0,9.0,14.0,14.0,14.0,28.0,42.0,0.0,11.0,42.0,64.0,15.0,77.0,42.0,21.0,0.0,7.0,24.0,17.0,15.0,7.0,37.0,63.0,25.0,2.0,31.0,15.0,10.0,1.0,26.0,26.0,24.0,23.0,0.0,0.0,11.0,10.0,21.0,9.0,6.0,10.0,13.0,10.0,32.0,32.0,46.0,0.0,7.0,34.0,63.0,0.0,7.0,20.0,35.0,65.0,13.0,7.0,6.0,43.0,91.0,13.0,12.0,10.0,70.0,22.0,8.0,1.0,48.0,26.0,62.0,15.0,9.0,4.0,35.0,8.0,62.0,10.0,12.0,0.0,40.0,35.0,56.0,9.0,33.0,43.0,14.0,15.0,77.0,33.0,29.0,7.0,93.0,12.0,26.0,7.0,7.0,20.0,24.0,11.0,37.0,54.0,13.0,11.0,2.0,30.0,5.0,21.0,2.0,64.0,24.0,10.0,14.0,91.0,12.0,10.0,100.0,52.0,44.0,0.0,21.0,5.0,25.0,52.0,11.0,62.0,15.0,10.0,0.0,27.0,6.0,42.0,8.0,38.0,1.0,15.0,84.0,10.0,15.0,43.0,24.0,63.0,5.0,21.0,77.0,38.0,49.0,0.0,28.0,61.0,34.0,12.0,41.0,34.0,75.0,45.0,63.0,10.0,43.0,19.0,100.0,82.0,58.0,2.0,36.0,43.0,28.0,37.0,67.0,10.0,59.0,10.0,70.0,3.0,62.0,1.0,22.0,8.0,25.0,33.0,71.0,4.0,35.0,62.0,0.0,23.0,8.0,3.0,61.0,38.0,9.0,0.0,13.0,93.0,37.0,64.0,10.0,15.0,15.0,22.0,10.0,41.0,36.0,18.0,21.0,71.0,5.0,33.0,6.0,23.0,49.0,61.0,8.0,35.0,43.0,73.0,46.0,21.0,12.0,34.0,50.0,12.0,15.0,67.0,5.0,32.0,67.0,60.0,14.0,42.0,38.0,44.0,25.0,28.0,19.0,28.0,10.0,14.0,34.0,35.0,7.0,13.0,14.0,70.0,15.0,88.0,61.0,16.0,71.0,6.0,10.0,12.0,15.0,24.0,32.0,35.0,10.0,38.0,11.0,56.0,40.0,10.0,15.0,10.0,6.0,2.0,15.0,58.0,47.0,98.0,0.0,11.0,23.0,16.0,31.0,48.0,10.0,25.0,39.0,18.0,34.0,34.0,33.0,20.0,60.0,10.0,6.0,15.0,31.0,16.0,35.0,8.0,25.0,0.0,20.0,29.0,0.0,72.0,10.0,92.0,20.0,36.0,27.0,41.0,15.0,27.0,3.0,22.0,5.0,19.0,6.0,42.0,51.0,33.0,16.0,8.0,16.0,7.0,9.0,61.0,15.0,8.0,23.0,48.0,55.0,0.0,5.0,10.0,10.0,68.0,10.0,15.0,0.0,84.0,14.0,5.0,25.0,34.0,43.0,29.0,47.0,18.0,21.0,4.0,0.0,5.0,89.0,15.0,23.0,4.0,6.0,22.0,90.0,43.0,21.0,0.0,15.0,14.0,19.0,10.0,44.0,20.0,23.0,27.0,10.0,35.0,18.0,7.0,141.0,33.0,9.0,75.0,27.0,22.0,4.0,19.0,9.0,0.0,23.0,10.0,8.0,36.0,13.0,25.0,48.0,1.0,53.0,11.0,11.0,7.0,22.0,19.0,12.0,62.0,41.0,36.0,5.0,0.0,68.0,43.0,43.0,10.0,47.0,62.0,14.0,139.0,41.0,2.0,84.0,21.0,70.0,10.0,17.0,16.0,57.0,8.0,63.0,9.0,15.0,5.0,12.0,67.0,58.0,44.0,0.0,55.0,12.0,61.0,67.0,0.0,14.0,52.0,12.0,20.0,10.0,63.0,7.0,61.0,19.0,6.0,55.0,15.0,41.0,36.0,0.0,20.0,66.0,90.0,21.0,38.0,28.0,7.0,10.0,7.0,33.0,2.0,2.0,66.0,70.0,38.0,15.0,72.0,11.0,0.0,6.0,94.0,22.0,15.0,14.0,4.0,10.0,12.0,15.0,72.0,1.0,1.0,43.0,29.0,27.0,14.0,15.0,38.0,63.0,23.0,9.0,90.0,77.0,23.0,34.0,44.0,40.0,11.0,10.0,10.0,36.0,22.0,11.0,11.0,59.0,23.0,3.0,45.0,4.0,14.0,14.0,20.0,26.0,3.0,16.0,10.0,30.0,13.0,112.0,14.0,0.0,60.0,22.0,15.0,10.0,10.0,21.0,29.0,20.0,86.0,71.0,8.0,63.0,4.0,65.0,14.0,36.0,14.0,48.0,6.0,13.0,8.0,33.0,20.0,0.0,5.0,20.0,26.0,2.0,37.0,19.0,8.0,59.0,0.0,70.0,6.0,57.0,91.0,8.0,25.0,15.0,10.0,36.0,19.0,33.0,64.0,11.0,7.0,16.0,78.0,15.0,11.0,63.0,15.0,38.0,90.0,11.0,65.0,30.0,26.0,22.0,0.0,28.0,14.0,22.0,72.0,4.0,2.0,7.0,47.0,83.0,69.0,27.0,61.0,64.0,2.0,61.0,15.0,5.0,111.0,29.0,10.0,5.0,27.0,20.0,91.0,16.0,15.0,9.0,16.0,98.0,32.0,34.0,0.0,16.0,8.0,23.0,7.0,12.0,8.0,36.0,39.0,85.0,8.0,28.0,22.0,54.0,58.0,2.0,19.0,75.0,35.0,27.0,4.0,12.0,1.0,40.0,69.0,96.0,5.0,47.0,7.0,11.0,66.0,12.0,10.0,14.0,52.0,99.0,43.0,65.0,15.0,31.0,0.0,16.0,18.0,22.0,1.0,50.0,40.0,28.0,41.0,11.0,29.0,36.0,21.0,6.0,17.0,15.0,23.0,39.0,48.0,97.0,15.0,60.0,10.0,0.0,38.0,72.0,27.0,10.0,44.0,14.0,16.0,67.0,11.0,8.0,28.0,37.0,78.0,52.0,35.0,25.0,28.0,30.0,5.0,7.0,32.0,17.0,48.0,20.0,65.0,16.0,24.0,51.0,23.0,18.0,22.0,5.0,21.0,62.0,10.0,72.0,15.0,56.0,85.0,13.0,13.0,19.0,70.0,1.0,1.0,33.0,70.0,16.0,7.0,93.0,5.0,10.0,72.0,6.0,45.0,15.0,68.0,16.0,62.0,32.0,31.0,26.0,21.0,91.0,9.0,45.0,54.0,31.0,25.0,29.0,6.0,10.0,93.0,1.0,6.0,56.0,24.0,15.0,34.0,11.0,5.0,42.0,84.0,47.0,0.0,15.0,20.0,0.0,2.0,7.0,9.0,37.0,71.0,16.0,45.0,43.0,13.0,21.0,18.0,15.0,30.0,19.0,36.0,16.0,2.0,69.0,8.0,6.0,15.0,13.0,7.0,35.0,24.0,20.0,1.0,51.0,11.0,56.0,5.0,3.0,81.0,20.0,28.0,27.0,89.0,33.0,13.0,15.0,48.0,15.0,10.0,1.0,71.0,65.0,131.0,0.0,22.0,27.0,52.0,64.0,72.0,46.0,47.0,15.0,7.0,30.0,10.0,22.0,41.0,85.0,77.0,50.0,57.0,52.0,17.0,13.0,15.0,24.0,10.0,43.0,15.0,9.0,37.0,49.0,14.0,42.0,22.0,15.0,7.0,64.0,27.0,18.0,8.0,47.0,21.0,13.0,21.0,14.0,45.0,91.0,28.0,1.0,39.0,56.0,93.0,35.0,7.0,7.0,16.0,56.0,90.0,70.0,91.0,69.0,57.0,10.0,10.0,5.0,22.0,15.0,49.0,19.0,15.0,5.0,32.0,67.0,22.0,49.0,35.0,27.0,2.0,7.0,0.0,29.0,8.0,35.0,101.0,1.0,5.0,8.0,5.0,6.0,7.0,29.0,2.0,11.0,79.0,98.0,32.0,30.0,36.0,10.0,26.0,62.0,54.0,7.0,32.0,53.0,14.0,13.0,59.0,26.0,22.0,2.0,14.0,0.0,43.0,36.0,26.0,2.0,32.0,22.0,4.0,63.0,19.0,6.0,66.0,48.0,17.0,9.0,108.0,35.0,14.0,14.0,3.0,27.0,51.0,70.0,2.0,29.0,88.0,56.0,11.0,39.0,2.0,0.0,11.0,17.0,7.0,20.0,11.0,28.0,7.0,14.0,28.0,13.0,7.0,13.0,27.0,22.0,49.0,10.0,28.0,13.0,38.0,0.0,0.0,15.0,4.0,0.0,0.0,6.0,17.0,10.0,16.0,72.0,10.0,70.0,90.0,18.0,10.0,28.0,1.0,12.0,106.0,7.0,58.0,15.0,29.0,56.0,37.0,21.0,7.0,15.0,15.0,15.0,57.0,36.0,20.0,44.0,5.0,2.0,6.0,14.0,40.0,11.0,18.0,17.0,0.0,52.0,1.0,33.0,2.0,0.0,23.0,10.0,11.0,6.0,3.0,27.0,6.0,58.0,13.0,15.0,13.0,6.0,7.0,15.0,68.0,36.0,16.0,14.0,86.0,0.0,20.0,15.0,6.0,42.0,16.0,6.0,63.0,0.0,64.0,12.0,46.0,68.0,25.0,99.0,15.0,37.0,10.0,55.0,6.0,22.0,16.0,16.0,15.0,10.0,3.0,84.0,21.0,53.0,20.0,2.0,30.0,34.0,20.0,73.0,5.0,9.0,11.0,60.0,7.0,67.0,49.0,21.0,10.0,28.0,8.0,11.0,41.0,10.0,11.0,46.0,7.0,39.0,40.0,1.0,9.0,24.0,51.0,34.0,58.0,35.0,49.0,56.0,38.0,22.0,49.0,30.0,63.0,15.0,68.0,30.0,16.0,51.0,15.0,28.0,33.0,38.0,7.0,33.0,11.0,45.0,5.0,15.0,6.0,8.0,10.0,5.0,14.0,15.0,33.0,69.0,26.0,66.0,77.0,5.0,17.0,0.0,13.0,15.0,4.0,55.0,42.0,0.0,7.0,34.0,0.0,31.0,20.0,8.0,15.0,2.0,15.0,4.0,55.0,54.0,64.0,2.0,7.0,31.0,23.0,34.0,63.0,5.0,12.0,66.0,37.0,15.0,15.0,61.0,31.0,32.0,68.0,22.0,7.0,11.0,23.0,12.0,51.0,42.0,29.0,38.0,70.0,62.0,56.0,14.0,27.0,27.0,51.0,16.0,0.0,35.0,21.0,90.0,23.0,41.0,28.0,10.0,17.0,42.0,0.0,14.0,63.0,37.0,62.0,36.0,34.0,1.0,7.0,13.0,7.0,11.0,13.0,39.0,16.0,15.0,12.0,23.0,72.0,5.0,7.0,27.0,15.0,26.0,32.0,11.0,67.0,54.0,11.0,51.0,15.0,15.0,22.0,7.0,9.0,12.0,64.0,12.0,63.0,6.0,14.0,34.0,23.0,63.0,36.0,9.0,32.0,14.0,0.0,49.0,49.0,80.0,17.0,10.0,2.0,34.0,0.0,40.0,15.0,27.0,51.0,9.0,14.0,5.0,44.0,33.0,24.0,1.0,48.0,92.0,62.0,0.0,86.0,71.0,39.0,10.0,62.0,5.0,8.0,48.0,34.0,9.0,6.0,27.0,34.0,13.0,85.0,7.0,99.0,28.0,36.0,71.0,10.0,9.0,8.0,16.0,44.0,22.0,0.0,43.0,7.0,6.0,13.0,59.0,2.0,58.0,14.0,44.0,57.0,0.0,21.0,57.0,33.0,21.0,65.0,13.0,15.0,7.0,0.0,72.0,6.0,31.0,39.0,13.0,12.0,62.0,12.0,29.0,20.0,55.0,62.0,123.0,7.0,1.0,10.0,0.0,8.0,27.0,37.0,2.0,35.0,28.0,13.0,33.0,7.0,65.0,51.0,11.0,23.0,15.0,14.0,22.0,20.0,59.0,2.0,6.0,7.0,39.0,26.0,57.0,2.0,46.0,17.0,17.0,15.0,28.0,32.0,27.0,11.0,17.0,34.0,15.0,10.0,5.0,37.0,95.0,0.0,21.0,10.0,21.0,5.0,10.0,44.0,7.0,10.0,21.0,51.0,26.0,22.0,15.0,36.0,12.0,26.0,52.0,72.0,35.0,15.0,21.0,10.0,33.0,32.0,5.0,22.0,18.0,5.0,12.0,38.0,70.0,5.0,69.0,9.0,10.0,16.0,91.0,16.0,83.0,70.0,75.0,66.0,9.0,10.0,41.0,10.0,24.0,10.0,5.0,1.0,11.0,0.0,55.0,74.0,62.0,18.0,38.0,50.0,21.0,6.0,14.0,0.0,36.0,0.0,37.0,40.0,15.0,10.0,66.0,0.0,15.0,92.0,28.0,10.0,95.0,13.0,6.0,10.0,59.0,15.0,16.0,27.0,39.0,0.0,5.0,33.0,12.0,58.0,43.0,56.0,21.0,20.0,15.0,35.0,64.0,26.0,8.0,70.0,13.0,43.0,9.0,0.0,0.0,14.0,14.0,10.0,98.0,10.0,42.0,10.0,15.0,6.0,0.0,13.0,11.0,62.0,17.0,14.0,75.0,44.0,20.0,6.0,25.0,10.0,5.0,4.0,91.0,36.0,15.0,35.0,2.0,24.0,11.0,15.0,43.0,66.0,13.0,114.0,7.0,36.0,15.0,29.0,0.0,6.0,90.0,65.0,43.0,51.0,14.0,0.0,7.0,14.0,5.0,10.0,15.0,5.0,54.0,63.0,59.0,59.0,71.0,25.0,16.0,45.0,15.0,75.0,43.0,14.0,87.0,81.0,31.0,22.0,10.0,26.0,0.0,39.0,0.0,33.0,65.0,38.0,97.0,0.0,25.0,4.0,39.0,33.0,10.0,55.0,5.0,71.0,19.0,13.0,59.0,22.0,11.0,27.0,8.0,18.0,45.0,15.0,11.0,10.0,33.0,13.0,16.0,11.0,46.0,20.0,10.0,96.0,0.0,13.0,17.0,0.0,15.0,9.0,21.0,84.0,21.0,7.0,4.0,24.0,0.0,10.0,7.0,87.0,38.0,22.0,7.0,15.0,71.0,3.0,92.0,66.0,35.0,7.0,15.0,13.0,102.0,91.0,31.0,12.0,29.0,42.0,41.0,0.0,20.0,0.0,64.0,6.0,12.0,13.0,31.0,34.0,45.0,55.0,15.0,5.0,82.0,36.0,52.0,28.0,10.0,10.0,17.0,27.0,21.0,84.0,33.0,84.0,51.0,16.0,63.0,6.0,7.0,15.0,34.0,19.0,15.0,14.0,108.0,8.0,0.0,15.0,60.0,31.0,6.0,53.0,42.0,54.0,11.0,77.0,35.0,20.0,5.0,21.0,14.0,8.0,57.0,14.0,22.0,9.0,20.0,26.0,11.0,30.0,56.0,33.0,5.0,15.0,31.0,41.0,22.0,15.0,4.0,5.0,20.0,14.0,50.0,91.0,23.0,22.0,70.0,10.0,52.0,14.0,15.0,0.0,9.0,7.0,28.0,82.0,41.0,73.0,51.0,16.0,10.0,28.0,64.0,5.0,20.0,15.0,79.0,55.0,5.0,1.0,23.0,2.0,32.0,73.0,82.0,29.0,10.0,21.0,14.0,10.0,76.0,24.0,35.0,46.0,2.0,71.0,6.0,10.0,5.0,63.0,37.0,10.0,23.0,51.0,21.0,1.0,13.0,15.0,11.0,61.0,35.0,2.0,67.0,15.0,0.0,100.0,10.0,79.0,2.0,17.0,15.0,4.0,0.0,65.0,62.0,35.0,6.0,15.0,99.0,61.0,5.0,5.0,26.0,91.0,64.0,4.0,5.0,0.0,16.0,42.0,23.0,15.0,20.0,0.0,5.0,44.0,71.0,0.0,12.0,39.0,3.0,13.0,77.0,5.0,10.0,0.0,5.0,16.0,72.0,40.0,41.0,10.0,71.0,56.0,39.0,3.0,3.0,14.0,10.0,10.0,10.0,77.0,62.0,6.0,32.0,22.0,11.0,35.0,37.0,15.0,71.0,8.0,12.0,11.0,120.0,43.0,7.0,26.0,32.0,71.0,30.0,96.0,22.0,86.0,5.0,50.0,25.0,65.0,37.0,40.0,0.0,7.0,24.0,14.0,79.0,23.0,10.0,24.0,5.0,13.0,14.0,10.0,5.0,19.0,8.0,43.0,1.0,26.0,21.0,77.0,52.0,34.0,20.0,28.0,7.0,20.0,30.0,40.0,11.0,65.0,23.0,10.0,76.0,5.0,13.0,15.0,32.0,15.0,72.0,6.0,20.0,23.0,23.0,52.0,5.0,87.0,35.0,90.0,13.0,7.0,32.0,74.0,34.0,15.0,28.0,49.0,27.0,26.0,11.0,61.0,41.0,35.0,35.0,105.0,37.0,69.0,11.0,10.0,10.0,50.0,20.0,10.0,65.0,10.0,32.0,43.0,0.0,94.0,76.0,38.0,12.0,55.0,49.0,19.0,14.0,27.0,51.0,5.0,63.0,36.0,33.0,9.0,90.0,76.0,58.0,56.0,6.0,15.0,12.0,5.0,18.0,13.0,18.0,60.0,15.0,2.0,7.0,16.0,22.0,17.0,64.0,71.0,29.0,4.0,15.0,16.0,50.0,2.0,59.0,7.0,40.0,13.0,69.0,5.0,50.0,22.0,32.0,13.0,76.0,9.0,16.0,76.0,7.0,10.0,71.0,90.0,49.0,6.0,60.0,63.0,45.0,39.0,10.0,1.0,28.0,17.0,0.0,41.0,107.0,8.0,15.0,16.0,13.0,61.0,24.0,15.0,65.0,15.0,18.0,34.0,8.0,13.0,21.0,7.0,67.0,5.0,14.0,19.0,0.0,4.0,2.0,60.0,11.0,0.0,9.0,18.0,8.0,18.0,11.0,47.0,62.0,21.0,3.0,104.0,68.0,30.0,46.0,33.0,36.0,22.0,63.0,5.0,0.0,15.0,16.0,58.0,21.0,23.0,52.0,20.0,16.0,15.0,15.0,43.0,33.0,66.0,34.0,18.0,11.0,18.0,11.0,80.0,15.0,7.0,10.0,16.0,49.0,42.0,19.0,61.0,45.0,5.0,21.0,32.0,63.0,61.0,23.0,64.0,21.0,56.0,40.0,42.0,7.0,1.0,35.0,54.0,43.0,85.0,6.0,28.0,66.0,70.0,11.0,15.0,61.0,68.0,12.0,43.0,49.0,17.0,10.0,74.0,91.0,28.0,15.0,70.0,69.0,71.0,91.0,7.0,34.0,24.0,70.0,5.0,47.0,32.0,12.0,10.0,72.0,0.0,18.0,7.0,12.0,10.0,19.0,65.0,49.0,2.0,64.0,36.0,40.0,85.0,9.0,48.0,32.0,9.0,36.0,22.0,82.0,33.0,73.0,40.0,41.0,67.0,67.0,78.0,34.0,56.0,12.0,31.0,11.0,15.0,40.0,68.0,21.0,9.0,10.0,68.0,8.0,13.0,11.0,26.0,27.0,10.0,67.0,24.0,10.0,99.0,33.0,11.0,4.0,21.0,36.0,10.0,10.0,31.0,10.0,0.0,10.0,21.0,6.0,42.0,67.0,10.0,35.0,26.0,8.0,22.0,19.0,66.0,10.0,27.0,57.0,35.0,15.0,22.0,28.0,82.0,10.0,1.0,15.0,16.0,43.0,35.0,69.0,38.0,13.0,28.0,10.0,39.0,22.0,18.0,22.0,14.0,49.0,52.0,63.0,45.0,14.0,10.0,92.0,83.0,0.0,16.0,11.0,41.0,49.0,45.0,5.0,106.0,43.0,13.0,0.0,23.0,36.0,36.0,2.0,91.0,34.0,0.0,15.0,67.0,5.0,60.0,6.0,1.0,14.0,33.0,90.0,5.0,6.0,27.0,82.0,57.0,8.0,10.0,7.0,63.0,64.0,0.0,22.0,23.0,66.0,5.0,58.0,19.0,68.0,5.0,57.0,21.0,32.0,12.0,15.0,13.0,95.0,20.0,42.0,14.0,64.0,7.0,2.0,37.0,13.0,38.0,27.0,42.0,7.0,34.0,35.0,5.0,5.0,26.0,11.0,6.0,45.0,4.0,16.0,42.0,52.0,7.0,11.0,7.0,29.0,17.0,36.0,71.0,2.0,13.0,21.0,20.0,42.0,69.0,92.0,0.0,14.0,10.0,14.0,38.0,1.0,20.0,16.0,78.0,68.0,10.0,89.0,10.0,18.0,38.0,83.0,0.0,48.0,9.0,69.0,32.0,82.0,63.0,15.0,26.0,10.0,31.0,42.0,26.0,38.0,11.0,10.0,0.0,31.0,27.0,15.0,10.0,11.0,65.0,36.0,20.0,1.0,56.0,34.0,18.0,22.0,15.0,11.0,26.0,71.0,12.0,45.0,10.0,5.0,38.0,35.0,10.0,63.0,1.0,15.0,69.0,6.0,36.0,36.0,11.0,47.0,28.0,11.0,32.0,71.0,20.0,35.0,18.0,94.0,13.0,9.0,13.0,14.0,29.0,69.0,14.0,70.0,11.0,48.0,62.0,15.0,79.0,48.0,5.0,8.0,5.0,49.0,45.0,13.0,37.0,50.0,21.0,15.0,27.0,21.0,116.0,12.0,97.0,4.0,51.0,40.0,70.0,12.0,42.0,20.0,22.0,56.0,91.0,77.0,3.0,39.0,12.0,11.0,44.0,4.0,15.0,10.0,10.0,69.0,10.0,18.0,61.0,24.0,26.0,5.0,7.0,62.0,15.0,51.0,70.0,52.0,13.0,76.0,6.0,15.0,27.0,46.0,90.0,78.0,15.0,71.0,55.0,16.0,16.0,10.0,2.0,14.0,5.0,4.0,21.0,15.0,10.0,10.0,61.0,69.0,13.0,7.0,8.0,24.0,6.0,20.0,63.0,10.0,6.0,51.0,55.0,36.0,70.0,3.0,3.0,9.0,21.0,5.0,73.0,18.0,0.0,40.0,55.0,35.0,15.0,10.0,28.0,14.0,73.0,12.0,46.0,34.0,0.0,3.0,9.0,15.0,15.0,9.0,17.0,0.0,72.0,42.0,98.0,78.0,15.0,1.0,10.0,27.0,13.0,15.0,44.0,15.0,29.0,14.0,11.0,60.0,10.0,101.0,5.0,35.0,91.0,7.0,64.0,15.0,28.0,11.0,93.0,15.0,10.0,18.0,10.0,21.0,61.0,23.0,10.0,45.0,16.0,0.0,98.0,10.0,55.0,47.0,94.0,53.0,67.0,41.0,7.0,15.0,37.0,32.0,15.0,63.0,48.0,14.0,14.0,63.0,60.0,91.0,6.0,15.0,6.0,35.0,64.0,9.0,15.0,104.0,35.0,13.0,10.0,10.0,36.0,12.0,21.0,61.0,46.0,3.0,38.0,19.0,10.0,50.0,63.0,26.0,36.0,12.0,80.0,50.0,15.0,23.0,65.0,10.0,42.0,10.0,10.0,14.0,5.0,4.0,84.0,4.0,47.0,0.0,52.0,0.0,7.0,50.0,76.0,35.0,10.0,27.0,1.0,79.0,46.0,14.0,22.0,8.0,18.0,15.0,18.0,7.0,31.0,1.0,68.0,31.0,15.0,26.0,16.0,55.0,7.0,64.0,18.0,67.0,41.0,56.0,13.0,10.0,36.0,65.0,89.0,12.0,21.0,64.0,74.0,4.0,21.0,7.0,10.0,21.0,11.0,63.0,9.0,48.0,13.0,28.0,4.0,14.0,11.0,12.0,2.0,65.0,0.0,9.0,42.0,15.0,59.0,45.0,22.0,7.0,10.0,10.0,0.0,10.0,32.0,10.0,33.0,6.0,46.0,107.0,0.0,15.0,57.0,75.0,32.0,61.0,72.0,39.0,10.0,23.0,6.0,15.0,16.0,57.0,15.0,37.0,34.0,24.0,25.0,22.0,71.0,15.0,32.0,0.0,4.0,58.0,11.0,10.0,62.0,15.0,63.0,5.0,21.0,6.0,6.0,37.0,10.0,56.0,10.0,5.0,0.0,62.0,13.0,8.0,16.0,63.0,14.0,21.0,26.0,18.0,58.0,87.0,43.0,55.0,56.0,10.0,10.0,59.0,5.0,7.0,22.0,5.0,0.0,80.0,10.0,52.0,34.0,7.0,51.0,32.0,6.0,5.0,16.0,16.0,3.0,5.0,6.0,65.0,29.0,97.0,2.0,37.0,30.0,15.0,13.0,0.0,13.0,14.0,13.0,5.0,9.0,15.0,0.0,57.0,43.0,41.0,45.0,10.0,32.0,10.0,2.0,38.0,60.0,14.0,0.0,91.0,0.0,10.0,61.0,35.0,60.0,29.0,39.0,44.0,7.0,59.0,1.0,60.0,42.0,5.0,12.0,64.0,3.0,0.0,35.0,26.0,64.0,15.0,37.0,19.0,42.0,43.0,25.0,14.0,4.0,27.0,4.0,68.0,8.0,2.0,10.0,41.0,47.0,8.0,27.0,19.0,7.0,9.0,16.0,33.0,29.0,4.0,42.0,55.0,18.0,13.0,7.0,0.0,71.0,11.0,47.0,1.0,35.0,25.0,14.0,12.0,0.0,20.0,15.0,57.0,15.0,52.0,91.0,29.0,10.0,30.0,8.0,43.0,26.0,10.0,16.0,33.0,34.0,102.0,14.0,34.0,5.0,21.0,42.0,52.0,15.0,20.0,7.0,89.0,2.0,64.0,56.0,8.0,36.0,50.0,15.0,20.0,9.0,15.0,10.0,100.0,65.0,51.0,8.0,64.0,63.0,10.0,14.0,7.0,2.0,34.0,20.0,21.0,13.0,15.0,15.0,16.0,81.0,13.0,45.0,77.0,10.0,0.0,63.0,10.0,110.0,29.0,12.0,17.0,48.0,15.0,15.0,70.0,68.0,21.0,21.0,14.0,65.0,73.0,20.0,20.0,51.0,10.0,64.0,42.0,88.0,74.0,3.0,22.0,57.0,10.0,87.0,15.0,0.0,86.0,11.0,25.0,28.0,15.0,36.0,41.0,43.0,35.0,21.0,29.0,0.0,87.0,34.0,74.0,10.0,10.0,64.0,10.0,1.0,13.0,11.0,0.0,20.0,61.0,15.0,53.0,42.0,22.0,30.0,17.0,29.0,26.0,8.0,67.0,2.0,10.0,2.0,7.0,73.0,19.0,12.0,26.0,23.0,0.0,36.0,102.0,2.0,15.0,64.0,40.0,27.0,54.0,7.0,64.0,54.0,51.0,11.0,27.0,8.0,61.0,10.0,30.0,3.0,27.0,0.0,7.0,11.0,64.0,29.0,21.0,39.0,7.0,38.0,78.0,75.0,18.0,13.0,10.0,15.0,3.0,27.0,22.0,9.0,38.0,21.0,62.0,13.0,14.0,77.0,24.0,12.0,42.0,66.0,15.0,13.0,19.0,55.0,15.0,13.0,24.0,0.0,63.0,83.0,15.0,64.0,5.0,22.0,1.0,17.0,15.0,10.0,7.0,47.0,47.0,64.0,22.0,64.0,34.0,22.0,18.0,19.0,23.0,7.0,7.0,23.0,11.0,12.0,7.0,28.0,10.0,70.0,94.0,5.0,56.0,11.0,51.0,40.0,33.0,91.0,19.0,29.0,15.0,13.0,50.0,10.0,16.0,37.0,10.0,8.0,13.0,21.0,2.0,7.0,22.0,3.0,2.0,63.0,11.0,70.0,6.0,67.0,8.0,66.0,62.0,36.0,6.0,8.0,6.0,5.0,14.0,10.0,0.0,16.0,46.0,5.0,61.0,7.0,15.0,56.0,2.0,26.0,0.0,19.0,46.0,57.0,17.0,36.0,10.0,62.0,20.0,10.0,7.0,22.0,63.0,63.0,50.0,27.0,2.0,60.0,6.0,66.0,36.0,56.0,13.0,35.0,33.0,65.0,18.0,62.0,107.0,32.0,7.0,10.0,43.0,65.0,14.0,32.0,5.0,10.0,26.0,96.0,15.0,10.0,36.0,31.0,31.0,26.0,82.0,47.0,8.0,17.0,19.0,5.0,58.0,0.0,10.0,89.0,45.0,45.0,15.0,36.0,35.0,46.0,52.0,10.0,13.0,63.0,87.0,90.0,17.0,14.0,34.0,74.0,64.0,8.0,31.0,43.0,1.0,21.0,34.0,21.0,0.0,32.0,10.0,20.0,50.0,85.0,21.0,84.0,54.0,91.0,60.0,34.0,52.0,0.0,3.0,11.0,21.0,1.0,10.0,12.0,22.0,38.0,29.0,26.0,38.0,18.0,65.0,11.0,5.0,38.0,2.0,16.0,50.0,36.0,51.0,18.0,30.0,9.0,3.0,11.0,10.0,10.0,34.0,4.0,22.0,7.0,15.0,14.0,13.0,10.0,35.0,11.0,20.0,36.0,12.0,30.0,90.0,10.0,9.0,35.0,46.0,71.0,19.0,45.0,89.0,31.0,18.0,14.0,41.0,10.0,46.0,7.0,25.0,10.0,6.0,17.0,11.0,94.0,16.0,24.0,46.0,46.0,62.0,2.0,15.0,61.0,64.0,15.0,10.0,29.0,33.0,5.0,0.0,31.0,56.0,21.0,69.0,93.0,4.0,30.0,15.0,6.0,21.0,60.0,16.0,6.0,15.0,63.0,2.0,47.0,7.0,25.0,34.0,55.0,34.0,10.0,63.0,38.0,45.0,34.0,95.0,70.0,26.0,62.0,119.0,10.0,76.0,0.0,27.0,28.0,5.0,40.0,37.0,53.0,10.0,30.0,15.0,63.0,63.0,47.0,6.0,20.0,26.0,0.0,36.0,73.0,38.0,94.0,11.0,0.0,21.0,8.0,76.0,0.0,14.0,40.0,9.0,45.0,67.0,27.0,9.0,10.0,6.0,13.0,50.0,10.0,60.0,49.0,21.0,0.0,11.0,10.0,15.0,58.0,38.0,15.0,22.0,42.0,15.0,7.0,66.0,11.0,9.0,22.0,89.0,7.0,62.0,0.0,40.0,15.0,44.0,54.0,5.0,56.0,10.0,10.0,29.0,69.0,12.0,0.0,7.0,19.0,20.0,15.0,57.0,63.0,12.0,10.0,10.0,63.0,24.0,90.0,70.0,54.0,32.0,15.0,70.0,18.0,10.0,10.0,44.0,49.0,59.0,42.0,77.0,6.0,10.0,63.0,16.0,5.0,18.0,49.0,57.0,9.0,21.0,8.0,15.0,18.0,71.0,12.0,4.0,13.0,67.0,7.0,30.0,2.0,19.0,11.0,35.0,85.0,0.0,28.0,14.0,60.0,42.0,35.0,56.0,50.0,10.0,15.0,12.0,14.0,21.0,42.0,2.0,12.0,15.0,21.0,22.0,3.0,10.0,15.0,7.0,19.0,10.0,52.0,111.0,17.0,2.0,13.0,69.0,12.0,1.0,16.0,0.0,10.0,30.0,12.0,1.0,27.0,15.0,8.0,58.0,85.0,26.0,21.0,38.0,21.0,24.0,47.0,11.0,45.0,7.0,12.0,44.0,24.0,15.0,108.0,54.0,41.0,72.0,7.0,22.0,59.0,65.0,7.0,22.0,32.0,0.0,22.0,80.0,101.0,37.0,5.0,10.0,5.0,20.0,38.0,28.0,6.0,29.0,15.0,24.0,39.0,5.0,71.0,21.0,21.0,58.0,21.0,27.0,87.0,36.0,49.0,35.0,11.0,50.0,48.0,66.0,54.0,57.0,66.0,25.0,96.0,61.0,14.0,43.0,6.0,30.0,24.0,28.0,37.0,15.0,16.0,62.0,63.0,34.0,20.0,69.0,62.0,47.0,4.0,43.0,17.0,44.0,37.0,21.0,16.0,15.0,9.0,6.0,15.0,49.0,3.0,81.0,39.0,63.0,4.0,58.0,15.0,26.0,27.0,14.0,20.0,14.0,44.0,40.0,38.0,84.0,48.0,74.0,18.0,21.0,9.0,68.0,11.0,6.0,11.0,12.0,15.0,46.0,23.0,29.0,26.0,10.0,6.0,22.0,5.0,15.0,64.0,66.0],\"x0\":\" \",\"xaxis\":\"x\",\"y0\":\" \",\"yaxis\":\"y\",\"type\":\"box\"}],                        {\"template\":{\"data\":{\"histogram2dcontour\":[{\"type\":\"histogram2dcontour\",\"colorbar\":{\"outlinewidth\":0,\"ticks\":\"\"},\"colorscale\":[[0.0,\"#0d0887\"],[0.1111111111111111,\"#46039f\"],[0.2222222222222222,\"#7201a8\"],[0.3333333333333333,\"#9c179e\"],[0.4444444444444444,\"#bd3786\"],[0.5555555555555556,\"#d8576b\"],[0.6666666666666666,\"#ed7953\"],[0.7777777777777778,\"#fb9f3a\"],[0.8888888888888888,\"#fdca26\"],[1.0,\"#f0f921\"]]}],\"choropleth\":[{\"type\":\"choropleth\",\"colorbar\":{\"outlinewidth\":0,\"ticks\":\"\"}}],\"histogram2d\":[{\"type\":\"histogram2d\",\"colorbar\":{\"outlinewidth\":0,\"ticks\":\"\"},\"colorscale\":[[0.0,\"#0d0887\"],[0.1111111111111111,\"#46039f\"],[0.2222222222222222,\"#7201a8\"],[0.3333333333333333,\"#9c179e\"],[0.4444444444444444,\"#bd3786\"],[0.5555555555555556,\"#d8576b\"],[0.6666666666666666,\"#ed7953\"],[0.7777777777777778,\"#fb9f3a\"],[0.8888888888888888,\"#fdca26\"],[1.0,\"#f0f921\"]]}],\"heatmap\":[{\"type\":\"heatmap\",\"colorbar\":{\"outlinewidth\":0,\"ticks\":\"\"},\"colorscale\":[[0.0,\"#0d0887\"],[0.1111111111111111,\"#46039f\"],[0.2222222222222222,\"#7201a8\"],[0.3333333333333333,\"#9c179e\"],[0.4444444444444444,\"#bd3786\"],[0.5555555555555556,\"#d8576b\"],[0.6666666666666666,\"#ed7953\"],[0.7777777777777778,\"#fb9f3a\"],[0.8888888888888888,\"#fdca26\"],[1.0,\"#f0f921\"]]}],\"heatmapgl\":[{\"type\":\"heatmapgl\",\"colorbar\":{\"outlinewidth\":0,\"ticks\":\"\"},\"colorscale\":[[0.0,\"#0d0887\"],[0.1111111111111111,\"#46039f\"],[0.2222222222222222,\"#7201a8\"],[0.3333333333333333,\"#9c179e\"],[0.4444444444444444,\"#bd3786\"],[0.5555555555555556,\"#d8576b\"],[0.6666666666666666,\"#ed7953\"],[0.7777777777777778,\"#fb9f3a\"],[0.8888888888888888,\"#fdca26\"],[1.0,\"#f0f921\"]]}],\"contourcarpet\":[{\"type\":\"contourcarpet\",\"colorbar\":{\"outlinewidth\":0,\"ticks\":\"\"}}],\"contour\":[{\"type\":\"contour\",\"colorbar\":{\"outlinewidth\":0,\"ticks\":\"\"},\"colorscale\":[[0.0,\"#0d0887\"],[0.1111111111111111,\"#46039f\"],[0.2222222222222222,\"#7201a8\"],[0.3333333333333333,\"#9c179e\"],[0.4444444444444444,\"#bd3786\"],[0.5555555555555556,\"#d8576b\"],[0.6666666666666666,\"#ed7953\"],[0.7777777777777778,\"#fb9f3a\"],[0.8888888888888888,\"#fdca26\"],[1.0,\"#f0f921\"]]}],\"surface\":[{\"type\":\"surface\",\"colorbar\":{\"outlinewidth\":0,\"ticks\":\"\"},\"colorscale\":[[0.0,\"#0d0887\"],[0.1111111111111111,\"#46039f\"],[0.2222222222222222,\"#7201a8\"],[0.3333333333333333,\"#9c179e\"],[0.4444444444444444,\"#bd3786\"],[0.5555555555555556,\"#d8576b\"],[0.6666666666666666,\"#ed7953\"],[0.7777777777777778,\"#fb9f3a\"],[0.8888888888888888,\"#fdca26\"],[1.0,\"#f0f921\"]]}],\"mesh3d\":[{\"type\":\"mesh3d\",\"colorbar\":{\"outlinewidth\":0,\"ticks\":\"\"}}],\"scatter\":[{\"fillpattern\":{\"fillmode\":\"overlay\",\"size\":10,\"solidity\":0.2},\"type\":\"scatter\"}],\"parcoords\":[{\"type\":\"parcoords\",\"line\":{\"colorbar\":{\"outlinewidth\":0,\"ticks\":\"\"}}}],\"scatterpolargl\":[{\"type\":\"scatterpolargl\",\"marker\":{\"colorbar\":{\"outlinewidth\":0,\"ticks\":\"\"}}}],\"bar\":[{\"error_x\":{\"color\":\"#2a3f5f\"},\"error_y\":{\"color\":\"#2a3f5f\"},\"marker\":{\"line\":{\"color\":\"#E5ECF6\",\"width\":0.5},\"pattern\":{\"fillmode\":\"overlay\",\"size\":10,\"solidity\":0.2}},\"type\":\"bar\"}],\"scattergeo\":[{\"type\":\"scattergeo\",\"marker\":{\"colorbar\":{\"outlinewidth\":0,\"ticks\":\"\"}}}],\"scatterpolar\":[{\"type\":\"scatterpolar\",\"marker\":{\"colorbar\":{\"outlinewidth\":0,\"ticks\":\"\"}}}],\"histogram\":[{\"marker\":{\"pattern\":{\"fillmode\":\"overlay\",\"size\":10,\"solidity\":0.2}},\"type\":\"histogram\"}],\"scattergl\":[{\"type\":\"scattergl\",\"marker\":{\"colorbar\":{\"outlinewidth\":0,\"ticks\":\"\"}}}],\"scatter3d\":[{\"type\":\"scatter3d\",\"line\":{\"colorbar\":{\"outlinewidth\":0,\"ticks\":\"\"}},\"marker\":{\"colorbar\":{\"outlinewidth\":0,\"ticks\":\"\"}}}],\"scattermapbox\":[{\"type\":\"scattermapbox\",\"marker\":{\"colorbar\":{\"outlinewidth\":0,\"ticks\":\"\"}}}],\"scatterternary\":[{\"type\":\"scatterternary\",\"marker\":{\"colorbar\":{\"outlinewidth\":0,\"ticks\":\"\"}}}],\"scattercarpet\":[{\"type\":\"scattercarpet\",\"marker\":{\"colorbar\":{\"outlinewidth\":0,\"ticks\":\"\"}}}],\"carpet\":[{\"aaxis\":{\"endlinecolor\":\"#2a3f5f\",\"gridcolor\":\"white\",\"linecolor\":\"white\",\"minorgridcolor\":\"white\",\"startlinecolor\":\"#2a3f5f\"},\"baxis\":{\"endlinecolor\":\"#2a3f5f\",\"gridcolor\":\"white\",\"linecolor\":\"white\",\"minorgridcolor\":\"white\",\"startlinecolor\":\"#2a3f5f\"},\"type\":\"carpet\"}],\"table\":[{\"cells\":{\"fill\":{\"color\":\"#EBF0F8\"},\"line\":{\"color\":\"white\"}},\"header\":{\"fill\":{\"color\":\"#C8D4E3\"},\"line\":{\"color\":\"white\"}},\"type\":\"table\"}],\"barpolar\":[{\"marker\":{\"line\":{\"color\":\"#E5ECF6\",\"width\":0.5},\"pattern\":{\"fillmode\":\"overlay\",\"size\":10,\"solidity\":0.2}},\"type\":\"barpolar\"}],\"pie\":[{\"automargin\":true,\"type\":\"pie\"}]},\"layout\":{\"autotypenumbers\":\"strict\",\"colorway\":[\"#636efa\",\"#EF553B\",\"#00cc96\",\"#ab63fa\",\"#FFA15A\",\"#19d3f3\",\"#FF6692\",\"#B6E880\",\"#FF97FF\",\"#FECB52\"],\"font\":{\"color\":\"#2a3f5f\"},\"hovermode\":\"closest\",\"hoverlabel\":{\"align\":\"left\"},\"paper_bgcolor\":\"white\",\"plot_bgcolor\":\"#E5ECF6\",\"polar\":{\"bgcolor\":\"#E5ECF6\",\"angularaxis\":{\"gridcolor\":\"white\",\"linecolor\":\"white\",\"ticks\":\"\"},\"radialaxis\":{\"gridcolor\":\"white\",\"linecolor\":\"white\",\"ticks\":\"\"}},\"ternary\":{\"bgcolor\":\"#E5ECF6\",\"aaxis\":{\"gridcolor\":\"white\",\"linecolor\":\"white\",\"ticks\":\"\"},\"baxis\":{\"gridcolor\":\"white\",\"linecolor\":\"white\",\"ticks\":\"\"},\"caxis\":{\"gridcolor\":\"white\",\"linecolor\":\"white\",\"ticks\":\"\"}},\"coloraxis\":{\"colorbar\":{\"outlinewidth\":0,\"ticks\":\"\"}},\"colorscale\":{\"sequential\":[[0.0,\"#0d0887\"],[0.1111111111111111,\"#46039f\"],[0.2222222222222222,\"#7201a8\"],[0.3333333333333333,\"#9c179e\"],[0.4444444444444444,\"#bd3786\"],[0.5555555555555556,\"#d8576b\"],[0.6666666666666666,\"#ed7953\"],[0.7777777777777778,\"#fb9f3a\"],[0.8888888888888888,\"#fdca26\"],[1.0,\"#f0f921\"]],\"sequentialminus\":[[0.0,\"#0d0887\"],[0.1111111111111111,\"#46039f\"],[0.2222222222222222,\"#7201a8\"],[0.3333333333333333,\"#9c179e\"],[0.4444444444444444,\"#bd3786\"],[0.5555555555555556,\"#d8576b\"],[0.6666666666666666,\"#ed7953\"],[0.7777777777777778,\"#fb9f3a\"],[0.8888888888888888,\"#fdca26\"],[1.0,\"#f0f921\"]],\"diverging\":[[0,\"#8e0152\"],[0.1,\"#c51b7d\"],[0.2,\"#de77ae\"],[0.3,\"#f1b6da\"],[0.4,\"#fde0ef\"],[0.5,\"#f7f7f7\"],[0.6,\"#e6f5d0\"],[0.7,\"#b8e186\"],[0.8,\"#7fbc41\"],[0.9,\"#4d9221\"],[1,\"#276419\"]]},\"xaxis\":{\"gridcolor\":\"white\",\"linecolor\":\"white\",\"ticks\":\"\",\"title\":{\"standoff\":15},\"zerolinecolor\":\"white\",\"automargin\":true,\"zerolinewidth\":2},\"yaxis\":{\"gridcolor\":\"white\",\"linecolor\":\"white\",\"ticks\":\"\",\"title\":{\"standoff\":15},\"zerolinecolor\":\"white\",\"automargin\":true,\"zerolinewidth\":2},\"scene\":{\"xaxis\":{\"backgroundcolor\":\"#E5ECF6\",\"gridcolor\":\"white\",\"linecolor\":\"white\",\"showbackground\":true,\"ticks\":\"\",\"zerolinecolor\":\"white\",\"gridwidth\":2},\"yaxis\":{\"backgroundcolor\":\"#E5ECF6\",\"gridcolor\":\"white\",\"linecolor\":\"white\",\"showbackground\":true,\"ticks\":\"\",\"zerolinecolor\":\"white\",\"gridwidth\":2},\"zaxis\":{\"backgroundcolor\":\"#E5ECF6\",\"gridcolor\":\"white\",\"linecolor\":\"white\",\"showbackground\":true,\"ticks\":\"\",\"zerolinecolor\":\"white\",\"gridwidth\":2}},\"shapedefaults\":{\"line\":{\"color\":\"#2a3f5f\"}},\"annotationdefaults\":{\"arrowcolor\":\"#2a3f5f\",\"arrowhead\":0,\"arrowwidth\":1},\"geo\":{\"bgcolor\":\"white\",\"landcolor\":\"#E5ECF6\",\"subunitcolor\":\"white\",\"showland\":true,\"showlakes\":true,\"lakecolor\":\"white\"},\"title\":{\"x\":0.05},\"mapbox\":{\"style\":\"light\"}}},\"xaxis\":{\"anchor\":\"y\",\"domain\":[0.0,1.0],\"title\":{\"text\":\"Number of days between Harvesting and Threshing\"}},\"yaxis\":{\"anchor\":\"x\",\"domain\":[0.0,1.0]},\"legend\":{\"tracegroupgap\":0},\"margin\":{\"t\":60},\"boxmode\":\"group\",\"height\":350,\"width\":600},                        {\"responsive\": true}                    ).then(function(){\n",
              "                            \n",
              "var gd = document.getElementById('dc14faff-dd68-4276-8585-ed428b10655e');\n",
              "var x = new MutationObserver(function (mutations, observer) {{\n",
              "        var display = window.getComputedStyle(gd).display;\n",
              "        if (!display || display === 'none') {{\n",
              "            console.log([gd, 'removed!']);\n",
              "            Plotly.purge(gd);\n",
              "            observer.disconnect();\n",
              "        }}\n",
              "}});\n",
              "\n",
              "// Listen for the removal of the full notebook cells\n",
              "var notebookContainer = gd.closest('#notebook-container');\n",
              "if (notebookContainer) {{\n",
              "    x.observe(notebookContainer, {childList: true});\n",
              "}}\n",
              "\n",
              "// Listen for the clearing of the current output cell\n",
              "var outputEl = gd.closest('.output');\n",
              "if (outputEl) {{\n",
              "    x.observe(outputEl, {childList: true});\n",
              "}}\n",
              "\n",
              "                        })                };                            </script>        </div>\n",
              "</body>\n",
              "</html>"
            ]
          },
          "metadata": {}
        }
      ]
    },
    {
      "cell_type": "markdown",
      "source": [
        "2. Extracting months from date variables"
      ],
      "metadata": {
        "id": "svET3PsTCjwG"
      }
    },
    {
      "cell_type": "code",
      "source": [
        "# Extracting months from date variables\n",
        "df[\"CropTillageMonth\"] = df[\"CropTillageDate\"].dt.month_name()\n",
        "df[\"NursingMonth\"] = df[\"RcNursEstDate\"].dt.month_name()\n",
        "df[\"SowTransplantMonth\"] = df[\"SeedingSowingTransplanting\"].dt.month_name()\n",
        "df[\"HarvestMonth\"] = df[\"Harv_date\"].dt.month_name()\n",
        "df[\"ThreshingMonth\"] = df[\"Threshing_date\"].dt.month_name()"
      ],
      "metadata": {
        "id": "STq-vOAH_7j_"
      },
      "execution_count": 151,
      "outputs": []
    },
    {
      "cell_type": "code",
      "source": [
        "df[\"HarvestMonth\"].value_counts()"
      ],
      "metadata": {
        "colab": {
          "base_uri": "https://localhost:8080/"
        },
        "id": "Uy8x0DBrAgAr",
        "outputId": "c633a618-1d6d-4ac1-fc12-df800e464a26"
      },
      "execution_count": 152,
      "outputs": [
        {
          "output_type": "execute_result",
          "data": {
            "text/plain": [
              "November     3322\n",
              "October      1061\n",
              "December      756\n",
              "September      10\n",
              "January         8\n",
              "February        1\n",
              "March           1\n",
              "August          1\n",
              "Name: HarvestMonth, dtype: int64"
            ]
          },
          "metadata": {},
          "execution_count": 152
        }
      ]
    },
    {
      "cell_type": "markdown",
      "source": [
        "#### Exporting cleaned df"
      ],
      "metadata": {
        "id": "D_NnfC1NOGMu"
      }
    },
    {
      "cell_type": "code",
      "source": [
        "# Dropping messy cols\n",
        "df = df.drop(columns=[\"LandPreparationMethod\",\"NursDetFactor\",\"TransDetFactor\",\"OrgFertilizers\",\"CropbasalFerts\",\"FirstTopDressFert\"])"
      ],
      "metadata": {
        "id": "PQ32enJ1m_EP"
      },
      "execution_count": 153,
      "outputs": []
    },
    {
      "cell_type": "code",
      "source": [
        "# Re-ordering columns for clarity\n",
        "df = df[['ID','Set','District','Block','CropTillageDate','CropTillageMonth','CropTillageDepth','CropEstMethod','RcNursEstDate','NursingMonth',\n",
        "         'SeedingSowingTransplanting','SowTransplantMonth','SeedlingsPerPit','TransplantingIrrigationHours','TransplantingIrrigationSource',\n",
        "         'TransplantingIrrigationPowerSource','TransIrriCost','TransIrriCost_per_Acre','StandingWater','Ganaura','Ganaura_per_Acre','CropOrgFYM',\n",
        "         'CropOrgFYM_per_Acre','PCropSolidOrgFertAppMethod','NoFertilizerAppln','BasalDAP','BasalDAP_per_Acre','BasalUrea','BasalUrea_per_Acre',\n",
        "         'MineralFertAppMethod','1tdUrea','1tdUrea_per_Acre','1appDaysUrea','2tdUrea','2tdUrea_per_Acre','2appDaysUrea','MineralFertAppMethod.1',\n",
        "         'Harv_method','Harv_date','HarvestMonth','Harv_hand_rent','Harv_hand_rent_per_Acre','Threshing_date','ThreshingMonth','Threshing_method',\n",
        "         'Residue_length','Residue_perc','Stubble_use','Acre','Yield','Yield_per_Acre',\n",
        "         # Parsed categoricals\n",
        "         'LandPrepMethod_TractorPlough','LandPrepMethod_FourWheelTracRotavator','LandPrepMethod_WetTillagePuddling',\n",
        "         'LandPrepMethod_BullockPlough','LandPrepMethod_Other','NursDetFactor_CalendarDate','NursDetFactor_PreMonsoonShowers','NursDetFactor_IrrigWaterAvailability',\n",
        "         'NursDetFactor_LabourAvailability','NursDetFactor_SeedAvailability','TransDetFactor_LabourAvailability','TransDetFactor_CalendarDate','TransDetFactor_RainArrival',\n",
        "         'TransDetFactor_IrrigWaterAvailability','TransDetFactor_SeedlingAge','CropbasalFerts_Urea','CropbasalFerts_DAP','CropbasalFerts_Other','CropbasalFerts_NPK',\n",
        "         'CropbasalFerts_MoP','CropbasalFerts_NPKS','CropbasalFerts_SSP','CropbasalFerts_None','FirstTopDressFert_Urea','FirstTopDressFert_DAP','FirstTopDressFert_NPK',\n",
        "         'FirstTopDressFert_NPKS','FirstTopDressFert_SSP','FirstTopDressFert_Other','OrgFertilizers_Ganaura','OrgFertilizers_FYM','OrgFertilizers_VermiCompost',\n",
        "         'OrgFertilizers_Pranamrit','OrgFertilizers_Ghanajeevamrit','OrgFertilizers_Jeevamrit','OrgFertilizers_PoultryManure','Days_bw_Nurs_SowTransp',\n",
        "         'Days_bw_SowTransp_Harv','Days_bw_Harv_Thresh',\n",
        "         # Other additions\n",
        "         'Nb_of_NaN'\n",
        "         ]]"
      ],
      "metadata": {
        "id": "skIKLA_tBNgF"
      },
      "execution_count": 154,
      "outputs": []
    },
    {
      "cell_type": "code",
      "source": [
        "# EXPORTING\n",
        "\n",
        "# V1: full cleaned df\n",
        "df.to_csv('cleaned_fulldf.csv',index=False)\n",
        "\n",
        "# V2: per Acre df (dropping the raw variables)\n",
        "#df.copy().drop(columns=[\"TransIrriCost\",\"Ganaura\",\"CropOrgFYM\",\"BasalDAP\",\"BasalUrea\",\"1tdUrea\",\"2tdUrea\",\"Harv_hand_rent\",\"Yield\"]).to_csv('peracre_df.csv',index=False)\n",
        "\n",
        "# V2: per Acre df (dropping the raw variables)\n",
        "#df.copy().drop(columns=[\"TransIrriCost_per_Acre\",\"Ganaura_per_Acre\",\"CropOrgFYM_per_Acre\",\"BasalDAP_per_Acre\",\"BasalUrea_per_Acre\",\"1tdUrea_per_Acre\",\"2tdUrea_per_Acre\",\n",
        "#                        \"Harv_hand_rent_per_Acre\",\"Yield_per_Acre\"]).to_csv('rawyield_df.csv',index=False)"
      ],
      "metadata": {
        "id": "O5GwH-TThpQF"
      },
      "execution_count": 155,
      "outputs": []
    },
    {
      "cell_type": "code",
      "source": [
        "df.shape"
      ],
      "metadata": {
        "colab": {
          "base_uri": "https://localhost:8080/"
        },
        "id": "XwbT7oermE3h",
        "outputId": "ca688823-1330-4a1a-ce1e-4c7e836543c7"
      },
      "execution_count": 156,
      "outputs": [
        {
          "output_type": "execute_result",
          "data": {
            "text/plain": [
              "(5160, 91)"
            ]
          },
          "metadata": {},
          "execution_count": 156
        }
      ]
    }
  ]
}