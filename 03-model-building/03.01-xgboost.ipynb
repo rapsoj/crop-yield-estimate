{
 "cells": [
  {
   "cell_type": "markdown",
   "metadata": {
    "colab_type": "text",
    "id": "view-in-github"
   },
   "source": [
    "<a href=\"https://colab.research.google.com/github/rapsoj/crop-yield-estimate/blob/main/01.02-feature-engineering.ipynb\" target=\"_parent\"><img src=\"https://colab.research.google.com/assets/colab-badge.svg\" alt=\"Open In Colab\"/></a>"
   ]
  },
  {
   "cell_type": "markdown",
   "metadata": {
    "id": "p4rrXkUXhyaa"
   },
   "source": [
    "# 03.01 XGBoost\n",
    "Building the XGBoost model for the Digital Green Crop Yield Estimate Challenge."
   ]
  },
  {
   "cell_type": "markdown",
   "metadata": {
    "id": "caYh8zAph9VW"
   },
   "source": [
    "### Prepare Workspace"
   ]
  },
  {
   "cell_type": "code",
   "execution_count": 2,
   "metadata": {
    "colab": {
     "base_uri": "https://localhost:8080/"
    },
    "id": "0ZkR4S3jheu0",
    "outputId": "da4df375-3672-449f-fc36-77dded2c9bf3"
   },
   "outputs": [
    {
     "ename": "ModuleNotFoundError",
     "evalue": "No module named 'google.colab'",
     "output_type": "error",
     "traceback": [
      "\u001b[1;31m---------------------------------------------------------------------------\u001b[0m",
      "\u001b[1;31mModuleNotFoundError\u001b[0m                       Traceback (most recent call last)",
      "\u001b[1;32mt:\\crop-yield-estimate\\02-data-cleaning\\01.02-feature-engineering.ipynb Cell 4\u001b[0m line \u001b[0;36m2\n\u001b[0;32m      <a href='vscode-notebook-cell:/t%3A/crop-yield-estimate/02-data-cleaning/01.02-feature-engineering.ipynb#W3sZmlsZQ%3D%3D?line=0'>1</a>\u001b[0m \u001b[39m# Mount Google Drive\u001b[39;00m\n\u001b[1;32m----> <a href='vscode-notebook-cell:/t%3A/crop-yield-estimate/02-data-cleaning/01.02-feature-engineering.ipynb#W3sZmlsZQ%3D%3D?line=1'>2</a>\u001b[0m \u001b[39mfrom\u001b[39;00m \u001b[39mgoogle\u001b[39;00m\u001b[39m.\u001b[39;00m\u001b[39mcolab\u001b[39;00m \u001b[39mimport\u001b[39;00m drive\n\u001b[0;32m      <a href='vscode-notebook-cell:/t%3A/crop-yield-estimate/02-data-cleaning/01.02-feature-engineering.ipynb#W3sZmlsZQ%3D%3D?line=2'>3</a>\u001b[0m drive\u001b[39m.\u001b[39mmount(\u001b[39m'\u001b[39m\u001b[39m/content/drive\u001b[39m\u001b[39m'\u001b[39m)\n",
      "\u001b[1;31mModuleNotFoundError\u001b[0m: No module named 'google.colab'"
     ]
    }
   ],
   "source": [
    "# Mount Google Drive\n",
    "from google.colab import drive\n",
    "drive.mount('/content/drive')"
   ]
  },
  {
   "cell_type": "code",
   "execution_count": null,
   "metadata": {
    "id": "wNHY8NHIhj5o"
   },
   "outputs": [],
   "source": [
    "# Import data manipulation libraries\n",
    "import pandas as pd\n",
    "import numpy as np"
   ]
  },
  {
   "cell_type": "code",
   "execution_count": null,
   "metadata": {
    "id": "OH5-4qQShqZ7"
   },
   "outputs": [],
   "source": [
    "# Load files\n",
    "data_path = '/content/drive/MyDrive/Colab Notebooks/crop-yield-estimate/'\n",
    "train = pd.read_csv(data_path + 'Train.csv')\n",
    "test = pd.read_csv(data_path + 'Test.csv')\n",
    "var_desc = pd.read_csv(data_path + 'VariableDescription.csv')"
   ]
  },
  {
   "cell_type": "markdown",
   "metadata": {},
   "source": [
    "### Prepare Workspace Locally"
   ]
  },
  {
   "cell_type": "code",
   "execution_count": 3,
   "metadata": {},
   "outputs": [],
   "source": [
    "import pandas as pd\n",
    "import numpy as np"
   ]
  },
  {
   "cell_type": "code",
   "execution_count": 4,
   "metadata": {},
   "outputs": [],
   "source": [
    "data_path = '/crop-yield-estimate/data/'\n",
    "train = pd.read_csv(data_path + 'Train.csv')\n",
    "test = pd.read_csv(data_path + 'Test.csv')\n",
    "var_desc = pd.read_csv(data_path + 'VariableDescription.csv')\n"
   ]
  },
  {
   "cell_type": "code",
   "execution_count": 5,
   "metadata": {},
   "outputs": [
    {
     "data": {
      "text/html": [
       "<div>\n",
       "<style scoped>\n",
       "    .dataframe tbody tr th:only-of-type {\n",
       "        vertical-align: middle;\n",
       "    }\n",
       "\n",
       "    .dataframe tbody tr th {\n",
       "        vertical-align: top;\n",
       "    }\n",
       "\n",
       "    .dataframe thead th {\n",
       "        text-align: right;\n",
       "    }\n",
       "</style>\n",
       "<table border=\"1\" class=\"dataframe\">\n",
       "  <thead>\n",
       "    <tr style=\"text-align: right;\">\n",
       "      <th></th>\n",
       "      <th>ID</th>\n",
       "      <th>District</th>\n",
       "      <th>Block</th>\n",
       "      <th>CultLand</th>\n",
       "      <th>CropCultLand</th>\n",
       "      <th>LandPreparationMethod</th>\n",
       "      <th>CropTillageDate</th>\n",
       "      <th>CropTillageDepth</th>\n",
       "      <th>CropEstMethod</th>\n",
       "      <th>RcNursEstDate</th>\n",
       "      <th>...</th>\n",
       "      <th>Harv_method</th>\n",
       "      <th>Harv_date</th>\n",
       "      <th>Harv_hand_rent</th>\n",
       "      <th>Threshing_date</th>\n",
       "      <th>Threshing_method</th>\n",
       "      <th>Residue_length</th>\n",
       "      <th>Residue_perc</th>\n",
       "      <th>Stubble_use</th>\n",
       "      <th>Acre</th>\n",
       "      <th>Yield</th>\n",
       "    </tr>\n",
       "  </thead>\n",
       "  <tbody>\n",
       "    <tr>\n",
       "      <th>0</th>\n",
       "      <td>ID_GTFAC7PEVWQ9</td>\n",
       "      <td>Nalanda</td>\n",
       "      <td>Noorsarai</td>\n",
       "      <td>45</td>\n",
       "      <td>40</td>\n",
       "      <td>TractorPlough FourWheelTracRotavator</td>\n",
       "      <td>2022-07-20</td>\n",
       "      <td>5</td>\n",
       "      <td>Manual_PuddledRandom</td>\n",
       "      <td>2022-06-27</td>\n",
       "      <td>...</td>\n",
       "      <td>machine</td>\n",
       "      <td>2022-11-16</td>\n",
       "      <td>NaN</td>\n",
       "      <td>2022-11-16</td>\n",
       "      <td>machine</td>\n",
       "      <td>30</td>\n",
       "      <td>40</td>\n",
       "      <td>plowed_in_soil</td>\n",
       "      <td>0.312500</td>\n",
       "      <td>600</td>\n",
       "    </tr>\n",
       "    <tr>\n",
       "      <th>1</th>\n",
       "      <td>ID_TK40ARLSPOKS</td>\n",
       "      <td>Nalanda</td>\n",
       "      <td>Rajgir</td>\n",
       "      <td>26</td>\n",
       "      <td>26</td>\n",
       "      <td>WetTillagePuddling TractorPlough FourWheelTrac...</td>\n",
       "      <td>2022-07-18</td>\n",
       "      <td>5</td>\n",
       "      <td>Manual_PuddledRandom</td>\n",
       "      <td>2022-06-20</td>\n",
       "      <td>...</td>\n",
       "      <td>hand</td>\n",
       "      <td>2022-11-25</td>\n",
       "      <td>3.0</td>\n",
       "      <td>2022-12-24</td>\n",
       "      <td>machine</td>\n",
       "      <td>24</td>\n",
       "      <td>10</td>\n",
       "      <td>plowed_in_soil</td>\n",
       "      <td>0.312500</td>\n",
       "      <td>600</td>\n",
       "    </tr>\n",
       "    <tr>\n",
       "      <th>2</th>\n",
       "      <td>ID_1FJY2CRIMLZZ</td>\n",
       "      <td>Gaya</td>\n",
       "      <td>Gurua</td>\n",
       "      <td>10</td>\n",
       "      <td>10</td>\n",
       "      <td>TractorPlough FourWheelTracRotavator</td>\n",
       "      <td>2022-06-30</td>\n",
       "      <td>6</td>\n",
       "      <td>Manual_PuddledRandom</td>\n",
       "      <td>2022-06-20</td>\n",
       "      <td>...</td>\n",
       "      <td>hand</td>\n",
       "      <td>2022-12-12</td>\n",
       "      <td>480.0</td>\n",
       "      <td>2023-01-11</td>\n",
       "      <td>machine</td>\n",
       "      <td>30</td>\n",
       "      <td>10</td>\n",
       "      <td>plowed_in_soil</td>\n",
       "      <td>0.148148</td>\n",
       "      <td>225</td>\n",
       "    </tr>\n",
       "    <tr>\n",
       "      <th>3</th>\n",
       "      <td>ID_I3IPXS4DB7NE</td>\n",
       "      <td>Gaya</td>\n",
       "      <td>Gurua</td>\n",
       "      <td>15</td>\n",
       "      <td>15</td>\n",
       "      <td>TractorPlough FourWheelTracRotavator</td>\n",
       "      <td>2022-06-16</td>\n",
       "      <td>6</td>\n",
       "      <td>Manual_PuddledRandom</td>\n",
       "      <td>2022-06-17</td>\n",
       "      <td>...</td>\n",
       "      <td>hand</td>\n",
       "      <td>2022-12-02</td>\n",
       "      <td>240.0</td>\n",
       "      <td>2022-12-29</td>\n",
       "      <td>hand</td>\n",
       "      <td>26</td>\n",
       "      <td>10</td>\n",
       "      <td>plowed_in_soil</td>\n",
       "      <td>0.222222</td>\n",
       "      <td>468</td>\n",
       "    </tr>\n",
       "    <tr>\n",
       "      <th>4</th>\n",
       "      <td>ID_4T8YQWXWHB4A</td>\n",
       "      <td>Nalanda</td>\n",
       "      <td>Noorsarai</td>\n",
       "      <td>60</td>\n",
       "      <td>60</td>\n",
       "      <td>TractorPlough WetTillagePuddling</td>\n",
       "      <td>2022-07-19</td>\n",
       "      <td>4</td>\n",
       "      <td>Manual_PuddledRandom</td>\n",
       "      <td>2022-06-21</td>\n",
       "      <td>...</td>\n",
       "      <td>machine</td>\n",
       "      <td>2022-11-30</td>\n",
       "      <td>NaN</td>\n",
       "      <td>2022-12-02</td>\n",
       "      <td>machine</td>\n",
       "      <td>24</td>\n",
       "      <td>40</td>\n",
       "      <td>plowed_in_soil</td>\n",
       "      <td>0.468750</td>\n",
       "      <td>550</td>\n",
       "    </tr>\n",
       "  </tbody>\n",
       "</table>\n",
       "<p>5 rows × 44 columns</p>\n",
       "</div>"
      ],
      "text/plain": [
       "                ID District      Block  CultLand  CropCultLand  \\\n",
       "0  ID_GTFAC7PEVWQ9  Nalanda  Noorsarai        45            40   \n",
       "1  ID_TK40ARLSPOKS  Nalanda     Rajgir        26            26   \n",
       "2  ID_1FJY2CRIMLZZ     Gaya      Gurua        10            10   \n",
       "3  ID_I3IPXS4DB7NE     Gaya      Gurua        15            15   \n",
       "4  ID_4T8YQWXWHB4A  Nalanda  Noorsarai        60            60   \n",
       "\n",
       "                               LandPreparationMethod CropTillageDate  \\\n",
       "0               TractorPlough FourWheelTracRotavator      2022-07-20   \n",
       "1  WetTillagePuddling TractorPlough FourWheelTrac...      2022-07-18   \n",
       "2               TractorPlough FourWheelTracRotavator      2022-06-30   \n",
       "3               TractorPlough FourWheelTracRotavator      2022-06-16   \n",
       "4                   TractorPlough WetTillagePuddling      2022-07-19   \n",
       "\n",
       "   CropTillageDepth         CropEstMethod RcNursEstDate  ... Harv_method  \\\n",
       "0                 5  Manual_PuddledRandom    2022-06-27  ...     machine   \n",
       "1                 5  Manual_PuddledRandom    2022-06-20  ...        hand   \n",
       "2                 6  Manual_PuddledRandom    2022-06-20  ...        hand   \n",
       "3                 6  Manual_PuddledRandom    2022-06-17  ...        hand   \n",
       "4                 4  Manual_PuddledRandom    2022-06-21  ...     machine   \n",
       "\n",
       "    Harv_date Harv_hand_rent Threshing_date  Threshing_method Residue_length  \\\n",
       "0  2022-11-16            NaN     2022-11-16           machine             30   \n",
       "1  2022-11-25            3.0     2022-12-24           machine             24   \n",
       "2  2022-12-12          480.0     2023-01-11           machine             30   \n",
       "3  2022-12-02          240.0     2022-12-29              hand             26   \n",
       "4  2022-11-30            NaN     2022-12-02           machine             24   \n",
       "\n",
       "  Residue_perc     Stubble_use      Acre Yield  \n",
       "0           40  plowed_in_soil  0.312500   600  \n",
       "1           10  plowed_in_soil  0.312500   600  \n",
       "2           10  plowed_in_soil  0.148148   225  \n",
       "3           10  plowed_in_soil  0.222222   468  \n",
       "4           40  plowed_in_soil  0.468750   550  \n",
       "\n",
       "[5 rows x 44 columns]"
      ]
     },
     "execution_count": 5,
     "metadata": {},
     "output_type": "execute_result"
    }
   ],
   "source": [
    "train.head()"
   ]
  },
  {
   "cell_type": "code",
   "execution_count": 6,
   "metadata": {},
   "outputs": [
    {
     "name": "stdout",
     "output_type": "stream",
     "text": [
      "0\n"
     ]
    }
   ],
   "source": [
    "count = len(train[train['CultLand'] < train['CropCultLand']])\n",
    "print(count)\n"
   ]
  },
  {
   "cell_type": "code",
   "execution_count": 7,
   "metadata": {},
   "outputs": [
    {
     "name": "stdout",
     "output_type": "stream",
     "text": [
      "1616\n"
     ]
    }
   ],
   "source": [
    "count = len(train[train['CultLand'] > train['CropCultLand']])\n",
    "print(count)\n"
   ]
  },
  {
   "cell_type": "code",
   "execution_count": 9,
   "metadata": {},
   "outputs": [
    {
     "name": "stdout",
     "output_type": "stream",
     "text": [
      "0.4096040689279083\n",
      "0.39407007108602965\n"
     ]
    }
   ],
   "source": [
    "\n",
    "# Calculate the correlation between CultLand and Acre columns\n",
    "corr_cultland = train['CultLand'].corr(train['Acre'])\n",
    "\n",
    "# Calculate the correlation between CropCultLand and Acre columns\n",
    "corr_cropcultland = train['CropCultLand'].corr(train['Acre'])\n",
    "\n",
    "print(corr_cultland)\n",
    "print(corr_cropcultland)\n",
    "\n"
   ]
  },
  {
   "cell_type": "code",
   "execution_count": null,
   "metadata": {},
   "outputs": [
    {
     "data": {
      "text/plain": [
       "ID                                       0\n",
       "District                                 0\n",
       "Block                                    0\n",
       "CultLand                                 0\n",
       "CropCultLand                             0\n",
       "LandPreparationMethod                    0\n",
       "CropTillageDate                          0\n",
       "CropTillageDepth                         0\n",
       "CropEstMethod                            0\n",
       "RcNursEstDate                           83\n",
       "SeedingSowingTransplanting               0\n",
       "SeedlingsPerPit                        289\n",
       "NursDetFactor                          289\n",
       "TransDetFactor                         289\n",
       "TransplantingIrrigationHours           193\n",
       "TransplantingIrrigationSource          115\n",
       "TransplantingIrrigationPowerSource     503\n",
       "TransIrriCost                          882\n",
       "StandingWater                          238\n",
       "OrgFertilizers                        1335\n",
       "Ganaura                               2417\n",
       "CropOrgFYM                            2674\n",
       "PCropSolidOrgFertAppMethod            1337\n",
       "NoFertilizerAppln                        0\n",
       "CropbasalFerts                         188\n",
       "BasalDAP                               543\n",
       "BasalUrea                             1704\n",
       "MineralFertAppMethod                     0\n",
       "FirstTopDressFert                      485\n",
       "1tdUrea                                556\n",
       "1appDaysUrea                           556\n",
       "2tdUrea                               2694\n",
       "2appDaysUrea                          2700\n",
       "MineralFertAppMethod.1                 481\n",
       "Harv_method                              0\n",
       "Harv_date                                0\n",
       "Harv_hand_rent                         252\n",
       "Threshing_date                           0\n",
       "Threshing_method                         0\n",
       "Residue_length                           0\n",
       "Residue_perc                             0\n",
       "Stubble_use                              0\n",
       "Acre                                     0\n",
       "Yield                                    0\n",
       "dtype: int64"
      ]
     },
     "execution_count": 10,
     "metadata": {},
     "output_type": "execute_result"
    }
   ],
   "source": [
    "# How many missing numbers are there?\n",
    "train.isnull().sum()\n",
    "\n",
    "\n"
   ]
  },
  {
   "cell_type": "code",
   "execution_count": null,
   "metadata": {},
   "outputs": [
    {
     "data": {
      "text/plain": [
       "ID                                     0.000000\n",
       "District                               0.000000\n",
       "Block                                  0.000000\n",
       "CultLand                               0.000000\n",
       "CropCultLand                           0.000000\n",
       "LandPreparationMethod                  0.000000\n",
       "CropTillageDate                        0.000000\n",
       "CropTillageDepth                       0.000000\n",
       "CropEstMethod                          0.000000\n",
       "RcNursEstDate                          2.144703\n",
       "SeedingSowingTransplanting             0.000000\n",
       "SeedlingsPerPit                        7.467700\n",
       "NursDetFactor                          7.467700\n",
       "TransDetFactor                         7.467700\n",
       "TransplantingIrrigationHours           4.987080\n",
       "TransplantingIrrigationSource          2.971576\n",
       "TransplantingIrrigationPowerSource    12.997416\n",
       "TransIrriCost                         22.790698\n",
       "StandingWater                          6.149871\n",
       "OrgFertilizers                        34.496124\n",
       "Ganaura                               62.454780\n",
       "CropOrgFYM                            69.095607\n",
       "PCropSolidOrgFertAppMethod            34.547804\n",
       "NoFertilizerAppln                      0.000000\n",
       "CropbasalFerts                         4.857881\n",
       "BasalDAP                              14.031008\n",
       "BasalUrea                             44.031008\n",
       "MineralFertAppMethod                   0.000000\n",
       "FirstTopDressFert                     12.532300\n",
       "1tdUrea                               14.366925\n",
       "1appDaysUrea                          14.366925\n",
       "2tdUrea                               69.612403\n",
       "2appDaysUrea                          69.767442\n",
       "MineralFertAppMethod.1                12.428941\n",
       "Harv_method                            0.000000\n",
       "Harv_date                              0.000000\n",
       "Harv_hand_rent                         6.511628\n",
       "Threshing_date                         0.000000\n",
       "Threshing_method                       0.000000\n",
       "Residue_length                         0.000000\n",
       "Residue_perc                           0.000000\n",
       "Stubble_use                            0.000000\n",
       "Acre                                   0.000000\n",
       "Yield                                  0.000000\n",
       "dtype: float64"
      ]
     },
     "execution_count": 11,
     "metadata": {},
     "output_type": "execute_result"
    }
   ],
   "source": [
    "# Calculate percentage of missing values in each column\n",
    "train.isnull().sum() / len(train) * 100"
   ]
  },
  {
   "cell_type": "markdown",
   "metadata": {
    "id": "4JzmjVDAiBVJ"
   },
   "source": [
    "### Perform Feature Engineering"
   ]
  },
  {
   "cell_type": "code",
   "execution_count": null,
   "metadata": {
    "id": "C5OGwH7khwBB"
   },
   "outputs": [],
   "source": [
    "# Create feature for yield per acre 'Yield_per_Acre'\n",
    "train['Yield_per_Acre'] = train['Yield'] / train['Acre']"
   ]
  },
  {
   "cell_type": "code",
   "execution_count": null,
   "metadata": {
    "id": "o5Ru1fI2ivLx"
   },
   "outputs": [],
   "source": [
    "# Create feature for past month yield per acre 'Past_Yield_per_Acre'\n",
    "train['Harv_date'] = pd.to_datetime(train['Harv_date'])\n",
    "train.sort_values(['District', 'Harv_date'], inplace=True)\n",
    "\n",
    "# Group the DataFrame by 'District' and calculate the rolling average\n",
    "train['Past_YpA_Avg'] = train.groupby('District')['Yield_per_Acre'].rolling(\n",
    "    window = 30).mean().reset_index(0, drop=True)\n",
    "\n",
    "# Fill NaN values in the 'past_month_avg' column with 0 if needed\n",
    "train['Past_YpA_Avg'].fillna(0, inplace=True)"
   ]
  },
  {
   "cell_type": "code",
   "execution_count": null,
   "metadata": {
    "id": "bd3KIglKtBoY"
   },
   "outputs": [],
   "source": [
    "# Create feature for days between harvesting and threshing 'Days_Harv_Thresh'\n",
    "train['Threshing_date'] = pd.to_datetime(train['Threshing_date'])\n",
    "train['Days_Harv_Thresh'] = (\n",
    "    train['Threshing_date'] - train['Harv_date']).dt.days"
   ]
  },
  {
   "cell_type": "markdown",
   "metadata": {},
   "source": [
    "# XGBoost Model - Shaw - Just testing the model\n"
   ]
  },
  {
   "cell_type": "code",
   "execution_count": 6,
   "metadata": {},
   "outputs": [],
   "source": [
    "import pandas as pd\n",
    "import numpy as np\n",
    "import xgboost as xgb\n",
    "\n",
    "# If you run the feature engineering workbook, it'll genereate the file \n",
    "data = pd.read_csv(\"/crop-yield-estimate/02-data-cleaning/cleaned_fulldf_train.csv\")\n",
    "\n",
    "# Obv depends how data is formatted\n",
    "X = data.drop(['Yield'], axis=1)\n",
    "y = data['Yield']\n",
    "\n"
   ]
  },
  {
   "cell_type": "code",
   "execution_count": 7,
   "metadata": {},
   "outputs": [
    {
     "data": {
      "text/html": [
       "<div>\n",
       "<style scoped>\n",
       "    .dataframe tbody tr th:only-of-type {\n",
       "        vertical-align: middle;\n",
       "    }\n",
       "\n",
       "    .dataframe tbody tr th {\n",
       "        vertical-align: top;\n",
       "    }\n",
       "\n",
       "    .dataframe thead th {\n",
       "        text-align: right;\n",
       "    }\n",
       "</style>\n",
       "<table border=\"1\" class=\"dataframe\">\n",
       "  <thead>\n",
       "    <tr style=\"text-align: right;\">\n",
       "      <th></th>\n",
       "      <th>ID</th>\n",
       "      <th>Set</th>\n",
       "      <th>District</th>\n",
       "      <th>Block</th>\n",
       "      <th>CultLand</th>\n",
       "      <th>CropTillageDate</th>\n",
       "      <th>CropTillageMonth</th>\n",
       "      <th>CropTillageDepth</th>\n",
       "      <th>CropEstMethod</th>\n",
       "      <th>RcNursEstDate</th>\n",
       "      <th>...</th>\n",
       "      <th>Days_bw_SowTransp_Harv</th>\n",
       "      <th>Days_bw_Harv_Thresh</th>\n",
       "      <th>Days_bw_Nurs_Harv</th>\n",
       "      <th>Nb_of_NaN</th>\n",
       "      <th>Past_YpA_Avg</th>\n",
       "      <th>Days_Harv_Thresh</th>\n",
       "      <th>Season</th>\n",
       "      <th>harvest-thresh-duration</th>\n",
       "      <th>tillage-harvest-duration</th>\n",
       "      <th>irrigation-per-acre</th>\n",
       "    </tr>\n",
       "  </thead>\n",
       "  <tbody>\n",
       "    <tr>\n",
       "      <th>0</th>\n",
       "      <td>ID_OEGIGBAY4B8L</td>\n",
       "      <td>train</td>\n",
       "      <td>Gaya</td>\n",
       "      <td>Wazirganj</td>\n",
       "      <td>30</td>\n",
       "      <td>2022-06-28</td>\n",
       "      <td>June</td>\n",
       "      <td>4</td>\n",
       "      <td>Manual_PuddledRandom</td>\n",
       "      <td>2022-06-20</td>\n",
       "      <td>...</td>\n",
       "      <td>77.0</td>\n",
       "      <td>14.0</td>\n",
       "      <td>110.0</td>\n",
       "      <td>1</td>\n",
       "      <td>0.000000</td>\n",
       "      <td>14</td>\n",
       "      <td>Monsoon</td>\n",
       "      <td>116</td>\n",
       "      <td>102</td>\n",
       "      <td>16.20</td>\n",
       "    </tr>\n",
       "    <tr>\n",
       "      <th>1</th>\n",
       "      <td>ID_ECOLA7UOIRKC</td>\n",
       "      <td>train</td>\n",
       "      <td>Gaya</td>\n",
       "      <td>Wazirganj</td>\n",
       "      <td>50</td>\n",
       "      <td>2022-07-01</td>\n",
       "      <td>July</td>\n",
       "      <td>5</td>\n",
       "      <td>Manual_PuddledRandom</td>\n",
       "      <td>2022-06-25</td>\n",
       "      <td>...</td>\n",
       "      <td>74.0</td>\n",
       "      <td>17.0</td>\n",
       "      <td>107.0</td>\n",
       "      <td>4</td>\n",
       "      <td>0.000000</td>\n",
       "      <td>17</td>\n",
       "      <td>Monsoon</td>\n",
       "      <td>118</td>\n",
       "      <td>101</td>\n",
       "      <td>11.25</td>\n",
       "    </tr>\n",
       "    <tr>\n",
       "      <th>2</th>\n",
       "      <td>ID_T882H8WXTQWU</td>\n",
       "      <td>train</td>\n",
       "      <td>Gaya</td>\n",
       "      <td>Wazirganj</td>\n",
       "      <td>40</td>\n",
       "      <td>2022-06-28</td>\n",
       "      <td>June</td>\n",
       "      <td>5</td>\n",
       "      <td>Manual_PuddledRandom</td>\n",
       "      <td>2022-06-28</td>\n",
       "      <td>...</td>\n",
       "      <td>76.0</td>\n",
       "      <td>18.0</td>\n",
       "      <td>104.0</td>\n",
       "      <td>1</td>\n",
       "      <td>0.000000</td>\n",
       "      <td>18</td>\n",
       "      <td>Monsoon</td>\n",
       "      <td>122</td>\n",
       "      <td>104</td>\n",
       "      <td>27.00</td>\n",
       "    </tr>\n",
       "    <tr>\n",
       "      <th>3</th>\n",
       "      <td>ID_5Q6AC5G0B74I</td>\n",
       "      <td>train</td>\n",
       "      <td>Gaya</td>\n",
       "      <td>Wazirganj</td>\n",
       "      <td>40</td>\n",
       "      <td>2022-06-28</td>\n",
       "      <td>June</td>\n",
       "      <td>5</td>\n",
       "      <td>Manual_PuddledRandom</td>\n",
       "      <td>2022-06-26</td>\n",
       "      <td>...</td>\n",
       "      <td>76.0</td>\n",
       "      <td>18.0</td>\n",
       "      <td>108.0</td>\n",
       "      <td>2</td>\n",
       "      <td>0.000000</td>\n",
       "      <td>18</td>\n",
       "      <td>Monsoon</td>\n",
       "      <td>124</td>\n",
       "      <td>106</td>\n",
       "      <td>27.00</td>\n",
       "    </tr>\n",
       "    <tr>\n",
       "      <th>4</th>\n",
       "      <td>ID_RIJLIV1YFCB9</td>\n",
       "      <td>train</td>\n",
       "      <td>Gaya</td>\n",
       "      <td>Wazirganj</td>\n",
       "      <td>40</td>\n",
       "      <td>2022-07-07</td>\n",
       "      <td>July</td>\n",
       "      <td>5</td>\n",
       "      <td>Manual_PuddledRandom</td>\n",
       "      <td>2022-06-27</td>\n",
       "      <td>...</td>\n",
       "      <td>78.0</td>\n",
       "      <td>18.0</td>\n",
       "      <td>107.0</td>\n",
       "      <td>5</td>\n",
       "      <td>0.000000</td>\n",
       "      <td>18</td>\n",
       "      <td>Monsoon</td>\n",
       "      <td>115</td>\n",
       "      <td>97</td>\n",
       "      <td>10.80</td>\n",
       "    </tr>\n",
       "    <tr>\n",
       "      <th>...</th>\n",
       "      <td>...</td>\n",
       "      <td>...</td>\n",
       "      <td>...</td>\n",
       "      <td>...</td>\n",
       "      <td>...</td>\n",
       "      <td>...</td>\n",
       "      <td>...</td>\n",
       "      <td>...</td>\n",
       "      <td>...</td>\n",
       "      <td>...</td>\n",
       "      <td>...</td>\n",
       "      <td>...</td>\n",
       "      <td>...</td>\n",
       "      <td>...</td>\n",
       "      <td>...</td>\n",
       "      <td>...</td>\n",
       "      <td>...</td>\n",
       "      <td>...</td>\n",
       "      <td>...</td>\n",
       "      <td>...</td>\n",
       "      <td>...</td>\n",
       "    </tr>\n",
       "    <tr>\n",
       "      <th>3865</th>\n",
       "      <td>ID_6IR4GXDDI7BN</td>\n",
       "      <td>train</td>\n",
       "      <td>Vaishali</td>\n",
       "      <td>Mahua</td>\n",
       "      <td>4</td>\n",
       "      <td>2022-07-14</td>\n",
       "      <td>July</td>\n",
       "      <td>4</td>\n",
       "      <td>Manual_PuddledRandom</td>\n",
       "      <td>2022-07-16</td>\n",
       "      <td>...</td>\n",
       "      <td>104.0</td>\n",
       "      <td>7.0</td>\n",
       "      <td>130.0</td>\n",
       "      <td>0</td>\n",
       "      <td>2027.666667</td>\n",
       "      <td>7</td>\n",
       "      <td>Monsoon</td>\n",
       "      <td>139</td>\n",
       "      <td>132</td>\n",
       "      <td>22.00</td>\n",
       "    </tr>\n",
       "    <tr>\n",
       "      <th>3866</th>\n",
       "      <td>ID_XO7TC7OX6CUF</td>\n",
       "      <td>train</td>\n",
       "      <td>Vaishali</td>\n",
       "      <td>Mahua</td>\n",
       "      <td>5</td>\n",
       "      <td>2022-07-02</td>\n",
       "      <td>July</td>\n",
       "      <td>5</td>\n",
       "      <td>Manual_PuddledRandom</td>\n",
       "      <td>2022-07-04</td>\n",
       "      <td>...</td>\n",
       "      <td>116.0</td>\n",
       "      <td>0.0</td>\n",
       "      <td>142.0</td>\n",
       "      <td>1</td>\n",
       "      <td>2052.111111</td>\n",
       "      <td>0</td>\n",
       "      <td>Monsoon</td>\n",
       "      <td>144</td>\n",
       "      <td>144</td>\n",
       "      <td>22.00</td>\n",
       "    </tr>\n",
       "    <tr>\n",
       "      <th>3867</th>\n",
       "      <td>ID_PM8BF11ZSDTS</td>\n",
       "      <td>train</td>\n",
       "      <td>Vaishali</td>\n",
       "      <td>Mahua</td>\n",
       "      <td>5</td>\n",
       "      <td>2022-07-17</td>\n",
       "      <td>July</td>\n",
       "      <td>5</td>\n",
       "      <td>Manual_PuddledRandom</td>\n",
       "      <td>2022-07-19</td>\n",
       "      <td>...</td>\n",
       "      <td>100.0</td>\n",
       "      <td>0.0</td>\n",
       "      <td>127.0</td>\n",
       "      <td>1</td>\n",
       "      <td>1997.111111</td>\n",
       "      <td>0</td>\n",
       "      <td>Monsoon</td>\n",
       "      <td>129</td>\n",
       "      <td>129</td>\n",
       "      <td>22.00</td>\n",
       "    </tr>\n",
       "    <tr>\n",
       "      <th>3868</th>\n",
       "      <td>ID_H9X51NB7FWLX</td>\n",
       "      <td>train</td>\n",
       "      <td>Vaishali</td>\n",
       "      <td>Mahua</td>\n",
       "      <td>5</td>\n",
       "      <td>2022-07-17</td>\n",
       "      <td>July</td>\n",
       "      <td>5</td>\n",
       "      <td>Manual_PuddledRandom</td>\n",
       "      <td>2022-07-19</td>\n",
       "      <td>...</td>\n",
       "      <td>103.0</td>\n",
       "      <td>7.0</td>\n",
       "      <td>127.0</td>\n",
       "      <td>1</td>\n",
       "      <td>2009.333333</td>\n",
       "      <td>7</td>\n",
       "      <td>Monsoon</td>\n",
       "      <td>136</td>\n",
       "      <td>129</td>\n",
       "      <td>22.00</td>\n",
       "    </tr>\n",
       "    <tr>\n",
       "      <th>3869</th>\n",
       "      <td>ID_PX8CNYP9YHPE</td>\n",
       "      <td>train</td>\n",
       "      <td>Vaishali</td>\n",
       "      <td>Chehrakala</td>\n",
       "      <td>8</td>\n",
       "      <td>2022-07-20</td>\n",
       "      <td>July</td>\n",
       "      <td>5</td>\n",
       "      <td>Manual_PuddledRandom</td>\n",
       "      <td>2022-07-10</td>\n",
       "      <td>...</td>\n",
       "      <td>181.0</td>\n",
       "      <td>24.0</td>\n",
       "      <td>207.0</td>\n",
       "      <td>2</td>\n",
       "      <td>2130.333333</td>\n",
       "      <td>24</td>\n",
       "      <td>Monsoon</td>\n",
       "      <td>221</td>\n",
       "      <td>197</td>\n",
       "      <td>22.00</td>\n",
       "    </tr>\n",
       "  </tbody>\n",
       "</table>\n",
       "<p>3870 rows × 99 columns</p>\n",
       "</div>"
      ],
      "text/plain": [
       "                   ID    Set  District       Block  CultLand CropTillageDate  \\\n",
       "0     ID_OEGIGBAY4B8L  train      Gaya   Wazirganj        30      2022-06-28   \n",
       "1     ID_ECOLA7UOIRKC  train      Gaya   Wazirganj        50      2022-07-01   \n",
       "2     ID_T882H8WXTQWU  train      Gaya   Wazirganj        40      2022-06-28   \n",
       "3     ID_5Q6AC5G0B74I  train      Gaya   Wazirganj        40      2022-06-28   \n",
       "4     ID_RIJLIV1YFCB9  train      Gaya   Wazirganj        40      2022-07-07   \n",
       "...               ...    ...       ...         ...       ...             ...   \n",
       "3865  ID_6IR4GXDDI7BN  train  Vaishali       Mahua         4      2022-07-14   \n",
       "3866  ID_XO7TC7OX6CUF  train  Vaishali       Mahua         5      2022-07-02   \n",
       "3867  ID_PM8BF11ZSDTS  train  Vaishali       Mahua         5      2022-07-17   \n",
       "3868  ID_H9X51NB7FWLX  train  Vaishali       Mahua         5      2022-07-17   \n",
       "3869  ID_PX8CNYP9YHPE  train  Vaishali  Chehrakala         8      2022-07-20   \n",
       "\n",
       "     CropTillageMonth  CropTillageDepth         CropEstMethod RcNursEstDate  \\\n",
       "0                June                 4  Manual_PuddledRandom    2022-06-20   \n",
       "1                July                 5  Manual_PuddledRandom    2022-06-25   \n",
       "2                June                 5  Manual_PuddledRandom    2022-06-28   \n",
       "3                June                 5  Manual_PuddledRandom    2022-06-26   \n",
       "4                July                 5  Manual_PuddledRandom    2022-06-27   \n",
       "...               ...               ...                   ...           ...   \n",
       "3865             July                 4  Manual_PuddledRandom    2022-07-16   \n",
       "3866             July                 5  Manual_PuddledRandom    2022-07-04   \n",
       "3867             July                 5  Manual_PuddledRandom    2022-07-19   \n",
       "3868             July                 5  Manual_PuddledRandom    2022-07-19   \n",
       "3869             July                 5  Manual_PuddledRandom    2022-07-10   \n",
       "\n",
       "      ... Days_bw_SowTransp_Harv Days_bw_Harv_Thresh Days_bw_Nurs_Harv  \\\n",
       "0     ...                   77.0                14.0             110.0   \n",
       "1     ...                   74.0                17.0             107.0   \n",
       "2     ...                   76.0                18.0             104.0   \n",
       "3     ...                   76.0                18.0             108.0   \n",
       "4     ...                   78.0                18.0             107.0   \n",
       "...   ...                    ...                 ...               ...   \n",
       "3865  ...                  104.0                 7.0             130.0   \n",
       "3866  ...                  116.0                 0.0             142.0   \n",
       "3867  ...                  100.0                 0.0             127.0   \n",
       "3868  ...                  103.0                 7.0             127.0   \n",
       "3869  ...                  181.0                24.0             207.0   \n",
       "\n",
       "      Nb_of_NaN  Past_YpA_Avg Days_Harv_Thresh   Season  \\\n",
       "0             1      0.000000               14  Monsoon   \n",
       "1             4      0.000000               17  Monsoon   \n",
       "2             1      0.000000               18  Monsoon   \n",
       "3             2      0.000000               18  Monsoon   \n",
       "4             5      0.000000               18  Monsoon   \n",
       "...         ...           ...              ...      ...   \n",
       "3865          0   2027.666667                7  Monsoon   \n",
       "3866          1   2052.111111                0  Monsoon   \n",
       "3867          1   1997.111111                0  Monsoon   \n",
       "3868          1   2009.333333                7  Monsoon   \n",
       "3869          2   2130.333333               24  Monsoon   \n",
       "\n",
       "      harvest-thresh-duration  tillage-harvest-duration  irrigation-per-acre  \n",
       "0                         116                       102                16.20  \n",
       "1                         118                       101                11.25  \n",
       "2                         122                       104                27.00  \n",
       "3                         124                       106                27.00  \n",
       "4                         115                        97                10.80  \n",
       "...                       ...                       ...                  ...  \n",
       "3865                      139                       132                22.00  \n",
       "3866                      144                       144                22.00  \n",
       "3867                      129                       129                22.00  \n",
       "3868                      136                       129                22.00  \n",
       "3869                      221                       197                22.00  \n",
       "\n",
       "[3870 rows x 99 columns]"
      ]
     },
     "execution_count": 7,
     "metadata": {},
     "output_type": "execute_result"
    }
   ],
   "source": [
    "# lets just double check that was done right\n",
    "X"
   ]
  },
  {
   "cell_type": "code",
   "execution_count": 9,
   "metadata": {},
   "outputs": [
    {
     "data": {
      "text/plain": [
       "0       800\n",
       "1       960\n",
       "2       640\n",
       "3       400\n",
       "4       800\n",
       "       ... \n",
       "3865    200\n",
       "3866    400\n",
       "3867    250\n",
       "3868    350\n",
       "3869    500\n",
       "Name: Yield, Length: 3870, dtype: int64"
      ]
     },
     "execution_count": 9,
     "metadata": {},
     "output_type": "execute_result"
    }
   ],
   "source": [
    "y"
   ]
  },
  {
   "cell_type": "code",
   "execution_count": 11,
   "metadata": {},
   "outputs": [],
   "source": [
    "# Convert all object columns to categorical\n",
    "for col in X.columns:\n",
    "    if X[col].dtype == 'object':\n",
    "        X[col] = X[col].astype('category')\n"
   ]
  },
  {
   "cell_type": "markdown",
   "metadata": {},
   "source": [
    "Below code blocks taken from Data Camp"
   ]
  },
  {
   "cell_type": "code",
   "execution_count": 21,
   "metadata": {},
   "outputs": [],
   "source": [
    "data_Dmatrix = xgb.DMatrix(data=X, label=y, enable_categorical=True)\n"
   ]
  },
  {
   "cell_type": "code",
   "execution_count": 22,
   "metadata": {},
   "outputs": [
    {
     "name": "stdout",
     "output_type": "stream",
     "text": [
      "9    565.572765\n",
      "Name: test-rmse-mean, dtype: float64\n"
     ]
    }
   ],
   "source": [
    "untuned_params = {\"objective\": \"reg:squarederror\"}\n",
    "\n",
    "\n",
    "untuned_cv_results_rmse = xgb.cv(dtrain=data_Dmatrix,  params=untuned_params, nfold=4, metrics=\"rmse\", as_pandas=True, seed=123)\n",
    "\n",
    "print(untuned_cv_results_rmse[\"test-rmse-mean\"].tail(1))"
   ]
  },
  {
   "cell_type": "code",
   "execution_count": 23,
   "metadata": {},
   "outputs": [
    {
     "name": "stdout",
     "output_type": "stream",
     "text": [
      "Tuned rmse: 403.578850\n"
     ]
    },
    {
     "name": "stderr",
     "output_type": "stream",
     "text": [
      "C:\\Users\\shawa\\AppData\\Local\\Temp\\ipykernel_20812\\3324875468.py:5: FutureWarning: Calling float on a single element Series is deprecated and will raise a TypeError in the future. Use float(ser.iloc[0]) instead\n",
      "  print(\"Tuned rmse: %f\" %((tuned_cv_results_rmse[\"test-rmse-mean\"]).tail(1)))\n"
     ]
    }
   ],
   "source": [
    "tuned_params = {\"objective\":\"reg:squarederror\", 'colsample_bytree':0.3, 'learning_rate': 0.1, 'max_depth':5}\n",
    "\n",
    "tuned_cv_results_rmse = xgb.cv(dtrain=data_Dmatrix, params=tuned_params, nfold=4, num_boost_round=200, metrics=\"rmse\", as_pandas=True, seed=123)\n",
    "\n",
    "print(\"Tuned rmse: %f\" %((tuned_cv_results_rmse[\"test-rmse-mean\"]).tail(1)))"
   ]
  },
  {
   "cell_type": "code",
   "execution_count": 27,
   "metadata": {},
   "outputs": [
    {
     "name": "stdout",
     "output_type": "stream",
     "text": [
      "Fitting 4 folds for each of 60 candidates, totalling 240 fits\n",
      "Best parameters found:  {'learning_rate': 0.01, 'max_depth': 4, 'n_estimators': 200, 'subsample': 0.9}\n",
      "Lowest RMSE found:  597.3664681900846\n"
     ]
    }
   ],
   "source": [
    "\n",
    "from sklearn.model_selection import GridSearchCV\n",
    "\n",
    "\n",
    "gbm_param_grid ={\n",
    "'learning_rate': [0.01, 0.1, 0.5, 0.9],\n",
    "'n_estimators': [200],\n",
    "'subsample': [0.3, 0.5, 0.9],\n",
    "'max_depth': [4, 5, 6, 7, 8]\n",
    "}\n",
    "\n",
    "gbm = xgb.XGBRegressor(enable_categorical=True)\n",
    "\n",
    "grid_mse = GridSearchCV(estimator=gbm, param_grid=gbm_param_grid, scoring='neg_mean_squared_error', cv=4, verbose=1)\n",
    "\n",
    "grid_mse.fit(X,y)\n",
    "\n",
    "print(\"Best parameters found: \", grid_mse.best_params_)\n",
    "print(\"Lowest RMSE found: \", np.sqrt(np.abs(grid_mse.best_score_)))"
   ]
  }
 ],
 "metadata": {
  "colab": {
   "authorship_tag": "ABX9TyMZVw6CLCPZW6nlcCC+EMHV",
   "include_colab_link": true,
   "provenance": []
  },
  "kernelspec": {
   "display_name": "Python 3 (ipykernel)",
   "language": "python",
   "name": "python3"
  },
  "language_info": {
   "codemirror_mode": {
    "name": "ipython",
    "version": 3
   },
   "file_extension": ".py",
   "mimetype": "text/x-python",
   "name": "python",
   "nbconvert_exporter": "python",
   "pygments_lexer": "ipython3",
   "version": "3.9.17"
  }
 },
 "nbformat": 4,
 "nbformat_minor": 1
}
