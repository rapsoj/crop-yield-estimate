{
 "cells": [
  {
   "cell_type": "markdown",
   "metadata": {
    "colab_type": "text",
    "id": "view-in-github"
   },
   "source": [
    "<a href=\"https://colab.research.google.com/github/rapsoj/crop-yield-estimate/blob/main/01.02-feature-engineering.ipynb\" target=\"_parent\"><img src=\"https://colab.research.google.com/assets/colab-badge.svg\" alt=\"Open In Colab\"/></a>"
   ]
  },
  {
   "cell_type": "markdown",
   "metadata": {
    "id": "p4rrXkUXhyaa"
   },
   "source": [
    "# 03.01 XGBoost\n",
    "Building the XGBoost model for the Digital Green Crop Yield Estimate Challenge."
   ]
  },
  {
   "cell_type": "markdown",
   "metadata": {
    "id": "caYh8zAph9VW"
   },
   "source": [
    "### Prepare Workspace"
   ]
  },
  {
   "cell_type": "code",
   "execution_count": 1,
   "metadata": {
    "colab": {
     "base_uri": "https://localhost:8080/"
    },
    "id": "0ZkR4S3jheu0",
    "outputId": "da4df375-3672-449f-fc36-77dded2c9bf3"
   },
   "outputs": [
    {
     "ename": "ModuleNotFoundError",
     "evalue": "No module named 'google.colab'",
     "output_type": "error",
     "traceback": [
      "\u001b[0;31m---------------------------------------------------------------------------\u001b[0m",
      "\u001b[0;31mModuleNotFoundError\u001b[0m                       Traceback (most recent call last)",
      "\u001b[1;32m/home/shaw/crop-yield-estimate/03-model-building/03.01-xgboost.ipynb Cell 4\u001b[0m line \u001b[0;36m2\n\u001b[1;32m      <a href='vscode-notebook-cell:/home/shaw/crop-yield-estimate/03-model-building/03.01-xgboost.ipynb#W3sZmlsZQ%3D%3D?line=0'>1</a>\u001b[0m \u001b[39m# Mount Google Drive\u001b[39;00m\n\u001b[0;32m----> <a href='vscode-notebook-cell:/home/shaw/crop-yield-estimate/03-model-building/03.01-xgboost.ipynb#W3sZmlsZQ%3D%3D?line=1'>2</a>\u001b[0m \u001b[39mfrom\u001b[39;00m \u001b[39mgoogle\u001b[39;00m\u001b[39m.\u001b[39;00m\u001b[39mcolab\u001b[39;00m \u001b[39mimport\u001b[39;00m drive\n\u001b[1;32m      <a href='vscode-notebook-cell:/home/shaw/crop-yield-estimate/03-model-building/03.01-xgboost.ipynb#W3sZmlsZQ%3D%3D?line=2'>3</a>\u001b[0m drive\u001b[39m.\u001b[39mmount(\u001b[39m'\u001b[39m\u001b[39m/content/drive\u001b[39m\u001b[39m'\u001b[39m)\n",
      "\u001b[0;31mModuleNotFoundError\u001b[0m: No module named 'google.colab'"
     ]
    }
   ],
   "source": [
    "# Mount Google Drive\n",
    "from google.colab import drive\n",
    "drive.mount('/content/drive')"
   ]
  },
  {
   "cell_type": "code",
   "execution_count": null,
   "metadata": {
    "id": "wNHY8NHIhj5o"
   },
   "outputs": [],
   "source": [
    "# Import data manipulation libraries\n",
    "import pandas as pd\n",
    "import numpy as np"
   ]
  },
  {
   "cell_type": "code",
   "execution_count": null,
   "metadata": {
    "id": "OH5-4qQShqZ7"
   },
   "outputs": [],
   "source": [
    "# Load files\n",
    "data_path = '/content/drive/MyDrive/Colab Notebooks/crop-yield-estimate/'\n",
    "train = pd.read_csv(data_path + 'Train.csv')\n",
    "test = pd.read_csv(data_path + 'Test.csv')\n",
    "var_desc = pd.read_csv(data_path + 'VariableDescription.csv')"
   ]
  },
  {
   "cell_type": "markdown",
   "metadata": {},
   "source": [
    "### Prepare Workspace Locally"
   ]
  },
  {
   "cell_type": "code",
   "execution_count": 2,
   "metadata": {},
   "outputs": [],
   "source": [
    "import pandas as pd\n",
    "import numpy as np"
   ]
  },
  {
   "cell_type": "code",
   "execution_count": 14,
   "metadata": {},
   "outputs": [
    {
     "ename": "FileNotFoundError",
     "evalue": "[Errno 2] No such file or directory: '/crop-yield-estimate/data/Train.csv'",
     "output_type": "error",
     "traceback": [
      "\u001b[0;31m---------------------------------------------------------------------------\u001b[0m",
      "\u001b[0;31mFileNotFoundError\u001b[0m                         Traceback (most recent call last)",
      "\u001b[1;32m/home/shaw/crop-yield-estimate/03-model-building/03.01-xgboost.ipynb Cell 9\u001b[0m line \u001b[0;36m2\n\u001b[1;32m      <a href='vscode-notebook-cell:/home/shaw/crop-yield-estimate/03-model-building/03.01-xgboost.ipynb#X11sZmlsZQ%3D%3D?line=0'>1</a>\u001b[0m data_path \u001b[39m=\u001b[39m \u001b[39m'\u001b[39m\u001b[39m/crop-yield-estimate/data/\u001b[39m\u001b[39m'\u001b[39m\n\u001b[0;32m----> <a href='vscode-notebook-cell:/home/shaw/crop-yield-estimate/03-model-building/03.01-xgboost.ipynb#X11sZmlsZQ%3D%3D?line=1'>2</a>\u001b[0m train \u001b[39m=\u001b[39m pd\u001b[39m.\u001b[39;49mread_csv(data_path \u001b[39m+\u001b[39;49m \u001b[39m'\u001b[39;49m\u001b[39mTrain.csv\u001b[39;49m\u001b[39m'\u001b[39;49m)\n\u001b[1;32m      <a href='vscode-notebook-cell:/home/shaw/crop-yield-estimate/03-model-building/03.01-xgboost.ipynb#X11sZmlsZQ%3D%3D?line=2'>3</a>\u001b[0m test \u001b[39m=\u001b[39m pd\u001b[39m.\u001b[39mread_csv(data_path \u001b[39m+\u001b[39m \u001b[39m'\u001b[39m\u001b[39mTest.csv\u001b[39m\u001b[39m'\u001b[39m)\n\u001b[1;32m      <a href='vscode-notebook-cell:/home/shaw/crop-yield-estimate/03-model-building/03.01-xgboost.ipynb#X11sZmlsZQ%3D%3D?line=3'>4</a>\u001b[0m var_desc \u001b[39m=\u001b[39m pd\u001b[39m.\u001b[39mread_csv(data_path \u001b[39m+\u001b[39m \u001b[39m'\u001b[39m\u001b[39mVariableDescription.csv\u001b[39m\u001b[39m'\u001b[39m)\n",
      "File \u001b[0;32m~/miniconda3/envs/ML/lib/python3.9/site-packages/pandas/io/parsers/readers.py:912\u001b[0m, in \u001b[0;36mread_csv\u001b[0;34m(filepath_or_buffer, sep, delimiter, header, names, index_col, usecols, dtype, engine, converters, true_values, false_values, skipinitialspace, skiprows, skipfooter, nrows, na_values, keep_default_na, na_filter, verbose, skip_blank_lines, parse_dates, infer_datetime_format, keep_date_col, date_parser, date_format, dayfirst, cache_dates, iterator, chunksize, compression, thousands, decimal, lineterminator, quotechar, quoting, doublequote, escapechar, comment, encoding, encoding_errors, dialect, on_bad_lines, delim_whitespace, low_memory, memory_map, float_precision, storage_options, dtype_backend)\u001b[0m\n\u001b[1;32m    899\u001b[0m kwds_defaults \u001b[39m=\u001b[39m _refine_defaults_read(\n\u001b[1;32m    900\u001b[0m     dialect,\n\u001b[1;32m    901\u001b[0m     delimiter,\n\u001b[0;32m   (...)\u001b[0m\n\u001b[1;32m    908\u001b[0m     dtype_backend\u001b[39m=\u001b[39mdtype_backend,\n\u001b[1;32m    909\u001b[0m )\n\u001b[1;32m    910\u001b[0m kwds\u001b[39m.\u001b[39mupdate(kwds_defaults)\n\u001b[0;32m--> 912\u001b[0m \u001b[39mreturn\u001b[39;00m _read(filepath_or_buffer, kwds)\n",
      "File \u001b[0;32m~/miniconda3/envs/ML/lib/python3.9/site-packages/pandas/io/parsers/readers.py:577\u001b[0m, in \u001b[0;36m_read\u001b[0;34m(filepath_or_buffer, kwds)\u001b[0m\n\u001b[1;32m    574\u001b[0m _validate_names(kwds\u001b[39m.\u001b[39mget(\u001b[39m\"\u001b[39m\u001b[39mnames\u001b[39m\u001b[39m\"\u001b[39m, \u001b[39mNone\u001b[39;00m))\n\u001b[1;32m    576\u001b[0m \u001b[39m# Create the parser.\u001b[39;00m\n\u001b[0;32m--> 577\u001b[0m parser \u001b[39m=\u001b[39m TextFileReader(filepath_or_buffer, \u001b[39m*\u001b[39;49m\u001b[39m*\u001b[39;49mkwds)\n\u001b[1;32m    579\u001b[0m \u001b[39mif\u001b[39;00m chunksize \u001b[39mor\u001b[39;00m iterator:\n\u001b[1;32m    580\u001b[0m     \u001b[39mreturn\u001b[39;00m parser\n",
      "File \u001b[0;32m~/miniconda3/envs/ML/lib/python3.9/site-packages/pandas/io/parsers/readers.py:1407\u001b[0m, in \u001b[0;36mTextFileReader.__init__\u001b[0;34m(self, f, engine, **kwds)\u001b[0m\n\u001b[1;32m   1404\u001b[0m     \u001b[39mself\u001b[39m\u001b[39m.\u001b[39moptions[\u001b[39m\"\u001b[39m\u001b[39mhas_index_names\u001b[39m\u001b[39m\"\u001b[39m] \u001b[39m=\u001b[39m kwds[\u001b[39m\"\u001b[39m\u001b[39mhas_index_names\u001b[39m\u001b[39m\"\u001b[39m]\n\u001b[1;32m   1406\u001b[0m \u001b[39mself\u001b[39m\u001b[39m.\u001b[39mhandles: IOHandles \u001b[39m|\u001b[39m \u001b[39mNone\u001b[39;00m \u001b[39m=\u001b[39m \u001b[39mNone\u001b[39;00m\n\u001b[0;32m-> 1407\u001b[0m \u001b[39mself\u001b[39m\u001b[39m.\u001b[39m_engine \u001b[39m=\u001b[39m \u001b[39mself\u001b[39;49m\u001b[39m.\u001b[39;49m_make_engine(f, \u001b[39mself\u001b[39;49m\u001b[39m.\u001b[39;49mengine)\n",
      "File \u001b[0;32m~/miniconda3/envs/ML/lib/python3.9/site-packages/pandas/io/parsers/readers.py:1661\u001b[0m, in \u001b[0;36mTextFileReader._make_engine\u001b[0;34m(self, f, engine)\u001b[0m\n\u001b[1;32m   1659\u001b[0m     \u001b[39mif\u001b[39;00m \u001b[39m\"\u001b[39m\u001b[39mb\u001b[39m\u001b[39m\"\u001b[39m \u001b[39mnot\u001b[39;00m \u001b[39min\u001b[39;00m mode:\n\u001b[1;32m   1660\u001b[0m         mode \u001b[39m+\u001b[39m\u001b[39m=\u001b[39m \u001b[39m\"\u001b[39m\u001b[39mb\u001b[39m\u001b[39m\"\u001b[39m\n\u001b[0;32m-> 1661\u001b[0m \u001b[39mself\u001b[39m\u001b[39m.\u001b[39mhandles \u001b[39m=\u001b[39m get_handle(\n\u001b[1;32m   1662\u001b[0m     f,\n\u001b[1;32m   1663\u001b[0m     mode,\n\u001b[1;32m   1664\u001b[0m     encoding\u001b[39m=\u001b[39;49m\u001b[39mself\u001b[39;49m\u001b[39m.\u001b[39;49moptions\u001b[39m.\u001b[39;49mget(\u001b[39m\"\u001b[39;49m\u001b[39mencoding\u001b[39;49m\u001b[39m\"\u001b[39;49m, \u001b[39mNone\u001b[39;49;00m),\n\u001b[1;32m   1665\u001b[0m     compression\u001b[39m=\u001b[39;49m\u001b[39mself\u001b[39;49m\u001b[39m.\u001b[39;49moptions\u001b[39m.\u001b[39;49mget(\u001b[39m\"\u001b[39;49m\u001b[39mcompression\u001b[39;49m\u001b[39m\"\u001b[39;49m, \u001b[39mNone\u001b[39;49;00m),\n\u001b[1;32m   1666\u001b[0m     memory_map\u001b[39m=\u001b[39;49m\u001b[39mself\u001b[39;49m\u001b[39m.\u001b[39;49moptions\u001b[39m.\u001b[39;49mget(\u001b[39m\"\u001b[39;49m\u001b[39mmemory_map\u001b[39;49m\u001b[39m\"\u001b[39;49m, \u001b[39mFalse\u001b[39;49;00m),\n\u001b[1;32m   1667\u001b[0m     is_text\u001b[39m=\u001b[39;49mis_text,\n\u001b[1;32m   1668\u001b[0m     errors\u001b[39m=\u001b[39;49m\u001b[39mself\u001b[39;49m\u001b[39m.\u001b[39;49moptions\u001b[39m.\u001b[39;49mget(\u001b[39m\"\u001b[39;49m\u001b[39mencoding_errors\u001b[39;49m\u001b[39m\"\u001b[39;49m, \u001b[39m\"\u001b[39;49m\u001b[39mstrict\u001b[39;49m\u001b[39m\"\u001b[39;49m),\n\u001b[1;32m   1669\u001b[0m     storage_options\u001b[39m=\u001b[39;49m\u001b[39mself\u001b[39;49m\u001b[39m.\u001b[39;49moptions\u001b[39m.\u001b[39;49mget(\u001b[39m\"\u001b[39;49m\u001b[39mstorage_options\u001b[39;49m\u001b[39m\"\u001b[39;49m, \u001b[39mNone\u001b[39;49;00m),\n\u001b[1;32m   1670\u001b[0m )\n\u001b[1;32m   1671\u001b[0m \u001b[39massert\u001b[39;00m \u001b[39mself\u001b[39m\u001b[39m.\u001b[39mhandles \u001b[39mis\u001b[39;00m \u001b[39mnot\u001b[39;00m \u001b[39mNone\u001b[39;00m\n\u001b[1;32m   1672\u001b[0m f \u001b[39m=\u001b[39m \u001b[39mself\u001b[39m\u001b[39m.\u001b[39mhandles\u001b[39m.\u001b[39mhandle\n",
      "File \u001b[0;32m~/miniconda3/envs/ML/lib/python3.9/site-packages/pandas/io/common.py:859\u001b[0m, in \u001b[0;36mget_handle\u001b[0;34m(path_or_buf, mode, encoding, compression, memory_map, is_text, errors, storage_options)\u001b[0m\n\u001b[1;32m    854\u001b[0m \u001b[39melif\u001b[39;00m \u001b[39misinstance\u001b[39m(handle, \u001b[39mstr\u001b[39m):\n\u001b[1;32m    855\u001b[0m     \u001b[39m# Check whether the filename is to be opened in binary mode.\u001b[39;00m\n\u001b[1;32m    856\u001b[0m     \u001b[39m# Binary mode does not support 'encoding' and 'newline'.\u001b[39;00m\n\u001b[1;32m    857\u001b[0m     \u001b[39mif\u001b[39;00m ioargs\u001b[39m.\u001b[39mencoding \u001b[39mand\u001b[39;00m \u001b[39m\"\u001b[39m\u001b[39mb\u001b[39m\u001b[39m\"\u001b[39m \u001b[39mnot\u001b[39;00m \u001b[39min\u001b[39;00m ioargs\u001b[39m.\u001b[39mmode:\n\u001b[1;32m    858\u001b[0m         \u001b[39m# Encoding\u001b[39;00m\n\u001b[0;32m--> 859\u001b[0m         handle \u001b[39m=\u001b[39m \u001b[39mopen\u001b[39;49m(\n\u001b[1;32m    860\u001b[0m             handle,\n\u001b[1;32m    861\u001b[0m             ioargs\u001b[39m.\u001b[39;49mmode,\n\u001b[1;32m    862\u001b[0m             encoding\u001b[39m=\u001b[39;49mioargs\u001b[39m.\u001b[39;49mencoding,\n\u001b[1;32m    863\u001b[0m             errors\u001b[39m=\u001b[39;49merrors,\n\u001b[1;32m    864\u001b[0m             newline\u001b[39m=\u001b[39;49m\u001b[39m\"\u001b[39;49m\u001b[39m\"\u001b[39;49m,\n\u001b[1;32m    865\u001b[0m         )\n\u001b[1;32m    866\u001b[0m     \u001b[39melse\u001b[39;00m:\n\u001b[1;32m    867\u001b[0m         \u001b[39m# Binary mode\u001b[39;00m\n\u001b[1;32m    868\u001b[0m         handle \u001b[39m=\u001b[39m \u001b[39mopen\u001b[39m(handle, ioargs\u001b[39m.\u001b[39mmode)\n",
      "\u001b[0;31mFileNotFoundError\u001b[0m: [Errno 2] No such file or directory: '/crop-yield-estimate/data/Train.csv'"
     ]
    }
   ],
   "source": [
    "data_path = '/crop-yield-estimate/data/'\n",
    "train = pd.read_csv(data_path + 'Train.csv')\n",
    "test = pd.read_csv(data_path + 'Test.csv')\n",
    "var_desc = pd.read_csv(data_path + 'VariableDescription.csv')\n"
   ]
  },
  {
   "cell_type": "code",
   "execution_count": null,
   "metadata": {},
   "outputs": [
    {
     "data": {
      "text/html": [
       "<div>\n",
       "<style scoped>\n",
       "    .dataframe tbody tr th:only-of-type {\n",
       "        vertical-align: middle;\n",
       "    }\n",
       "\n",
       "    .dataframe tbody tr th {\n",
       "        vertical-align: top;\n",
       "    }\n",
       "\n",
       "    .dataframe thead th {\n",
       "        text-align: right;\n",
       "    }\n",
       "</style>\n",
       "<table border=\"1\" class=\"dataframe\">\n",
       "  <thead>\n",
       "    <tr style=\"text-align: right;\">\n",
       "      <th></th>\n",
       "      <th>ID</th>\n",
       "      <th>District</th>\n",
       "      <th>Block</th>\n",
       "      <th>CultLand</th>\n",
       "      <th>CropCultLand</th>\n",
       "      <th>LandPreparationMethod</th>\n",
       "      <th>CropTillageDate</th>\n",
       "      <th>CropTillageDepth</th>\n",
       "      <th>CropEstMethod</th>\n",
       "      <th>RcNursEstDate</th>\n",
       "      <th>...</th>\n",
       "      <th>Harv_method</th>\n",
       "      <th>Harv_date</th>\n",
       "      <th>Harv_hand_rent</th>\n",
       "      <th>Threshing_date</th>\n",
       "      <th>Threshing_method</th>\n",
       "      <th>Residue_length</th>\n",
       "      <th>Residue_perc</th>\n",
       "      <th>Stubble_use</th>\n",
       "      <th>Acre</th>\n",
       "      <th>Yield</th>\n",
       "    </tr>\n",
       "  </thead>\n",
       "  <tbody>\n",
       "    <tr>\n",
       "      <th>0</th>\n",
       "      <td>ID_GTFAC7PEVWQ9</td>\n",
       "      <td>Nalanda</td>\n",
       "      <td>Noorsarai</td>\n",
       "      <td>45</td>\n",
       "      <td>40</td>\n",
       "      <td>TractorPlough FourWheelTracRotavator</td>\n",
       "      <td>2022-07-20</td>\n",
       "      <td>5</td>\n",
       "      <td>Manual_PuddledRandom</td>\n",
       "      <td>2022-06-27</td>\n",
       "      <td>...</td>\n",
       "      <td>machine</td>\n",
       "      <td>2022-11-16</td>\n",
       "      <td>NaN</td>\n",
       "      <td>2022-11-16</td>\n",
       "      <td>machine</td>\n",
       "      <td>30</td>\n",
       "      <td>40</td>\n",
       "      <td>plowed_in_soil</td>\n",
       "      <td>0.312500</td>\n",
       "      <td>600</td>\n",
       "    </tr>\n",
       "    <tr>\n",
       "      <th>1</th>\n",
       "      <td>ID_TK40ARLSPOKS</td>\n",
       "      <td>Nalanda</td>\n",
       "      <td>Rajgir</td>\n",
       "      <td>26</td>\n",
       "      <td>26</td>\n",
       "      <td>WetTillagePuddling TractorPlough FourWheelTrac...</td>\n",
       "      <td>2022-07-18</td>\n",
       "      <td>5</td>\n",
       "      <td>Manual_PuddledRandom</td>\n",
       "      <td>2022-06-20</td>\n",
       "      <td>...</td>\n",
       "      <td>hand</td>\n",
       "      <td>2022-11-25</td>\n",
       "      <td>3.0</td>\n",
       "      <td>2022-12-24</td>\n",
       "      <td>machine</td>\n",
       "      <td>24</td>\n",
       "      <td>10</td>\n",
       "      <td>plowed_in_soil</td>\n",
       "      <td>0.312500</td>\n",
       "      <td>600</td>\n",
       "    </tr>\n",
       "    <tr>\n",
       "      <th>2</th>\n",
       "      <td>ID_1FJY2CRIMLZZ</td>\n",
       "      <td>Gaya</td>\n",
       "      <td>Gurua</td>\n",
       "      <td>10</td>\n",
       "      <td>10</td>\n",
       "      <td>TractorPlough FourWheelTracRotavator</td>\n",
       "      <td>2022-06-30</td>\n",
       "      <td>6</td>\n",
       "      <td>Manual_PuddledRandom</td>\n",
       "      <td>2022-06-20</td>\n",
       "      <td>...</td>\n",
       "      <td>hand</td>\n",
       "      <td>2022-12-12</td>\n",
       "      <td>480.0</td>\n",
       "      <td>2023-01-11</td>\n",
       "      <td>machine</td>\n",
       "      <td>30</td>\n",
       "      <td>10</td>\n",
       "      <td>plowed_in_soil</td>\n",
       "      <td>0.148148</td>\n",
       "      <td>225</td>\n",
       "    </tr>\n",
       "    <tr>\n",
       "      <th>3</th>\n",
       "      <td>ID_I3IPXS4DB7NE</td>\n",
       "      <td>Gaya</td>\n",
       "      <td>Gurua</td>\n",
       "      <td>15</td>\n",
       "      <td>15</td>\n",
       "      <td>TractorPlough FourWheelTracRotavator</td>\n",
       "      <td>2022-06-16</td>\n",
       "      <td>6</td>\n",
       "      <td>Manual_PuddledRandom</td>\n",
       "      <td>2022-06-17</td>\n",
       "      <td>...</td>\n",
       "      <td>hand</td>\n",
       "      <td>2022-12-02</td>\n",
       "      <td>240.0</td>\n",
       "      <td>2022-12-29</td>\n",
       "      <td>hand</td>\n",
       "      <td>26</td>\n",
       "      <td>10</td>\n",
       "      <td>plowed_in_soil</td>\n",
       "      <td>0.222222</td>\n",
       "      <td>468</td>\n",
       "    </tr>\n",
       "    <tr>\n",
       "      <th>4</th>\n",
       "      <td>ID_4T8YQWXWHB4A</td>\n",
       "      <td>Nalanda</td>\n",
       "      <td>Noorsarai</td>\n",
       "      <td>60</td>\n",
       "      <td>60</td>\n",
       "      <td>TractorPlough WetTillagePuddling</td>\n",
       "      <td>2022-07-19</td>\n",
       "      <td>4</td>\n",
       "      <td>Manual_PuddledRandom</td>\n",
       "      <td>2022-06-21</td>\n",
       "      <td>...</td>\n",
       "      <td>machine</td>\n",
       "      <td>2022-11-30</td>\n",
       "      <td>NaN</td>\n",
       "      <td>2022-12-02</td>\n",
       "      <td>machine</td>\n",
       "      <td>24</td>\n",
       "      <td>40</td>\n",
       "      <td>plowed_in_soil</td>\n",
       "      <td>0.468750</td>\n",
       "      <td>550</td>\n",
       "    </tr>\n",
       "  </tbody>\n",
       "</table>\n",
       "<p>5 rows × 44 columns</p>\n",
       "</div>"
      ],
      "text/plain": [
       "                ID District      Block  CultLand  CropCultLand  \\\n",
       "0  ID_GTFAC7PEVWQ9  Nalanda  Noorsarai        45            40   \n",
       "1  ID_TK40ARLSPOKS  Nalanda     Rajgir        26            26   \n",
       "2  ID_1FJY2CRIMLZZ     Gaya      Gurua        10            10   \n",
       "3  ID_I3IPXS4DB7NE     Gaya      Gurua        15            15   \n",
       "4  ID_4T8YQWXWHB4A  Nalanda  Noorsarai        60            60   \n",
       "\n",
       "                               LandPreparationMethod CropTillageDate  \\\n",
       "0               TractorPlough FourWheelTracRotavator      2022-07-20   \n",
       "1  WetTillagePuddling TractorPlough FourWheelTrac...      2022-07-18   \n",
       "2               TractorPlough FourWheelTracRotavator      2022-06-30   \n",
       "3               TractorPlough FourWheelTracRotavator      2022-06-16   \n",
       "4                   TractorPlough WetTillagePuddling      2022-07-19   \n",
       "\n",
       "   CropTillageDepth         CropEstMethod RcNursEstDate  ... Harv_method  \\\n",
       "0                 5  Manual_PuddledRandom    2022-06-27  ...     machine   \n",
       "1                 5  Manual_PuddledRandom    2022-06-20  ...        hand   \n",
       "2                 6  Manual_PuddledRandom    2022-06-20  ...        hand   \n",
       "3                 6  Manual_PuddledRandom    2022-06-17  ...        hand   \n",
       "4                 4  Manual_PuddledRandom    2022-06-21  ...     machine   \n",
       "\n",
       "    Harv_date Harv_hand_rent Threshing_date  Threshing_method Residue_length  \\\n",
       "0  2022-11-16            NaN     2022-11-16           machine             30   \n",
       "1  2022-11-25            3.0     2022-12-24           machine             24   \n",
       "2  2022-12-12          480.0     2023-01-11           machine             30   \n",
       "3  2022-12-02          240.0     2022-12-29              hand             26   \n",
       "4  2022-11-30            NaN     2022-12-02           machine             24   \n",
       "\n",
       "  Residue_perc     Stubble_use      Acre Yield  \n",
       "0           40  plowed_in_soil  0.312500   600  \n",
       "1           10  plowed_in_soil  0.312500   600  \n",
       "2           10  plowed_in_soil  0.148148   225  \n",
       "3           10  plowed_in_soil  0.222222   468  \n",
       "4           40  plowed_in_soil  0.468750   550  \n",
       "\n",
       "[5 rows x 44 columns]"
      ]
     },
     "execution_count": 5,
     "metadata": {},
     "output_type": "execute_result"
    }
   ],
   "source": [
    "train.head()"
   ]
  },
  {
   "cell_type": "code",
   "execution_count": null,
   "metadata": {},
   "outputs": [
    {
     "name": "stdout",
     "output_type": "stream",
     "text": [
      "0\n"
     ]
    }
   ],
   "source": [
    "count = len(train[train['CultLand'] < train['CropCultLand']])\n",
    "print(count)\n"
   ]
  },
  {
   "cell_type": "code",
   "execution_count": null,
   "metadata": {},
   "outputs": [
    {
     "name": "stdout",
     "output_type": "stream",
     "text": [
      "1616\n"
     ]
    }
   ],
   "source": [
    "count = len(train[train['CultLand'] > train['CropCultLand']])\n",
    "print(count)\n"
   ]
  },
  {
   "cell_type": "code",
   "execution_count": 4,
   "metadata": {},
   "outputs": [
    {
     "ename": "NameError",
     "evalue": "name 'train' is not defined",
     "output_type": "error",
     "traceback": [
      "\u001b[0;31m---------------------------------------------------------------------------\u001b[0m",
      "\u001b[0;31mNameError\u001b[0m                                 Traceback (most recent call last)",
      "\u001b[1;32m/home/shaw/crop-yield-estimate/03-model-building/03.01-xgboost.ipynb Cell 13\u001b[0m line \u001b[0;36m2\n\u001b[1;32m      <a href='vscode-notebook-cell:/home/shaw/crop-yield-estimate/03-model-building/03.01-xgboost.ipynb#X15sZmlsZQ%3D%3D?line=0'>1</a>\u001b[0m \u001b[39m# Calculate the correlation between CultLand and Acre columns\u001b[39;00m\n\u001b[0;32m----> <a href='vscode-notebook-cell:/home/shaw/crop-yield-estimate/03-model-building/03.01-xgboost.ipynb#X15sZmlsZQ%3D%3D?line=1'>2</a>\u001b[0m corr_cultland \u001b[39m=\u001b[39m train[\u001b[39m'\u001b[39m\u001b[39mCultLand\u001b[39m\u001b[39m'\u001b[39m]\u001b[39m.\u001b[39mcorr(train[\u001b[39m'\u001b[39m\u001b[39mAcre\u001b[39m\u001b[39m'\u001b[39m])\n\u001b[1;32m      <a href='vscode-notebook-cell:/home/shaw/crop-yield-estimate/03-model-building/03.01-xgboost.ipynb#X15sZmlsZQ%3D%3D?line=3'>4</a>\u001b[0m \u001b[39m# Calculate the correlation between CropCultLand and Acre columns\u001b[39;00m\n\u001b[1;32m      <a href='vscode-notebook-cell:/home/shaw/crop-yield-estimate/03-model-building/03.01-xgboost.ipynb#X15sZmlsZQ%3D%3D?line=4'>5</a>\u001b[0m corr_cropcultland \u001b[39m=\u001b[39m train[\u001b[39m'\u001b[39m\u001b[39mCropCultLand\u001b[39m\u001b[39m'\u001b[39m]\u001b[39m.\u001b[39mcorr(train[\u001b[39m'\u001b[39m\u001b[39mAcre\u001b[39m\u001b[39m'\u001b[39m])\n",
      "\u001b[0;31mNameError\u001b[0m: name 'train' is not defined"
     ]
    }
   ],
   "source": [
    "\n",
    "# Calculate the correlation between CultLand and Acre columns\n",
    "corr_cultland = train['CultLand'].corr(train['Acre'])\n",
    "\n",
    "# Calculate the correlation between CropCultLand and Acre columns\n",
    "corr_cropcultland = train['CropCultLand'].corr(train['Acre'])\n",
    "\n",
    "print(corr_cultland)\n",
    "print(corr_cropcultland)\n",
    "\n"
   ]
  },
  {
   "cell_type": "code",
   "execution_count": 5,
   "metadata": {},
   "outputs": [
    {
     "ename": "NameError",
     "evalue": "name 'train' is not defined",
     "output_type": "error",
     "traceback": [
      "\u001b[0;31m---------------------------------------------------------------------------\u001b[0m",
      "\u001b[0;31mNameError\u001b[0m                                 Traceback (most recent call last)",
      "\u001b[1;32m/home/shaw/crop-yield-estimate/03-model-building/03.01-xgboost.ipynb Cell 14\u001b[0m line \u001b[0;36m2\n\u001b[1;32m      <a href='vscode-notebook-cell:/home/shaw/crop-yield-estimate/03-model-building/03.01-xgboost.ipynb#X16sZmlsZQ%3D%3D?line=0'>1</a>\u001b[0m \u001b[39m# How many missing numbers are there?\u001b[39;00m\n\u001b[0;32m----> <a href='vscode-notebook-cell:/home/shaw/crop-yield-estimate/03-model-building/03.01-xgboost.ipynb#X16sZmlsZQ%3D%3D?line=1'>2</a>\u001b[0m train\u001b[39m.\u001b[39misnull()\u001b[39m.\u001b[39msum()\n",
      "\u001b[0;31mNameError\u001b[0m: name 'train' is not defined"
     ]
    }
   ],
   "source": [
    "# How many missing numbers are there?\n",
    "train.isnull().sum()"
   ]
  },
  {
   "cell_type": "code",
   "execution_count": null,
   "metadata": {},
   "outputs": [
    {
     "data": {
      "text/plain": [
       "ID                                     0.000000\n",
       "District                               0.000000\n",
       "Block                                  0.000000\n",
       "CultLand                               0.000000\n",
       "CropCultLand                           0.000000\n",
       "LandPreparationMethod                  0.000000\n",
       "CropTillageDate                        0.000000\n",
       "CropTillageDepth                       0.000000\n",
       "CropEstMethod                          0.000000\n",
       "RcNursEstDate                          2.144703\n",
       "SeedingSowingTransplanting             0.000000\n",
       "SeedlingsPerPit                        7.467700\n",
       "NursDetFactor                          7.467700\n",
       "TransDetFactor                         7.467700\n",
       "TransplantingIrrigationHours           4.987080\n",
       "TransplantingIrrigationSource          2.971576\n",
       "TransplantingIrrigationPowerSource    12.997416\n",
       "TransIrriCost                         22.790698\n",
       "StandingWater                          6.149871\n",
       "OrgFertilizers                        34.496124\n",
       "Ganaura                               62.454780\n",
       "CropOrgFYM                            69.095607\n",
       "PCropSolidOrgFertAppMethod            34.547804\n",
       "NoFertilizerAppln                      0.000000\n",
       "CropbasalFerts                         4.857881\n",
       "BasalDAP                              14.031008\n",
       "BasalUrea                             44.031008\n",
       "MineralFertAppMethod                   0.000000\n",
       "FirstTopDressFert                     12.532300\n",
       "1tdUrea                               14.366925\n",
       "1appDaysUrea                          14.366925\n",
       "2tdUrea                               69.612403\n",
       "2appDaysUrea                          69.767442\n",
       "MineralFertAppMethod.1                12.428941\n",
       "Harv_method                            0.000000\n",
       "Harv_date                              0.000000\n",
       "Harv_hand_rent                         6.511628\n",
       "Threshing_date                         0.000000\n",
       "Threshing_method                       0.000000\n",
       "Residue_length                         0.000000\n",
       "Residue_perc                           0.000000\n",
       "Stubble_use                            0.000000\n",
       "Acre                                   0.000000\n",
       "Yield                                  0.000000\n",
       "dtype: float64"
      ]
     },
     "execution_count": 11,
     "metadata": {},
     "output_type": "execute_result"
    }
   ],
   "source": [
    "# Calculate percentage of missing values in each column\n",
    "train.isnull().sum() / len(train) * 100"
   ]
  },
  {
   "cell_type": "markdown",
   "metadata": {
    "id": "4JzmjVDAiBVJ"
   },
   "source": [
    "### Perform Feature Engineering"
   ]
  },
  {
   "cell_type": "code",
   "execution_count": 6,
   "metadata": {
    "id": "C5OGwH7khwBB"
   },
   "outputs": [
    {
     "ename": "NameError",
     "evalue": "name 'train' is not defined",
     "output_type": "error",
     "traceback": [
      "\u001b[0;31m---------------------------------------------------------------------------\u001b[0m",
      "\u001b[0;31mNameError\u001b[0m                                 Traceback (most recent call last)",
      "\u001b[1;32m/home/shaw/crop-yield-estimate/03-model-building/03.01-xgboost.ipynb Cell 17\u001b[0m line \u001b[0;36m2\n\u001b[1;32m      <a href='vscode-notebook-cell:/home/shaw/crop-yield-estimate/03-model-building/03.01-xgboost.ipynb#X22sZmlsZQ%3D%3D?line=0'>1</a>\u001b[0m \u001b[39m# Create feature for yield per acre 'Yield_per_Acre'\u001b[39;00m\n\u001b[0;32m----> <a href='vscode-notebook-cell:/home/shaw/crop-yield-estimate/03-model-building/03.01-xgboost.ipynb#X22sZmlsZQ%3D%3D?line=1'>2</a>\u001b[0m train[\u001b[39m'\u001b[39m\u001b[39mYield_per_Acre\u001b[39m\u001b[39m'\u001b[39m] \u001b[39m=\u001b[39m train[\u001b[39m'\u001b[39m\u001b[39mYield\u001b[39m\u001b[39m'\u001b[39m] \u001b[39m/\u001b[39m train[\u001b[39m'\u001b[39m\u001b[39mAcre\u001b[39m\u001b[39m'\u001b[39m]\n",
      "\u001b[0;31mNameError\u001b[0m: name 'train' is not defined"
     ]
    }
   ],
   "source": [
    "# Create feature for yield per acre 'Yield_per_Acre'\n",
    "train['Yield_per_Acre'] = train['Yield'] / train['Acre']"
   ]
  },
  {
   "cell_type": "code",
   "execution_count": null,
   "metadata": {
    "id": "o5Ru1fI2ivLx"
   },
   "outputs": [],
   "source": [
    "# Create feature for past month yield per acre 'Past_Yield_per_Acre'\n",
    "train['Harv_date'] = pd.to_datetime(train['Harv_date'])\n",
    "train.sort_values(['District', 'Harv_date'], inplace=True)\n",
    "\n",
    "# Group the DataFrame by 'District' and calculate the rolling average\n",
    "train['Past_YpA_Avg'] = train.groupby('District')['Yield_per_Acre'].rolling(\n",
    "    window = 30).mean().reset_index(0, drop=True)\n",
    "\n",
    "# Fill NaN values in the 'past_month_avg' column with 0 if needed\n",
    "train['Past_YpA_Avg'].fillna(0, inplace=True)"
   ]
  },
  {
   "cell_type": "code",
   "execution_count": 7,
   "metadata": {
    "id": "bd3KIglKtBoY"
   },
   "outputs": [
    {
     "ename": "NameError",
     "evalue": "name 'train' is not defined",
     "output_type": "error",
     "traceback": [
      "\u001b[0;31m---------------------------------------------------------------------------\u001b[0m",
      "\u001b[0;31mNameError\u001b[0m                                 Traceback (most recent call last)",
      "\u001b[1;32m/home/shaw/crop-yield-estimate/03-model-building/03.01-xgboost.ipynb Cell 19\u001b[0m line \u001b[0;36m2\n\u001b[1;32m      <a href='vscode-notebook-cell:/home/shaw/crop-yield-estimate/03-model-building/03.01-xgboost.ipynb#X24sZmlsZQ%3D%3D?line=0'>1</a>\u001b[0m \u001b[39m# Create feature for days between harvesting and threshing 'Days_Harv_Thresh'\u001b[39;00m\n\u001b[0;32m----> <a href='vscode-notebook-cell:/home/shaw/crop-yield-estimate/03-model-building/03.01-xgboost.ipynb#X24sZmlsZQ%3D%3D?line=1'>2</a>\u001b[0m train[\u001b[39m'\u001b[39m\u001b[39mThreshing_date\u001b[39m\u001b[39m'\u001b[39m] \u001b[39m=\u001b[39m pd\u001b[39m.\u001b[39mto_datetime(train[\u001b[39m'\u001b[39m\u001b[39mThreshing_date\u001b[39m\u001b[39m'\u001b[39m])\n\u001b[1;32m      <a href='vscode-notebook-cell:/home/shaw/crop-yield-estimate/03-model-building/03.01-xgboost.ipynb#X24sZmlsZQ%3D%3D?line=2'>3</a>\u001b[0m train[\u001b[39m'\u001b[39m\u001b[39mDays_Harv_Thresh\u001b[39m\u001b[39m'\u001b[39m] \u001b[39m=\u001b[39m (\n\u001b[1;32m      <a href='vscode-notebook-cell:/home/shaw/crop-yield-estimate/03-model-building/03.01-xgboost.ipynb#X24sZmlsZQ%3D%3D?line=3'>4</a>\u001b[0m     train[\u001b[39m'\u001b[39m\u001b[39mThreshing_date\u001b[39m\u001b[39m'\u001b[39m] \u001b[39m-\u001b[39m train[\u001b[39m'\u001b[39m\u001b[39mHarv_date\u001b[39m\u001b[39m'\u001b[39m])\u001b[39m.\u001b[39mdt\u001b[39m.\u001b[39mdays\n",
      "\u001b[0;31mNameError\u001b[0m: name 'train' is not defined"
     ]
    }
   ],
   "source": [
    "# Create feature for days between harvesting and threshing 'Days_Harv_Thresh'\n",
    "train['Threshing_date'] = pd.to_datetime(train['Threshing_date'])\n",
    "train['Days_Harv_Thresh'] = (\n",
    "    train['Threshing_date'] - train['Harv_date']).dt.days"
   ]
  },
  {
   "cell_type": "markdown",
   "metadata": {},
   "source": [
    "# XGBoost Model - Shaw - Just testing the model\n"
   ]
  },
  {
   "cell_type": "code",
   "execution_count": 8,
   "metadata": {},
   "outputs": [
    {
     "ename": "ModuleNotFoundError",
     "evalue": "No module named 'xgboost'",
     "output_type": "error",
     "traceback": [
      "\u001b[0;31m---------------------------------------------------------------------------\u001b[0m",
      "\u001b[0;31mModuleNotFoundError\u001b[0m                       Traceback (most recent call last)",
      "\u001b[1;32m/home/shaw/crop-yield-estimate/03-model-building/03.01-xgboost.ipynb Cell 21\u001b[0m line \u001b[0;36m3\n\u001b[1;32m      <a href='vscode-notebook-cell:/home/shaw/crop-yield-estimate/03-model-building/03.01-xgboost.ipynb#X26sZmlsZQ%3D%3D?line=0'>1</a>\u001b[0m \u001b[39mimport\u001b[39;00m \u001b[39mpandas\u001b[39;00m \u001b[39mas\u001b[39;00m \u001b[39mpd\u001b[39;00m\n\u001b[1;32m      <a href='vscode-notebook-cell:/home/shaw/crop-yield-estimate/03-model-building/03.01-xgboost.ipynb#X26sZmlsZQ%3D%3D?line=1'>2</a>\u001b[0m \u001b[39mimport\u001b[39;00m \u001b[39mnumpy\u001b[39;00m \u001b[39mas\u001b[39;00m \u001b[39mnp\u001b[39;00m\n\u001b[0;32m----> <a href='vscode-notebook-cell:/home/shaw/crop-yield-estimate/03-model-building/03.01-xgboost.ipynb#X26sZmlsZQ%3D%3D?line=2'>3</a>\u001b[0m \u001b[39mimport\u001b[39;00m \u001b[39mxgboost\u001b[39;00m \u001b[39mas\u001b[39;00m \u001b[39mxgb\u001b[39;00m\n\u001b[1;32m      <a href='vscode-notebook-cell:/home/shaw/crop-yield-estimate/03-model-building/03.01-xgboost.ipynb#X26sZmlsZQ%3D%3D?line=4'>5</a>\u001b[0m \u001b[39m# If you run the feature engineering workbook, it'll genereate the file \u001b[39;00m\n\u001b[1;32m      <a href='vscode-notebook-cell:/home/shaw/crop-yield-estimate/03-model-building/03.01-xgboost.ipynb#X26sZmlsZQ%3D%3D?line=5'>6</a>\u001b[0m data \u001b[39m=\u001b[39m pd\u001b[39m.\u001b[39mread_csv(\u001b[39m\"\u001b[39m\u001b[39m/crop-yield-estimate/02-data-cleaning/cleaned_fulldf_train.csv\u001b[39m\u001b[39m\"\u001b[39m)\n",
      "\u001b[0;31mModuleNotFoundError\u001b[0m: No module named 'xgboost'"
     ]
    }
   ],
   "source": [
    "import pandas as pd\n",
    "import numpy as np\n",
    "import xgboost as xgb\n",
    "\n",
    "# If you run the feature engineering workbook, it'll genereate the file \n",
    "data = pd.read_csv(\"/crop-yield-estimate/02-data-cleaning/cleaned_fulldf_train.csv\")\n",
    "\n",
    "# Obv depends how data is formatted\n",
    "X = data.drop(['Yield', 'Yield_per_Acre'], axis=1)\n",
    "y = data['Yield']\n"
   ]
  },
  {
   "cell_type": "code",
   "execution_count": null,
   "metadata": {},
   "outputs": [
    {
     "data": {
      "text/html": [
       "<div>\n",
       "<style scoped>\n",
       "    .dataframe tbody tr th:only-of-type {\n",
       "        vertical-align: middle;\n",
       "    }\n",
       "\n",
       "    .dataframe tbody tr th {\n",
       "        vertical-align: top;\n",
       "    }\n",
       "\n",
       "    .dataframe thead th {\n",
       "        text-align: right;\n",
       "    }\n",
       "</style>\n",
       "<table border=\"1\" class=\"dataframe\">\n",
       "  <thead>\n",
       "    <tr style=\"text-align: right;\">\n",
       "      <th></th>\n",
       "      <th>ID</th>\n",
       "      <th>Set</th>\n",
       "      <th>District</th>\n",
       "      <th>Block</th>\n",
       "      <th>CultLand</th>\n",
       "      <th>CropTillageDate</th>\n",
       "      <th>CropTillageMonth</th>\n",
       "      <th>CropTillageDepth</th>\n",
       "      <th>CropEstMethod</th>\n",
       "      <th>RcNursEstDate</th>\n",
       "      <th>...</th>\n",
       "      <th>Days_bw_SowTransp_Harv</th>\n",
       "      <th>Days_bw_Harv_Thresh</th>\n",
       "      <th>Days_bw_Nurs_Harv</th>\n",
       "      <th>Nb_of_NaN</th>\n",
       "      <th>Past_YpA_Avg</th>\n",
       "      <th>Days_Harv_Thresh</th>\n",
       "      <th>Season</th>\n",
       "      <th>harvest-thresh-duration</th>\n",
       "      <th>tillage-harvest-duration</th>\n",
       "      <th>irrigation-per-acre</th>\n",
       "    </tr>\n",
       "  </thead>\n",
       "  <tbody>\n",
       "    <tr>\n",
       "      <th>0</th>\n",
       "      <td>ID_OEGIGBAY4B8L</td>\n",
       "      <td>train</td>\n",
       "      <td>Gaya</td>\n",
       "      <td>Wazirganj</td>\n",
       "      <td>30</td>\n",
       "      <td>2022-06-28</td>\n",
       "      <td>June</td>\n",
       "      <td>4</td>\n",
       "      <td>Manual_PuddledRandom</td>\n",
       "      <td>2022-06-20</td>\n",
       "      <td>...</td>\n",
       "      <td>77.0</td>\n",
       "      <td>14.0</td>\n",
       "      <td>110.0</td>\n",
       "      <td>1</td>\n",
       "      <td>0.000000</td>\n",
       "      <td>14</td>\n",
       "      <td>Monsoon</td>\n",
       "      <td>116</td>\n",
       "      <td>102</td>\n",
       "      <td>16.20</td>\n",
       "    </tr>\n",
       "    <tr>\n",
       "      <th>1</th>\n",
       "      <td>ID_ECOLA7UOIRKC</td>\n",
       "      <td>train</td>\n",
       "      <td>Gaya</td>\n",
       "      <td>Wazirganj</td>\n",
       "      <td>50</td>\n",
       "      <td>2022-07-01</td>\n",
       "      <td>July</td>\n",
       "      <td>5</td>\n",
       "      <td>Manual_PuddledRandom</td>\n",
       "      <td>2022-06-25</td>\n",
       "      <td>...</td>\n",
       "      <td>74.0</td>\n",
       "      <td>17.0</td>\n",
       "      <td>107.0</td>\n",
       "      <td>4</td>\n",
       "      <td>0.000000</td>\n",
       "      <td>17</td>\n",
       "      <td>Monsoon</td>\n",
       "      <td>118</td>\n",
       "      <td>101</td>\n",
       "      <td>11.25</td>\n",
       "    </tr>\n",
       "    <tr>\n",
       "      <th>2</th>\n",
       "      <td>ID_T882H8WXTQWU</td>\n",
       "      <td>train</td>\n",
       "      <td>Gaya</td>\n",
       "      <td>Wazirganj</td>\n",
       "      <td>40</td>\n",
       "      <td>2022-06-28</td>\n",
       "      <td>June</td>\n",
       "      <td>5</td>\n",
       "      <td>Manual_PuddledRandom</td>\n",
       "      <td>2022-06-28</td>\n",
       "      <td>...</td>\n",
       "      <td>76.0</td>\n",
       "      <td>18.0</td>\n",
       "      <td>104.0</td>\n",
       "      <td>1</td>\n",
       "      <td>0.000000</td>\n",
       "      <td>18</td>\n",
       "      <td>Monsoon</td>\n",
       "      <td>122</td>\n",
       "      <td>104</td>\n",
       "      <td>27.00</td>\n",
       "    </tr>\n",
       "    <tr>\n",
       "      <th>3</th>\n",
       "      <td>ID_5Q6AC5G0B74I</td>\n",
       "      <td>train</td>\n",
       "      <td>Gaya</td>\n",
       "      <td>Wazirganj</td>\n",
       "      <td>40</td>\n",
       "      <td>2022-06-28</td>\n",
       "      <td>June</td>\n",
       "      <td>5</td>\n",
       "      <td>Manual_PuddledRandom</td>\n",
       "      <td>2022-06-26</td>\n",
       "      <td>...</td>\n",
       "      <td>76.0</td>\n",
       "      <td>18.0</td>\n",
       "      <td>108.0</td>\n",
       "      <td>2</td>\n",
       "      <td>0.000000</td>\n",
       "      <td>18</td>\n",
       "      <td>Monsoon</td>\n",
       "      <td>124</td>\n",
       "      <td>106</td>\n",
       "      <td>27.00</td>\n",
       "    </tr>\n",
       "    <tr>\n",
       "      <th>4</th>\n",
       "      <td>ID_RIJLIV1YFCB9</td>\n",
       "      <td>train</td>\n",
       "      <td>Gaya</td>\n",
       "      <td>Wazirganj</td>\n",
       "      <td>40</td>\n",
       "      <td>2022-07-07</td>\n",
       "      <td>July</td>\n",
       "      <td>5</td>\n",
       "      <td>Manual_PuddledRandom</td>\n",
       "      <td>2022-06-27</td>\n",
       "      <td>...</td>\n",
       "      <td>78.0</td>\n",
       "      <td>18.0</td>\n",
       "      <td>107.0</td>\n",
       "      <td>5</td>\n",
       "      <td>0.000000</td>\n",
       "      <td>18</td>\n",
       "      <td>Monsoon</td>\n",
       "      <td>115</td>\n",
       "      <td>97</td>\n",
       "      <td>10.80</td>\n",
       "    </tr>\n",
       "    <tr>\n",
       "      <th>...</th>\n",
       "      <td>...</td>\n",
       "      <td>...</td>\n",
       "      <td>...</td>\n",
       "      <td>...</td>\n",
       "      <td>...</td>\n",
       "      <td>...</td>\n",
       "      <td>...</td>\n",
       "      <td>...</td>\n",
       "      <td>...</td>\n",
       "      <td>...</td>\n",
       "      <td>...</td>\n",
       "      <td>...</td>\n",
       "      <td>...</td>\n",
       "      <td>...</td>\n",
       "      <td>...</td>\n",
       "      <td>...</td>\n",
       "      <td>...</td>\n",
       "      <td>...</td>\n",
       "      <td>...</td>\n",
       "      <td>...</td>\n",
       "      <td>...</td>\n",
       "    </tr>\n",
       "    <tr>\n",
       "      <th>3865</th>\n",
       "      <td>ID_6IR4GXDDI7BN</td>\n",
       "      <td>train</td>\n",
       "      <td>Vaishali</td>\n",
       "      <td>Mahua</td>\n",
       "      <td>4</td>\n",
       "      <td>2022-07-14</td>\n",
       "      <td>July</td>\n",
       "      <td>4</td>\n",
       "      <td>Manual_PuddledRandom</td>\n",
       "      <td>2022-07-16</td>\n",
       "      <td>...</td>\n",
       "      <td>104.0</td>\n",
       "      <td>7.0</td>\n",
       "      <td>130.0</td>\n",
       "      <td>0</td>\n",
       "      <td>2027.666667</td>\n",
       "      <td>7</td>\n",
       "      <td>Monsoon</td>\n",
       "      <td>139</td>\n",
       "      <td>132</td>\n",
       "      <td>22.00</td>\n",
       "    </tr>\n",
       "    <tr>\n",
       "      <th>3866</th>\n",
       "      <td>ID_XO7TC7OX6CUF</td>\n",
       "      <td>train</td>\n",
       "      <td>Vaishali</td>\n",
       "      <td>Mahua</td>\n",
       "      <td>5</td>\n",
       "      <td>2022-07-02</td>\n",
       "      <td>July</td>\n",
       "      <td>5</td>\n",
       "      <td>Manual_PuddledRandom</td>\n",
       "      <td>2022-07-04</td>\n",
       "      <td>...</td>\n",
       "      <td>116.0</td>\n",
       "      <td>0.0</td>\n",
       "      <td>142.0</td>\n",
       "      <td>1</td>\n",
       "      <td>2052.111111</td>\n",
       "      <td>0</td>\n",
       "      <td>Monsoon</td>\n",
       "      <td>144</td>\n",
       "      <td>144</td>\n",
       "      <td>22.00</td>\n",
       "    </tr>\n",
       "    <tr>\n",
       "      <th>3867</th>\n",
       "      <td>ID_PM8BF11ZSDTS</td>\n",
       "      <td>train</td>\n",
       "      <td>Vaishali</td>\n",
       "      <td>Mahua</td>\n",
       "      <td>5</td>\n",
       "      <td>2022-07-17</td>\n",
       "      <td>July</td>\n",
       "      <td>5</td>\n",
       "      <td>Manual_PuddledRandom</td>\n",
       "      <td>2022-07-19</td>\n",
       "      <td>...</td>\n",
       "      <td>100.0</td>\n",
       "      <td>0.0</td>\n",
       "      <td>127.0</td>\n",
       "      <td>1</td>\n",
       "      <td>1997.111111</td>\n",
       "      <td>0</td>\n",
       "      <td>Monsoon</td>\n",
       "      <td>129</td>\n",
       "      <td>129</td>\n",
       "      <td>22.00</td>\n",
       "    </tr>\n",
       "    <tr>\n",
       "      <th>3868</th>\n",
       "      <td>ID_H9X51NB7FWLX</td>\n",
       "      <td>train</td>\n",
       "      <td>Vaishali</td>\n",
       "      <td>Mahua</td>\n",
       "      <td>5</td>\n",
       "      <td>2022-07-17</td>\n",
       "      <td>July</td>\n",
       "      <td>5</td>\n",
       "      <td>Manual_PuddledRandom</td>\n",
       "      <td>2022-07-19</td>\n",
       "      <td>...</td>\n",
       "      <td>103.0</td>\n",
       "      <td>7.0</td>\n",
       "      <td>127.0</td>\n",
       "      <td>1</td>\n",
       "      <td>2009.333333</td>\n",
       "      <td>7</td>\n",
       "      <td>Monsoon</td>\n",
       "      <td>136</td>\n",
       "      <td>129</td>\n",
       "      <td>22.00</td>\n",
       "    </tr>\n",
       "    <tr>\n",
       "      <th>3869</th>\n",
       "      <td>ID_PX8CNYP9YHPE</td>\n",
       "      <td>train</td>\n",
       "      <td>Vaishali</td>\n",
       "      <td>Chehrakala</td>\n",
       "      <td>8</td>\n",
       "      <td>2022-07-20</td>\n",
       "      <td>July</td>\n",
       "      <td>5</td>\n",
       "      <td>Manual_PuddledRandom</td>\n",
       "      <td>2022-07-10</td>\n",
       "      <td>...</td>\n",
       "      <td>181.0</td>\n",
       "      <td>24.0</td>\n",
       "      <td>207.0</td>\n",
       "      <td>2</td>\n",
       "      <td>2130.333333</td>\n",
       "      <td>24</td>\n",
       "      <td>Monsoon</td>\n",
       "      <td>221</td>\n",
       "      <td>197</td>\n",
       "      <td>22.00</td>\n",
       "    </tr>\n",
       "  </tbody>\n",
       "</table>\n",
       "<p>3870 rows × 99 columns</p>\n",
       "</div>"
      ],
      "text/plain": [
       "                   ID    Set  District       Block  CultLand CropTillageDate  \\\n",
       "0     ID_OEGIGBAY4B8L  train      Gaya   Wazirganj        30      2022-06-28   \n",
       "1     ID_ECOLA7UOIRKC  train      Gaya   Wazirganj        50      2022-07-01   \n",
       "2     ID_T882H8WXTQWU  train      Gaya   Wazirganj        40      2022-06-28   \n",
       "3     ID_5Q6AC5G0B74I  train      Gaya   Wazirganj        40      2022-06-28   \n",
       "4     ID_RIJLIV1YFCB9  train      Gaya   Wazirganj        40      2022-07-07   \n",
       "...               ...    ...       ...         ...       ...             ...   \n",
       "3865  ID_6IR4GXDDI7BN  train  Vaishali       Mahua         4      2022-07-14   \n",
       "3866  ID_XO7TC7OX6CUF  train  Vaishali       Mahua         5      2022-07-02   \n",
       "3867  ID_PM8BF11ZSDTS  train  Vaishali       Mahua         5      2022-07-17   \n",
       "3868  ID_H9X51NB7FWLX  train  Vaishali       Mahua         5      2022-07-17   \n",
       "3869  ID_PX8CNYP9YHPE  train  Vaishali  Chehrakala         8      2022-07-20   \n",
       "\n",
       "     CropTillageMonth  CropTillageDepth         CropEstMethod RcNursEstDate  \\\n",
       "0                June                 4  Manual_PuddledRandom    2022-06-20   \n",
       "1                July                 5  Manual_PuddledRandom    2022-06-25   \n",
       "2                June                 5  Manual_PuddledRandom    2022-06-28   \n",
       "3                June                 5  Manual_PuddledRandom    2022-06-26   \n",
       "4                July                 5  Manual_PuddledRandom    2022-06-27   \n",
       "...               ...               ...                   ...           ...   \n",
       "3865             July                 4  Manual_PuddledRandom    2022-07-16   \n",
       "3866             July                 5  Manual_PuddledRandom    2022-07-04   \n",
       "3867             July                 5  Manual_PuddledRandom    2022-07-19   \n",
       "3868             July                 5  Manual_PuddledRandom    2022-07-19   \n",
       "3869             July                 5  Manual_PuddledRandom    2022-07-10   \n",
       "\n",
       "      ... Days_bw_SowTransp_Harv Days_bw_Harv_Thresh Days_bw_Nurs_Harv  \\\n",
       "0     ...                   77.0                14.0             110.0   \n",
       "1     ...                   74.0                17.0             107.0   \n",
       "2     ...                   76.0                18.0             104.0   \n",
       "3     ...                   76.0                18.0             108.0   \n",
       "4     ...                   78.0                18.0             107.0   \n",
       "...   ...                    ...                 ...               ...   \n",
       "3865  ...                  104.0                 7.0             130.0   \n",
       "3866  ...                  116.0                 0.0             142.0   \n",
       "3867  ...                  100.0                 0.0             127.0   \n",
       "3868  ...                  103.0                 7.0             127.0   \n",
       "3869  ...                  181.0                24.0             207.0   \n",
       "\n",
       "      Nb_of_NaN  Past_YpA_Avg Days_Harv_Thresh   Season  \\\n",
       "0             1      0.000000               14  Monsoon   \n",
       "1             4      0.000000               17  Monsoon   \n",
       "2             1      0.000000               18  Monsoon   \n",
       "3             2      0.000000               18  Monsoon   \n",
       "4             5      0.000000               18  Monsoon   \n",
       "...         ...           ...              ...      ...   \n",
       "3865          0   2027.666667                7  Monsoon   \n",
       "3866          1   2052.111111                0  Monsoon   \n",
       "3867          1   1997.111111                0  Monsoon   \n",
       "3868          1   2009.333333                7  Monsoon   \n",
       "3869          2   2130.333333               24  Monsoon   \n",
       "\n",
       "      harvest-thresh-duration  tillage-harvest-duration  irrigation-per-acre  \n",
       "0                         116                       102                16.20  \n",
       "1                         118                       101                11.25  \n",
       "2                         122                       104                27.00  \n",
       "3                         124                       106                27.00  \n",
       "4                         115                        97                10.80  \n",
       "...                       ...                       ...                  ...  \n",
       "3865                      139                       132                22.00  \n",
       "3866                      144                       144                22.00  \n",
       "3867                      129                       129                22.00  \n",
       "3868                      136                       129                22.00  \n",
       "3869                      221                       197                22.00  \n",
       "\n",
       "[3870 rows x 99 columns]"
      ]
     },
     "execution_count": 7,
     "metadata": {},
     "output_type": "execute_result"
    }
   ],
   "source": [
    "# lets just double check that was done right\n",
    "X"
   ]
  },
  {
   "cell_type": "code",
   "execution_count": 9,
   "metadata": {},
   "outputs": [
    {
     "ename": "NameError",
     "evalue": "name 'y' is not defined",
     "output_type": "error",
     "traceback": [
      "\u001b[0;31m---------------------------------------------------------------------------\u001b[0m",
      "\u001b[0;31mNameError\u001b[0m                                 Traceback (most recent call last)",
      "\u001b[1;32m/home/shaw/crop-yield-estimate/03-model-building/03.01-xgboost.ipynb Cell 23\u001b[0m line \u001b[0;36m1\n\u001b[0;32m----> <a href='vscode-notebook-cell:/home/shaw/crop-yield-estimate/03-model-building/03.01-xgboost.ipynb#X31sZmlsZQ%3D%3D?line=0'>1</a>\u001b[0m y\n",
      "\u001b[0;31mNameError\u001b[0m: name 'y' is not defined"
     ]
    }
   ],
   "source": [
    "y"
   ]
  },
  {
   "cell_type": "code",
   "execution_count": null,
   "metadata": {},
   "outputs": [],
   "source": [
    "# Convert all object columns to categorical\n",
    "for col in X.columns:\n",
    "    if X[col].dtype == 'object':\n",
    "        X[col] = X[col].astype('category')\n"
   ]
  },
  {
   "cell_type": "markdown",
   "metadata": {},
   "source": [
    "Below code blocks taken from Data Camp"
   ]
  },
  {
   "cell_type": "code",
   "execution_count": 10,
   "metadata": {},
   "outputs": [
    {
     "ename": "NameError",
     "evalue": "name 'xgb' is not defined",
     "output_type": "error",
     "traceback": [
      "\u001b[0;31m---------------------------------------------------------------------------\u001b[0m",
      "\u001b[0;31mNameError\u001b[0m                                 Traceback (most recent call last)",
      "\u001b[1;32m/home/shaw/crop-yield-estimate/03-model-building/03.01-xgboost.ipynb Cell 26\u001b[0m line \u001b[0;36m1\n\u001b[0;32m----> <a href='vscode-notebook-cell:/home/shaw/crop-yield-estimate/03-model-building/03.01-xgboost.ipynb#X34sZmlsZQ%3D%3D?line=0'>1</a>\u001b[0m data_Dmatrix \u001b[39m=\u001b[39m xgb\u001b[39m.\u001b[39mDMatrix(data\u001b[39m=\u001b[39mX, label\u001b[39m=\u001b[39my, enable_categorical\u001b[39m=\u001b[39m\u001b[39mTrue\u001b[39;00m)\n",
      "\u001b[0;31mNameError\u001b[0m: name 'xgb' is not defined"
     ]
    }
   ],
   "source": [
    "data_Dmatrix = xgb.DMatrix(data=X, label=y, enable_categorical=True)\n"
   ]
  },
  {
   "cell_type": "code",
   "execution_count": null,
   "metadata": {},
   "outputs": [
    {
     "name": "stdout",
     "output_type": "stream",
     "text": [
      "9    565.572765\n",
      "Name: test-rmse-mean, dtype: float64\n"
     ]
    }
   ],
   "source": [
    "untuned_params = {\"objective\": \"reg:squarederror\"}\n",
    "\n",
    "\n",
    "untuned_cv_results_rmse = xgb.cv(dtrain=data_Dmatrix,  params=untuned_params, nfold=4, metrics=\"rmse\", as_pandas=True, seed=123)\n",
    "\n",
    "print(untuned_cv_results_rmse[\"test-rmse-mean\"].tail(1))"
   ]
  },
  {
   "cell_type": "code",
   "execution_count": 11,
   "metadata": {},
   "outputs": [
    {
     "ename": "NameError",
     "evalue": "name 'xgb' is not defined",
     "output_type": "error",
     "traceback": [
      "\u001b[0;31m---------------------------------------------------------------------------\u001b[0m",
      "\u001b[0;31mNameError\u001b[0m                                 Traceback (most recent call last)",
      "\u001b[1;32m/home/shaw/crop-yield-estimate/03-model-building/03.01-xgboost.ipynb Cell 28\u001b[0m line \u001b[0;36m3\n\u001b[1;32m      <a href='vscode-notebook-cell:/home/shaw/crop-yield-estimate/03-model-building/03.01-xgboost.ipynb#X36sZmlsZQ%3D%3D?line=0'>1</a>\u001b[0m tuned_params \u001b[39m=\u001b[39m {\u001b[39m\"\u001b[39m\u001b[39mobjective\u001b[39m\u001b[39m\"\u001b[39m:\u001b[39m\"\u001b[39m\u001b[39mreg:squarederror\u001b[39m\u001b[39m\"\u001b[39m, \u001b[39m'\u001b[39m\u001b[39mcolsample_bytree\u001b[39m\u001b[39m'\u001b[39m:\u001b[39m0.3\u001b[39m, \u001b[39m'\u001b[39m\u001b[39mlearning_rate\u001b[39m\u001b[39m'\u001b[39m: \u001b[39m0.1\u001b[39m, \u001b[39m'\u001b[39m\u001b[39mmax_depth\u001b[39m\u001b[39m'\u001b[39m:\u001b[39m5\u001b[39m}\n\u001b[0;32m----> <a href='vscode-notebook-cell:/home/shaw/crop-yield-estimate/03-model-building/03.01-xgboost.ipynb#X36sZmlsZQ%3D%3D?line=2'>3</a>\u001b[0m tuned_cv_results_rmse \u001b[39m=\u001b[39m xgb\u001b[39m.\u001b[39mcv(dtrain\u001b[39m=\u001b[39mdata_Dmatrix, params\u001b[39m=\u001b[39mtuned_params, nfold\u001b[39m=\u001b[39m\u001b[39m4\u001b[39m, num_boost_round\u001b[39m=\u001b[39m\u001b[39m200\u001b[39m, metrics\u001b[39m=\u001b[39m\u001b[39m\"\u001b[39m\u001b[39mrmse\u001b[39m\u001b[39m\"\u001b[39m, as_pandas\u001b[39m=\u001b[39m\u001b[39mTrue\u001b[39;00m, seed\u001b[39m=\u001b[39m\u001b[39m123\u001b[39m)\n\u001b[1;32m      <a href='vscode-notebook-cell:/home/shaw/crop-yield-estimate/03-model-building/03.01-xgboost.ipynb#X36sZmlsZQ%3D%3D?line=4'>5</a>\u001b[0m \u001b[39mprint\u001b[39m(\u001b[39m\"\u001b[39m\u001b[39mTuned rmse: \u001b[39m\u001b[39m%f\u001b[39;00m\u001b[39m\"\u001b[39m \u001b[39m%\u001b[39m((tuned_cv_results_rmse[\u001b[39m\"\u001b[39m\u001b[39mtest-rmse-mean\u001b[39m\u001b[39m\"\u001b[39m])\u001b[39m.\u001b[39mtail(\u001b[39m1\u001b[39m)))\n",
      "\u001b[0;31mNameError\u001b[0m: name 'xgb' is not defined"
     ]
    }
   ],
   "source": [
    "tuned_params = {\"objective\":\"reg:squarederror\", 'colsample_bytree':0.3, 'learning_rate': 0.1, 'max_depth':5}\n",
    "\n",
    "tuned_cv_results_rmse = xgb.cv(dtrain=data_Dmatrix, params=tuned_params, nfold=4, num_boost_round=200, metrics=\"rmse\", as_pandas=True, seed=123)\n",
    "\n",
    "print(\"Tuned rmse: %f\" %((tuned_cv_results_rmse[\"test-rmse-mean\"]).tail(1)))"
   ]
  },
  {
   "cell_type": "code",
   "execution_count": 12,
   "metadata": {},
   "outputs": [
    {
     "ename": "NameError",
     "evalue": "name 'xgb' is not defined",
     "output_type": "error",
     "traceback": [
      "\u001b[0;31m---------------------------------------------------------------------------\u001b[0m",
      "\u001b[0;31mNameError\u001b[0m                                 Traceback (most recent call last)",
      "\u001b[1;32m/home/shaw/crop-yield-estimate/03-model-building/03.01-xgboost.ipynb Cell 29\u001b[0m line \u001b[0;36m1\n\u001b[1;32m      <a href='vscode-notebook-cell:/home/shaw/crop-yield-estimate/03-model-building/03.01-xgboost.ipynb#X40sZmlsZQ%3D%3D?line=0'>1</a>\u001b[0m \u001b[39mfrom\u001b[39;00m \u001b[39msklearn\u001b[39;00m\u001b[39m.\u001b[39;00m\u001b[39mmodel_selection\u001b[39;00m \u001b[39mimport\u001b[39;00m GridSearchCV\n\u001b[1;32m      <a href='vscode-notebook-cell:/home/shaw/crop-yield-estimate/03-model-building/03.01-xgboost.ipynb#X40sZmlsZQ%3D%3D?line=3'>4</a>\u001b[0m gbm_param_grid \u001b[39m=\u001b[39m{\n\u001b[1;32m      <a href='vscode-notebook-cell:/home/shaw/crop-yield-estimate/03-model-building/03.01-xgboost.ipynb#X40sZmlsZQ%3D%3D?line=4'>5</a>\u001b[0m \u001b[39m'\u001b[39m\u001b[39mlearning_rate\u001b[39m\u001b[39m'\u001b[39m: [\u001b[39m0.01\u001b[39m, \u001b[39m0.1\u001b[39m, \u001b[39m0.5\u001b[39m, \u001b[39m0.9\u001b[39m],\n\u001b[1;32m      <a href='vscode-notebook-cell:/home/shaw/crop-yield-estimate/03-model-building/03.01-xgboost.ipynb#X40sZmlsZQ%3D%3D?line=5'>6</a>\u001b[0m \u001b[39m'\u001b[39m\u001b[39mn_estimators\u001b[39m\u001b[39m'\u001b[39m: [\u001b[39m200\u001b[39m],\n\u001b[1;32m      <a href='vscode-notebook-cell:/home/shaw/crop-yield-estimate/03-model-building/03.01-xgboost.ipynb#X40sZmlsZQ%3D%3D?line=6'>7</a>\u001b[0m \u001b[39m'\u001b[39m\u001b[39msubsample\u001b[39m\u001b[39m'\u001b[39m: [\u001b[39m0.3\u001b[39m, \u001b[39m0.5\u001b[39m, \u001b[39m0.9\u001b[39m],\n\u001b[1;32m      <a href='vscode-notebook-cell:/home/shaw/crop-yield-estimate/03-model-building/03.01-xgboost.ipynb#X40sZmlsZQ%3D%3D?line=7'>8</a>\u001b[0m \u001b[39m'\u001b[39m\u001b[39mmax_depth\u001b[39m\u001b[39m'\u001b[39m: [\u001b[39m4\u001b[39m, \u001b[39m5\u001b[39m, \u001b[39m6\u001b[39m, \u001b[39m7\u001b[39m, \u001b[39m8\u001b[39m]\n\u001b[1;32m      <a href='vscode-notebook-cell:/home/shaw/crop-yield-estimate/03-model-building/03.01-xgboost.ipynb#X40sZmlsZQ%3D%3D?line=8'>9</a>\u001b[0m }\n\u001b[0;32m---> <a href='vscode-notebook-cell:/home/shaw/crop-yield-estimate/03-model-building/03.01-xgboost.ipynb#X40sZmlsZQ%3D%3D?line=10'>11</a>\u001b[0m gbm \u001b[39m=\u001b[39m xgb\u001b[39m.\u001b[39mXGBRegressor(enable_categorical\u001b[39m=\u001b[39m\u001b[39mTrue\u001b[39;00m)\n\u001b[1;32m     <a href='vscode-notebook-cell:/home/shaw/crop-yield-estimate/03-model-building/03.01-xgboost.ipynb#X40sZmlsZQ%3D%3D?line=12'>13</a>\u001b[0m grid_mse \u001b[39m=\u001b[39m GridSearchCV(estimator\u001b[39m=\u001b[39mgbm, param_grid\u001b[39m=\u001b[39mgbm_param_grid, scoring\u001b[39m=\u001b[39m\u001b[39m'\u001b[39m\u001b[39mneg_mean_squared_error\u001b[39m\u001b[39m'\u001b[39m, cv\u001b[39m=\u001b[39m\u001b[39m4\u001b[39m, verbose\u001b[39m=\u001b[39m\u001b[39m1\u001b[39m)\n\u001b[1;32m     <a href='vscode-notebook-cell:/home/shaw/crop-yield-estimate/03-model-building/03.01-xgboost.ipynb#X40sZmlsZQ%3D%3D?line=14'>15</a>\u001b[0m grid_mse\u001b[39m.\u001b[39mfit(X,y)\n",
      "\u001b[0;31mNameError\u001b[0m: name 'xgb' is not defined"
     ]
    }
   ],
   "source": [
    "\n",
    "from sklearn.model_selection import GridSearchCV\n",
    "\n",
    "\n",
    "gbm_param_grid ={\n",
    "'learning_rate': [0.01, 0.1, 0.5, 0.9],\n",
    "'n_estimators': [200],\n",
    "'subsample': [0.3, 0.5, 0.9],\n",
    "'max_depth': [4, 5, 6, 7, 8]\n",
    "}\n",
    "\n",
    "gbm = xgb.XGBRegressor(enable_categorical=True)\n",
    "\n",
    "grid_mse = GridSearchCV(estimator=gbm, param_grid=gbm_param_grid, scoring='neg_mean_squared_error', cv=4, verbose=1)\n",
    "\n",
    "grid_mse.fit(X,y)\n",
    "\n",
    "print(\"Best parameters found: \", grid_mse.best_params_)\n",
    "print(\"Lowest RMSE found: \", np.sqrt(np.abs(grid_mse.best_score_)))"
   ]
  },
  {
   "cell_type": "code",
   "execution_count": null,
   "metadata": {},
   "outputs": [],
   "source": []
  },
  {
   "cell_type": "code",
   "execution_count": null,
   "metadata": {},
   "outputs": [],
   "source": []
  },
  {
   "cell_type": "code",
   "execution_count": null,
   "metadata": {},
   "outputs": [],
   "source": []
  },
  {
   "cell_type": "code",
   "execution_count": null,
   "metadata": {},
   "outputs": [],
   "source": []
  },
  {
   "cell_type": "code",
   "execution_count": null,
   "metadata": {},
   "outputs": [],
   "source": []
  },
  {
   "cell_type": "code",
   "execution_count": null,
   "metadata": {},
   "outputs": [],
   "source": []
  },
  {
   "cell_type": "code",
   "execution_count": null,
   "metadata": {},
   "outputs": [],
   "source": []
  }
 ],
 "metadata": {
  "colab": {
   "authorship_tag": "ABX9TyMZVw6CLCPZW6nlcCC+EMHV",
   "include_colab_link": true,
   "provenance": []
  },
  "kernelspec": {
   "display_name": "Python 3 (ipykernel)",
   "language": "python",
   "name": "python3"
  },
  "language_info": {
   "codemirror_mode": {
    "name": "ipython",
    "version": 3
   },
   "file_extension": ".py",
   "mimetype": "text/x-python",
   "name": "python",
   "nbconvert_exporter": "python",
   "pygments_lexer": "ipython3",
   "version": "3.9.17"
  }
 },
 "nbformat": 4,
 "nbformat_minor": 1
}
